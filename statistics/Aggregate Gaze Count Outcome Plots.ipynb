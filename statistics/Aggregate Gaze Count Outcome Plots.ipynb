{
 "cells": [
  {
   "cell_type": "markdown",
   "metadata": {},
   "source": [
    "# Imports"
   ]
  },
  {
   "cell_type": "code",
   "execution_count": 1,
   "metadata": {
    "collapsed": true
   },
   "outputs": [],
   "source": [
    "%matplotlib inline\n",
    "\n",
    "import scipy as sp\n",
    "from scipy import stats\n",
    "import numpy as np\n",
    "import pandas as pd\n",
    "from pandas import plotting\n",
    "import matplotlib as mpl\n",
    "import matplotlib.pyplot as plt\n",
    "plt.style.use('seaborn-notebook')\n",
    "\n",
    "import statistics"
   ]
  },
  {
   "cell_type": "markdown",
   "metadata": {},
   "source": [
    "# Load Data"
   ]
  },
  {
   "cell_type": "code",
   "execution_count": 2,
   "metadata": {
    "scrolled": true
   },
   "outputs": [
    {
     "name": "stdout",
     "output_type": "stream",
     "text": [
      "52 recordings\n"
     ]
    }
   ],
   "source": [
    "tracing_df = statistics.load_tracing_features(sort='order')\n",
    "recording_df = statistics.load_recording_relations()\n",
    "recording_df = statistics.associate_recordings(recording_df, tracing_df)\n",
    "print(len(recording_df), 'recordings')"
   ]
  },
  {
   "cell_type": "code",
   "execution_count": 3,
   "metadata": {
    "collapsed": true
   },
   "outputs": [],
   "source": [
    "gaze_dfs = statistics.load_gaze_features()\n",
    "statistics.check_gaze_recording_associations(recording_df, gaze_dfs)\n",
    "statistics.compute_gaze_features(gaze_dfs)\n",
    "gaze_df = statistics.combine_gaze_features(gaze_dfs)"
   ]
  },
  {
   "cell_type": "code",
   "execution_count": 4,
   "metadata": {},
   "outputs": [
    {
     "data": {
      "text/plain": [
       "Index(['id', 'subjectNumber', 'scenarioNumber', 'newAfterOld', 'scenarioType',\n",
       "       'displayType', 'sensorPlacementTime', 'ppvStartTime', 'ccStartTime',\n",
       "       'inSpO2TargetRangeDuration', 'inSpO2LooseTargetRangeDuration',\n",
       "       'inSpO2TargetRangeStartTime', 'aboveSpO2TargetRangeDuration',\n",
       "       'belowSpO2TargetRangeDuration', 'inFiO2TargetRangeDuration',\n",
       "       'inFiO2TargetRangeStartTime', 'aboveFiO2TargetRangeDuration',\n",
       "       'belowFiO2TargetRangeDuration', 'spO2SignedErrorIntegral',\n",
       "       'spO2UnsignedErrorIntegral', 'spO2SquaredErrorIntegral',\n",
       "       'fiO2LargeAdjustments', 'visitDuration_fiO2Dial',\n",
       "       'visitDuration_infant', 'visitDuration_monitorApgarTimer',\n",
       "       'visitDuration_monitorBlank', 'visitDuration_monitorFiO2',\n",
       "       'visitDuration_monitorFull', 'visitDuration_monitorGraph',\n",
       "       'visitDuration_monitorHeartRate', 'visitDuration_monitorSpO2',\n",
       "       'visitDuration_spO2ReferenceTable',\n",
       "       'visitDuration_warmerInstrumentPanel', 'visitDuration_combinedFiO2',\n",
       "       'visitDuration_combinedSpO2', 'visitCount_fiO2Dial',\n",
       "       'visitCount_infant', 'visitCount_monitorApgarTimer',\n",
       "       'visitCount_monitorBlank', 'visitCount_monitorFiO2',\n",
       "       'visitCount_monitorFull', 'visitCount_monitorGraph',\n",
       "       'visitCount_monitorHeartRate', 'visitCount_monitorSpO2',\n",
       "       'visitCount_spO2ReferenceTable', 'visitCount_warmerInstrumentPanel',\n",
       "       'visitCount_combinedFiO2', 'visitCount_combinedSpO2'],\n",
       "      dtype='object')"
      ]
     },
     "execution_count": 4,
     "metadata": {},
     "output_type": "execute_result"
    }
   ],
   "source": [
    "full_df = statistics.combine_all_features(recording_df, gaze_df)\n",
    "full_df.columns"
   ]
  },
  {
   "cell_type": "markdown",
   "metadata": {},
   "source": [
    "# Aggregate Comparisons"
   ]
  },
  {
   "cell_type": "markdown",
   "metadata": {},
   "source": [
    "## Histograms of Count Outcomes per Scenario/Display Pairing"
   ]
  },
  {
   "cell_type": "markdown",
   "metadata": {},
   "source": [
    "### Monitor Gaze"
   ]
  },
  {
   "cell_type": "code",
   "execution_count": 5,
   "metadata": {},
   "outputs": [
    {
     "data": {
      "image/png": "[encoded data removed]",
      "text/plain": [
       "<matplotlib.figure.Figure at 0x7fe2689764e0>"
      ]
     },
     "metadata": {},
     "output_type": "display_data"
    }
   ],
   "source": [
    "statistics.hist_scenario_display(full_df, 'visitCount_monitorFull')"
   ]
  },
  {
   "cell_type": "markdown",
   "metadata": {},
   "source": [
    "I can't tell any meaningful differences here."
   ]
  },
  {
   "cell_type": "code",
   "execution_count": 6,
   "metadata": {},
   "outputs": [
    {
     "data": {
      "image/png": "[encoded data removed]",
      "text/plain": [
       "<matplotlib.figure.Figure at 0x7fe266725eb8>"
      ]
     },
     "metadata": {},
     "output_type": "display_data"
    }
   ],
   "source": [
    "statistics.hist_scenario_display(full_df, 'visitCount_monitorBlank')"
   ]
  },
  {
   "cell_type": "markdown",
   "metadata": {},
   "source": [
    "Observations:\n",
    "\n",
    "* Subjects seem to look at blank areas of the screen less frequently with the full display than the minimal display."
   ]
  },
  {
   "cell_type": "markdown",
   "metadata": {},
   "source": [
    "### SpO2 Gaze"
   ]
  },
  {
   "cell_type": "code",
   "execution_count": 7,
   "metadata": {},
   "outputs": [
    {
     "data": {
      "image/png": "[encoded data removed]",
      "text/plain": [
       "<matplotlib.figure.Figure at 0x7fe268e71ef0>"
      ]
     },
     "metadata": {},
     "output_type": "display_data"
    }
   ],
   "source": [
    "statistics.hist_scenario_display(full_df, 'visitCount_combinedSpO2')"
   ]
  },
  {
   "cell_type": "markdown",
   "metadata": {},
   "source": [
    "Observations:\n",
    "\n",
    "* Subjects seem to look at SpO2-related areas more frequently in the easy scenario than in the hard scenario.\n",
    "* Subjects seem to look at SpO2-related areas more frequently with the full display than the minimal display.\n",
    "* This could just be explained by the addition of a new region, however."
   ]
  },
  {
   "cell_type": "code",
   "execution_count": 8,
   "metadata": {
    "scrolled": false
   },
   "outputs": [
    {
     "data": {
      "image/png": "[encoded data removed]",
      "text/plain": [
       "<matplotlib.figure.Figure at 0x7fe2665a0fd0>"
      ]
     },
     "metadata": {},
     "output_type": "display_data"
    }
   ],
   "source": [
    "statistics.hist_scenario_display(full_df, 'visitCount_monitorSpO2')"
   ]
  },
  {
   "cell_type": "markdown",
   "metadata": {},
   "source": [
    "Observations:\n",
    "\n",
    "* Subjects seem to look at the SpO2 box more frequently in the easy scenario with the full display than with the minimal display.\n",
    "* In the hard scenario, there doesn't seem to be any difference in frequency of gaze at at the SpO2 box less with the full display vs. the minimal display."
   ]
  },
  {
   "cell_type": "code",
   "execution_count": 9,
   "metadata": {
    "scrolled": false
   },
   "outputs": [
    {
     "data": {
      "image/png": "[encoded data removed]",
      "text/plain": [
       "<matplotlib.figure.Figure at 0x7fe2663cf908>"
      ]
     },
     "metadata": {},
     "output_type": "display_data"
    }
   ],
   "source": [
    "statistics.hist_scenario_display(full_df, 'visitCount_spO2ReferenceTable')"
   ]
  },
  {
   "cell_type": "markdown",
   "metadata": {},
   "source": [
    "Observations:\n",
    "\n",
    "* Subjects seem to look at the SpO2 reference table more frequently in the easy scenario than in the hard scenario.\n",
    "* Subjects seem to look at the SpO2 reference table less frequently in the hard scenario with the full display than the minimal display. It's hard to tell what's going on in the easy scenario."
   ]
  },
  {
   "cell_type": "markdown",
   "metadata": {},
   "source": [
    "### FiO2 Gaze"
   ]
  },
  {
   "cell_type": "code",
   "execution_count": 10,
   "metadata": {
    "scrolled": false
   },
   "outputs": [
    {
     "data": {
      "image/png": "[encoded data removed]",
      "text/plain": [
       "<matplotlib.figure.Figure at 0x7fe294b666a0>"
      ]
     },
     "metadata": {},
     "output_type": "display_data"
    }
   ],
   "source": [
    "statistics.hist_scenario_display(full_df, 'visitCount_combinedFiO2')"
   ]
  },
  {
   "cell_type": "markdown",
   "metadata": {},
   "source": [
    "Observations:\n",
    "\n",
    "* Subjects are looking at FiO2 less in the hard scenario than in the easy scenario with the full display, but maybe not with the minimal display.\n",
    "* Subjects are looking at FiO2 more with the full display than with the minimal display."
   ]
  },
  {
   "cell_type": "code",
   "execution_count": 11,
   "metadata": {
    "scrolled": false
   },
   "outputs": [
    {
     "data": {
      "image/png": "[encoded data removed]",
      "text/plain": [
       "<matplotlib.figure.Figure at 0x7fe2665f0550>"
      ]
     },
     "metadata": {},
     "output_type": "display_data"
    }
   ],
   "source": [
    "statistics.hist_scenario_display(full_df, 'visitCount_fiO2Dial')"
   ]
  },
  {
   "cell_type": "markdown",
   "metadata": {},
   "source": [
    "Observations:\n",
    "\n",
    "* Subjects are looking at the FiO2 dial less with the full display than the minimal display in the easy scenario."
   ]
  },
  {
   "cell_type": "markdown",
   "metadata": {},
   "source": [
    "### Other Monitor Elements"
   ]
  },
  {
   "cell_type": "code",
   "execution_count": 12,
   "metadata": {
    "scrolled": false
   },
   "outputs": [
    {
     "data": {
      "image/png": "[encoded data removed]",
      "text/plain": [
       "<matplotlib.figure.Figure at 0x7fe26645a6d8>"
      ]
     },
     "metadata": {},
     "output_type": "display_data"
    }
   ],
   "source": [
    "statistics.hist_scenario_display(full_df, 'visitCount_monitorApgarTimer')"
   ]
  },
  {
   "cell_type": "markdown",
   "metadata": {},
   "source": [
    "Observations:\n",
    "\n",
    "* Subjects seem to look at the Apgar timer less frequently with the full display than the minimal display."
   ]
  },
  {
   "cell_type": "code",
   "execution_count": 13,
   "metadata": {},
   "outputs": [
    {
     "data": {
      "image/png": "[encoded data removed]",
      "text/plain": [
       "<matplotlib.figure.Figure at 0x7fe2665fd550>"
      ]
     },
     "metadata": {},
     "output_type": "display_data"
    }
   ],
   "source": [
    "statistics.hist_scenario_display(full_df, 'visitCount_monitorHeartRate')"
   ]
  },
  {
   "cell_type": "markdown",
   "metadata": {},
   "source": [
    "Observations:\n",
    "\n",
    "* Subjects seem to look at the heart rate less frequently in the hard scenario with the full display than with the minimal display."
   ]
  },
  {
   "cell_type": "markdown",
   "metadata": {},
   "source": [
    "### Other Elements"
   ]
  },
  {
   "cell_type": "code",
   "execution_count": 14,
   "metadata": {},
   "outputs": [
    {
     "data": {
      "image/png": "[encoded data removed]",
      "text/plain": [
       "<matplotlib.figure.Figure at 0x7fe266711780>"
      ]
     },
     "metadata": {},
     "output_type": "display_data"
    }
   ],
   "source": [
    "statistics.hist_scenario_display(full_df, 'visitCount_warmerInstrumentPanel')"
   ]
  },
  {
   "cell_type": "markdown",
   "metadata": {},
   "source": [
    "I can't make out any meaningful differences here."
   ]
  },
  {
   "cell_type": "code",
   "execution_count": 15,
   "metadata": {},
   "outputs": [
    {
     "data": {
      "image/png": "[encoded data removed]",
      "text/plain": [
       "<matplotlib.figure.Figure at 0x7fe268de34a8>"
      ]
     },
     "metadata": {},
     "output_type": "display_data"
    }
   ],
   "source": [
    "statistics.hist_scenario_display(full_df, 'visitCount_infant')"
   ]
  },
  {
   "cell_type": "markdown",
   "metadata": {},
   "source": [
    "I can't make out any meaningful differences here."
   ]
  },
  {
   "cell_type": "markdown",
   "metadata": {},
   "source": [
    "## Conclusions\n",
    "\n",
    "Aggregate Gaze Count plots don't seem to be very informative compared to the Aggregate Gaze Duration plots."
   ]
  }
 ],
 "metadata": {
  "kernelspec": {
   "display_name": "Python 3",
   "language": "python",
   "name": "python3"
  },
  "language_info": {
   "codemirror_mode": {
    "name": "ipython",
    "version": 3
   },
   "file_extension": ".py",
   "mimetype": "text/x-python",
   "name": "python",
   "nbconvert_exporter": "python",
   "pygments_lexer": "ipython3",
   "version": "3.6.5"
  }
 },
 "nbformat": 4,
 "nbformat_minor": 2
}
