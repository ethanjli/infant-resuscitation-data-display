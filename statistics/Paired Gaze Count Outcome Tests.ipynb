{
 "cells": [
  {
   "cell_type": "markdown",
   "metadata": {},
   "source": [
    "# Imports"
   ]
  },
  {
   "cell_type": "code",
   "execution_count": 1,
   "metadata": {},
   "outputs": [],
   "source": [
    "%matplotlib inline\n",
    "\n",
    "import scipy as sp\n",
    "from scipy import stats\n",
    "import numpy as np\n",
    "import pandas as pd\n",
    "\n",
    "import statistics"
   ]
  },
  {
   "cell_type": "markdown",
   "metadata": {},
   "source": [
    "# Load Data"
   ]
  },
  {
   "cell_type": "code",
   "execution_count": 2,
   "metadata": {
    "scrolled": false
   },
   "outputs": [
    {
     "data": {
      "text/plain": [
       "Index(['id', 'subjectNumber', 'scenarioNumber', 'newAfterOld', 'scenarioType',\n",
       "       'displayType', 'sensorPlacementTime', 'ppvStartTime', 'ccStartTime',\n",
       "       'inSpO2TargetRangeDuration', 'inSpO2LooseTargetRangeDuration',\n",
       "       'inSpO2TargetRangeStartTime', 'aboveSpO2TargetRangeDuration',\n",
       "       'belowSpO2TargetRangeDuration', 'inFiO2TargetRangeDuration',\n",
       "       'inFiO2TargetRangeStartTime', 'aboveFiO2TargetRangeDuration',\n",
       "       'belowFiO2TargetRangeDuration', 'spO2SignedErrorIntegral',\n",
       "       'spO2UnsignedErrorIntegral', 'spO2SquaredErrorIntegral',\n",
       "       'fiO2LargeAdjustments', 'code', 'visitDuration_fiO2Dial',\n",
       "       'visitDuration_infant', 'visitDuration_monitorApgarTimer',\n",
       "       'visitDuration_monitorBlank', 'visitDuration_monitorFiO2',\n",
       "       'visitDuration_monitorFull', 'visitDuration_monitorGraph',\n",
       "       'visitDuration_monitorHeartRate', 'visitDuration_monitorSpO2',\n",
       "       'visitDuration_spO2ReferenceTable',\n",
       "       'visitDuration_warmerInstrumentPanel', 'visitDuration_combinedFiO2',\n",
       "       'visitDuration_combinedSpO2', 'visitCount_fiO2Dial',\n",
       "       'visitCount_infant', 'visitCount_monitorApgarTimer',\n",
       "       'visitCount_monitorBlank', 'visitCount_monitorFiO2',\n",
       "       'visitCount_monitorFull', 'visitCount_monitorGraph',\n",
       "       'visitCount_monitorHeartRate', 'visitCount_monitorSpO2',\n",
       "       'visitCount_spO2ReferenceTable', 'visitCount_warmerInstrumentPanel',\n",
       "       'visitCount_combinedFiO2', 'visitCount_combinedSpO2'],\n",
       "      dtype='object')"
      ]
     },
     "execution_count": 2,
     "metadata": {},
     "output_type": "execute_result"
    }
   ],
   "source": [
    "tracing_df = statistics.load_tracing_features()\n",
    "recording_df = statistics.load_recording_relations()\n",
    "recording_df = statistics.associate_recordings(recording_df, tracing_df)\n",
    "gaze_dfs = statistics.load_gaze_features()\n",
    "statistics.check_gaze_recording_associations(recording_df, gaze_dfs)\n",
    "statistics.compute_gaze_features(gaze_dfs)\n",
    "gaze_df = statistics.combine_gaze_features(gaze_dfs)\n",
    "full_df = statistics.combine_all_features(recording_df, gaze_df)\n",
    "full_df.columns"
   ]
  },
  {
   "cell_type": "markdown",
   "metadata": {},
   "source": [
    "# Pairing"
   ]
  },
  {
   "cell_type": "markdown",
   "metadata": {},
   "source": [
    "### Scenario Type Pairing"
   ]
  },
  {
   "cell_type": "code",
   "execution_count": 3,
   "metadata": {},
   "outputs": [],
   "source": [
    "scenario_pairing = statistics.build_pairing(full_df, 'scenarioType')"
   ]
  },
  {
   "cell_type": "code",
   "execution_count": 4,
   "metadata": {},
   "outputs": [
    {
     "name": "stdout",
     "output_type": "stream",
     "text": [
      "Pairing against scenarioType:\n",
      "  0: easy vs. 1: hard\n",
      "  28 0 vs. 1 pairs.\n",
      "  Paired t-test alternative hypotheses:\n",
      "    Ha left-tailed (diff < 0): mean 0 - mean 1 < 0\n",
      "    Ha two-tailed (|diff| > 0): mean 0 - mean 1 != 0\n",
      "    Ha right-tailed (diff > 0): mean 0 - mean 1 > 0\n"
     ]
    }
   ],
   "source": [
    "scenario_pairing.describe()"
   ]
  },
  {
   "cell_type": "code",
   "execution_count": 5,
   "metadata": {
    "scrolled": true
   },
   "outputs": [
    {
     "name": "stdout",
     "output_type": "stream",
     "text": [
      "visitCount_infant:\n",
      "  mean diff = -2.179; stdev diff = 11.342\n",
      "  Paired t-test:\n",
      "    |diff| > 0: p = 0.327\n",
      "   ~diff < 0: p = 0.164\n",
      "    diff > 0: p = 0.836\n",
      "visitCount_warmerInstrumentPanel:\n",
      "  mean diff = 1.464; stdev diff = 10.622\n",
      "  Paired t-test:\n",
      "    |diff| > 0: p = 0.480\n",
      "    diff < 0: p = 0.760\n",
      "    diff > 0: p = 0.240\n",
      "visitCount_fiO2Dial:\n",
      "  mean diff = 1.929; stdev diff = 5.910\n",
      "  Paired t-test:\n",
      "   ~|diff| > 0: p = 0.101\n",
      "    diff < 0: p = 0.949\n",
      "   *diff > 0: p = 0.051\n",
      "visitCount_spO2ReferenceTable:\n",
      "  mean diff = 3.321; stdev diff = 7.000\n",
      "  Paired t-test:\n",
      "  **|diff| > 0: p = 0.020\n",
      "    diff < 0: p = 0.990\n",
      "  **diff > 0: p = 0.010\n",
      "visitCount_monitorFull:\n",
      "  mean diff = 3.357; stdev diff = 12.007\n",
      "  Paired t-test:\n",
      "   ~|diff| > 0: p = 0.158\n",
      "    diff < 0: p = 0.921\n",
      "   *diff > 0: p = 0.079\n",
      "visitCount_monitorBlank:\n",
      "  mean diff = 0.464; stdev diff = 11.268\n",
      "  Paired t-test:\n",
      "    |diff| > 0: p = 0.832\n",
      "    diff < 0: p = 0.584\n",
      "    diff > 0: p = 0.416\n",
      "visitCount_monitorApgarTimer:\n",
      "  mean diff = 0.286; stdev diff = 8.417\n",
      "  Paired t-test:\n",
      "    |diff| > 0: p = 0.861\n",
      "    diff < 0: p = 0.569\n",
      "    diff > 0: p = 0.431\n",
      "visitCount_monitorHeartRate:\n",
      "  mean diff = -3.893; stdev diff = 12.237\n",
      "  Paired t-test:\n",
      "   ~|diff| > 0: p = 0.110\n",
      "   *diff < 0: p = 0.055\n",
      "    diff > 0: p = 0.945\n",
      "visitCount_monitorSpO2:\n",
      "  mean diff = 7.143; stdev diff = 20.350\n",
      "  Paired t-test:\n",
      "   *|diff| > 0: p = 0.079\n",
      "    diff < 0: p = 0.960\n",
      "  **diff > 0: p = 0.040\n",
      "visitCount_combinedFiO2:\n",
      "  mean diff = 1.714; stdev diff = 8.022\n",
      "  Paired t-test:\n",
      "    |diff| > 0: p = 0.277\n",
      "    diff < 0: p = 0.862\n",
      "   ~diff > 0: p = 0.138\n",
      "visitCount_combinedSpO2:\n",
      "  mean diff = 13.250; stdev diff = 27.460\n",
      "  Paired t-test:\n",
      "  **|diff| > 0: p = 0.018\n",
      "    diff < 0: p = 0.991\n",
      "  **diff > 0: p = 0.009\n"
     ]
    }
   ],
   "source": [
    "statistics.test_gaze_count_outcomes(scenario_pairing)"
   ]
  },
  {
   "cell_type": "markdown",
   "metadata": {},
   "source": [
    "Observations:\n",
    "\n",
    "* Subjects look at the FiO2 dial maybe more frequently, SpO2 reference table more frequently, the monitor maybe more frequently, the heart rate maybe less frequently, the SpO2 number more frequently, and the combined SpO2 elements more frequently in the easy scenario than in the hard scenario."
   ]
  },
  {
   "cell_type": "markdown",
   "metadata": {},
   "source": [
    "### Display Type Pairing"
   ]
  },
  {
   "cell_type": "code",
   "execution_count": 6,
   "metadata": {},
   "outputs": [],
   "source": [
    "display_pairing = statistics.build_pairing(full_df, 'displayType')"
   ]
  },
  {
   "cell_type": "code",
   "execution_count": 7,
   "metadata": {},
   "outputs": [
    {
     "name": "stdout",
     "output_type": "stream",
     "text": [
      "Pairing against displayType:\n",
      "  0: minimal vs. 1: full\n",
      "  32 0 vs. 1 pairs.\n",
      "  Paired t-test alternative hypotheses:\n",
      "    Ha left-tailed (diff < 0): mean 0 - mean 1 < 0\n",
      "    Ha two-tailed (|diff| > 0): mean 0 - mean 1 != 0\n",
      "    Ha right-tailed (diff > 0): mean 0 - mean 1 > 0\n"
     ]
    }
   ],
   "source": [
    "display_pairing.describe()"
   ]
  },
  {
   "cell_type": "code",
   "execution_count": 8,
   "metadata": {
    "scrolled": true
   },
   "outputs": [
    {
     "name": "stdout",
     "output_type": "stream",
     "text": [
      "visitCount_infant:\n",
      "  mean diff = 1.281; stdev diff = 8.614\n",
      "  Paired t-test:\n",
      "    |diff| > 0: p = 0.414\n",
      "    diff < 0: p = 0.793\n",
      "    diff > 0: p = 0.207\n",
      "visitCount_warmerInstrumentPanel:\n",
      "  mean diff = -0.156; stdev diff = 8.931\n",
      "  Paired t-test:\n",
      "    |diff| > 0: p = 0.923\n",
      "    diff < 0: p = 0.462\n",
      "    diff > 0: p = 0.538\n",
      "visitCount_fiO2Dial:\n",
      "  mean diff = 2.594; stdev diff = 6.118\n",
      "  Paired t-test:\n",
      "  **|diff| > 0: p = 0.025\n",
      "    diff < 0: p = 0.988\n",
      "  **diff > 0: p = 0.012\n",
      "visitCount_spO2ReferenceTable:\n",
      "  mean diff = 1.312; stdev diff = 5.451\n",
      "  Paired t-test:\n",
      "   ~|diff| > 0: p = 0.190\n",
      "    diff < 0: p = 0.905\n",
      "   *diff > 0: p = 0.095\n",
      "visitCount_monitorFull:\n",
      "  mean diff = 4.625; stdev diff = 12.267\n",
      "  Paired t-test:\n",
      "  **|diff| > 0: p = 0.044\n",
      "    diff < 0: p = 0.978\n",
      "  **diff > 0: p = 0.022\n",
      "visitCount_monitorBlank:\n",
      "  mean diff = 8.906; stdev diff = 12.943\n",
      "  Paired t-test:\n",
      "  **|diff| > 0: p = 0.001\n",
      "    diff < 0: p = 1.000\n",
      "  **diff > 0: p = 0.000\n",
      "visitCount_monitorApgarTimer:\n",
      "  mean diff = 12.875; stdev diff = 13.952\n",
      "  Paired t-test:\n",
      "  **|diff| > 0: p = 0.000\n",
      "    diff < 0: p = 1.000\n",
      "  **diff > 0: p = 0.000\n",
      "visitCount_monitorHeartRate:\n",
      "  mean diff = 8.062; stdev diff = 11.275\n",
      "  Paired t-test:\n",
      "  **|diff| > 0: p = 0.000\n",
      "    diff < 0: p = 1.000\n",
      "  **diff > 0: p = 0.000\n",
      "visitCount_monitorSpO2:\n",
      "  mean diff = 8.562; stdev diff = 23.408\n",
      "  Paired t-test:\n",
      "   *|diff| > 0: p = 0.050\n",
      "    diff < 0: p = 0.975\n",
      "  **diff > 0: p = 0.025\n",
      "visitCount_combinedFiO2:\n",
      "  mean diff = -12.156; stdev diff = 8.664\n",
      "  Paired t-test:\n",
      "  **|diff| > 0: p = 0.000\n",
      "  **diff < 0: p = 0.000\n",
      "    diff > 0: p = 1.000\n",
      "visitCount_combinedSpO2:\n",
      "  mean diff = -22.344; stdev diff = 25.326\n",
      "  Paired t-test:\n",
      "  **|diff| > 0: p = 0.000\n",
      "  **diff < 0: p = 0.000\n",
      "    diff > 0: p = 1.000\n"
     ]
    }
   ],
   "source": [
    "statistics.test_gaze_count_outcomes(display_pairing)"
   ]
  },
  {
   "cell_type": "markdown",
   "metadata": {},
   "source": [
    "Observations:\n",
    "\n",
    "* Subjects look at the FiO2 dial less frequently, the SpO2 reference table maybe less frequently, the monitor less frequently, the blank parts of the monitor less frequently, the apgar timer less frequently, the heart rate less frequently, the SpO2 number less frequently, the combined FiO2 elements more frequently, and the combined SpO2 elements more frequently in the full display than in the minimal display."
   ]
  },
  {
   "cell_type": "markdown",
   "metadata": {},
   "source": [
    "### Display Type Pairing, Split by Scenario"
   ]
  },
  {
   "cell_type": "code",
   "execution_count": 9,
   "metadata": {},
   "outputs": [],
   "source": [
    "scenario_display_pairings = {\n",
    "    scenario: statistics.build_pairing(scenario_subset, 'displayType')\n",
    "    for (scenario, scenario_subset) in enumerate(scenario_pairing)\n",
    "}"
   ]
  },
  {
   "cell_type": "markdown",
   "metadata": {},
   "source": [
    "#### Easy Scenarios"
   ]
  },
  {
   "cell_type": "code",
   "execution_count": 10,
   "metadata": {},
   "outputs": [
    {
     "name": "stdout",
     "output_type": "stream",
     "text": [
      "Pairing against displayType:\n",
      "  0: minimal vs. 1: full\n",
      "  14 0 vs. 1 pairs.\n",
      "  Paired t-test alternative hypotheses:\n",
      "    Ha left-tailed (diff < 0): mean 0 - mean 1 < 0\n",
      "    Ha two-tailed (|diff| > 0): mean 0 - mean 1 != 0\n",
      "    Ha right-tailed (diff > 0): mean 0 - mean 1 > 0\n"
     ]
    }
   ],
   "source": [
    "scenario_display_pairings[0].describe()"
   ]
  },
  {
   "cell_type": "code",
   "execution_count": 11,
   "metadata": {
    "scrolled": true
   },
   "outputs": [
    {
     "name": "stdout",
     "output_type": "stream",
     "text": [
      "visitCount_infant:\n",
      "  mean diff = -0.357; stdev diff = 9.347\n",
      "  Paired t-test:\n",
      "    |diff| > 0: p = 0.893\n",
      "    diff < 0: p = 0.446\n",
      "    diff > 0: p = 0.554\n",
      "visitCount_warmerInstrumentPanel:\n",
      "  mean diff = -1.214; stdev diff = 7.803\n",
      "  Paired t-test:\n",
      "    |diff| > 0: p = 0.584\n",
      "    diff < 0: p = 0.292\n",
      "    diff > 0: p = 0.708\n",
      "visitCount_fiO2Dial:\n",
      "  mean diff = 2.357; stdev diff = 6.183\n",
      "  Paired t-test:\n",
      "   ~|diff| > 0: p = 0.193\n",
      "    diff < 0: p = 0.904\n",
      "   *diff > 0: p = 0.096\n",
      "visitCount_spO2ReferenceTable:\n",
      "  mean diff = -0.714; stdev diff = 5.861\n",
      "  Paired t-test:\n",
      "    |diff| > 0: p = 0.668\n",
      "    diff < 0: p = 0.334\n",
      "    diff > 0: p = 0.666\n",
      "visitCount_monitorFull:\n",
      "  mean diff = 1.786; stdev diff = 12.084\n",
      "  Paired t-test:\n",
      "    |diff| > 0: p = 0.603\n",
      "    diff < 0: p = 0.698\n",
      "    diff > 0: p = 0.302\n",
      "visitCount_monitorBlank:\n",
      "  mean diff = 8.214; stdev diff = 7.370\n",
      "  Paired t-test:\n",
      "  **|diff| > 0: p = 0.001\n",
      "    diff < 0: p = 0.999\n",
      "  **diff > 0: p = 0.001\n",
      "visitCount_monitorApgarTimer:\n",
      "  mean diff = 11.000; stdev diff = 14.417\n",
      "  Paired t-test:\n",
      "  **|diff| > 0: p = 0.017\n",
      "    diff < 0: p = 0.992\n",
      "  **diff > 0: p = 0.008\n",
      "visitCount_monitorHeartRate:\n",
      "  mean diff = 6.571; stdev diff = 13.537\n",
      "  Paired t-test:\n",
      "   ~|diff| > 0: p = 0.104\n",
      "    diff < 0: p = 0.948\n",
      "   *diff > 0: p = 0.052\n",
      "visitCount_monitorSpO2:\n",
      "  mean diff = 7.786; stdev diff = 27.729\n",
      "  Paired t-test:\n",
      "    |diff| > 0: p = 0.330\n",
      "    diff < 0: p = 0.835\n",
      "   ~diff > 0: p = 0.165\n",
      "visitCount_combinedFiO2:\n",
      "  mean diff = -12.071; stdev diff = 8.146\n",
      "  Paired t-test:\n",
      "  **|diff| > 0: p = 0.000\n",
      "  **diff < 0: p = 0.000\n",
      "    diff > 0: p = 1.000\n",
      "visitCount_combinedSpO2:\n",
      "  mean diff = -25.357; stdev diff = 27.781\n",
      "  Paired t-test:\n",
      "  **|diff| > 0: p = 0.006\n",
      "  **diff < 0: p = 0.003\n",
      "    diff > 0: p = 0.997\n"
     ]
    }
   ],
   "source": [
    "statistics.test_gaze_count_outcomes(scenario_display_pairings[0])"
   ]
  },
  {
   "cell_type": "markdown",
   "metadata": {},
   "source": [
    "Observations:\n",
    "\n",
    "* Subjects look at the FiO2 dial maybe less frequently, blank parts of the monitor less frequently, the apgar timer less frequently, the heart rate maybe less frequently, the combined FiO2 elements more frequently, and the combined SpO2 elements more frequently in the full display than in the minimal display."
   ]
  },
  {
   "cell_type": "markdown",
   "metadata": {},
   "source": [
    "#### Hard Scenarios"
   ]
  },
  {
   "cell_type": "code",
   "execution_count": 12,
   "metadata": {},
   "outputs": [
    {
     "name": "stdout",
     "output_type": "stream",
     "text": [
      "Pairing against displayType:\n",
      "  0: minimal vs. 1: full\n",
      "  14 0 vs. 1 pairs.\n",
      "  Paired t-test alternative hypotheses:\n",
      "    Ha left-tailed (diff < 0): mean 0 - mean 1 < 0\n",
      "    Ha two-tailed (|diff| > 0): mean 0 - mean 1 != 0\n",
      "    Ha right-tailed (diff > 0): mean 0 - mean 1 > 0\n"
     ]
    }
   ],
   "source": [
    "scenario_display_pairings[1].describe()"
   ]
  },
  {
   "cell_type": "code",
   "execution_count": 13,
   "metadata": {
    "scrolled": true
   },
   "outputs": [
    {
     "name": "stdout",
     "output_type": "stream",
     "text": [
      "visitCount_infant:\n",
      "  mean diff = 1.571; stdev diff = 6.422\n",
      "  Paired t-test:\n",
      "    |diff| > 0: p = 0.394\n",
      "    diff < 0: p = 0.803\n",
      "   ~diff > 0: p = 0.197\n",
      "visitCount_warmerInstrumentPanel:\n",
      "  mean diff = 0.000; stdev diff = 10.296\n",
      "  Paired t-test:\n",
      "    |diff| > 0: p = 1.000\n",
      "    diff < 0: p = 0.500\n",
      "    diff > 0: p = 0.500\n",
      "visitCount_fiO2Dial:\n",
      "  mean diff = 2.214; stdev diff = 5.401\n",
      "  Paired t-test:\n",
      "   ~|diff| > 0: p = 0.163\n",
      "    diff < 0: p = 0.918\n",
      "   *diff > 0: p = 0.082\n",
      "visitCount_spO2ReferenceTable:\n",
      "  mean diff = 1.643; stdev diff = 3.108\n",
      "  Paired t-test:\n",
      "   *|diff| > 0: p = 0.079\n",
      "    diff < 0: p = 0.961\n",
      "  **diff > 0: p = 0.039\n",
      "visitCount_monitorFull:\n",
      "  mean diff = 4.357; stdev diff = 10.913\n",
      "  Paired t-test:\n",
      "   ~|diff| > 0: p = 0.174\n",
      "    diff < 0: p = 0.913\n",
      "   *diff > 0: p = 0.087\n",
      "visitCount_monitorBlank:\n",
      "  mean diff = 10.000; stdev diff = 16.886\n",
      "  Paired t-test:\n",
      "   *|diff| > 0: p = 0.052\n",
      "    diff < 0: p = 0.974\n",
      "  **diff > 0: p = 0.026\n",
      "visitCount_monitorApgarTimer:\n",
      "  mean diff = 10.857; stdev diff = 10.357\n",
      "  Paired t-test:\n",
      "  **|diff| > 0: p = 0.002\n",
      "    diff < 0: p = 0.999\n",
      "  **diff > 0: p = 0.001\n",
      "visitCount_monitorHeartRate:\n",
      "  mean diff = 8.357; stdev diff = 7.916\n",
      "  Paired t-test:\n",
      "  **|diff| > 0: p = 0.002\n",
      "    diff < 0: p = 0.999\n",
      "  **diff > 0: p = 0.001\n",
      "visitCount_monitorSpO2:\n",
      "  mean diff = 8.214; stdev diff = 20.796\n",
      "  Paired t-test:\n",
      "   ~|diff| > 0: p = 0.178\n",
      "    diff < 0: p = 0.911\n",
      "   *diff > 0: p = 0.089\n",
      "visitCount_combinedFiO2:\n",
      "  mean diff = -12.643; stdev diff = 9.618\n",
      "  Paired t-test:\n",
      "  **|diff| > 0: p = 0.000\n",
      "  **diff < 0: p = 0.000\n",
      "    diff > 0: p = 1.000\n",
      "visitCount_combinedSpO2:\n",
      "  mean diff = -17.000; stdev diff = 21.912\n",
      "  Paired t-test:\n",
      "  **|diff| > 0: p = 0.015\n",
      "  **diff < 0: p = 0.008\n",
      "    diff > 0: p = 0.992\n"
     ]
    }
   ],
   "source": [
    "statistics.test_gaze_count_outcomes(scenario_display_pairings[1])"
   ]
  },
  {
   "cell_type": "markdown",
   "metadata": {},
   "source": [
    "Observations:\n",
    "\n",
    "* Subjects look at the FiO2 dial maybe less frequently, the SpO2 reference table less frequently, the monitor maybe less frequently, the blank parts of the monitor less frequently, the apgar timer less frequently, the heart rate less frequently, the combined FiO2 elements more frequently, the SpO2 number maybe less frequently, the combined FiO2 elements more frequently, and the combined SpO2 elements more frequently in the full display than in the minimal display."
   ]
  },
  {
   "cell_type": "markdown",
   "metadata": {},
   "source": [
    "#### Summary\n",
    "\n",
    "* "
   ]
  },
  {
   "cell_type": "markdown",
   "metadata": {},
   "source": [
    "### Scenario Order Pairing, Split by Scenario"
   ]
  },
  {
   "cell_type": "code",
   "execution_count": 14,
   "metadata": {},
   "outputs": [],
   "source": [
    "scenario_order_pairings = {\n",
    "    0: statistics.build_pairing(scenario_pairing[0], 'scenarioNumber', values=(1, 4), check_validity=False),\n",
    "    1: statistics.build_pairing(scenario_pairing[1], 'scenarioNumber', values=(2, 3), check_validity=False),\n",
    "}"
   ]
  },
  {
   "cell_type": "markdown",
   "metadata": {},
   "source": [
    "#### Easy Scenarios"
   ]
  },
  {
   "cell_type": "code",
   "execution_count": 15,
   "metadata": {
    "scrolled": true
   },
   "outputs": [
    {
     "name": "stdout",
     "output_type": "stream",
     "text": [
      "Pairing against scenarioNumber:\n",
      "  0: first vs. 1: second\n",
      "  14 0 vs. 1 pairs.\n",
      "  Paired t-test alternative hypotheses:\n",
      "    Ha left-tailed (diff < 0): mean 0 - mean 1 < 0\n",
      "    Ha two-tailed (|diff| > 0): mean 0 - mean 1 != 0\n",
      "    Ha right-tailed (diff > 0): mean 0 - mean 1 > 0\n"
     ]
    }
   ],
   "source": [
    "scenario_order_pairings[0].describe()"
   ]
  },
  {
   "cell_type": "code",
   "execution_count": 16,
   "metadata": {
    "scrolled": true
   },
   "outputs": [
    {
     "name": "stdout",
     "output_type": "stream",
     "text": [
      "visitCount_infant:\n",
      "  mean diff = 1.786; stdev diff = 9.182\n",
      "  Paired t-test:\n",
      "    |diff| > 0: p = 0.496\n",
      "    diff < 0: p = 0.752\n",
      "    diff > 0: p = 0.248\n",
      "visitCount_warmerInstrumentPanel:\n",
      "  mean diff = 2.929; stdev diff = 7.334\n",
      "  Paired t-test:\n",
      "   ~|diff| > 0: p = 0.174\n",
      "    diff < 0: p = 0.913\n",
      "   *diff > 0: p = 0.087\n",
      "visitCount_fiO2Dial:\n",
      "  mean diff = 0.929; stdev diff = 6.552\n",
      "  Paired t-test:\n",
      "    |diff| > 0: p = 0.618\n",
      "    diff < 0: p = 0.691\n",
      "    diff > 0: p = 0.309\n",
      "visitCount_spO2ReferenceTable:\n",
      "  mean diff = 0.286; stdev diff = 5.897\n",
      "  Paired t-test:\n",
      "    |diff| > 0: p = 0.864\n",
      "    diff < 0: p = 0.568\n",
      "    diff > 0: p = 0.432\n",
      "visitCount_monitorFull:\n",
      "  mean diff = -0.929; stdev diff = 12.180\n",
      "  Paired t-test:\n",
      "    |diff| > 0: p = 0.788\n",
      "    diff < 0: p = 0.394\n",
      "    diff > 0: p = 0.606\n",
      "visitCount_monitorBlank:\n",
      "  mean diff = -1.500; stdev diff = 10.933\n",
      "  Paired t-test:\n",
      "    |diff| > 0: p = 0.629\n",
      "    diff < 0: p = 0.315\n",
      "    diff > 0: p = 0.685\n",
      "visitCount_monitorApgarTimer:\n",
      "  mean diff = -3.000; stdev diff = 17.885\n",
      "  Paired t-test:\n",
      "    |diff| > 0: p = 0.556\n",
      "    diff < 0: p = 0.278\n",
      "    diff > 0: p = 0.722\n",
      "visitCount_monitorHeartRate:\n",
      "  mean diff = -3.714; stdev diff = 14.582\n",
      "  Paired t-test:\n",
      "    |diff| > 0: p = 0.375\n",
      "   ~diff < 0: p = 0.188\n",
      "    diff > 0: p = 0.812\n",
      "visitCount_monitorSpO2:\n",
      "  mean diff = -3.786; stdev diff = 28.551\n",
      "  Paired t-test:\n",
      "    |diff| > 0: p = 0.641\n",
      "    diff < 0: p = 0.320\n",
      "    diff > 0: p = 0.680\n",
      "visitCount_combinedFiO2:\n",
      "  mean diff = -0.214; stdev diff = 14.561\n",
      "  Paired t-test:\n",
      "    |diff| > 0: p = 0.958\n",
      "    diff < 0: p = 0.479\n",
      "    diff > 0: p = 0.521\n",
      "visitCount_combinedSpO2:\n",
      "  mean diff = -6.786; stdev diff = 36.996\n",
      "  Paired t-test:\n",
      "    |diff| > 0: p = 0.520\n",
      "    diff < 0: p = 0.260\n",
      "    diff > 0: p = 0.740\n"
     ]
    }
   ],
   "source": [
    "statistics.test_gaze_count_outcomes(scenario_order_pairings[0])"
   ]
  },
  {
   "cell_type": "markdown",
   "metadata": {},
   "source": [
    "No significant differences here."
   ]
  },
  {
   "cell_type": "markdown",
   "metadata": {},
   "source": [
    "#### Hard Scenarios"
   ]
  },
  {
   "cell_type": "code",
   "execution_count": 17,
   "metadata": {
    "scrolled": true
   },
   "outputs": [
    {
     "name": "stdout",
     "output_type": "stream",
     "text": [
      "Pairing against scenarioNumber:\n",
      "  0: first vs. 1: second\n",
      "  14 0 vs. 1 pairs.\n",
      "  Paired t-test alternative hypotheses:\n",
      "    Ha left-tailed (diff < 0): mean 0 - mean 1 < 0\n",
      "    Ha two-tailed (|diff| > 0): mean 0 - mean 1 != 0\n",
      "    Ha right-tailed (diff > 0): mean 0 - mean 1 > 0\n"
     ]
    }
   ],
   "source": [
    "scenario_order_pairings[1].describe()"
   ]
  },
  {
   "cell_type": "code",
   "execution_count": 18,
   "metadata": {},
   "outputs": [
    {
     "name": "stdout",
     "output_type": "stream",
     "text": [
      "visitCount_infant:\n",
      "  mean diff = -0.571; stdev diff = 6.587\n",
      "  Paired t-test:\n",
      "    |diff| > 0: p = 0.759\n",
      "    diff < 0: p = 0.380\n",
      "    diff > 0: p = 0.620\n",
      "visitCount_warmerInstrumentPanel:\n",
      "  mean diff = -5.000; stdev diff = 9.000\n",
      "  Paired t-test:\n",
      "   *|diff| > 0: p = 0.066\n",
      "  **diff < 0: p = 0.033\n",
      "    diff > 0: p = 0.967\n",
      "visitCount_fiO2Dial:\n",
      "  mean diff = -1.071; stdev diff = 5.738\n",
      "  Paired t-test:\n",
      "    |diff| > 0: p = 0.513\n",
      "    diff < 0: p = 0.256\n",
      "    diff > 0: p = 0.744\n",
      "visitCount_spO2ReferenceTable:\n",
      "  mean diff = -1.214; stdev diff = 3.299\n",
      "  Paired t-test:\n",
      "    |diff| > 0: p = 0.207\n",
      "   ~diff < 0: p = 0.104\n",
      "    diff > 0: p = 0.896\n",
      "visitCount_monitorFull:\n",
      "  mean diff = -5.214; stdev diff = 10.530\n",
      "  Paired t-test:\n",
      "   *|diff| > 0: p = 0.098\n",
      "  **diff < 0: p = 0.049\n",
      "    diff > 0: p = 0.951\n",
      "visitCount_monitorBlank:\n",
      "  mean diff = -9.143; stdev diff = 17.365\n",
      "  Paired t-test:\n",
      "   *|diff| > 0: p = 0.080\n",
      "  **diff < 0: p = 0.040\n",
      "    diff > 0: p = 0.960\n",
      "visitCount_monitorApgarTimer:\n",
      "  mean diff = 4.143; stdev diff = 14.421\n",
      "  Paired t-test:\n",
      "    |diff| > 0: p = 0.319\n",
      "    diff < 0: p = 0.840\n",
      "   ~diff > 0: p = 0.160\n",
      "visitCount_monitorHeartRate:\n",
      "  mean diff = -3.214; stdev diff = 11.053\n",
      "  Paired t-test:\n",
      "    |diff| > 0: p = 0.314\n",
      "   ~diff < 0: p = 0.157\n",
      "    diff > 0: p = 0.843\n",
      "visitCount_monitorSpO2:\n",
      "  mean diff = 1.786; stdev diff = 22.288\n",
      "  Paired t-test:\n",
      "    |diff| > 0: p = 0.777\n",
      "    diff < 0: p = 0.611\n",
      "    diff > 0: p = 0.389\n",
      "visitCount_combinedFiO2:\n",
      "  mean diff = -2.929; stdev diff = 15.613\n",
      "  Paired t-test:\n",
      "    |diff| > 0: p = 0.511\n",
      "    diff < 0: p = 0.255\n",
      "    diff > 0: p = 0.745\n",
      "visitCount_combinedSpO2:\n",
      "  mean diff = 5.000; stdev diff = 27.279\n",
      "  Paired t-test:\n",
      "    |diff| > 0: p = 0.520\n",
      "    diff < 0: p = 0.740\n",
      "    diff > 0: p = 0.260\n"
     ]
    }
   ],
   "source": [
    "statistics.test_gaze_count_outcomes(scenario_order_pairings[1])"
   ]
  },
  {
   "cell_type": "markdown",
   "metadata": {},
   "source": [
    "Observations:\n",
    "\n",
    "* Participants in scenario 2 maybe look less at the insttrument panel of the warmer and less at the blank parts of the monitor compared to scenario 3.\n",
    "* No other significant differences."
   ]
  },
  {
   "cell_type": "markdown",
   "metadata": {},
   "source": [
    "#### Summary\n",
    "\n",
    "* There doesn't seem to be a learning or adaptation effect when we look at gaze counts. This is unlike the results for gaze durations."
   ]
  }
 ],
 "metadata": {
  "kernelspec": {
   "display_name": "Python 3",
   "language": "python",
   "name": "python3"
  },
  "language_info": {
   "codemirror_mode": {
    "name": "ipython",
    "version": 3
   },
   "file_extension": ".py",
   "mimetype": "text/x-python",
   "name": "python",
   "nbconvert_exporter": "python",
   "pygments_lexer": "ipython3",
   "version": "3.6.5"
  }
 },
 "nbformat": 4,
 "nbformat_minor": 2
}
