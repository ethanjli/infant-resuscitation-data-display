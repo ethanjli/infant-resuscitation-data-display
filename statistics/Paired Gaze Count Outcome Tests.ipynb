{
 "cells": [
  {
   "cell_type": "markdown",
   "metadata": {},
   "source": [
    "# Imports"
   ]
  },
  {
   "cell_type": "code",
   "execution_count": 1,
   "metadata": {
    "collapsed": true
   },
   "outputs": [],
   "source": [
    "%matplotlib inline\n",
    "\n",
    "import scipy as sp\n",
    "from scipy import stats\n",
    "import numpy as np\n",
    "import pandas as pd\n",
    "\n",
    "import statistics"
   ]
  },
  {
   "cell_type": "markdown",
   "metadata": {},
   "source": [
    "# Load Data"
   ]
  },
  {
   "cell_type": "code",
   "execution_count": 2,
   "metadata": {
    "scrolled": false
   },
   "outputs": [
    {
     "data": {
      "text/plain": [
       "Index(['id', 'subjectNumber', 'scenarioNumber', 'newAfterOld', 'scenarioType',\n",
       "       'displayType', 'sensorPlacementTime', 'ppvStartTime', 'ccStartTime',\n",
       "       'inSpO2TargetRangeDuration', 'inSpO2LooseTargetRangeDuration',\n",
       "       'inSpO2TargetRangeStartTime', 'aboveSpO2TargetRangeDuration',\n",
       "       'belowSpO2TargetRangeDuration', 'inFiO2TargetRangeDuration',\n",
       "       'inFiO2TargetRangeStartTime', 'aboveFiO2TargetRangeDuration',\n",
       "       'belowFiO2TargetRangeDuration', 'spO2SignedErrorIntegral',\n",
       "       'spO2UnsignedErrorIntegral', 'spO2SquaredErrorIntegral',\n",
       "       'fiO2LargeAdjustments', 'visitDuration_fiO2Dial',\n",
       "       'visitDuration_infant', 'visitDuration_monitorApgarTimer',\n",
       "       'visitDuration_monitorBlank', 'visitDuration_monitorFiO2',\n",
       "       'visitDuration_monitorFull', 'visitDuration_monitorGraph',\n",
       "       'visitDuration_monitorHeartRate', 'visitDuration_monitorSpO2',\n",
       "       'visitDuration_spO2ReferenceTable',\n",
       "       'visitDuration_warmerInstrumentPanel', 'visitDuration_combinedFiO2',\n",
       "       'visitDuration_combinedSpO2', 'visitCount_fiO2Dial',\n",
       "       'visitCount_infant', 'visitCount_monitorApgarTimer',\n",
       "       'visitCount_monitorBlank', 'visitCount_monitorFiO2',\n",
       "       'visitCount_monitorFull', 'visitCount_monitorGraph',\n",
       "       'visitCount_monitorHeartRate', 'visitCount_monitorSpO2',\n",
       "       'visitCount_spO2ReferenceTable', 'visitCount_warmerInstrumentPanel',\n",
       "       'visitCount_combinedFiO2', 'visitCount_combinedSpO2'],\n",
       "      dtype='object')"
      ]
     },
     "execution_count": 2,
     "metadata": {},
     "output_type": "execute_result"
    }
   ],
   "source": [
    "tracing_df = statistics.load_tracing_features()\n",
    "recording_df = statistics.load_recording_relations()\n",
    "recording_df = statistics.associate_recordings(recording_df, tracing_df)\n",
    "gaze_dfs = statistics.load_gaze_features()\n",
    "statistics.check_gaze_recording_associations(recording_df, gaze_dfs)\n",
    "statistics.compute_gaze_features(gaze_dfs)\n",
    "gaze_df = statistics.combine_gaze_features(gaze_dfs)\n",
    "full_df = statistics.combine_all_features(recording_df, gaze_df)\n",
    "full_df.columns"
   ]
  },
  {
   "cell_type": "markdown",
   "metadata": {},
   "source": [
    "# Pairing"
   ]
  },
  {
   "cell_type": "markdown",
   "metadata": {},
   "source": [
    "### Scenario Type Pairing"
   ]
  },
  {
   "cell_type": "code",
   "execution_count": 3,
   "metadata": {
    "collapsed": true
   },
   "outputs": [],
   "source": [
    "scenario_pairing = statistics.build_pairing(full_df, 'scenarioType')"
   ]
  },
  {
   "cell_type": "code",
   "execution_count": 4,
   "metadata": {},
   "outputs": [
    {
     "name": "stdout",
     "output_type": "stream",
     "text": [
      "Pairing against scenarioType:\n",
      "  0: easy vs. 1: hard\n",
      "  22 0 vs. 1 pairs.\n",
      "  Paired t-test alternative hypotheses:\n",
      "    Ha left-tailed (diff < 0): mean 0 - mean 1 < 0\n",
      "    Ha two-tailed (|diff| > 0): mean 0 - mean 1 != 0\n",
      "    Ha right-tailed (diff > 0): mean 0 - mean 1 > 0\n",
      "  Wilcoxon signed-rank alternative hypotheses:\n",
      "    Ha left-tailed (P(x > y) < 0.5)\n",
      "    Ha two-tailed (P(x > y) != 0.5)\n",
      "    Ha right-tailed (P(x > y) > 0.5)\n"
     ]
    }
   ],
   "source": [
    "scenario_pairing.describe()"
   ]
  },
  {
   "cell_type": "code",
   "execution_count": 5,
   "metadata": {
    "scrolled": true
   },
   "outputs": [
    {
     "name": "stdout",
     "output_type": "stream",
     "text": [
      "visitCount_infant:\n",
      "  mean diff = -3.273; stdev diff = 12.174\n",
      "  Paired t-test:\n",
      "    |diff| > 0: p = 0.232\n",
      "   ~diff < 0: p = 0.116\n",
      "    diff > 0: p = 0.884\n",
      "  Wilcoxon signed-rank test:\n",
      "    P(x > y) != 0.5: p = 0.222\n",
      "   ~P(x > y) < 0.5: p = 0.111\n",
      "    P(x > y) > 0.5: p = 0.889\n",
      "visitCount_warmerInstrumentPanel:\n",
      "  mean diff = 2.182; stdev diff = 11.504\n",
      "  Paired t-test:\n",
      "    |diff| > 0: p = 0.395\n",
      "    diff < 0: p = 0.803\n",
      "   ~diff > 0: p = 0.197\n",
      "  Wilcoxon signed-rank test:\n",
      "    P(x > y) != 0.5: p = 0.548\n",
      "    P(x > y) < 0.5: p = 0.726\n",
      "    P(x > y) > 0.5: p = 0.274\n",
      "visitCount_fiO2Dial:\n",
      "  mean diff = 1.818; stdev diff = 6.478\n",
      "  Paired t-test:\n",
      "    |diff| > 0: p = 0.212\n",
      "    diff < 0: p = 0.894\n",
      "   ~diff > 0: p = 0.106\n",
      "  Wilcoxon signed-rank test:\n",
      "    P(x > y) != 0.5: p = 0.216\n",
      "    P(x > y) < 0.5: p = 0.892\n",
      "   ~P(x > y) > 0.5: p = 0.108\n",
      "visitCount_spO2ReferenceTable:\n",
      "  mean diff = 3.955; stdev diff = 7.719\n",
      "  Paired t-test:\n",
      "  **|diff| > 0: p = 0.029\n",
      "    diff < 0: p = 0.986\n",
      "  **diff > 0: p = 0.014\n",
      "  Wilcoxon signed-rank test:\n",
      "  **P(x > y) != 0.5: p = 0.036\n",
      "    P(x > y) < 0.5: p = 0.982\n",
      "  **P(x > y) > 0.5: p = 0.018\n",
      "visitCount_monitorFull:\n",
      "  mean diff = 3.227; stdev diff = 13.056\n",
      "  Paired t-test:\n",
      "    |diff| > 0: p = 0.270\n",
      "    diff < 0: p = 0.865\n",
      "   ~diff > 0: p = 0.135\n",
      "  Wilcoxon signed-rank test:\n",
      "   ~P(x > y) != 0.5: p = 0.135\n",
      "    P(x > y) < 0.5: p = 0.932\n",
      "   *P(x > y) > 0.5: p = 0.068\n",
      "visitCount_monitorBlank:\n",
      "  mean diff = -0.545; stdev diff = 12.438\n",
      "  Paired t-test:\n",
      "    |diff| > 0: p = 0.843\n",
      "    diff < 0: p = 0.421\n",
      "    diff > 0: p = 0.579\n",
      "  Wilcoxon signed-rank test:\n",
      "    P(x > y) != 0.5: p = 0.711\n",
      "    P(x > y) < 0.5: p = 0.356\n",
      "    P(x > y) > 0.5: p = 0.644\n",
      "visitCount_monitorApgarTimer:\n",
      "  mean diff = 1.136; stdev diff = 5.699\n",
      "  Paired t-test:\n",
      "    |diff| > 0: p = 0.371\n",
      "    diff < 0: p = 0.814\n",
      "   ~diff > 0: p = 0.186\n",
      "  Wilcoxon signed-rank test:\n",
      "    P(x > y) != 0.5: p = 0.388\n",
      "    P(x > y) < 0.5: p = 0.806\n",
      "   ~P(x > y) > 0.5: p = 0.194\n",
      "visitCount_monitorHeartRate:\n",
      "  mean diff = -2.864; stdev diff = 12.690\n",
      "  Paired t-test:\n",
      "    |diff| > 0: p = 0.313\n",
      "   ~diff < 0: p = 0.156\n",
      "    diff > 0: p = 0.844\n",
      "  Wilcoxon signed-rank test:\n",
      "    P(x > y) != 0.5: p = 0.338\n",
      "   ~P(x > y) < 0.5: p = 0.169\n",
      "    P(x > y) > 0.5: p = 0.831\n",
      "visitCount_monitorFiO2:\n",
      "  mean diff = 1.000; stdev diff = 5.878\n",
      "  Paired t-test:\n",
      "    |diff| > 0: p = 0.444\n",
      "    diff < 0: p = 0.778\n",
      "    diff > 0: p = 0.222\n",
      "  Wilcoxon signed-rank test:\n",
      "    P(x > y) != 0.5: p = 0.449\n",
      "    P(x > y) < 0.5: p = 0.776\n",
      "    P(x > y) > 0.5: p = 0.224\n",
      "visitCount_monitorGraph:\n",
      "  mean diff = 4.955; stdev diff = 11.621\n",
      "  Paired t-test:\n",
      "   *|diff| > 0: p = 0.064\n",
      "    diff < 0: p = 0.968\n",
      "  **diff > 0: p = 0.032\n",
      "  Wilcoxon signed-rank test:\n",
      "   *P(x > y) != 0.5: p = 0.074\n",
      "    P(x > y) < 0.5: p = 0.963\n",
      "  **P(x > y) > 0.5: p = 0.037\n",
      "visitCount_monitorSpO2:\n",
      "  mean diff = 6.364; stdev diff = 21.085\n",
      "  Paired t-test:\n",
      "   ~|diff| > 0: p = 0.181\n",
      "    diff < 0: p = 0.909\n",
      "   *diff > 0: p = 0.091\n",
      "  Wilcoxon signed-rank test:\n",
      "   ~P(x > y) != 0.5: p = 0.144\n",
      "    P(x > y) < 0.5: p = 0.928\n",
      "   *P(x > y) > 0.5: p = 0.072\n",
      "visitCount_combinedFiO2:\n",
      "  mean diff = 2.818; stdev diff = 8.283\n",
      "  Paired t-test:\n",
      "   ~|diff| > 0: p = 0.134\n",
      "    diff < 0: p = 0.933\n",
      "   *diff > 0: p = 0.067\n",
      "  Wilcoxon signed-rank test:\n",
      "   ~P(x > y) != 0.5: p = 0.139\n",
      "    P(x > y) < 0.5: p = 0.930\n",
      "   *P(x > y) > 0.5: p = 0.070\n",
      "visitCount_combinedSpO2:\n",
      "  mean diff = 15.273; stdev diff = 27.841\n",
      "  Paired t-test:\n",
      "  **|diff| > 0: p = 0.020\n",
      "    diff < 0: p = 0.990\n",
      "  **diff > 0: p = 0.010\n",
      "  Wilcoxon signed-rank test:\n",
      "  **P(x > y) != 0.5: p = 0.008\n",
      "    P(x > y) < 0.5: p = 0.996\n",
      "  **P(x > y) > 0.5: p = 0.004\n"
     ]
    }
   ],
   "source": [
    "statistics.test_gaze_count_outcomes(scenario_pairing)"
   ]
  },
  {
   "cell_type": "markdown",
   "metadata": {},
   "source": [
    "Observations:\n",
    "\n",
    "* Wilcoxon signed-rank and paired t-tests seem to behave generally the same way.\n",
    "* Subjects look at the SpO2 reference table more frequently, the monitor maybe more frequently, the graph more frequently, the SpO2 maybe more frequently, the combined FiO2 elements maybe more frequently, and the combined SpO2 elements more frequently in the easy scenario than in the hard scenario.\n",
    "* These results generally correspond to the duration results."
   ]
  },
  {
   "cell_type": "markdown",
   "metadata": {},
   "source": [
    "### Display Type Pairing"
   ]
  },
  {
   "cell_type": "code",
   "execution_count": 6,
   "metadata": {
    "collapsed": true
   },
   "outputs": [],
   "source": [
    "display_pairing = statistics.build_pairing(full_df, 'displayType')"
   ]
  },
  {
   "cell_type": "code",
   "execution_count": 7,
   "metadata": {},
   "outputs": [
    {
     "name": "stdout",
     "output_type": "stream",
     "text": [
      "Pairing against displayType:\n",
      "  0: minimal vs. 1: full\n",
      "  26 0 vs. 1 pairs.\n",
      "  Paired t-test alternative hypotheses:\n",
      "    Ha left-tailed (diff < 0): mean 0 - mean 1 < 0\n",
      "    Ha two-tailed (|diff| > 0): mean 0 - mean 1 != 0\n",
      "    Ha right-tailed (diff > 0): mean 0 - mean 1 > 0\n",
      "  Wilcoxon signed-rank alternative hypotheses:\n",
      "    Ha left-tailed (P(x > y) < 0.5)\n",
      "    Ha two-tailed (P(x > y) != 0.5)\n",
      "    Ha right-tailed (P(x > y) > 0.5)\n"
     ]
    }
   ],
   "source": [
    "display_pairing.describe()"
   ]
  },
  {
   "cell_type": "code",
   "execution_count": 8,
   "metadata": {
    "scrolled": true
   },
   "outputs": [
    {
     "name": "stdout",
     "output_type": "stream",
     "text": [
      "visitCount_infant:\n",
      "  mean diff = 1.000; stdev diff = 9.081\n",
      "  Paired t-test:\n",
      "    |diff| > 0: p = 0.587\n",
      "    diff < 0: p = 0.707\n",
      "    diff > 0: p = 0.293\n",
      "  Wilcoxon signed-rank test:\n",
      "    P(x > y) != 0.5: p = 0.399\n",
      "    P(x > y) < 0.5: p = 0.801\n",
      "   ~P(x > y) > 0.5: p = 0.199\n",
      "visitCount_warmerInstrumentPanel:\n",
      "  mean diff = 0.615; stdev diff = 9.507\n",
      "  Paired t-test:\n",
      "    |diff| > 0: p = 0.749\n",
      "    diff < 0: p = 0.626\n",
      "    diff > 0: p = 0.374\n",
      "  Wilcoxon signed-rank test:\n",
      "    P(x > y) != 0.5: p = 0.830\n",
      "    P(x > y) < 0.5: p = 0.585\n",
      "    P(x > y) > 0.5: p = 0.415\n",
      "visitCount_fiO2Dial:\n",
      "  mean diff = 2.500; stdev diff = 6.362\n",
      "  Paired t-test:\n",
      "   *|diff| > 0: p = 0.061\n",
      "    diff < 0: p = 0.970\n",
      "  **diff > 0: p = 0.030\n",
      "  Wilcoxon signed-rank test:\n",
      "   *P(x > y) != 0.5: p = 0.069\n",
      "    P(x > y) < 0.5: p = 0.966\n",
      "  **P(x > y) > 0.5: p = 0.034\n",
      "visitCount_spO2ReferenceTable:\n",
      "  mean diff = 1.692; stdev diff = 5.750\n",
      "  Paired t-test:\n",
      "   ~|diff| > 0: p = 0.154\n",
      "    diff < 0: p = 0.923\n",
      "   *diff > 0: p = 0.077\n",
      "  Wilcoxon signed-rank test:\n",
      "   ~P(x > y) != 0.5: p = 0.148\n",
      "    P(x > y) < 0.5: p = 0.926\n",
      "   *P(x > y) > 0.5: p = 0.074\n",
      "visitCount_monitorFull:\n",
      "  mean diff = 6.500; stdev diff = 12.571\n",
      "  Paired t-test:\n",
      "  **|diff| > 0: p = 0.016\n",
      "    diff < 0: p = 0.992\n",
      "  **diff > 0: p = 0.008\n",
      "  Wilcoxon signed-rank test:\n",
      "  **P(x > y) != 0.5: p = 0.020\n",
      "    P(x > y) < 0.5: p = 0.990\n",
      "  **P(x > y) > 0.5: p = 0.010\n",
      "visitCount_monitorBlank:\n",
      "  mean diff = 9.308; stdev diff = 14.201\n",
      "  Paired t-test:\n",
      "  **|diff| > 0: p = 0.003\n",
      "    diff < 0: p = 0.998\n",
      "  **diff > 0: p = 0.002\n",
      "  Wilcoxon signed-rank test:\n",
      "  **P(x > y) != 0.5: p = 0.002\n",
      "    P(x > y) < 0.5: p = 0.999\n",
      "  **P(x > y) > 0.5: p = 0.001\n",
      "visitCount_monitorApgarTimer:\n",
      "  mean diff = 11.577; stdev diff = 13.374\n",
      "  Paired t-test:\n",
      "  **|diff| > 0: p = 0.000\n",
      "    diff < 0: p = 1.000\n",
      "  **diff > 0: p = 0.000\n",
      "  Wilcoxon signed-rank test:\n",
      "  **P(x > y) != 0.5: p = 0.001\n",
      "    P(x > y) < 0.5: p = 1.000\n",
      "  **P(x > y) > 0.5: p = 0.000\n",
      "visitCount_monitorHeartRate:\n",
      "  mean diff = 10.000; stdev diff = 11.314\n",
      "  Paired t-test:\n",
      "  **|diff| > 0: p = 0.000\n",
      "    diff < 0: p = 1.000\n",
      "  **diff > 0: p = 0.000\n",
      "  Wilcoxon signed-rank test:\n",
      "  **P(x > y) != 0.5: p = 0.000\n",
      "    P(x > y) < 0.5: p = 1.000\n",
      "  **P(x > y) > 0.5: p = 0.000\n",
      "visitCount_monitorFiO2:\n",
      "  mean diff = -14.385; stdev diff = 7.816\n",
      "  Paired t-test:\n",
      "  **|diff| > 0: p = 0.000\n",
      "  **diff < 0: p = 0.000\n",
      "    diff > 0: p = 1.000\n",
      "  Wilcoxon signed-rank test:\n",
      "  **P(x > y) != 0.5: p = 0.000\n",
      "  **P(x > y) < 0.5: p = 0.000\n",
      "    P(x > y) > 0.5: p = 1.000\n",
      "visitCount_monitorGraph:\n",
      "  mean diff = -34.308; stdev diff = 16.295\n",
      "  Paired t-test:\n",
      "  **|diff| > 0: p = 0.000\n",
      "  **diff < 0: p = 0.000\n",
      "    diff > 0: p = 1.000\n",
      "  Wilcoxon signed-rank test:\n",
      "  **P(x > y) != 0.5: p = 0.000\n",
      "  **P(x > y) < 0.5: p = 0.000\n",
      "    P(x > y) > 0.5: p = 1.000\n",
      "visitCount_monitorSpO2:\n",
      "  mean diff = 6.077; stdev diff = 25.029\n",
      "  Paired t-test:\n",
      "    |diff| > 0: p = 0.236\n",
      "    diff < 0: p = 0.882\n",
      "   ~diff > 0: p = 0.118\n",
      "  Wilcoxon signed-rank test:\n",
      "    P(x > y) != 0.5: p = 0.304\n",
      "    P(x > y) < 0.5: p = 0.848\n",
      "   ~P(x > y) > 0.5: p = 0.152\n",
      "visitCount_combinedFiO2:\n",
      "  mean diff = -11.885; stdev diff = 9.390\n",
      "  Paired t-test:\n",
      "  **|diff| > 0: p = 0.000\n",
      "  **diff < 0: p = 0.000\n",
      "    diff > 0: p = 1.000\n",
      "  Wilcoxon signed-rank test:\n",
      "  **P(x > y) != 0.5: p = 0.000\n",
      "  **P(x > y) < 0.5: p = 0.000\n",
      "    P(x > y) > 0.5: p = 1.000\n",
      "visitCount_combinedSpO2:\n",
      "  mean diff = -26.538; stdev diff = 25.763\n",
      "  Paired t-test:\n",
      "  **|diff| > 0: p = 0.000\n",
      "  **diff < 0: p = 0.000\n",
      "    diff > 0: p = 1.000\n",
      "  Wilcoxon signed-rank test:\n",
      "  **P(x > y) != 0.5: p = 0.000\n",
      "  **P(x > y) < 0.5: p = 0.000\n",
      "    P(x > y) > 0.5: p = 1.000\n"
     ]
    }
   ],
   "source": [
    "statistics.test_gaze_count_outcomes(display_pairing)"
   ]
  },
  {
   "cell_type": "markdown",
   "metadata": {},
   "source": [
    "Observations:\n",
    "\n",
    "* Wilcoxon signed-rank and paired t-tests seem to behave generally the same way.\n",
    "* Subjects look at the FiO2 dial less frequently, the SpO2 reference table maybe less frequently, the monitor less frequently, the blank parts of the monitor less frequently, the apgar timer less frequently, the heart rate less frequently, the combined FiO2 elements more frequently, and the combined SpO2  elements more frequently in the full display than in the minimal display.\n",
    "* These results generally correspond to duration results."
   ]
  },
  {
   "cell_type": "markdown",
   "metadata": {},
   "source": [
    "### Display Type Pairing, Split by Scenario"
   ]
  },
  {
   "cell_type": "code",
   "execution_count": 9,
   "metadata": {
    "collapsed": true
   },
   "outputs": [],
   "source": [
    "scenario_display_pairings = {\n",
    "    scenario: statistics.build_pairing(scenario_subset, 'displayType')\n",
    "    for (scenario, scenario_subset) in enumerate(scenario_pairing)\n",
    "}"
   ]
  },
  {
   "cell_type": "markdown",
   "metadata": {},
   "source": [
    "#### Easy Scenarios"
   ]
  },
  {
   "cell_type": "code",
   "execution_count": 10,
   "metadata": {},
   "outputs": [
    {
     "name": "stdout",
     "output_type": "stream",
     "text": [
      "Pairing against displayType:\n",
      "  0: minimal vs. 1: full\n",
      "  11 0 vs. 1 pairs.\n",
      "  Paired t-test alternative hypotheses:\n",
      "    Ha left-tailed (diff < 0): mean 0 - mean 1 < 0\n",
      "    Ha two-tailed (|diff| > 0): mean 0 - mean 1 != 0\n",
      "    Ha right-tailed (diff > 0): mean 0 - mean 1 > 0\n",
      "  Wilcoxon signed-rank alternative hypotheses:\n",
      "    Ha left-tailed (P(x > y) < 0.5)\n",
      "    Ha two-tailed (P(x > y) != 0.5)\n",
      "    Ha right-tailed (P(x > y) > 0.5)\n"
     ]
    }
   ],
   "source": [
    "scenario_display_pairings[0].describe()"
   ]
  },
  {
   "cell_type": "code",
   "execution_count": 11,
   "metadata": {
    "scrolled": true
   },
   "outputs": [
    {
     "name": "stdout",
     "output_type": "stream",
     "text": [
      "visitCount_infant:\n",
      "  mean diff = 0.091; stdev diff = 10.317\n",
      "  Paired t-test:\n",
      "    |diff| > 0: p = 0.978\n",
      "    diff < 0: p = 0.511\n",
      "    diff > 0: p = 0.489\n",
      "  Wilcoxon signed-rank test:\n",
      "    P(x > y) != 0.5: p = 0.858\n",
      "    P(x > y) < 0.5: p = 0.571\n",
      "    P(x > y) > 0.5: p = 0.429\n",
      "visitCount_warmerInstrumentPanel:\n",
      "  mean diff = -0.909; stdev diff = 8.426\n",
      "  Paired t-test:\n",
      "    |diff| > 0: p = 0.740\n",
      "    diff < 0: p = 0.370\n",
      "    diff > 0: p = 0.630\n",
      "  Wilcoxon signed-rank test:\n",
      "    P(x > y) != 0.5: p = 0.635\n",
      "    P(x > y) < 0.5: p = 0.318\n",
      "    P(x > y) > 0.5: p = 0.682\n",
      "visitCount_fiO2Dial:\n",
      "  mean diff = 2.727; stdev diff = 6.648\n",
      "  Paired t-test:\n",
      "    |diff| > 0: p = 0.224\n",
      "    diff < 0: p = 0.888\n",
      "   ~diff > 0: p = 0.112\n",
      "  Wilcoxon signed-rank test:\n",
      "   ~P(x > y) != 0.5: p = 0.138\n",
      "    P(x > y) < 0.5: p = 0.931\n",
      "   *P(x > y) > 0.5: p = 0.069\n",
      "visitCount_spO2ReferenceTable:\n",
      "  mean diff = -0.818; stdev diff = 6.176\n",
      "  Paired t-test:\n",
      "    |diff| > 0: p = 0.684\n",
      "    diff < 0: p = 0.342\n",
      "    diff > 0: p = 0.658\n",
      "  Wilcoxon signed-rank test:\n",
      "    P(x > y) != 0.5: p = 0.575\n",
      "    P(x > y) < 0.5: p = 0.287\n",
      "    P(x > y) > 0.5: p = 0.713\n",
      "visitCount_monitorFull:\n",
      "  mean diff = 3.545; stdev diff = 12.601\n",
      "  Paired t-test:\n",
      "    |diff| > 0: p = 0.395\n",
      "    diff < 0: p = 0.803\n",
      "   ~diff > 0: p = 0.197\n",
      "  Wilcoxon signed-rank test:\n",
      "    P(x > y) != 0.5: p = 0.415\n",
      "    P(x > y) < 0.5: p = 0.793\n",
      "    P(x > y) > 0.5: p = 0.207\n",
      "visitCount_monitorBlank:\n",
      "  mean diff = 7.818; stdev diff = 8.133\n",
      "  Paired t-test:\n",
      "  **|diff| > 0: p = 0.012\n",
      "    diff < 0: p = 0.994\n",
      "  **diff > 0: p = 0.006\n",
      "  Wilcoxon signed-rank test:\n",
      "  **P(x > y) != 0.5: p = 0.020\n",
      "    P(x > y) < 0.5: p = 0.990\n",
      "  **P(x > y) > 0.5: p = 0.010\n",
      "visitCount_monitorApgarTimer:\n",
      "  mean diff = 9.818; stdev diff = 11.976\n",
      "  Paired t-test:\n",
      "  **|diff| > 0: p = 0.027\n",
      "    diff < 0: p = 0.987\n",
      "  **diff > 0: p = 0.013\n",
      "  Wilcoxon signed-rank test:\n",
      "  **P(x > y) != 0.5: p = 0.041\n",
      "    P(x > y) < 0.5: p = 0.980\n",
      "  **P(x > y) > 0.5: p = 0.020\n",
      "visitCount_monitorHeartRate:\n",
      "  mean diff = 9.000; stdev diff = 13.824\n",
      "  Paired t-test:\n",
      "   *|diff| > 0: p = 0.067\n",
      "    diff < 0: p = 0.967\n",
      "  **diff > 0: p = 0.033\n",
      "  Wilcoxon signed-rank test:\n",
      "   ~P(x > y) != 0.5: p = 0.109\n",
      "    P(x > y) < 0.5: p = 0.945\n",
      "   *P(x > y) > 0.5: p = 0.055\n",
      "visitCount_monitorFiO2:\n",
      "  mean diff = -15.182; stdev diff = 8.840\n",
      "  Paired t-test:\n",
      "  **|diff| > 0: p = 0.000\n",
      "  **diff < 0: p = 0.000\n",
      "    diff > 0: p = 1.000\n",
      "  Wilcoxon signed-rank test:\n",
      "  **P(x > y) != 0.5: p = 0.003\n",
      "  **P(x > y) < 0.5: p = 0.002\n",
      "    P(x > y) > 0.5: p = 0.998\n",
      "visitCount_monitorGraph:\n",
      "  mean diff = -36.364; stdev diff = 14.329\n",
      "  Paired t-test:\n",
      "  **|diff| > 0: p = 0.000\n",
      "  **diff < 0: p = 0.000\n",
      "    diff > 0: p = 1.000\n",
      "  Wilcoxon signed-rank test:\n",
      "  **P(x > y) != 0.5: p = 0.003\n",
      "  **P(x > y) < 0.5: p = 0.002\n",
      "    P(x > y) > 0.5: p = 0.998\n",
      "visitCount_monitorSpO2:\n",
      "  mean diff = 6.091; stdev diff = 30.915\n",
      "  Paired t-test:\n",
      "    |diff| > 0: p = 0.547\n",
      "    diff < 0: p = 0.726\n",
      "    diff > 0: p = 0.274\n",
      "  Wilcoxon signed-rank test:\n",
      "    P(x > y) != 0.5: p = 0.859\n",
      "    P(x > y) < 0.5: p = 0.571\n",
      "    P(x > y) > 0.5: p = 0.429\n",
      "visitCount_combinedFiO2:\n",
      "  mean diff = -12.455; stdev diff = 9.139\n",
      "  Paired t-test:\n",
      "  **|diff| > 0: p = 0.002\n",
      "  **diff < 0: p = 0.001\n",
      "    diff > 0: p = 0.999\n",
      "  Wilcoxon signed-rank test:\n",
      "  **P(x > y) != 0.5: p = 0.008\n",
      "  **P(x > y) < 0.5: p = 0.004\n",
      "    P(x > y) > 0.5: p = 0.996\n",
      "visitCount_combinedSpO2:\n",
      "  mean diff = -31.091; stdev diff = 28.044\n",
      "  Paired t-test:\n",
      "  **|diff| > 0: p = 0.006\n",
      "  **diff < 0: p = 0.003\n",
      "    diff > 0: p = 0.997\n",
      "  Wilcoxon signed-rank test:\n",
      "  **P(x > y) != 0.5: p = 0.009\n",
      "  **P(x > y) < 0.5: p = 0.004\n",
      "    P(x > y) > 0.5: p = 0.996\n"
     ]
    },
    {
     "name": "stderr",
     "output_type": "stream",
     "text": [
      "/usr/lib/python3.6/site-packages/scipy/stats/morestats.py:2385: UserWarning: Warning: sample size too small for normal approximation.\n",
      "  warnings.warn(\"Warning: sample size too small for normal approximation.\")\n"
     ]
    }
   ],
   "source": [
    "statistics.test_gaze_count_outcomes(scenario_display_pairings[0])"
   ]
  },
  {
   "cell_type": "markdown",
   "metadata": {},
   "source": [
    "Observations:\n",
    "\n",
    "* Wilcoxon signed-rank and paired t-tests seem to behave generally the same way.\n",
    "* Subjects look at the blank parts of the monitor maybe less frequently, the apgar timer less frequently, the heart rate less frequently, the combined FiO2 elements more frequently, and the combined SpO2 elements more frequently in the full display than in the minimal display.\n",
    "* This is generally similar to the results for easy and hard scenarios combined."
   ]
  },
  {
   "cell_type": "markdown",
   "metadata": {},
   "source": [
    "#### Hard Scenarios"
   ]
  },
  {
   "cell_type": "code",
   "execution_count": 12,
   "metadata": {},
   "outputs": [
    {
     "name": "stdout",
     "output_type": "stream",
     "text": [
      "Pairing against displayType:\n",
      "  0: minimal vs. 1: full\n",
      "  11 0 vs. 1 pairs.\n",
      "  Paired t-test alternative hypotheses:\n",
      "    Ha left-tailed (diff < 0): mean 0 - mean 1 < 0\n",
      "    Ha two-tailed (|diff| > 0): mean 0 - mean 1 != 0\n",
      "    Ha right-tailed (diff > 0): mean 0 - mean 1 > 0\n",
      "  Wilcoxon signed-rank alternative hypotheses:\n",
      "    Ha left-tailed (P(x > y) < 0.5)\n",
      "    Ha two-tailed (P(x > y) != 0.5)\n",
      "    Ha right-tailed (P(x > y) > 0.5)\n"
     ]
    }
   ],
   "source": [
    "scenario_display_pairings[1].describe()"
   ]
  },
  {
   "cell_type": "code",
   "execution_count": 13,
   "metadata": {
    "scrolled": true
   },
   "outputs": [
    {
     "name": "stdout",
     "output_type": "stream",
     "text": [
      "visitCount_infant:\n",
      "  mean diff = 0.091; stdev diff = 6.097\n",
      "  Paired t-test:\n",
      "    |diff| > 0: p = 0.963\n",
      "    diff < 0: p = 0.518\n",
      "    diff > 0: p = 0.482\n",
      "  Wilcoxon signed-rank test:\n",
      "    P(x > y) != 0.5: p = 0.789\n",
      "    P(x > y) < 0.5: p = 0.605\n",
      "    P(x > y) > 0.5: p = 0.395\n",
      "visitCount_warmerInstrumentPanel:\n",
      "  mean diff = 1.273; stdev diff = 11.104\n",
      "  Paired t-test:\n",
      "    |diff| > 0: p = 0.725\n",
      "    diff < 0: p = 0.638\n",
      "    diff > 0: p = 0.362\n",
      "  Wilcoxon signed-rank test:\n",
      "    P(x > y) != 0.5: p = 0.722\n",
      "    P(x > y) < 0.5: p = 0.639\n",
      "    P(x > y) > 0.5: p = 0.361\n",
      "visitCount_fiO2Dial:\n",
      "  mean diff = 1.455; stdev diff = 5.229\n",
      "  Paired t-test:\n",
      "    |diff| > 0: p = 0.400\n",
      "    diff < 0: p = 0.800\n",
      "   ~diff > 0: p = 0.200\n",
      "  Wilcoxon signed-rank test:\n",
      "    P(x > y) != 0.5: p = 0.422\n",
      "    P(x > y) < 0.5: p = 0.789\n",
      "    P(x > y) > 0.5: p = 0.211\n",
      "visitCount_spO2ReferenceTable:\n",
      "  mean diff = 2.182; stdev diff = 3.157\n",
      "  Paired t-test:\n",
      "   *|diff| > 0: p = 0.054\n",
      "    diff < 0: p = 0.973\n",
      "  **diff > 0: p = 0.027\n",
      "  Wilcoxon signed-rank test:\n",
      "  **P(x > y) != 0.5: p = 0.045\n",
      "    P(x > y) < 0.5: p = 0.977\n",
      "  **P(x > y) > 0.5: p = 0.023\n",
      "visitCount_monitorFull:\n",
      "  mean diff = 6.182; stdev diff = 11.376\n",
      "  Paired t-test:\n",
      "   ~|diff| > 0: p = 0.116\n",
      "    diff < 0: p = 0.942\n",
      "   *diff > 0: p = 0.058\n",
      "  Wilcoxon signed-rank test:\n",
      "   ~P(x > y) != 0.5: p = 0.109\n",
      "    P(x > y) < 0.5: p = 0.945\n",
      "   *P(x > y) > 0.5: p = 0.055\n",
      "visitCount_monitorBlank:\n",
      "  mean diff = 11.455; stdev diff = 18.710\n",
      "  Paired t-test:\n",
      "   *|diff| > 0: p = 0.082\n",
      "    diff < 0: p = 0.959\n",
      "  **diff > 0: p = 0.041\n",
      "  Wilcoxon signed-rank test:\n",
      "  **P(x > y) != 0.5: p = 0.041\n",
      "    P(x > y) < 0.5: p = 0.979\n",
      "  **P(x > y) > 0.5: p = 0.021\n",
      "visitCount_monitorApgarTimer:\n",
      "  mean diff = 7.909; stdev diff = 9.681\n",
      "  Paired t-test:\n",
      "  **|diff| > 0: p = 0.027\n",
      "    diff < 0: p = 0.986\n",
      "  **diff > 0: p = 0.014\n",
      "  Wilcoxon signed-rank test:\n",
      "  **P(x > y) != 0.5: p = 0.040\n",
      "    P(x > y) < 0.5: p = 0.980\n",
      "  **P(x > y) > 0.5: p = 0.020\n",
      "visitCount_monitorHeartRate:\n",
      "  mean diff = 10.182; stdev diff = 7.814\n",
      "  Paired t-test:\n",
      "  **|diff| > 0: p = 0.002\n",
      "    diff < 0: p = 0.999\n",
      "  **diff > 0: p = 0.001\n",
      "  Wilcoxon signed-rank test:\n",
      "  **P(x > y) != 0.5: p = 0.008\n",
      "    P(x > y) < 0.5: p = 0.996\n",
      "  **P(x > y) > 0.5: p = 0.004\n",
      "visitCount_monitorFiO2:\n",
      "  mean diff = -13.182; stdev diff = 7.530\n",
      "  Paired t-test:\n",
      "  **|diff| > 0: p = 0.000\n",
      "  **diff < 0: p = 0.000\n",
      "    diff > 0: p = 1.000\n",
      "  Wilcoxon signed-rank test:\n",
      "  **P(x > y) != 0.5: p = 0.003\n",
      "  **P(x > y) < 0.5: p = 0.002\n",
      "    P(x > y) > 0.5: p = 0.998\n",
      "visitCount_monitorGraph:\n",
      "  mean diff = -26.455; stdev diff = 11.357\n",
      "  Paired t-test:\n",
      "  **|diff| > 0: p = 0.000\n",
      "  **diff < 0: p = 0.000\n",
      "    diff > 0: p = 1.000\n",
      "  Wilcoxon signed-rank test:\n",
      "  **P(x > y) != 0.5: p = 0.003\n",
      "  **P(x > y) < 0.5: p = 0.002\n",
      "    P(x > y) > 0.5: p = 0.998\n",
      "visitCount_monitorSpO2:\n",
      "  mean diff = 3.727; stdev diff = 21.119\n",
      "  Paired t-test:\n",
      "    |diff| > 0: p = 0.589\n",
      "    diff < 0: p = 0.705\n",
      "    diff > 0: p = 0.295\n",
      "  Wilcoxon signed-rank test:\n",
      "    P(x > y) != 0.5: p = 0.593\n",
      "    P(x > y) < 0.5: p = 0.703\n",
      "    P(x > y) > 0.5: p = 0.297\n",
      "visitCount_combinedFiO2:\n",
      "  mean diff = -11.727; stdev diff = 10.437\n",
      "  Paired t-test:\n",
      "  **|diff| > 0: p = 0.005\n",
      "  **diff < 0: p = 0.003\n",
      "    diff > 0: p = 0.997\n",
      "  Wilcoxon signed-rank test:\n",
      "  **P(x > y) != 0.5: p = 0.016\n",
      "  **P(x > y) < 0.5: p = 0.008\n",
      "    P(x > y) > 0.5: p = 0.992\n",
      "visitCount_combinedSpO2:\n",
      "  mean diff = -20.545; stdev diff = 22.793\n",
      "  Paired t-test:\n",
      "  **|diff| > 0: p = 0.017\n",
      "  **diff < 0: p = 0.009\n",
      "    diff > 0: p = 0.991\n",
      "  Wilcoxon signed-rank test:\n",
      "  **P(x > y) != 0.5: p = 0.008\n",
      "  **P(x > y) < 0.5: p = 0.004\n",
      "    P(x > y) > 0.5: p = 0.996\n"
     ]
    }
   ],
   "source": [
    "statistics.test_gaze_count_outcomes(scenario_display_pairings[1])"
   ]
  },
  {
   "cell_type": "markdown",
   "metadata": {},
   "source": [
    "Observations:\n",
    "\n",
    "* Wilcoxon signed-rank and paired t-tests seem to behave generally the same way.\n",
    "* Subjects look at the SpO2 reference table less frequently, the monitor maybe less frequently, the blank parts of the monitor less frequently, the apgar timer less frequently, the heart rate less frequently, the combined FiO2 elements more frequently, and the combined SpO2 elements more frequently in the full display than in the minimal display.\n",
    "* This is similar to the results for easy and hard scenarios combined only for the combined FiO2 test."
   ]
  },
  {
   "cell_type": "markdown",
   "metadata": {},
   "source": [
    "#### Summary\n",
    "\n",
    "* In both scenario types, subjects look at the combined FiO2 elements and combined SpO2 elements more frequently, and the apgar timer and heart rate less frequently with the full display (which shows FiO2 reading and SpO2 graph) than with the minimal display (which doesn't show FiO2 reading and SpO2 graph)."
   ]
  },
  {
   "cell_type": "markdown",
   "metadata": {},
   "source": [
    "### Scenario Order Pairing, Split by Scenario"
   ]
  },
  {
   "cell_type": "code",
   "execution_count": 14,
   "metadata": {
    "collapsed": true
   },
   "outputs": [],
   "source": [
    "scenario_order_pairings = {\n",
    "    0: statistics.build_pairing(scenario_pairing[0], 'scenarioNumber', values=(1, 4), check_validity=False),\n",
    "    1: statistics.build_pairing(scenario_pairing[1], 'scenarioNumber', values=(2, 3), check_validity=False),\n",
    "}"
   ]
  },
  {
   "cell_type": "markdown",
   "metadata": {},
   "source": [
    "#### Easy Scenarios"
   ]
  },
  {
   "cell_type": "code",
   "execution_count": 15,
   "metadata": {
    "scrolled": true
   },
   "outputs": [
    {
     "name": "stdout",
     "output_type": "stream",
     "text": [
      "Pairing against scenarioNumber:\n",
      "  0: first vs. 1: second\n",
      "  11 0 vs. 1 pairs.\n",
      "  Paired t-test alternative hypotheses:\n",
      "    Ha left-tailed (diff < 0): mean 0 - mean 1 < 0\n",
      "    Ha two-tailed (|diff| > 0): mean 0 - mean 1 != 0\n",
      "    Ha right-tailed (diff > 0): mean 0 - mean 1 > 0\n",
      "  Wilcoxon signed-rank alternative hypotheses:\n",
      "    Ha left-tailed (P(x > y) < 0.5)\n",
      "    Ha two-tailed (P(x > y) != 0.5)\n",
      "    Ha right-tailed (P(x > y) > 0.5)\n"
     ]
    }
   ],
   "source": [
    "scenario_order_pairings[0].describe()"
   ]
  },
  {
   "cell_type": "code",
   "execution_count": 16,
   "metadata": {
    "scrolled": true
   },
   "outputs": [
    {
     "name": "stdout",
     "output_type": "stream",
     "text": [
      "visitCount_infant:\n",
      "  mean diff = 3.182; stdev diff = 9.815\n",
      "  Paired t-test:\n",
      "    |diff| > 0: p = 0.329\n",
      "    diff < 0: p = 0.835\n",
      "   ~diff > 0: p = 0.165\n",
      "  Wilcoxon signed-rank test:\n",
      "    P(x > y) != 0.5: p = 0.339\n",
      "    P(x > y) < 0.5: p = 0.831\n",
      "   ~P(x > y) > 0.5: p = 0.169\n",
      "visitCount_warmerInstrumentPanel:\n",
      "  mean diff = 2.727; stdev diff = 8.024\n",
      "  Paired t-test:\n",
      "    |diff| > 0: p = 0.308\n",
      "    diff < 0: p = 0.846\n",
      "   ~diff > 0: p = 0.154\n",
      "  Wilcoxon signed-rank test:\n",
      "    P(x > y) != 0.5: p = 0.236\n",
      "    P(x > y) < 0.5: p = 0.882\n",
      "   ~P(x > y) > 0.5: p = 0.118\n",
      "visitCount_fiO2Dial:\n",
      "  mean diff = 1.818; stdev diff = 6.952\n",
      "  Paired t-test:\n",
      "    |diff| > 0: p = 0.428\n",
      "    diff < 0: p = 0.786\n",
      "    diff > 0: p = 0.214\n",
      "  Wilcoxon signed-rank test:\n",
      "    P(x > y) != 0.5: p = 0.413\n",
      "    P(x > y) < 0.5: p = 0.793\n",
      "    P(x > y) > 0.5: p = 0.207\n",
      "visitCount_spO2ReferenceTable:\n",
      "  mean diff = 1.364; stdev diff = 6.079\n",
      "  Paired t-test:\n",
      "    |diff| > 0: p = 0.494\n",
      "    diff < 0: p = 0.753\n",
      "    diff > 0: p = 0.247\n",
      "  Wilcoxon signed-rank test:\n",
      "    P(x > y) != 0.5: p = 0.575\n",
      "    P(x > y) < 0.5: p = 0.713\n",
      "    P(x > y) > 0.5: p = 0.287\n",
      "visitCount_monitorFull:\n",
      "  mean diff = -0.273; stdev diff = 13.088\n",
      "  Paired t-test:\n",
      "    |diff| > 0: p = 0.949\n",
      "    diff < 0: p = 0.474\n",
      "    diff > 0: p = 0.526\n",
      "  Wilcoxon signed-rank test:\n",
      "    P(x > y) != 0.5: p = 0.721\n",
      "    P(x > y) < 0.5: p = 0.361\n",
      "    P(x > y) > 0.5: p = 0.639\n",
      "visitCount_monitorBlank:\n",
      "  mean diff = -2.182; stdev diff = 11.069\n",
      "  Paired t-test:\n",
      "    |diff| > 0: p = 0.547\n",
      "    diff < 0: p = 0.274\n",
      "    diff > 0: p = 0.726\n",
      "  Wilcoxon signed-rank test:\n",
      "    P(x > y) != 0.5: p = 0.422\n",
      "    P(x > y) < 0.5: p = 0.211\n",
      "    P(x > y) > 0.5: p = 0.789\n",
      "visitCount_monitorApgarTimer:\n",
      "  mean diff = -4.727; stdev diff = 14.747\n",
      "  Paired t-test:\n",
      "    |diff| > 0: p = 0.335\n",
      "   ~diff < 0: p = 0.167\n",
      "    diff > 0: p = 0.833\n",
      "  Wilcoxon signed-rank test:\n",
      "    P(x > y) != 0.5: p = 0.248\n",
      "   ~P(x > y) < 0.5: p = 0.124\n",
      "    P(x > y) > 0.5: p = 0.876\n",
      "visitCount_monitorHeartRate:\n",
      "  mean diff = -5.545; stdev diff = 15.535\n",
      "  Paired t-test:\n",
      "    |diff| > 0: p = 0.285\n",
      "   ~diff < 0: p = 0.143\n",
      "    diff > 0: p = 0.857\n",
      "  Wilcoxon signed-rank test:\n",
      "    P(x > y) != 0.5: p = 0.306\n",
      "   ~P(x > y) < 0.5: p = 0.153\n",
      "    P(x > y) > 0.5: p = 0.847\n",
      "visitCount_monitorFiO2:\n",
      "  mean diff = -1.000; stdev diff = 17.540\n",
      "  Paired t-test:\n",
      "    |diff| > 0: p = 0.861\n",
      "    diff < 0: p = 0.430\n",
      "    diff > 0: p = 0.570\n",
      "  Wilcoxon signed-rank test:\n",
      "    P(x > y) != 0.5: p = 0.689\n",
      "    P(x > y) < 0.5: p = 0.344\n",
      "    P(x > y) > 0.5: p = 0.656\n",
      "visitCount_monitorGraph:\n",
      "  mean diff = -0.727; stdev diff = 39.078\n",
      "  Paired t-test:\n",
      "    |diff| > 0: p = 0.954\n",
      "    diff < 0: p = 0.477\n",
      "    diff > 0: p = 0.523\n",
      "  Wilcoxon signed-rank test:\n",
      "    P(x > y) != 0.5: p = 0.859\n",
      "    P(x > y) < 0.5: p = 0.429\n",
      "    P(x > y) > 0.5: p = 0.571\n",
      "visitCount_monitorSpO2:\n",
      "  mean diff = -6.455; stdev diff = 30.841\n",
      "  Paired t-test:\n",
      "    |diff| > 0: p = 0.523\n",
      "    diff < 0: p = 0.262\n",
      "    diff > 0: p = 0.738\n",
      "  Wilcoxon signed-rank test:\n",
      "    P(x > y) != 0.5: p = 0.398\n",
      "   ~P(x > y) < 0.5: p = 0.199\n",
      "    P(x > y) > 0.5: p = 0.801\n",
      "visitCount_combinedFiO2:\n",
      "  mean diff = 0.818; stdev diff = 15.426\n",
      "  Paired t-test:\n",
      "    |diff| > 0: p = 0.870\n",
      "    diff < 0: p = 0.565\n",
      "    diff > 0: p = 0.435\n",
      "  Wilcoxon signed-rank test:\n",
      "    P(x > y) != 0.5: p = 0.824\n",
      "    P(x > y) < 0.5: p = 0.588\n",
      "    P(x > y) > 0.5: p = 0.412\n",
      "visitCount_combinedSpO2:\n",
      "  mean diff = -5.818; stdev diff = 41.464\n",
      "  Paired t-test:\n",
      "    |diff| > 0: p = 0.667\n",
      "    diff < 0: p = 0.333\n",
      "    diff > 0: p = 0.667\n",
      "  Wilcoxon signed-rank test:\n",
      "    P(x > y) != 0.5: p = 0.756\n",
      "    P(x > y) < 0.5: p = 0.378\n",
      "    P(x > y) > 0.5: p = 0.622\n"
     ]
    },
    {
     "name": "stderr",
     "output_type": "stream",
     "text": [
      "/usr/lib/python3.6/site-packages/scipy/stats/morestats.py:2385: UserWarning: Warning: sample size too small for normal approximation.\n",
      "  warnings.warn(\"Warning: sample size too small for normal approximation.\")\n"
     ]
    }
   ],
   "source": [
    "statistics.test_gaze_count_outcomes(scenario_order_pairings[0])"
   ]
  },
  {
   "cell_type": "markdown",
   "metadata": {},
   "source": [
    "No significant differences here."
   ]
  },
  {
   "cell_type": "markdown",
   "metadata": {},
   "source": [
    "#### Hard Scenarios"
   ]
  },
  {
   "cell_type": "code",
   "execution_count": 17,
   "metadata": {
    "scrolled": true
   },
   "outputs": [
    {
     "name": "stdout",
     "output_type": "stream",
     "text": [
      "Pairing against scenarioNumber:\n",
      "  0: first vs. 1: second\n",
      "  11 0 vs. 1 pairs.\n",
      "  Paired t-test alternative hypotheses:\n",
      "    Ha left-tailed (diff < 0): mean 0 - mean 1 < 0\n",
      "    Ha two-tailed (|diff| > 0): mean 0 - mean 1 != 0\n",
      "    Ha right-tailed (diff > 0): mean 0 - mean 1 > 0\n",
      "  Wilcoxon signed-rank alternative hypotheses:\n",
      "    Ha left-tailed (P(x > y) < 0.5)\n",
      "    Ha two-tailed (P(x > y) != 0.5)\n",
      "    Ha right-tailed (P(x > y) > 0.5)\n"
     ]
    }
   ],
   "source": [
    "scenario_order_pairings[1].describe()"
   ]
  },
  {
   "cell_type": "code",
   "execution_count": 18,
   "metadata": {},
   "outputs": [
    {
     "name": "stdout",
     "output_type": "stream",
     "text": [
      "visitCount_infant:\n",
      "  mean diff = -1.000; stdev diff = 6.015\n",
      "  Paired t-test:\n",
      "    |diff| > 0: p = 0.611\n",
      "    diff < 0: p = 0.305\n",
      "    diff > 0: p = 0.695\n",
      "  Wilcoxon signed-rank test:\n",
      "    P(x > y) != 0.5: p = 0.476\n",
      "    P(x > y) < 0.5: p = 0.238\n",
      "    P(x > y) > 0.5: p = 0.762\n",
      "visitCount_warmerInstrumentPanel:\n",
      "  mean diff = -5.273; stdev diff = 9.854\n",
      "  Paired t-test:\n",
      "   ~|diff| > 0: p = 0.122\n",
      "   *diff < 0: p = 0.061\n",
      "    diff > 0: p = 0.939\n",
      "  Wilcoxon signed-rank test:\n",
      "   ~P(x > y) != 0.5: p = 0.130\n",
      "   *P(x > y) < 0.5: p = 0.065\n",
      "    P(x > y) > 0.5: p = 0.935\n",
      "visitCount_fiO2Dial:\n",
      "  mean diff = -1.455; stdev diff = 5.229\n",
      "  Paired t-test:\n",
      "    |diff| > 0: p = 0.400\n",
      "   ~diff < 0: p = 0.200\n",
      "    diff > 0: p = 0.800\n",
      "  Wilcoxon signed-rank test:\n",
      "    P(x > y) != 0.5: p = 0.448\n",
      "    P(x > y) < 0.5: p = 0.224\n",
      "    P(x > y) > 0.5: p = 0.776\n",
      "visitCount_spO2ReferenceTable:\n",
      "  mean diff = -1.273; stdev diff = 3.620\n",
      "  Paired t-test:\n",
      "    |diff| > 0: p = 0.292\n",
      "   ~diff < 0: p = 0.146\n",
      "    diff > 0: p = 0.854\n",
      "  Wilcoxon signed-rank test:\n",
      "    P(x > y) != 0.5: p = 0.329\n",
      "   ~P(x > y) < 0.5: p = 0.165\n",
      "    P(x > y) > 0.5: p = 0.835\n",
      "visitCount_monitorFull:\n",
      "  mean diff = -6.545; stdev diff = 11.171\n",
      "  Paired t-test:\n",
      "   *|diff| > 0: p = 0.094\n",
      "  **diff < 0: p = 0.047\n",
      "    diff > 0: p = 0.953\n",
      "  Wilcoxon signed-rank test:\n",
      "   ~P(x > y) != 0.5: p = 0.130\n",
      "   *P(x > y) < 0.5: p = 0.065\n",
      "    P(x > y) > 0.5: p = 0.935\n",
      "visitCount_monitorBlank:\n",
      "  mean diff = -11.636; stdev diff = 18.598\n",
      "  Paired t-test:\n",
      "   *|diff| > 0: p = 0.076\n",
      "  **diff < 0: p = 0.038\n",
      "    diff > 0: p = 0.962\n",
      "  Wilcoxon signed-rank test:\n",
      "   *P(x > y) != 0.5: p = 0.074\n",
      "  **P(x > y) < 0.5: p = 0.037\n",
      "    P(x > y) > 0.5: p = 0.963\n",
      "visitCount_monitorApgarTimer:\n",
      "  mean diff = 2.636; stdev diff = 12.220\n",
      "  Paired t-test:\n",
      "    |diff| > 0: p = 0.511\n",
      "    diff < 0: p = 0.745\n",
      "    diff > 0: p = 0.255\n",
      "  Wilcoxon signed-rank test:\n",
      "    P(x > y) != 0.5: p = 0.476\n",
      "    P(x > y) < 0.5: p = 0.762\n",
      "    P(x > y) > 0.5: p = 0.238\n",
      "visitCount_monitorHeartRate:\n",
      "  mean diff = -5.091; stdev diff = 11.782\n",
      "  Paired t-test:\n",
      "    |diff| > 0: p = 0.202\n",
      "   ~diff < 0: p = 0.101\n",
      "    diff > 0: p = 0.899\n",
      "  Wilcoxon signed-rank test:\n",
      "    P(x > y) != 0.5: p = 0.248\n",
      "   ~P(x > y) < 0.5: p = 0.124\n",
      "    P(x > y) > 0.5: p = 0.876\n",
      "visitCount_monitorFiO2:\n",
      "  mean diff = -0.273; stdev diff = 15.178\n",
      "  Paired t-test:\n",
      "    |diff| > 0: p = 0.956\n",
      "    diff < 0: p = 0.478\n",
      "    diff > 0: p = 0.522\n",
      "  Wilcoxon signed-rank test:\n",
      "    P(x > y) != 0.5: p = 0.929\n",
      "    P(x > y) < 0.5: p = 0.465\n",
      "    P(x > y) > 0.5: p = 0.535\n",
      "visitCount_monitorGraph:\n",
      "  mean diff = 7.727; stdev diff = 27.733\n",
      "  Paired t-test:\n",
      "    |diff| > 0: p = 0.399\n",
      "    diff < 0: p = 0.801\n",
      "   ~diff > 0: p = 0.199\n",
      "  Wilcoxon signed-rank test:\n",
      "    P(x > y) != 0.5: p = 0.328\n",
      "    P(x > y) < 0.5: p = 0.836\n",
      "   ~P(x > y) > 0.5: p = 0.164\n",
      "visitCount_monitorSpO2:\n",
      "  mean diff = 1.000; stdev diff = 21.422\n",
      "  Paired t-test:\n",
      "    |diff| > 0: p = 0.886\n",
      "    diff < 0: p = 0.557\n",
      "    diff > 0: p = 0.443\n",
      "  Wilcoxon signed-rank test:\n",
      "    P(x > y) != 0.5: p = 0.563\n",
      "    P(x > y) < 0.5: p = 0.719\n",
      "    P(x > y) > 0.5: p = 0.281\n",
      "visitCount_combinedFiO2:\n",
      "  mean diff = -1.727; stdev diff = 15.604\n",
      "  Paired t-test:\n",
      "    |diff| > 0: p = 0.734\n",
      "    diff < 0: p = 0.367\n",
      "    diff > 0: p = 0.633\n",
      "  Wilcoxon signed-rank test:\n",
      "    P(x > y) != 0.5: p = 0.790\n",
      "    P(x > y) < 0.5: p = 0.395\n",
      "    P(x > y) > 0.5: p = 0.605\n",
      "visitCount_combinedSpO2:\n",
      "  mean diff = 7.455; stdev diff = 29.767\n",
      "  Paired t-test:\n",
      "    |diff| > 0: p = 0.447\n",
      "    diff < 0: p = 0.777\n",
      "    diff > 0: p = 0.223\n",
      "  Wilcoxon signed-rank test:\n",
      "    P(x > y) != 0.5: p = 0.533\n",
      "    P(x > y) < 0.5: p = 0.733\n",
      "    P(x > y) > 0.5: p = 0.267\n"
     ]
    }
   ],
   "source": [
    "statistics.test_gaze_count_outcomes(scenario_order_pairings[1])"
   ]
  },
  {
   "cell_type": "markdown",
   "metadata": {},
   "source": [
    "Observations:\n",
    "\n",
    "* Participants in scenario 2 maybe look less at the insttrument panel of the warmer and less at the blank parts of the monitor compared to scenario 3.\n",
    "* No other significant differences."
   ]
  },
  {
   "cell_type": "markdown",
   "metadata": {},
   "source": [
    "#### Summary\n",
    "\n",
    "* There doesn't seem to be a learning or adaptation effect when we look at gaze counts. This is unlike the results for gaze durations."
   ]
  }
 ],
 "metadata": {
  "kernelspec": {
   "display_name": "Python 3",
   "language": "python",
   "name": "python3"
  },
  "language_info": {
   "codemirror_mode": {
    "name": "ipython",
    "version": 3
   },
   "file_extension": ".py",
   "mimetype": "text/x-python",
   "name": "python",
   "nbconvert_exporter": "python",
   "pygments_lexer": "ipython3",
   "version": "3.6.4"
  }
 },
 "nbformat": 4,
 "nbformat_minor": 2
}
