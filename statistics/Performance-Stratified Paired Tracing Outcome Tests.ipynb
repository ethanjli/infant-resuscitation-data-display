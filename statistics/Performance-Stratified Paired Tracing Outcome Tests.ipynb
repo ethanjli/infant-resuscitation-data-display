{
 "cells": [
  {
   "cell_type": "markdown",
   "metadata": {},
   "source": [
    "# Imports"
   ]
  },
  {
   "cell_type": "code",
   "execution_count": 1,
   "metadata": {},
   "outputs": [],
   "source": [
    "%matplotlib inline\n",
    "\n",
    "import scipy as sp\n",
    "from scipy import stats\n",
    "import numpy as np\n",
    "import pandas as pd\n",
    "\n",
    "import statistics"
   ]
  },
  {
   "cell_type": "markdown",
   "metadata": {},
   "source": [
    "# Load Data"
   ]
  },
  {
   "cell_type": "code",
   "execution_count": 2,
   "metadata": {
    "scrolled": false
   },
   "outputs": [
    {
     "data": {
      "text/plain": [
       "Index(['id', 'subjectNumber', 'scenarioNumber', 'newAfterOld', 'scenarioType',\n",
       "       'displayType', 'sensorPlacementTime', 'ppvStartTime', 'ccStartTime',\n",
       "       'inSpO2TargetRangeDuration', 'inSpO2LooseTargetRangeDuration',\n",
       "       'inSpO2TargetRangeStartTime', 'aboveSpO2TargetRangeDuration',\n",
       "       'belowSpO2TargetRangeDuration', 'inFiO2TargetRangeDuration',\n",
       "       'inFiO2TargetRangeStartTime', 'aboveFiO2TargetRangeDuration',\n",
       "       'belowFiO2TargetRangeDuration', 'spO2SignedErrorIntegral',\n",
       "       'spO2UnsignedErrorIntegral', 'spO2SquaredErrorIntegral',\n",
       "       'fiO2LargeAdjustments', 'visitDuration_fiO2Dial',\n",
       "       'visitDuration_infant', 'visitDuration_monitorApgarTimer',\n",
       "       'visitDuration_monitorBlank', 'visitDuration_monitorFiO2',\n",
       "       'visitDuration_monitorFull', 'visitDuration_monitorGraph',\n",
       "       'visitDuration_monitorHeartRate', 'visitDuration_monitorSpO2',\n",
       "       'visitDuration_spO2ReferenceTable',\n",
       "       'visitDuration_warmerInstrumentPanel', 'visitDuration_combinedSpO2',\n",
       "       'visitDuration_combinedFiO2', 'visitCount_fiO2Dial',\n",
       "       'visitCount_infant', 'visitCount_monitorApgarTimer',\n",
       "       'visitCount_monitorBlank', 'visitCount_monitorFiO2',\n",
       "       'visitCount_monitorFull', 'visitCount_monitorGraph',\n",
       "       'visitCount_monitorHeartRate', 'visitCount_monitorSpO2',\n",
       "       'visitCount_spO2ReferenceTable', 'visitCount_warmerInstrumentPanel',\n",
       "       'visitCount_combinedSpO2', 'visitCount_combinedFiO2'],\n",
       "      dtype='object')"
      ]
     },
     "execution_count": 2,
     "metadata": {},
     "output_type": "execute_result"
    }
   ],
   "source": [
    "tracing_df = statistics.load_tracing_features()\n",
    "recording_df = statistics.load_recording_relations()\n",
    "recording_df = statistics.associate_recordings(recording_df, tracing_df)\n",
    "gaze_dfs = statistics.load_gaze_features()\n",
    "statistics.check_gaze_recording_associations(recording_df, gaze_dfs)\n",
    "statistics.compute_gaze_features(gaze_dfs)\n",
    "gaze_df = statistics.combine_gaze_features(gaze_dfs)\n",
    "full_df = statistics.combine_all_features(recording_df, gaze_df)\n",
    "full_df.columns"
   ]
  },
  {
   "cell_type": "markdown",
   "metadata": {},
   "source": [
    "# Error Stratification\n",
    "For each scenario type, we stratify by the total accumulated error across both scenarios of the same type per subject."
   ]
  },
  {
   "cell_type": "code",
   "execution_count": 3,
   "metadata": {
    "scrolled": true
   },
   "outputs": [
    {
     "name": "stdout",
     "output_type": "stream",
     "text": [
      "Lowest-error subjects, easy: [ 9  8  7 12 10]\n",
      "Highest-error subjects, easy: [17 13  4 19 20]\n",
      "Lowest-error subjects, hard: [16  6  9  7 18]\n",
      "Highest-error subjects, hard: [11 17 13  8 15]\n"
     ]
    }
   ],
   "source": [
    "stratification_size = 5\n",
    "scenario_split = statistics.build_split(full_df, 'scenarioType')\n",
    "errors = [\n",
    "    df[['subjectNumber', 'spO2UnsignedErrorIntegral']]\n",
    "    .groupby('subjectNumber')\n",
    "    .sum()\n",
    "    .sort_values(by=['spO2UnsignedErrorIntegral'])\n",
    "    for df in scenario_split.dfs\n",
    "]\n",
    "tails = [\n",
    "    [\n",
    "        df.index[:stratification_size].values,\n",
    "         df.index[-stratification_size:].values\n",
    "    ]\n",
    "    for df in errors\n",
    "]\n",
    "\n",
    "masks = [\n",
    "    [df.subjectNumber.isin(lowest_tail), df.subjectNumber.isin(highest_tail)]\n",
    "    for (df, (lowest_tail, highest_tail)) in zip(scenario_split.dfs, tails)\n",
    "]\n",
    "print('Lowest-error subjects, easy:', tails[0][0])\n",
    "print('Highest-error subjects, easy:', tails[0][1])\n",
    "print('Lowest-error subjects, hard:', tails[1][0])\n",
    "print('Highest-error subjects, hard:', tails[1][1])"
   ]
  },
  {
   "cell_type": "markdown",
   "metadata": {},
   "source": [
    "### Accumulated Absolute Error Stratification, Hard"
   ]
  },
  {
   "cell_type": "code",
   "execution_count": 4,
   "metadata": {},
   "outputs": [
    {
     "name": "stdout",
     "output_type": "stream",
     "text": [
      "Pairing against absoluteError:\n",
      "  0: lowest vs. 1: highest\n",
      "  10 0 vs. 1 pairs.\n"
     ]
    }
   ],
   "source": [
    "error_stratification = statistics.build_stratification(scenario_split.dfs[1], 'absoluteError', ['lowest', 'highest'], masks[1])\n",
    "error_stratification.describe(tests=False)"
   ]
  },
  {
   "cell_type": "code",
   "execution_count": 5,
   "metadata": {},
   "outputs": [],
   "source": [
    "error_display_pairings = [\n",
    "    statistics.build_pairing(df, 'displayType')\n",
    "    for df in error_stratification.dfs\n",
    "]"
   ]
  },
  {
   "cell_type": "markdown",
   "metadata": {},
   "source": [
    "#### Lowest Errors"
   ]
  },
  {
   "cell_type": "code",
   "execution_count": 6,
   "metadata": {},
   "outputs": [
    {
     "name": "stdout",
     "output_type": "stream",
     "text": [
      "Pairing against displayType:\n",
      "  0: minimal vs. 1: full\n",
      "  5 0 vs. 1 pairs.\n",
      "  Paired t-test alternative hypotheses:\n",
      "    Ha left-tailed (diff < 0): mean 0 - mean 1 < 0\n",
      "    Ha two-tailed (|diff| > 0): mean 0 - mean 1 != 0\n",
      "    Ha right-tailed (diff > 0): mean 0 - mean 1 > 0\n",
      "  Wilcoxon signed-rank alternative hypotheses:\n",
      "    Ha left-tailed (P(x > y) < 0.5)\n",
      "    Ha two-tailed (P(x > y) != 0.5)\n",
      "    Ha right-tailed (P(x > y) > 0.5)\n"
     ]
    }
   ],
   "source": [
    "error_display_pairings[0].describe()"
   ]
  },
  {
   "cell_type": "code",
   "execution_count": 7,
   "metadata": {
    "scrolled": true
   },
   "outputs": [
    {
     "name": "stdout",
     "output_type": "stream",
     "text": [
      "sensorPlacementTime:\n",
      "  mean diff = -2.200; stdev diff = 13.746\n",
      "  Paired t-test:\n",
      "    |diff| > 0: p = 0.765\n",
      "    diff < 0: p = 0.382\n",
      "    diff > 0: p = 0.618\n",
      "  Wilcoxon signed-rank test:\n",
      "    P(x > y) != 0.5: p = 0.893\n",
      "    P(x > y) < 0.5: p = 0.446\n",
      "    P(x > y) > 0.5: p = 0.554\n",
      "ppvStartTime:\n",
      "  mean diff = 5.600; stdev diff = 5.499\n",
      "  Paired t-test:\n",
      "   ~|diff| > 0: p = 0.111\n",
      "    diff < 0: p = 0.944\n",
      "   *diff > 0: p = 0.056\n",
      "  Wilcoxon signed-rank test:\n",
      "    P(x > y) != 0.5: p = 0.221\n",
      "    P(x > y) < 0.5: p = 0.890\n",
      "   ~P(x > y) > 0.5: p = 0.110\n",
      "ccStartTime:\n",
      "  mean diff = 6.400; stdev diff = 15.895\n",
      "  Paired t-test:\n",
      "    |diff| > 0: p = 0.466\n",
      "    diff < 0: p = 0.767\n",
      "    diff > 0: p = 0.233\n",
      "  Wilcoxon signed-rank test:\n",
      "    P(x > y) != 0.5: p = 0.345\n",
      "    P(x > y) < 0.5: p = 0.827\n",
      "   ~P(x > y) > 0.5: p = 0.173\n",
      "inSpO2TargetRangeStartTime:\n",
      "  mean diff = 35.600; stdev diff = 44.729\n",
      "  Paired t-test:\n",
      "   ~|diff| > 0: p = 0.187\n",
      "    diff < 0: p = 0.907\n",
      "   *diff > 0: p = 0.093\n",
      "  Wilcoxon signed-rank test:\n",
      "   ~P(x > y) != 0.5: p = 0.144\n",
      "    P(x > y) < 0.5: p = 0.928\n",
      "   *P(x > y) > 0.5: p = 0.072\n",
      "inSpO2TargetRangeDuration:\n",
      "  mean diff = -10.000; stdev diff = 25.235\n",
      "  Paired t-test:\n",
      "    |diff| > 0: p = 0.472\n",
      "    diff < 0: p = 0.236\n",
      "    diff > 0: p = 0.764\n",
      "  Wilcoxon signed-rank test:\n",
      "    P(x > y) != 0.5: p = 0.593\n",
      "    P(x > y) < 0.5: p = 0.296\n",
      "    P(x > y) > 0.5: p = 0.704\n",
      "inSpO2LooseTargetRangeDuration:\n",
      "  mean diff = -16.800; stdev diff = 25.127\n",
      "  Paired t-test:\n",
      "    |diff| > 0: p = 0.252\n",
      "   ~diff < 0: p = 0.126\n",
      "    diff > 0: p = 0.874\n",
      "  Wilcoxon signed-rank test:\n",
      "   ~P(x > y) != 0.5: p = 0.144\n",
      "   *P(x > y) < 0.5: p = 0.072\n",
      "    P(x > y) > 0.5: p = 0.928\n",
      "aboveSpO2TargetRangeDuration:\n",
      "  mean diff = 0.000; stdev diff = 0.000\n",
      "    Skipped t-test.\n",
      "    Skipped Wilcoxon test.\n",
      "belowSpO2TargetRangeDuration:\n",
      "  mean diff = 12.000; stdev diff = 25.675\n",
      "  Paired t-test:\n",
      "    |diff| > 0: p = 0.403\n",
      "    diff < 0: p = 0.799\n",
      "    diff > 0: p = 0.201\n",
      "  Wilcoxon signed-rank test:\n",
      "    P(x > y) != 0.5: p = 0.465\n",
      "    P(x > y) < 0.5: p = 0.767\n",
      "    P(x > y) > 0.5: p = 0.233\n",
      "inFiO2TargetRangeStartTime:\n",
      "  mean diff = 6.400; stdev diff = 17.500\n",
      "  Paired t-test:\n",
      "    |diff| > 0: p = 0.505\n",
      "    diff < 0: p = 0.747\n",
      "    diff > 0: p = 0.253\n",
      "  Wilcoxon signed-rank test:\n",
      "    P(x > y) != 0.5: p = 0.593\n",
      "    P(x > y) < 0.5: p = 0.704\n",
      "    P(x > y) > 0.5: p = 0.296\n",
      "inFiO2TargetRangeDuration:\n",
      "  mean diff = -16.000; stdev diff = 13.565\n",
      "  Paired t-test:\n",
      "   *|diff| > 0: p = 0.078\n",
      "  **diff < 0: p = 0.039\n",
      "    diff > 0: p = 0.961\n",
      "  Wilcoxon signed-rank test:\n",
      "   ~P(x > y) != 0.5: p = 0.102\n",
      "   *P(x > y) < 0.5: p = 0.051\n",
      "    P(x > y) > 0.5: p = 0.949\n",
      "aboveFiO2TargetRangeDuration:\n",
      "  mean diff = 0.000; stdev diff = 0.000\n",
      "    Skipped t-test.\n",
      "    Skipped Wilcoxon test.\n",
      "belowFiO2TargetRangeDuration:\n",
      "  mean diff = 16.800; stdev diff = 13.891\n",
      "  Paired t-test:\n",
      "   *|diff| > 0: p = 0.073\n",
      "    diff < 0: p = 0.964\n",
      "  **diff > 0: p = 0.036\n",
      "  Wilcoxon signed-rank test:\n",
      "   ~P(x > y) != 0.5: p = 0.102\n",
      "    P(x > y) < 0.5: p = 0.949\n",
      "   *P(x > y) > 0.5: p = 0.051\n",
      "spO2SignedErrorIntegral:\n",
      "  mean diff = -3.513; stdev diff = 3.176\n",
      "  Paired t-test:\n",
      "   *|diff| > 0: p = 0.091\n",
      "  **diff < 0: p = 0.046\n",
      "    diff > 0: p = 0.954\n",
      "  Wilcoxon signed-rank test:\n",
      "   ~P(x > y) != 0.5: p = 0.138\n",
      "   *P(x > y) < 0.5: p = 0.069\n",
      "    P(x > y) > 0.5: p = 0.931\n",
      "spO2UnsignedErrorIntegral:\n",
      "  mean diff = 3.513; stdev diff = 3.176\n",
      "  Paired t-test:\n",
      "   *|diff| > 0: p = 0.091\n",
      "    diff < 0: p = 0.954\n",
      "  **diff > 0: p = 0.046\n",
      "  Wilcoxon signed-rank test:\n",
      "   ~P(x > y) != 0.5: p = 0.138\n",
      "    P(x > y) < 0.5: p = 0.931\n",
      "   *P(x > y) > 0.5: p = 0.069\n",
      "spO2SquaredErrorIntegral:\n",
      "  mean diff = 1.442; stdev diff = 0.538\n",
      "  Paired t-test:\n",
      "  **|diff| > 0: p = 0.006\n",
      "    diff < 0: p = 0.997\n",
      "  **diff > 0: p = 0.003\n",
      "  Wilcoxon signed-rank test:\n",
      "  **P(x > y) != 0.5: p = 0.043\n",
      "    P(x > y) < 0.5: p = 0.978\n",
      "  **P(x > y) > 0.5: p = 0.022\n",
      "fiO2LargeAdjustments:\n",
      "  mean diff = -0.600; stdev diff = 0.800\n",
      "  Paired t-test:\n",
      "    |diff| > 0: p = 0.208\n",
      "   ~diff < 0: p = 0.104\n",
      "    diff > 0: p = 0.896\n",
      "  Wilcoxon signed-rank test:\n",
      "   ~P(x > y) != 0.5: p = 0.180\n",
      "   *P(x > y) < 0.5: p = 0.090\n",
      "    P(x > y) > 0.5: p = 0.910\n"
     ]
    },
    {
     "name": "stderr",
     "output_type": "stream",
     "text": [
      "/usr/local/lib/python3.5/dist-packages/scipy/stats/morestats.py:2385: UserWarning: Warning: sample size too small for normal approximation.\n",
      "  warnings.warn(\"Warning: sample size too small for normal approximation.\")\n",
      "/usr/local/lib/python3.5/dist-packages/scipy/stats/morestats.py:2410: RuntimeWarning: invalid value encountered in double_scalars\n",
      "  z = (T - mn - correction) / se\n"
     ]
    }
   ],
   "source": [
    "statistics.test_tracing_outcomes(error_display_pairings[0])"
   ]
  },
  {
   "cell_type": "markdown",
   "metadata": {},
   "source": [
    "Observations:\n",
    "\n",
    "* Wilcoxon signed-rank and paired t-tests seem to behave generally the same way, though the t-tests are more significant. We ignore the Wilcoxon tests because the sample sizes are too small.\n",
    "* With the new display, participants are in the FiO2 target range significantly more and achieve a significantly lower signed and squared SpO2 squared error integrals."
   ]
  },
  {
   "cell_type": "markdown",
   "metadata": {},
   "source": [
    "#### Highest Errors"
   ]
  },
  {
   "cell_type": "code",
   "execution_count": 8,
   "metadata": {},
   "outputs": [
    {
     "name": "stdout",
     "output_type": "stream",
     "text": [
      "Pairing against displayType:\n",
      "  0: minimal vs. 1: full\n",
      "  5 0 vs. 1 pairs.\n",
      "  Paired t-test alternative hypotheses:\n",
      "    Ha left-tailed (diff < 0): mean 0 - mean 1 < 0\n",
      "    Ha two-tailed (|diff| > 0): mean 0 - mean 1 != 0\n",
      "    Ha right-tailed (diff > 0): mean 0 - mean 1 > 0\n",
      "  Wilcoxon signed-rank alternative hypotheses:\n",
      "    Ha left-tailed (P(x > y) < 0.5)\n",
      "    Ha two-tailed (P(x > y) != 0.5)\n",
      "    Ha right-tailed (P(x > y) > 0.5)\n"
     ]
    }
   ],
   "source": [
    "error_display_pairings[1].describe()"
   ]
  },
  {
   "cell_type": "code",
   "execution_count": 9,
   "metadata": {
    "scrolled": true
   },
   "outputs": [
    {
     "name": "stdout",
     "output_type": "stream",
     "text": [
      "sensorPlacementTime:\n",
      "  mean diff = -10.200; stdev diff = 34.114\n",
      "  Paired t-test:\n",
      "    |diff| > 0: p = 0.582\n",
      "    diff < 0: p = 0.291\n",
      "    diff > 0: p = 0.709\n",
      "  Wilcoxon signed-rank test:\n",
      "    P(x > y) != 0.5: p = 0.686\n",
      "    P(x > y) < 0.5: p = 0.343\n",
      "    P(x > y) > 0.5: p = 0.657\n",
      "ppvStartTime:\n",
      "  mean diff = 8.400; stdev diff = 7.552\n",
      "  Paired t-test:\n",
      "   *|diff| > 0: p = 0.090\n",
      "    diff < 0: p = 0.955\n",
      "  **diff > 0: p = 0.045\n",
      "  Wilcoxon signed-rank test:\n",
      "   *P(x > y) != 0.5: p = 0.078\n",
      "    P(x > y) < 0.5: p = 0.961\n",
      "  **P(x > y) > 0.5: p = 0.039\n",
      "ccStartTime:\n",
      "  mean diff = -11.200; stdev diff = 38.426\n",
      "  Paired t-test:\n",
      "    |diff| > 0: p = 0.591\n",
      "    diff < 0: p = 0.296\n",
      "    diff > 0: p = 0.704\n",
      "  Wilcoxon signed-rank test:\n",
      "    P(x > y) != 0.5: p = 0.593\n",
      "    P(x > y) < 0.5: p = 0.296\n",
      "    P(x > y) > 0.5: p = 0.704\n",
      "inSpO2TargetRangeStartTime:\n",
      "  mean diff = -15.200; stdev diff = 42.494\n",
      "  Paired t-test:\n",
      "    |diff| > 0: p = 0.514\n",
      "    diff < 0: p = 0.257\n",
      "    diff > 0: p = 0.743\n",
      "  Wilcoxon signed-rank test:\n",
      "    P(x > y) != 0.5: p = 0.593\n",
      "    P(x > y) < 0.5: p = 0.296\n",
      "    P(x > y) > 0.5: p = 0.704\n",
      "inSpO2TargetRangeDuration:\n",
      "  mean diff = 5.200; stdev diff = 28.103\n",
      "  Paired t-test:\n",
      "    |diff| > 0: p = 0.730\n",
      "    diff < 0: p = 0.635\n",
      "    diff > 0: p = 0.365\n",
      "  Wilcoxon signed-rank test:\n",
      "    P(x > y) != 0.5: p = 1.000\n",
      "    P(x > y) < 0.5: p = 0.500\n",
      "    P(x > y) > 0.5: p = 0.500\n",
      "inSpO2LooseTargetRangeDuration:\n",
      "  mean diff = 10.000; stdev diff = 34.316\n",
      "  Paired t-test:\n",
      "    |diff| > 0: p = 0.591\n",
      "    diff < 0: p = 0.704\n",
      "    diff > 0: p = 0.296\n",
      "  Wilcoxon signed-rank test:\n",
      "    P(x > y) != 0.5: p = 0.593\n",
      "    P(x > y) < 0.5: p = 0.704\n",
      "    P(x > y) > 0.5: p = 0.296\n",
      "aboveSpO2TargetRangeDuration:\n",
      "  mean diff = 0.000; stdev diff = 0.000\n",
      "    Skipped t-test.\n",
      "    Skipped Wilcoxon test.\n",
      "belowSpO2TargetRangeDuration:\n",
      "  mean diff = -6.400; stdev diff = 29.486\n",
      "  Paired t-test:\n",
      "    |diff| > 0: p = 0.687\n",
      "    diff < 0: p = 0.343\n",
      "    diff > 0: p = 0.657\n",
      "  Wilcoxon signed-rank test:\n",
      "    P(x > y) != 0.5: p = 0.785\n",
      "    P(x > y) < 0.5: p = 0.393\n",
      "    P(x > y) > 0.5: p = 0.607\n",
      "inFiO2TargetRangeStartTime:\n",
      "  mean diff = -29.600; stdev diff = 55.647\n",
      "  Paired t-test:\n",
      "    |diff| > 0: p = 0.347\n",
      "   ~diff < 0: p = 0.174\n",
      "    diff > 0: p = 0.826\n",
      "  Wilcoxon signed-rank test:\n",
      "    P(x > y) != 0.5: p = 0.285\n",
      "   ~P(x > y) < 0.5: p = 0.143\n",
      "    P(x > y) > 0.5: p = 0.857\n",
      "inFiO2TargetRangeDuration:\n",
      "  mean diff = 22.800; stdev diff = 43.462\n",
      "  Paired t-test:\n",
      "    |diff| > 0: p = 0.353\n",
      "    diff < 0: p = 0.823\n",
      "   ~diff > 0: p = 0.177\n",
      "  Wilcoxon signed-rank test:\n",
      "    P(x > y) != 0.5: p = 0.285\n",
      "    P(x > y) < 0.5: p = 0.857\n",
      "   ~P(x > y) > 0.5: p = 0.143\n",
      "aboveFiO2TargetRangeDuration:\n",
      "  mean diff = 0.000; stdev diff = 0.000\n",
      "    Skipped t-test.\n",
      "    Skipped Wilcoxon test.\n",
      "belowFiO2TargetRangeDuration:\n",
      "  mean diff = -23.600; stdev diff = 44.854\n",
      "  Paired t-test:\n",
      "    |diff| > 0: p = 0.352\n",
      "   ~diff < 0: p = 0.176\n",
      "    diff > 0: p = 0.824\n",
      "  Wilcoxon signed-rank test:\n",
      "    P(x > y) != 0.5: p = 0.285\n",
      "   ~P(x > y) < 0.5: p = 0.143\n",
      "    P(x > y) > 0.5: p = 0.857\n",
      "spO2SignedErrorIntegral:\n",
      "  mean diff = 4.664; stdev diff = 12.068\n",
      "  Paired t-test:\n",
      "    |diff| > 0: p = 0.483\n",
      "    diff < 0: p = 0.759\n",
      "    diff > 0: p = 0.241\n",
      "  Wilcoxon signed-rank test:\n",
      "    P(x > y) != 0.5: p = 0.500\n",
      "    P(x > y) < 0.5: p = 0.750\n",
      "    P(x > y) > 0.5: p = 0.250\n",
      "spO2UnsignedErrorIntegral:\n",
      "  mean diff = -4.664; stdev diff = 12.068\n",
      "  Paired t-test:\n",
      "    |diff| > 0: p = 0.483\n",
      "    diff < 0: p = 0.241\n",
      "    diff > 0: p = 0.759\n",
      "  Wilcoxon signed-rank test:\n",
      "    P(x > y) != 0.5: p = 0.500\n",
      "    P(x > y) < 0.5: p = 0.250\n",
      "    P(x > y) > 0.5: p = 0.750\n",
      "spO2SquaredErrorIntegral:\n",
      "  mean diff = -1.582; stdev diff = 4.124\n",
      "  Paired t-test:\n",
      "    |diff| > 0: p = 0.486\n",
      "    diff < 0: p = 0.243\n",
      "    diff > 0: p = 0.757\n",
      "  Wilcoxon signed-rank test:\n",
      "    P(x > y) != 0.5: p = 0.500\n",
      "    P(x > y) < 0.5: p = 0.250\n",
      "    P(x > y) > 0.5: p = 0.750\n",
      "fiO2LargeAdjustments:\n",
      "  mean diff = 0.000; stdev diff = 1.095\n",
      "  Paired t-test:\n",
      "    |diff| > 0: p = 1.000\n",
      "    diff < 0: p = 0.500\n",
      "    diff > 0: p = 0.500\n",
      "  Wilcoxon signed-rank test:\n",
      "    P(x > y) != 0.5: p = 1.000\n",
      "    P(x > y) < 0.5: p = 0.500\n",
      "    P(x > y) > 0.5: p = 0.500\n"
     ]
    },
    {
     "name": "stderr",
     "output_type": "stream",
     "text": [
      "/usr/local/lib/python3.5/dist-packages/scipy/stats/morestats.py:2385: UserWarning: Warning: sample size too small for normal approximation.\n",
      "  warnings.warn(\"Warning: sample size too small for normal approximation.\")\n",
      "/usr/local/lib/python3.5/dist-packages/scipy/stats/morestats.py:2410: RuntimeWarning: invalid value encountered in double_scalars\n",
      "  z = (T - mn - correction) / se\n"
     ]
    }
   ],
   "source": [
    "statistics.test_tracing_outcomes(error_display_pairings[1])"
   ]
  },
  {
   "cell_type": "markdown",
   "metadata": {},
   "source": [
    "Observations:\n",
    "\n",
    "* As before, we ignore the Wilcoxon signed-rank tests.\n",
    "* With the new display, participants start PPV significantly earlier but don't achieve significantly better outcomes."
   ]
  },
  {
   "cell_type": "markdown",
   "metadata": {},
   "source": [
    "#### Summary\n",
    "\n",
    "* The top 5 participants who accumulated the lowest SpO2 errors on the hard scenario were significantly helped by the display, but the bottom 5 participants who accumulated the highest SpO2 errors on the hard scenario weren't significantly helped by the display."
   ]
  },
  {
   "cell_type": "markdown",
   "metadata": {},
   "source": [
    "### Accumulated Absolute Error Stratification, Easy"
   ]
  },
  {
   "cell_type": "code",
   "execution_count": 10,
   "metadata": {},
   "outputs": [
    {
     "name": "stdout",
     "output_type": "stream",
     "text": [
      "Pairing against absoluteError:\n",
      "  0: lowest vs. 1: highest\n",
      "  10 0 vs. 1 pairs.\n"
     ]
    }
   ],
   "source": [
    "error_stratification = statistics.build_stratification(scenario_split.dfs[0], 'absoluteError', ['lowest', 'highest'], masks[0])\n",
    "error_stratification.describe(tests=False)"
   ]
  },
  {
   "cell_type": "code",
   "execution_count": 11,
   "metadata": {},
   "outputs": [],
   "source": [
    "error_display_pairings = [\n",
    "    statistics.build_pairing(df, 'displayType')\n",
    "    for df in error_stratification.dfs\n",
    "]"
   ]
  },
  {
   "cell_type": "markdown",
   "metadata": {},
   "source": [
    "#### Lowest Errors"
   ]
  },
  {
   "cell_type": "code",
   "execution_count": 30,
   "metadata": {
    "scrolled": true
   },
   "outputs": [
    {
     "name": "stdout",
     "output_type": "stream",
     "text": [
      "Pairing against displayType:\n",
      "  0: minimal vs. 1: full\n",
      "  5 0 vs. 1 pairs.\n",
      "  Paired t-test alternative hypotheses:\n",
      "    Ha left-tailed (diff < 0): mean 0 - mean 1 < 0\n",
      "    Ha two-tailed (|diff| > 0): mean 0 - mean 1 != 0\n",
      "    Ha right-tailed (diff > 0): mean 0 - mean 1 > 0\n",
      "  Wilcoxon signed-rank alternative hypotheses:\n",
      "    Ha left-tailed (P(x > y) < 0.5)\n",
      "    Ha two-tailed (P(x > y) != 0.5)\n",
      "    Ha right-tailed (P(x > y) > 0.5)\n"
     ]
    }
   ],
   "source": [
    "error_display_pairings[0].describe()"
   ]
  },
  {
   "cell_type": "code",
   "execution_count": 13,
   "metadata": {
    "scrolled": true
   },
   "outputs": [
    {
     "name": "stdout",
     "output_type": "stream",
     "text": [
      "sensorPlacementTime:\n",
      "  mean diff = -19.200; stdev diff = 13.452\n",
      "  Paired t-test:\n",
      "  **|diff| > 0: p = 0.046\n",
      "  **diff < 0: p = 0.023\n",
      "    diff > 0: p = 0.977\n",
      "  Wilcoxon signed-rank test:\n",
      "   *P(x > y) != 0.5: p = 0.080\n",
      "  **P(x > y) < 0.5: p = 0.040\n",
      "    P(x > y) > 0.5: p = 0.960\n",
      "ppvStartTime:\n",
      "  mean diff = -19.400; stdev diff = 19.704\n",
      "  Paired t-test:\n",
      "   ~|diff| > 0: p = 0.120\n",
      "   *diff < 0: p = 0.060\n",
      "    diff > 0: p = 0.940\n",
      "  Wilcoxon signed-rank test:\n",
      "   ~P(x > y) != 0.5: p = 0.138\n",
      "   *P(x > y) < 0.5: p = 0.069\n",
      "    P(x > y) > 0.5: p = 0.931\n",
      "ccStartTime:\n",
      "  mean diff = 0.000; stdev diff = 0.000\n",
      "    Skipped t-test.\n",
      "    Skipped Wilcoxon test.\n",
      "inSpO2TargetRangeStartTime:\n",
      "  mean diff = -30.000; stdev diff = 20.239\n",
      "  Paired t-test:\n",
      "  **|diff| > 0: p = 0.041\n",
      "  **diff < 0: p = 0.021\n",
      "    diff > 0: p = 0.979\n",
      "  Wilcoxon signed-rank test:\n",
      "  **P(x > y) != 0.5: p = 0.043\n",
      "  **P(x > y) < 0.5: p = 0.022\n",
      "    P(x > y) > 0.5: p = 0.978\n",
      "inSpO2TargetRangeDuration:\n",
      "  mean diff = 25.200; stdev diff = 37.621\n",
      "  Paired t-test:\n",
      "    |diff| > 0: p = 0.251\n",
      "    diff < 0: p = 0.874\n",
      "   ~diff > 0: p = 0.126\n",
      "  Wilcoxon signed-rank test:\n",
      "    P(x > y) != 0.5: p = 0.225\n",
      "    P(x > y) < 0.5: p = 0.888\n",
      "   ~P(x > y) > 0.5: p = 0.112\n",
      "inSpO2LooseTargetRangeDuration:\n",
      "  mean diff = 26.800; stdev diff = 34.999\n",
      "  Paired t-test:\n",
      "    |diff| > 0: p = 0.200\n",
      "    diff < 0: p = 0.900\n",
      "   ~diff > 0: p = 0.100\n",
      "  Wilcoxon signed-rank test:\n",
      "   ~P(x > y) != 0.5: p = 0.176\n",
      "    P(x > y) < 0.5: p = 0.912\n",
      "   *P(x > y) > 0.5: p = 0.088\n",
      "aboveSpO2TargetRangeDuration:\n",
      "  mean diff = -12.800; stdev diff = 12.172\n",
      "  Paired t-test:\n",
      "   ~|diff| > 0: p = 0.103\n",
      "   *diff < 0: p = 0.052\n",
      "    diff > 0: p = 0.948\n",
      "  Wilcoxon signed-rank test:\n",
      "   *P(x > y) != 0.5: p = 0.068\n",
      "  **P(x > y) < 0.5: p = 0.034\n",
      "    P(x > y) > 0.5: p = 0.966\n",
      "belowSpO2TargetRangeDuration:\n",
      "  mean diff = -16.000; stdev diff = 29.038\n",
      "  Paired t-test:\n",
      "    |diff| > 0: p = 0.332\n",
      "   ~diff < 0: p = 0.166\n",
      "    diff > 0: p = 0.834\n",
      "  Wilcoxon signed-rank test:\n",
      "    P(x > y) != 0.5: p = 0.345\n",
      "   ~P(x > y) < 0.5: p = 0.173\n",
      "    P(x > y) > 0.5: p = 0.827\n",
      "inFiO2TargetRangeStartTime:\n",
      "  mean diff = -80.000; stdev diff = 69.455\n",
      "  Paired t-test:\n",
      "   *|diff| > 0: p = 0.083\n",
      "  **diff < 0: p = 0.041\n",
      "    diff > 0: p = 0.959\n",
      "  Wilcoxon signed-rank test:\n",
      "  **P(x > y) != 0.5: p = 0.043\n",
      "  **P(x > y) < 0.5: p = 0.022\n",
      "    P(x > y) > 0.5: p = 0.978\n",
      "inFiO2TargetRangeDuration:\n",
      "  mean diff = 22.800; stdev diff = 44.084\n",
      "  Paired t-test:\n",
      "    |diff| > 0: p = 0.359\n",
      "    diff < 0: p = 0.820\n",
      "   ~diff > 0: p = 0.180\n",
      "  Wilcoxon signed-rank test:\n",
      "    P(x > y) != 0.5: p = 0.279\n",
      "    P(x > y) < 0.5: p = 0.861\n",
      "   ~P(x > y) > 0.5: p = 0.139\n",
      "aboveFiO2TargetRangeDuration:\n",
      "  mean diff = -1.200; stdev diff = 27.440\n",
      "  Paired t-test:\n",
      "    |diff| > 0: p = 0.935\n",
      "    diff < 0: p = 0.467\n",
      "    diff > 0: p = 0.533\n",
      "  Wilcoxon signed-rank test:\n",
      "    P(x > y) != 0.5: p = 0.686\n",
      "    P(x > y) < 0.5: p = 0.343\n",
      "    P(x > y) > 0.5: p = 0.657\n",
      "belowFiO2TargetRangeDuration:\n",
      "  mean diff = -22.800; stdev diff = 22.004\n",
      "  Paired t-test:\n",
      "   ~|diff| > 0: p = 0.107\n",
      "   *diff < 0: p = 0.053\n",
      "    diff > 0: p = 0.947\n",
      "  Wilcoxon signed-rank test:\n",
      "   ~P(x > y) != 0.5: p = 0.138\n",
      "   *P(x > y) < 0.5: p = 0.069\n",
      "    P(x > y) > 0.5: p = 0.931\n",
      "spO2SignedErrorIntegral:\n",
      "  mean diff = 1.612; stdev diff = 3.608\n",
      "  Paired t-test:\n",
      "    |diff| > 0: p = 0.422\n",
      "    diff < 0: p = 0.789\n",
      "    diff > 0: p = 0.211\n",
      "  Wilcoxon signed-rank test:\n",
      "    P(x > y) != 0.5: p = 0.345\n",
      "    P(x > y) < 0.5: p = 0.827\n",
      "   ~P(x > y) > 0.5: p = 0.173\n",
      "spO2UnsignedErrorIntegral:\n",
      "  mean diff = -3.112; stdev diff = 4.536\n",
      "  Paired t-test:\n",
      "    |diff| > 0: p = 0.242\n",
      "   ~diff < 0: p = 0.121\n",
      "    diff > 0: p = 0.879\n",
      "  Wilcoxon signed-rank test:\n",
      "    P(x > y) != 0.5: p = 0.225\n",
      "   ~P(x > y) < 0.5: p = 0.112\n",
      "    P(x > y) > 0.5: p = 0.888\n",
      "spO2SquaredErrorIntegral:\n",
      "  mean diff = -0.305; stdev diff = 0.608\n",
      "  Paired t-test:\n",
      "    |diff| > 0: p = 0.372\n",
      "   ~diff < 0: p = 0.186\n",
      "    diff > 0: p = 0.814\n",
      "  Wilcoxon signed-rank test:\n",
      "    P(x > y) != 0.5: p = 0.345\n",
      "   ~P(x > y) < 0.5: p = 0.173\n",
      "    P(x > y) > 0.5: p = 0.827\n",
      "fiO2LargeAdjustments:\n",
      "  mean diff = 0.800; stdev diff = 0.980\n",
      "  Paired t-test:\n",
      "   ~|diff| > 0: p = 0.178\n",
      "    diff < 0: p = 0.911\n",
      "   *diff > 0: p = 0.089\n",
      "  Wilcoxon signed-rank test:\n",
      "   ~P(x > y) != 0.5: p = 0.157\n",
      "    P(x > y) < 0.5: p = 0.921\n",
      "   *P(x > y) > 0.5: p = 0.079\n"
     ]
    },
    {
     "name": "stderr",
     "output_type": "stream",
     "text": [
      "/usr/local/lib/python3.5/dist-packages/scipy/stats/morestats.py:2385: UserWarning: Warning: sample size too small for normal approximation.\n",
      "  warnings.warn(\"Warning: sample size too small for normal approximation.\")\n",
      "/usr/local/lib/python3.5/dist-packages/scipy/stats/morestats.py:2410: RuntimeWarning: invalid value encountered in double_scalars\n",
      "  z = (T - mn - correction) / se\n"
     ]
    }
   ],
   "source": [
    "statistics.test_tracing_outcomes(error_display_pairings[0])"
   ]
  },
  {
   "cell_type": "markdown",
   "metadata": {},
   "source": [
    "Observations:\n",
    "\n",
    "* As before, we ignore the Wilcoxon tests.\n",
    "* With the new display, participants place the sensor significantly later and enter the SpO2 and FiO2 target ranges significantly later, but do not produce any other significant differences."
   ]
  },
  {
   "cell_type": "markdown",
   "metadata": {},
   "source": [
    "#### Highest Errors"
   ]
  },
  {
   "cell_type": "code",
   "execution_count": 14,
   "metadata": {
    "scrolled": true
   },
   "outputs": [
    {
     "name": "stdout",
     "output_type": "stream",
     "text": [
      "Pairing against displayType:\n",
      "  0: minimal vs. 1: full\n",
      "  5 0 vs. 1 pairs.\n",
      "  Paired t-test alternative hypotheses:\n",
      "    Ha left-tailed (diff < 0): mean 0 - mean 1 < 0\n",
      "    Ha two-tailed (|diff| > 0): mean 0 - mean 1 != 0\n",
      "    Ha right-tailed (diff > 0): mean 0 - mean 1 > 0\n",
      "  Wilcoxon signed-rank alternative hypotheses:\n",
      "    Ha left-tailed (P(x > y) < 0.5)\n",
      "    Ha two-tailed (P(x > y) != 0.5)\n",
      "    Ha right-tailed (P(x > y) > 0.5)\n"
     ]
    }
   ],
   "source": [
    "error_display_pairings[1].describe()"
   ]
  },
  {
   "cell_type": "code",
   "execution_count": 15,
   "metadata": {
    "scrolled": true
   },
   "outputs": [
    {
     "name": "stdout",
     "output_type": "stream",
     "text": [
      "sensorPlacementTime:\n",
      "  mean diff = -12.000; stdev diff = 16.432\n",
      "  Paired t-test:\n",
      "    |diff| > 0: p = 0.218\n",
      "   ~diff < 0: p = 0.109\n",
      "    diff > 0: p = 0.891\n",
      "  Wilcoxon signed-rank test:\n",
      "    P(x > y) != 0.5: p = 0.225\n",
      "   ~P(x > y) < 0.5: p = 0.112\n",
      "    P(x > y) > 0.5: p = 0.888\n",
      "ppvStartTime:\n",
      "  mean diff = -2.000; stdev diff = 9.695\n",
      "  Paired t-test:\n",
      "    |diff| > 0: p = 0.701\n",
      "    diff < 0: p = 0.351\n",
      "    diff > 0: p = 0.649\n",
      "  Wilcoxon signed-rank test:\n",
      "    P(x > y) != 0.5: p = 0.588\n",
      "    P(x > y) < 0.5: p = 0.294\n",
      "    P(x > y) > 0.5: p = 0.706\n",
      "ccStartTime:\n",
      "  mean diff = 0.000; stdev diff = 0.000\n",
      "    Skipped t-test.\n",
      "    Skipped Wilcoxon test.\n",
      "inSpO2TargetRangeStartTime:\n",
      "  mean diff = 52.800; stdev diff = 79.404\n",
      "  Paired t-test:\n",
      "    |diff| > 0: p = 0.254\n",
      "    diff < 0: p = 0.873\n",
      "   ~diff > 0: p = 0.127\n",
      "  Wilcoxon signed-rank test:\n",
      "    P(x > y) != 0.5: p = 0.273\n",
      "    P(x > y) < 0.5: p = 0.863\n",
      "   ~P(x > y) > 0.5: p = 0.137\n",
      "inSpO2TargetRangeDuration:\n",
      "  mean diff = -18.800; stdev diff = 17.781\n",
      "  Paired t-test:\n",
      "   ~|diff| > 0: p = 0.102\n",
      "   *diff < 0: p = 0.051\n",
      "    diff > 0: p = 0.949\n",
      "  Wilcoxon signed-rank test:\n",
      "   *P(x > y) != 0.5: p = 0.068\n",
      "  **P(x > y) < 0.5: p = 0.034\n",
      "    P(x > y) > 0.5: p = 0.966\n",
      "inSpO2LooseTargetRangeDuration:\n",
      "  mean diff = -50.400; stdev diff = 44.531\n",
      "  Paired t-test:\n",
      "   *|diff| > 0: p = 0.086\n",
      "  **diff < 0: p = 0.043\n",
      "    diff > 0: p = 0.957\n",
      "  Wilcoxon signed-rank test:\n",
      "   *P(x > y) != 0.5: p = 0.068\n",
      "  **P(x > y) < 0.5: p = 0.034\n",
      "    P(x > y) > 0.5: p = 0.966\n",
      "aboveSpO2TargetRangeDuration:\n",
      "  mean diff = -32.400; stdev diff = 60.085\n",
      "  Paired t-test:\n",
      "    |diff| > 0: p = 0.342\n",
      "   ~diff < 0: p = 0.171\n",
      "    diff > 0: p = 0.829\n",
      "  Wilcoxon signed-rank test:\n",
      "    P(x > y) != 0.5: p = 0.465\n",
      "    P(x > y) < 0.5: p = 0.233\n",
      "    P(x > y) > 0.5: p = 0.767\n",
      "belowSpO2TargetRangeDuration:\n",
      "  mean diff = 53.200; stdev diff = 56.379\n",
      "  Paired t-test:\n",
      "   ~|diff| > 0: p = 0.132\n",
      "    diff < 0: p = 0.934\n",
      "   *diff > 0: p = 0.066\n",
      "  Wilcoxon signed-rank test:\n",
      "   *P(x > y) != 0.5: p = 0.068\n",
      "    P(x > y) < 0.5: p = 0.966\n",
      "  **P(x > y) > 0.5: p = 0.034\n",
      "inFiO2TargetRangeStartTime:\n",
      "  mean diff = 21.200; stdev diff = 68.953\n",
      "  Paired t-test:\n",
      "    |diff| > 0: p = 0.572\n",
      "    diff < 0: p = 0.714\n",
      "    diff > 0: p = 0.286\n",
      "  Wilcoxon signed-rank test:\n",
      "    P(x > y) != 0.5: p = 0.655\n",
      "    P(x > y) < 0.5: p = 0.673\n",
      "    P(x > y) > 0.5: p = 0.327\n",
      "inFiO2TargetRangeDuration:\n",
      "  mean diff = -18.400; stdev diff = 28.661\n",
      "  Paired t-test:\n",
      "    |diff| > 0: p = 0.268\n",
      "   ~diff < 0: p = 0.134\n",
      "    diff > 0: p = 0.866\n",
      "  Wilcoxon signed-rank test:\n",
      "   ~P(x > y) != 0.5: p = 0.180\n",
      "   *P(x > y) < 0.5: p = 0.090\n",
      "    P(x > y) > 0.5: p = 0.910\n",
      "aboveFiO2TargetRangeDuration:\n",
      "  mean diff = -17.600; stdev diff = 67.497\n",
      "  Paired t-test:\n",
      "    |diff| > 0: p = 0.630\n",
      "    diff < 0: p = 0.315\n",
      "    diff > 0: p = 0.685\n",
      "  Wilcoxon signed-rank test:\n",
      "    P(x > y) != 0.5: p = 0.893\n",
      "    P(x > y) < 0.5: p = 0.446\n",
      "    P(x > y) > 0.5: p = 0.554\n",
      "belowFiO2TargetRangeDuration:\n",
      "  mean diff = 35.600; stdev diff = 51.698\n",
      "  Paired t-test:\n",
      "    |diff| > 0: p = 0.240\n",
      "    diff < 0: p = 0.880\n",
      "   ~diff > 0: p = 0.120\n",
      "  Wilcoxon signed-rank test:\n",
      "    P(x > y) != 0.5: p = 0.465\n",
      "    P(x > y) < 0.5: p = 0.767\n",
      "    P(x > y) > 0.5: p = 0.233\n",
      "spO2SignedErrorIntegral:\n",
      "  mean diff = -11.178; stdev diff = 13.177\n",
      "  Paired t-test:\n",
      "   ~|diff| > 0: p = 0.165\n",
      "   *diff < 0: p = 0.083\n",
      "    diff > 0: p = 0.917\n",
      "  Wilcoxon signed-rank test:\n",
      "   *P(x > y) != 0.5: p = 0.068\n",
      "  **P(x > y) < 0.5: p = 0.034\n",
      "    P(x > y) > 0.5: p = 0.966\n",
      "spO2UnsignedErrorIntegral:\n",
      "  mean diff = 8.346; stdev diff = 7.972\n",
      "  Paired t-test:\n",
      "   ~|diff| > 0: p = 0.104\n",
      "    diff < 0: p = 0.948\n",
      "   *diff > 0: p = 0.052\n",
      "  Wilcoxon signed-rank test:"
     ]
    },
    {
     "name": "stderr",
     "output_type": "stream",
     "text": [
      "/usr/local/lib/python3.5/dist-packages/scipy/stats/morestats.py:2385: UserWarning: Warning: sample size too small for normal approximation.\n",
      "  warnings.warn(\"Warning: sample size too small for normal approximation.\")\n",
      "/usr/local/lib/python3.5/dist-packages/scipy/stats/morestats.py:2410: RuntimeWarning: invalid value encountered in double_scalars\n",
      "  z = (T - mn - correction) / se\n"
     ]
    },
    {
     "name": "stdout",
     "output_type": "stream",
     "text": [
      "\n",
      "   *P(x > y) != 0.5: p = 0.068\n",
      "    P(x > y) < 0.5: p = 0.966\n",
      "  **P(x > y) > 0.5: p = 0.034\n",
      "spO2SquaredErrorIntegral:\n",
      "  mean diff = 1.593; stdev diff = 1.705\n",
      "  Paired t-test:\n",
      "   ~|diff| > 0: p = 0.135\n",
      "    diff < 0: p = 0.932\n",
      "   *diff > 0: p = 0.068\n",
      "  Wilcoxon signed-rank test:\n",
      "   *P(x > y) != 0.5: p = 0.068\n",
      "    P(x > y) < 0.5: p = 0.966\n",
      "  **P(x > y) > 0.5: p = 0.034\n",
      "fiO2LargeAdjustments:\n",
      "  mean diff = 0.000; stdev diff = 2.608\n",
      "  Paired t-test:\n",
      "    |diff| > 0: p = 1.000\n",
      "    diff < 0: p = 0.500\n",
      "    diff > 0: p = 0.500\n",
      "  Wilcoxon signed-rank test:\n",
      "    P(x > y) != 0.5: p = 0.713\n",
      "    P(x > y) < 0.5: p = 0.644\n",
      "    P(x > y) > 0.5: p = 0.644\n"
     ]
    }
   ],
   "source": [
    "statistics.test_tracing_outcomes(error_display_pairings[1])"
   ]
  },
  {
   "cell_type": "markdown",
   "metadata": {},
   "source": [
    "Observations:\n",
    "\n",
    "* As before, we ignore the Wilcoxon signed-rank tests.\n",
    "* With the new display, participants are in the loose SpO2 target range significantly more, and their total absolute SpO2 error is almost significantly lower."
   ]
  },
  {
   "cell_type": "markdown",
   "metadata": {},
   "source": [
    "#### Summary\n",
    "\n",
    "* The top 5 participants who accumulated the lowest SpO2 errors on the hard scenario were significantly helped by the display, but the bottom 5 participants who accumulated the highest SpO2 errors on the hard scenario weren't significantly helped or hindered by the display.\n",
    "* The top 5 participants who accumulated the lowest SpO2 errors on the easy scenario weren't significantly helped or hindered by the display, but the bottom 5 participants who accumulated the highest SpO2 errors on the easy scenario may have been significantly helped by the display."
   ]
  },
  {
   "cell_type": "markdown",
   "metadata": {},
   "source": [
    "# Duration Stratification\n",
    "For each scenario type, we stratify by the total time in the loose SpO2 target range across both scenarios of the same type per subject. Stratifying by the strict SpO2 target range doesn't yield any significant differences."
   ]
  },
  {
   "cell_type": "code",
   "execution_count": 16,
   "metadata": {
    "scrolled": true
   },
   "outputs": [
    {
     "name": "stdout",
     "output_type": "stream",
     "text": [
      "Highest-duration subjects, easy: [ 8  9 12  7 10]\n",
      "Lowest-duration subjects, easy: [18 13  4 19 20]\n",
      "Highest-duration subjects, hard: [16  6 10  7 17]\n",
      "Lowest-duration subjects, hard: [19  8 13 15 18]\n"
     ]
    }
   ],
   "source": [
    "stratification_size = 5\n",
    "scenario_split = statistics.build_split(full_df, 'scenarioType')\n",
    "durations = [\n",
    "    df[['subjectNumber', 'inSpO2LooseTargetRangeDuration']]\n",
    "    .groupby('subjectNumber')\n",
    "    .sum()\n",
    "    .sort_values(by=['inSpO2LooseTargetRangeDuration'], ascending=False)\n",
    "    for df in scenario_split.dfs\n",
    "]\n",
    "tails = [\n",
    "    [\n",
    "        df.index[:stratification_size].values,\n",
    "         df.index[-stratification_size:].values\n",
    "    ]\n",
    "    for df in durations\n",
    "]\n",
    "\n",
    "masks = [\n",
    "    [df.subjectNumber.isin(lowest_tail), df.subjectNumber.isin(highest_tail)]\n",
    "    for (df, (lowest_tail, highest_tail)) in zip(scenario_split.dfs, tails)\n",
    "]\n",
    "print('Highest-duration subjects, easy:', tails[0][0])\n",
    "print('Lowest-duration subjects, easy:', tails[0][1])\n",
    "print('Highest-duration subjects, hard:', tails[1][0])\n",
    "print('Lowest-duration subjects, hard:', tails[1][1])"
   ]
  },
  {
   "cell_type": "markdown",
   "metadata": {},
   "source": [
    "### Duration Stratification, Hard"
   ]
  },
  {
   "cell_type": "code",
   "execution_count": 17,
   "metadata": {},
   "outputs": [
    {
     "name": "stdout",
     "output_type": "stream",
     "text": [
      "Pairing against spO2LooseTargetDuration:\n",
      "  0: highest vs. 1: lowest\n",
      "  10 0 vs. 1 pairs.\n"
     ]
    }
   ],
   "source": [
    "duration_stratification = statistics.build_stratification(scenario_split.dfs[1], 'spO2LooseTargetDuration', ['highest', 'lowest'], masks[1])\n",
    "duration_stratification.describe(tests=False)"
   ]
  },
  {
   "cell_type": "code",
   "execution_count": 18,
   "metadata": {},
   "outputs": [],
   "source": [
    "duration_display_pairings = [\n",
    "    statistics.build_pairing(df, 'displayType')\n",
    "    for df in duration_stratification.dfs\n",
    "]"
   ]
  },
  {
   "cell_type": "markdown",
   "metadata": {},
   "source": [
    "#### Highest Durations"
   ]
  },
  {
   "cell_type": "code",
   "execution_count": 19,
   "metadata": {},
   "outputs": [
    {
     "name": "stdout",
     "output_type": "stream",
     "text": [
      "Pairing against displayType:\n",
      "  0: minimal vs. 1: full\n",
      "  5 0 vs. 1 pairs.\n",
      "  Paired t-test alternative hypotheses:\n",
      "    Ha left-tailed (diff < 0): mean 0 - mean 1 < 0\n",
      "    Ha two-tailed (|diff| > 0): mean 0 - mean 1 != 0\n",
      "    Ha right-tailed (diff > 0): mean 0 - mean 1 > 0\n",
      "  Wilcoxon signed-rank alternative hypotheses:\n",
      "    Ha left-tailed (P(x > y) < 0.5)\n",
      "    Ha two-tailed (P(x > y) != 0.5)\n",
      "    Ha right-tailed (P(x > y) > 0.5)\n"
     ]
    }
   ],
   "source": [
    "duration_display_pairings[0].describe()"
   ]
  },
  {
   "cell_type": "code",
   "execution_count": 20,
   "metadata": {
    "scrolled": true
   },
   "outputs": [
    {
     "name": "stdout",
     "output_type": "stream",
     "text": [
      "sensorPlacementTime:\n",
      "  mean diff = -9.600; stdev diff = 17.670\n",
      "  Paired t-test:\n",
      "    |diff| > 0: p = 0.338\n",
      "   ~diff < 0: p = 0.169\n",
      "    diff > 0: p = 0.831\n",
      "  Wilcoxon signed-rank test:\n",
      "    P(x > y) != 0.5: p = 0.345\n",
      "   ~P(x > y) < 0.5: p = 0.173\n",
      "    P(x > y) > 0.5: p = 0.827\n",
      "ppvStartTime:\n",
      "  mean diff = 7.400; stdev diff = 6.406\n",
      "  Paired t-test:\n",
      "   *|diff| > 0: p = 0.082\n",
      "    diff < 0: p = 0.959\n",
      "  **diff > 0: p = 0.041\n",
      "  Wilcoxon signed-rank test:\n",
      "   *P(x > y) != 0.5: p = 0.080\n",
      "    P(x > y) < 0.5: p = 0.960\n",
      "  **P(x > y) > 0.5: p = 0.040\n",
      "ccStartTime:\n",
      "  mean diff = -3.200; stdev diff = 39.479\n",
      "  Paired t-test:\n",
      "    |diff| > 0: p = 0.879\n",
      "    diff < 0: p = 0.440\n",
      "    diff > 0: p = 0.560\n",
      "  Wilcoxon signed-rank test:\n",
      "    P(x > y) != 0.5: p = 0.686\n",
      "    P(x > y) < 0.5: p = 0.343\n",
      "    P(x > y) > 0.5: p = 0.657\n",
      "inSpO2TargetRangeStartTime:\n",
      "  mean diff = 18.400; stdev diff = 48.767\n",
      "  Paired t-test:\n",
      "    |diff| > 0: p = 0.492\n",
      "    diff < 0: p = 0.754\n",
      "    diff > 0: p = 0.246\n",
      "  Wilcoxon signed-rank test:\n",
      "    P(x > y) != 0.5: p = 0.686\n",
      "    P(x > y) < 0.5: p = 0.657\n",
      "    P(x > y) > 0.5: p = 0.343\n",
      "inSpO2TargetRangeDuration:\n",
      "  mean diff = 7.200; stdev diff = 36.058\n",
      "  Paired t-test:\n",
      "    |diff| > 0: p = 0.710\n",
      "    diff < 0: p = 0.645\n",
      "    diff > 0: p = 0.355\n",
      "  Wilcoxon signed-rank test:\n",
      "    P(x > y) != 0.5: p = 0.715\n",
      "    P(x > y) < 0.5: p = 0.642\n",
      "    P(x > y) > 0.5: p = 0.358\n",
      "inSpO2LooseTargetRangeDuration:\n",
      "  mean diff = 0.000; stdev diff = 33.442\n",
      "  Paired t-test:\n",
      "    |diff| > 0: p = 1.000\n",
      "    diff < 0: p = 0.500\n",
      "    diff > 0: p = 0.500\n",
      "  Wilcoxon signed-rank test:\n",
      "    P(x > y) != 0.5: p = 0.893\n",
      "    P(x > y) < 0.5: p = 0.554\n",
      "    P(x > y) > 0.5: p = 0.554\n",
      "aboveSpO2TargetRangeDuration:\n",
      "  mean diff = 0.000; stdev diff = 0.000\n",
      "    Skipped t-test.\n",
      "    Skipped Wilcoxon test.\n",
      "belowSpO2TargetRangeDuration:\n",
      "  mean diff = -5.200; stdev diff = 36.124\n",
      "  Paired t-test:\n",
      "    |diff| > 0: p = 0.788\n",
      "    diff < 0: p = 0.394\n",
      "    diff > 0: p = 0.606\n",
      "  Wilcoxon signed-rank test:\n",
      "    P(x > y) != 0.5: p = 0.686\n",
      "    P(x > y) < 0.5: p = 0.343\n",
      "    P(x > y) > 0.5: p = 0.657\n",
      "inFiO2TargetRangeStartTime:\n",
      "  mean diff = 0.400; stdev diff = 28.380\n",
      "  Paired t-test:\n",
      "    |diff| > 0: p = 0.979\n",
      "    diff < 0: p = 0.511\n",
      "    diff > 0: p = 0.489\n",
      "  Wilcoxon signed-rank test:\n",
      "    P(x > y) != 0.5: p = 1.000\n",
      "    P(x > y) < 0.5: p = 0.500\n",
      "    P(x > y) > 0.5: p = 0.500\n",
      "inFiO2TargetRangeDuration:\n",
      "  mean diff = -7.200; stdev diff = 26.791\n",
      "  Paired t-test:\n",
      "    |diff| > 0: p = 0.619\n",
      "    diff < 0: p = 0.310\n",
      "    diff > 0: p = 0.690\n",
      "  Wilcoxon signed-rank test:\n",
      "    P(x > y) != 0.5: p = 0.715\n",
      "    P(x > y) < 0.5: p = 0.358\n",
      "    P(x > y) > 0.5: p = 0.642\n",
      "aboveFiO2TargetRangeDuration:\n",
      "  mean diff = 0.000; stdev diff = 0.000\n",
      "    Skipped t-test.\n",
      "    Skipped Wilcoxon test.\n",
      "belowFiO2TargetRangeDuration:\n",
      "  mean diff = 8.000; stdev diff = 27.218\n",
      "  Paired t-test:\n",
      "    |diff| > 0: p = 0.588\n",
      "    diff < 0: p = 0.706\n",
      "    diff > 0: p = 0.294\n",
      "  Wilcoxon signed-rank test:\n",
      "    P(x > y) != 0.5: p = 0.715\n",
      "    P(x > y) < 0.5: p = 0.642\n",
      "    P(x > y) > 0.5: p = 0.358\n",
      "spO2SignedErrorIntegral:\n",
      "  mean diff = -0.600; stdev diff = 5.859\n",
      "  Paired t-test:\n",
      "    |diff| > 0: p = 0.848\n",
      "    diff < 0: p = 0.424\n",
      "    diff > 0: p = 0.576\n",
      "  Wilcoxon signed-rank test:\n",
      "    P(x > y) != 0.5: p = 0.893\n",
      "    P(x > y) < 0.5: p = 0.446\n",
      "    P(x > y) > 0.5: p = 0.554\n",
      "spO2UnsignedErrorIntegral:\n",
      "  mean diff = 0.600; stdev diff = 5.859\n",
      "  Paired t-test:\n",
      "    |diff| > 0: p = 0.848\n",
      "    diff < 0: p = 0.576\n",
      "    diff > 0: p = 0.424\n",
      "  Wilcoxon signed-rank test:\n",
      "    P(x > y) != 0.5: p = 0.893\n",
      "    P(x > y) < 0.5: p = 0.554\n",
      "    P(x > y) > 0.5: p = 0.446\n",
      "spO2SquaredErrorIntegral:\n",
      "  mean diff = 0.684; stdev diff = 1.636\n",
      "  Paired t-test:\n",
      "    |diff| > 0: p = 0.450\n",
      "    diff < 0: p = 0.775\n",
      "    diff > 0: p = 0.225\n",
      "  Wilcoxon signed-rank test:\n",
      "    P(x > y) != 0.5: p = 0.500\n",
      "    P(x > y) < 0.5: p = 0.750\n",
      "    P(x > y) > 0.5: p = 0.250\n",
      "fiO2LargeAdjustments:\n",
      "  mean diff = -0.200; stdev diff = 0.980\n",
      "  Paired t-test:\n",
      "    |diff| > 0: p = 0.704\n",
      "    diff < 0: p = 0.352\n",
      "    diff > 0: p = 0.648\n",
      "  Wilcoxon signed-rank test:\n",
      "    P(x > y) != 0.5: p = 0.655\n",
      "    P(x > y) < 0.5: p = 0.327\n",
      "    P(x > y) > 0.5: p = 0.673\n"
     ]
    },
    {
     "name": "stderr",
     "output_type": "stream",
     "text": [
      "/usr/local/lib/python3.5/dist-packages/scipy/stats/morestats.py:2385: UserWarning: Warning: sample size too small for normal approximation.\n",
      "  warnings.warn(\"Warning: sample size too small for normal approximation.\")\n",
      "/usr/local/lib/python3.5/dist-packages/scipy/stats/morestats.py:2410: RuntimeWarning: invalid value encountered in double_scalars\n",
      "  z = (T - mn - correction) / se\n"
     ]
    }
   ],
   "source": [
    "statistics.test_tracing_outcomes(duration_display_pairings[0])"
   ]
  },
  {
   "cell_type": "markdown",
   "metadata": {},
   "source": [
    "Observations:\n",
    "\n",
    "* As before, we ignore the Wilcoxon tests because the sample sizes are too small.\n",
    "* With the new display, participants start PPV significantly earlier."
   ]
  },
  {
   "cell_type": "markdown",
   "metadata": {},
   "source": [
    "#### Lowest Durations"
   ]
  },
  {
   "cell_type": "code",
   "execution_count": 21,
   "metadata": {},
   "outputs": [
    {
     "name": "stdout",
     "output_type": "stream",
     "text": [
      "Pairing against displayType:\n",
      "  0: minimal vs. 1: full\n",
      "  5 0 vs. 1 pairs.\n",
      "  Paired t-test alternative hypotheses:\n",
      "    Ha left-tailed (diff < 0): mean 0 - mean 1 < 0\n",
      "    Ha two-tailed (|diff| > 0): mean 0 - mean 1 != 0\n",
      "    Ha right-tailed (diff > 0): mean 0 - mean 1 > 0\n",
      "  Wilcoxon signed-rank alternative hypotheses:\n",
      "    Ha left-tailed (P(x > y) < 0.5)\n",
      "    Ha two-tailed (P(x > y) != 0.5)\n",
      "    Ha right-tailed (P(x > y) > 0.5)\n"
     ]
    }
   ],
   "source": [
    "duration_display_pairings[1].describe()"
   ]
  },
  {
   "cell_type": "code",
   "execution_count": 22,
   "metadata": {
    "scrolled": true
   },
   "outputs": [
    {
     "name": "stdout",
     "output_type": "stream",
     "text": [
      "sensorPlacementTime:\n",
      "  mean diff = -2.600; stdev diff = 32.500\n",
      "  Paired t-test:\n",
      "    |diff| > 0: p = 0.881\n",
      "    diff < 0: p = 0.440\n",
      "    diff > 0: p = 0.560\n",
      "  Wilcoxon signed-rank test:\n",
      "    P(x > y) != 0.5: p = 0.715\n",
      "    P(x > y) < 0.5: p = 0.358\n",
      "    P(x > y) > 0.5: p = 0.642\n",
      "ppvStartTime:\n",
      "  mean diff = 3.600; stdev diff = 7.710\n",
      "  Paired t-test:\n",
      "    |diff| > 0: p = 0.403\n",
      "    diff < 0: p = 0.798\n",
      "    diff > 0: p = 0.202\n",
      "  Wilcoxon signed-rank test:\n",
      "    P(x > y) != 0.5: p = 0.279\n",
      "    P(x > y) < 0.5: p = 0.861\n",
      "   ~P(x > y) > 0.5: p = 0.139\n",
      "ccStartTime:\n",
      "  mean diff = 7.200; stdev diff = 20.566\n",
      "  Paired t-test:\n",
      "    |diff| > 0: p = 0.522\n",
      "    diff < 0: p = 0.739\n",
      "    diff > 0: p = 0.261\n",
      "  Wilcoxon signed-rank test:\n",
      "    P(x > y) != 0.5: p = 0.715\n",
      "    P(x > y) < 0.5: p = 0.642\n",
      "    P(x > y) > 0.5: p = 0.358\n",
      "inSpO2TargetRangeStartTime:\n",
      "  mean diff = -17.600; stdev diff = 34.209\n",
      "  Paired t-test:\n",
      "    |diff| > 0: p = 0.362\n",
      "   ~diff < 0: p = 0.181\n",
      "    diff > 0: p = 0.819\n",
      "  Wilcoxon signed-rank test:\n",
      "   ~P(x > y) != 0.5: p = 0.180\n",
      "   *P(x > y) < 0.5: p = 0.090\n",
      "    P(x > y) > 0.5: p = 0.910\n",
      "inSpO2TargetRangeDuration:\n",
      "  mean diff = 11.200; stdev diff = 14.621\n",
      "  Paired t-test:\n",
      "    |diff| > 0: p = 0.200\n",
      "    diff < 0: p = 0.900\n",
      "   ~diff > 0: p = 0.100\n",
      "  Wilcoxon signed-rank test:\n",
      "   ~P(x > y) != 0.5: p = 0.180\n",
      "    P(x > y) < 0.5: p = 0.910\n",
      "   *P(x > y) > 0.5: p = 0.090\n",
      "inSpO2LooseTargetRangeDuration:\n",
      "  mean diff = 14.800; stdev diff = 23.241\n",
      "  Paired t-test:\n",
      "    |diff| > 0: p = 0.272\n",
      "    diff < 0: p = 0.864\n",
      "   ~diff > 0: p = 0.136\n",
      "  Wilcoxon signed-rank test:\n",
      "   ~P(x > y) != 0.5: p = 0.180\n",
      "    P(x > y) < 0.5: p = 0.910\n",
      "   *P(x > y) > 0.5: p = 0.090\n",
      "aboveSpO2TargetRangeDuration:\n",
      "  mean diff = 0.000; stdev diff = 0.000\n",
      "    Skipped t-test.\n",
      "    Skipped Wilcoxon test.\n",
      "belowSpO2TargetRangeDuration:\n",
      "  mean diff = -12.000; stdev diff = 16.541\n",
      "  Paired t-test:\n",
      "    |diff| > 0: p = 0.220\n",
      "   ~diff < 0: p = 0.110\n",
      "    diff > 0: p = 0.890\n",
      "  Wilcoxon signed-rank test:\n",
      "   ~P(x > y) != 0.5: p = 0.180\n",
      "   *P(x > y) < 0.5: p = 0.090\n",
      "    P(x > y) > 0.5: p = 0.910\n",
      "inFiO2TargetRangeStartTime:\n",
      "  mean diff = -30.800; stdev diff = 51.312\n",
      "  Paired t-test:\n",
      "    |diff| > 0: p = 0.296\n",
      "   ~diff < 0: p = 0.148\n",
      "    diff > 0: p = 0.852\n",
      "  Wilcoxon signed-rank test:\n",
      "   ~P(x > y) != 0.5: p = 0.180\n",
      "   *P(x > y) < 0.5: p = 0.090\n",
      "    P(x > y) > 0.5: p = 0.910\n",
      "inFiO2TargetRangeDuration:\n",
      "  mean diff = 28.800; stdev diff = 38.917\n",
      "  Paired t-test:\n",
      "    |diff| > 0: p = 0.213\n",
      "    diff < 0: p = 0.894\n",
      "   ~diff > 0: p = 0.106\n",
      "  Wilcoxon signed-rank test:\n",
      "   ~P(x > y) != 0.5: p = 0.180\n",
      "    P(x > y) < 0.5: p = 0.910\n",
      "   *P(x > y) > 0.5: p = 0.090\n",
      "aboveFiO2TargetRangeDuration:\n",
      "  mean diff = 0.000; stdev diff = 0.000\n",
      "    Skipped t-test.\n",
      "    Skipped Wilcoxon test.\n",
      "belowFiO2TargetRangeDuration:\n",
      "  mean diff = -29.600; stdev diff = 40.346\n",
      "  Paired t-test:\n",
      "    |diff| > 0: p = 0.216\n",
      "   ~diff < 0: p = 0.108\n",
      "    diff > 0: p = 0.892\n",
      "  Wilcoxon signed-rank test:\n",
      "   ~P(x > y) != 0.5: p = 0.180\n",
      "   *P(x > y) < 0.5: p = 0.090\n",
      "    P(x > y) > 0.5: p = 0.910\n",
      "spO2SignedErrorIntegral:\n",
      "  mean diff = 6.005; stdev diff = 9.662\n",
      "  Paired t-test:\n",
      "    |diff| > 0: p = 0.282\n",
      "    diff < 0: p = 0.859\n",
      "   ~diff > 0: p = 0.141\n",
      "  Wilcoxon signed-rank test:\n",
      "    P(x > y) != 0.5: p = 0.225\n",
      "    P(x > y) < 0.5: p = 0.888\n",
      "   ~P(x > y) > 0.5: p = 0.112\n",
      "spO2UnsignedErrorIntegral:\n",
      "  mean diff = -6.005; stdev diff = 9.662\n",
      "  Paired t-test:\n",
      "    |diff| > 0: p = 0.282\n",
      "   ~diff < 0: p = 0.141\n",
      "    diff > 0: p = 0.859\n",
      "  Wilcoxon signed-rank test:\n",
      "    P(x > y) != 0.5: p = 0.225\n",
      "   ~P(x > y) < 0.5: p = 0.112\n",
      "    P(x > y) > 0.5: p = 0.888\n",
      "spO2SquaredErrorIntegral:\n",
      "  mean diff = -1.945; stdev diff = 3.558\n",
      "  Paired t-test:\n",
      "    |diff| > 0: p = 0.336\n",
      "   ~diff < 0: p = 0.168\n",
      "    diff > 0: p = 0.832\n",
      "  Wilcoxon signed-rank test:\n",
      "    P(x > y) != 0.5: p = 0.345\n",
      "   ~P(x > y) < 0.5: p = 0.173\n",
      "    P(x > y) > 0.5: p = 0.827\n",
      "fiO2LargeAdjustments:\n",
      "  mean diff = -0.600; stdev diff = 1.020\n",
      "  Paired t-test:\n",
      "    |diff| > 0: p = 0.305\n",
      "   ~diff < 0: p = 0.152\n",
      "    diff > 0: p = 0.848\n",
      "  Wilcoxon signed-rank test:\n",
      "    P(x > y) != 0.5: p = 0.257\n",
      "   ~P(x > y) < 0.5: p = 0.128\n",
      "    P(x > y) > 0.5: p = 0.872\n"
     ]
    },
    {
     "name": "stderr",
     "output_type": "stream",
     "text": [
      "/usr/local/lib/python3.5/dist-packages/scipy/stats/morestats.py:2385: UserWarning: Warning: sample size too small for normal approximation.\n",
      "  warnings.warn(\"Warning: sample size too small for normal approximation.\")\n",
      "/usr/local/lib/python3.5/dist-packages/scipy/stats/morestats.py:2410: RuntimeWarning: invalid value encountered in double_scalars\n",
      "  z = (T - mn - correction) / se\n"
     ]
    }
   ],
   "source": [
    "statistics.test_tracing_outcomes(duration_display_pairings[1])"
   ]
  },
  {
   "cell_type": "markdown",
   "metadata": {},
   "source": [
    "Observations:\n",
    "\n",
    "* As before, we ignore the Wilcoxon signed-rank tests.\n",
    "* No significant differences between old and new display."
   ]
  },
  {
   "cell_type": "markdown",
   "metadata": {},
   "source": [
    "#### Summary\n",
    "\n",
    "* The top 5 participants who spent the most time within +/- 5 percentage points of the SpO2 target range on the hard scenario started PPV significantly earlier. No other differences."
   ]
  },
  {
   "cell_type": "markdown",
   "metadata": {},
   "source": [
    "### Accumulated Absolute Error Stratification, Easy"
   ]
  },
  {
   "cell_type": "code",
   "execution_count": 23,
   "metadata": {},
   "outputs": [
    {
     "name": "stdout",
     "output_type": "stream",
     "text": [
      "Pairing against spO2LooseTargetDuration:\n",
      "  0: highest vs. 1: lowest\n",
      "  10 0 vs. 1 pairs.\n"
     ]
    }
   ],
   "source": [
    "duration_stratification = statistics.build_stratification(scenario_split.dfs[0], 'spO2LooseTargetDuration', ['highest', 'lowest'], masks[0])\n",
    "duration_stratification.describe(tests=False)"
   ]
  },
  {
   "cell_type": "code",
   "execution_count": 24,
   "metadata": {},
   "outputs": [],
   "source": [
    "duration_display_pairings = [\n",
    "    statistics.build_pairing(df, 'displayType')\n",
    "    for df in duration_stratification.dfs\n",
    "]"
   ]
  },
  {
   "cell_type": "markdown",
   "metadata": {},
   "source": [
    "#### Highest Durations"
   ]
  },
  {
   "cell_type": "code",
   "execution_count": 25,
   "metadata": {
    "scrolled": true
   },
   "outputs": [
    {
     "name": "stdout",
     "output_type": "stream",
     "text": [
      "Pairing against displayType:\n",
      "  0: minimal vs. 1: full\n",
      "  5 0 vs. 1 pairs.\n",
      "  Paired t-test alternative hypotheses:\n",
      "    Ha left-tailed (diff < 0): mean 0 - mean 1 < 0\n",
      "    Ha two-tailed (|diff| > 0): mean 0 - mean 1 != 0\n",
      "    Ha right-tailed (diff > 0): mean 0 - mean 1 > 0\n",
      "  Wilcoxon signed-rank alternative hypotheses:\n",
      "    Ha left-tailed (P(x > y) < 0.5)\n",
      "    Ha two-tailed (P(x > y) != 0.5)\n",
      "    Ha right-tailed (P(x > y) > 0.5)\n"
     ]
    }
   ],
   "source": [
    "duration_display_pairings[0].describe()"
   ]
  },
  {
   "cell_type": "code",
   "execution_count": 26,
   "metadata": {
    "scrolled": true
   },
   "outputs": [
    {
     "name": "stdout",
     "output_type": "stream",
     "text": [
      "sensorPlacementTime:\n",
      "  mean diff = -19.200; stdev diff = 13.452\n",
      "  Paired t-test:\n",
      "  **|diff| > 0: p = 0.046\n",
      "  **diff < 0: p = 0.023\n",
      "    diff > 0: p = 0.977\n",
      "  Wilcoxon signed-rank test:\n",
      "   *P(x > y) != 0.5: p = 0.080\n",
      "  **P(x > y) < 0.5: p = 0.040\n",
      "    P(x > y) > 0.5: p = 0.960\n",
      "ppvStartTime:\n",
      "  mean diff = -19.400; stdev diff = 19.704\n",
      "  Paired t-test:\n",
      "   ~|diff| > 0: p = 0.120\n",
      "   *diff < 0: p = 0.060\n",
      "    diff > 0: p = 0.940\n",
      "  Wilcoxon signed-rank test:\n",
      "   ~P(x > y) != 0.5: p = 0.138\n",
      "   *P(x > y) < 0.5: p = 0.069\n",
      "    P(x > y) > 0.5: p = 0.931\n",
      "ccStartTime:\n",
      "  mean diff = 0.000; stdev diff = 0.000\n",
      "    Skipped t-test.\n",
      "    Skipped Wilcoxon test.\n",
      "inSpO2TargetRangeStartTime:\n",
      "  mean diff = -30.000; stdev diff = 20.239\n",
      "  Paired t-test:\n",
      "  **|diff| > 0: p = 0.041\n",
      "  **diff < 0: p = 0.021\n",
      "    diff > 0: p = 0.979\n",
      "  Wilcoxon signed-rank test:\n",
      "  **P(x > y) != 0.5: p = 0.043\n",
      "  **P(x > y) < 0.5: p = 0.022\n",
      "    P(x > y) > 0.5: p = 0.978\n",
      "inSpO2TargetRangeDuration:\n",
      "  mean diff = 25.200; stdev diff = 37.621\n",
      "  Paired t-test:\n",
      "    |diff| > 0: p = 0.251\n",
      "    diff < 0: p = 0.874\n",
      "   ~diff > 0: p = 0.126\n",
      "  Wilcoxon signed-rank test:\n",
      "    P(x > y) != 0.5: p = 0.225\n",
      "    P(x > y) < 0.5: p = 0.888\n",
      "   ~P(x > y) > 0.5: p = 0.112\n",
      "inSpO2LooseTargetRangeDuration:\n",
      "  mean diff = 26.800; stdev diff = 34.999\n",
      "  Paired t-test:\n",
      "    |diff| > 0: p = 0.200\n",
      "    diff < 0: p = 0.900\n",
      "   ~diff > 0: p = 0.100\n",
      "  Wilcoxon signed-rank test:\n",
      "   ~P(x > y) != 0.5: p = 0.176\n",
      "    P(x > y) < 0.5: p = 0.912\n",
      "   *P(x > y) > 0.5: p = 0.088\n",
      "aboveSpO2TargetRangeDuration:\n",
      "  mean diff = -12.800; stdev diff = 12.172\n",
      "  Paired t-test:\n",
      "   ~|diff| > 0: p = 0.103\n",
      "   *diff < 0: p = 0.052\n",
      "    diff > 0: p = 0.948\n",
      "  Wilcoxon signed-rank test:\n",
      "   *P(x > y) != 0.5: p = 0.068\n",
      "  **P(x > y) < 0.5: p = 0.034\n",
      "    P(x > y) > 0.5: p = 0.966\n",
      "belowSpO2TargetRangeDuration:\n",
      "  mean diff = -16.000; stdev diff = 29.038\n",
      "  Paired t-test:\n",
      "    |diff| > 0: p = 0.332\n",
      "   ~diff < 0: p = 0.166\n",
      "    diff > 0: p = 0.834\n",
      "  Wilcoxon signed-rank test:\n",
      "    P(x > y) != 0.5: p = 0.345\n",
      "   ~P(x > y) < 0.5: p = 0.173\n",
      "    P(x > y) > 0.5: p = 0.827\n",
      "inFiO2TargetRangeStartTime:\n",
      "  mean diff = -80.000; stdev diff = 69.455\n",
      "  Paired t-test:\n",
      "   *|diff| > 0: p = 0.083\n",
      "  **diff < 0: p = 0.041\n",
      "    diff > 0: p = 0.959\n",
      "  Wilcoxon signed-rank test:\n",
      "  **P(x > y) != 0.5: p = 0.043\n",
      "  **P(x > y) < 0.5: p = 0.022\n",
      "    P(x > y) > 0.5: p = 0.978\n",
      "inFiO2TargetRangeDuration:\n",
      "  mean diff = 22.800; stdev diff = 44.084\n",
      "  Paired t-test:\n",
      "    |diff| > 0: p = 0.359\n",
      "    diff < 0: p = 0.820\n",
      "   ~diff > 0: p = 0.180\n",
      "  Wilcoxon signed-rank test:\n",
      "    P(x > y) != 0.5: p = 0.279\n",
      "    P(x > y) < 0.5: p = 0.861\n",
      "   ~P(x > y) > 0.5: p = 0.139\n",
      "aboveFiO2TargetRangeDuration:\n",
      "  mean diff = -1.200; stdev diff = 27.440\n",
      "  Paired t-test:\n",
      "    |diff| > 0: p = 0.935\n",
      "    diff < 0: p = 0.467\n",
      "    diff > 0: p = 0.533\n",
      "  Wilcoxon signed-rank test:\n",
      "    P(x > y) != 0.5: p = 0.686\n",
      "    P(x > y) < 0.5: p = 0.343\n",
      "    P(x > y) > 0.5: p = 0.657\n",
      "belowFiO2TargetRangeDuration:\n",
      "  mean diff = -22.800; stdev diff = 22.004\n",
      "  Paired t-test:\n",
      "   ~|diff| > 0: p = 0.107\n",
      "   *diff < 0: p = 0.053\n",
      "    diff > 0: p = 0.947\n",
      "  Wilcoxon signed-rank test:"
     ]
    },
    {
     "name": "stderr",
     "output_type": "stream",
     "text": [
      "/usr/local/lib/python3.5/dist-packages/scipy/stats/morestats.py:2385: UserWarning: Warning: sample size too small for normal approximation.\n",
      "  warnings.warn(\"Warning: sample size too small for normal approximation.\")\n",
      "/usr/local/lib/python3.5/dist-packages/scipy/stats/morestats.py:2410: RuntimeWarning: invalid value encountered in double_scalars\n",
      "  z = (T - mn - correction) / se\n"
     ]
    },
    {
     "name": "stdout",
     "output_type": "stream",
     "text": [
      "\n",
      "   ~P(x > y) != 0.5: p = 0.138\n",
      "   *P(x > y) < 0.5: p = 0.069\n",
      "    P(x > y) > 0.5: p = 0.931\n",
      "spO2SignedErrorIntegral:\n",
      "  mean diff = 1.612; stdev diff = 3.608\n",
      "  Paired t-test:\n",
      "    |diff| > 0: p = 0.422\n",
      "    diff < 0: p = 0.789\n",
      "    diff > 0: p = 0.211\n",
      "  Wilcoxon signed-rank test:\n",
      "    P(x > y) != 0.5: p = 0.345\n",
      "    P(x > y) < 0.5: p = 0.827\n",
      "   ~P(x > y) > 0.5: p = 0.173\n",
      "spO2UnsignedErrorIntegral:\n",
      "  mean diff = -3.112; stdev diff = 4.536\n",
      "  Paired t-test:\n",
      "    |diff| > 0: p = 0.242\n",
      "   ~diff < 0: p = 0.121\n",
      "    diff > 0: p = 0.879\n",
      "  Wilcoxon signed-rank test:\n",
      "    P(x > y) != 0.5: p = 0.225\n",
      "   ~P(x > y) < 0.5: p = 0.112\n",
      "    P(x > y) > 0.5: p = 0.888\n",
      "spO2SquaredErrorIntegral:\n",
      "  mean diff = -0.305; stdev diff = 0.608\n",
      "  Paired t-test:\n",
      "    |diff| > 0: p = 0.372\n",
      "   ~diff < 0: p = 0.186\n",
      "    diff > 0: p = 0.814\n",
      "  Wilcoxon signed-rank test:\n",
      "    P(x > y) != 0.5: p = 0.345\n",
      "   ~P(x > y) < 0.5: p = 0.173\n",
      "    P(x > y) > 0.5: p = 0.827\n",
      "fiO2LargeAdjustments:\n",
      "  mean diff = 0.800; stdev diff = 0.980\n",
      "  Paired t-test:\n",
      "   ~|diff| > 0: p = 0.178\n",
      "    diff < 0: p = 0.911\n",
      "   *diff > 0: p = 0.089\n",
      "  Wilcoxon signed-rank test:\n",
      "   ~P(x > y) != 0.5: p = 0.157\n",
      "    P(x > y) < 0.5: p = 0.921\n",
      "   *P(x > y) > 0.5: p = 0.079\n"
     ]
    }
   ],
   "source": [
    "statistics.test_tracing_outcomes(duration_display_pairings[0])"
   ]
  },
  {
   "cell_type": "markdown",
   "metadata": {},
   "source": [
    "Observations:\n",
    "\n",
    "* As before, we ignore the Wilcoxon tests.\n",
    "* With the new display, participants place the sensor significantly later, start PPV maybe significantly later, enter the SpO2 and FiO2 target ranges significantly later, and are above the SpO2 target range maybe significantly less of the time."
   ]
  },
  {
   "cell_type": "markdown",
   "metadata": {},
   "source": [
    "#### Lowest Durations"
   ]
  },
  {
   "cell_type": "code",
   "execution_count": 27,
   "metadata": {
    "scrolled": true
   },
   "outputs": [
    {
     "name": "stdout",
     "output_type": "stream",
     "text": [
      "Pairing against displayType:\n",
      "  0: minimal vs. 1: full\n",
      "  5 0 vs. 1 pairs.\n",
      "  Paired t-test alternative hypotheses:\n",
      "    Ha left-tailed (diff < 0): mean 0 - mean 1 < 0\n",
      "    Ha two-tailed (|diff| > 0): mean 0 - mean 1 != 0\n",
      "    Ha right-tailed (diff > 0): mean 0 - mean 1 > 0\n",
      "  Wilcoxon signed-rank alternative hypotheses:\n",
      "    Ha left-tailed (P(x > y) < 0.5)\n",
      "    Ha two-tailed (P(x > y) != 0.5)\n",
      "    Ha right-tailed (P(x > y) > 0.5)\n"
     ]
    }
   ],
   "source": [
    "duration_display_pairings[1].describe()"
   ]
  },
  {
   "cell_type": "code",
   "execution_count": 28,
   "metadata": {
    "scrolled": true
   },
   "outputs": [
    {
     "name": "stdout",
     "output_type": "stream",
     "text": [
      "sensorPlacementTime:\n",
      "  mean diff = 0.800; stdev diff = 34.371\n",
      "  Paired t-test:\n",
      "    |diff| > 0: p = 0.965\n",
      "    diff < 0: p = 0.517\n",
      "    diff > 0: p = 0.483\n",
      "  Wilcoxon signed-rank test:\n",
      "    P(x > y) != 0.5: p = 0.893\n",
      "    P(x > y) < 0.5: p = 0.554\n",
      "    P(x > y) > 0.5: p = 0.446\n",
      "ppvStartTime:\n",
      "  mean diff = 3.800; stdev diff = 13.497\n",
      "  Paired t-test:\n",
      "    |diff| > 0: p = 0.603\n",
      "    diff < 0: p = 0.698\n",
      "    diff > 0: p = 0.302\n",
      "  Wilcoxon signed-rank test:\n",
      "    P(x > y) != 0.5: p = 0.686\n",
      "    P(x > y) < 0.5: p = 0.657\n",
      "    P(x > y) > 0.5: p = 0.343\n",
      "ccStartTime:\n",
      "  mean diff = 0.000; stdev diff = 0.000\n",
      "    Skipped t-test.\n",
      "    Skipped Wilcoxon test.\n",
      "inSpO2TargetRangeStartTime:\n",
      "  mean diff = 51.200; stdev diff = 80.046\n",
      "  Paired t-test:\n",
      "    |diff| > 0: p = 0.270\n",
      "    diff < 0: p = 0.865\n",
      "   ~diff > 0: p = 0.135\n",
      "  Wilcoxon signed-rank test:\n",
      "    P(x > y) != 0.5: p = 0.273\n",
      "    P(x > y) < 0.5: p = 0.863\n",
      "   ~P(x > y) > 0.5: p = 0.137\n",
      "inSpO2TargetRangeDuration:\n",
      "  mean diff = -25.200; stdev diff = 21.674\n",
      "  Paired t-test:\n",
      "   *|diff| > 0: p = 0.081\n",
      "  **diff < 0: p = 0.040\n",
      "    diff > 0: p = 0.960\n",
      "  Wilcoxon signed-rank test:\n",
      "   *P(x > y) != 0.5: p = 0.068\n",
      "  **P(x > y) < 0.5: p = 0.034\n",
      "    P(x > y) > 0.5: p = 0.966\n",
      "inSpO2LooseTargetRangeDuration:\n",
      "  mean diff = -48.400; stdev diff = 45.350\n",
      "  Paired t-test:\n",
      "   *|diff| > 0: p = 0.100\n",
      "  **diff < 0: p = 0.050\n",
      "    diff > 0: p = 0.950\n",
      "  Wilcoxon signed-rank test:\n",
      "   *P(x > y) != 0.5: p = 0.068\n",
      "  **P(x > y) < 0.5: p = 0.034\n",
      "    P(x > y) > 0.5: p = 0.966\n",
      "aboveSpO2TargetRangeDuration:\n",
      "  mean diff = -29.600; stdev diff = 62.730\n",
      "  Paired t-test:\n",
      "    |diff| > 0: p = 0.399\n",
      "   ~diff < 0: p = 0.199\n",
      "    diff > 0: p = 0.801\n",
      "  Wilcoxon signed-rank test:\n",
      "    P(x > y) != 0.5: p = 0.465\n",
      "    P(x > y) < 0.5: p = 0.233\n",
      "    P(x > y) > 0.5: p = 0.767\n",
      "belowSpO2TargetRangeDuration:\n",
      "  mean diff = 55.200; stdev diff = 54.825\n",
      "  Paired t-test:\n",
      "   ~|diff| > 0: p = 0.114\n",
      "    diff < 0: p = 0.943\n",
      "   *diff > 0: p = 0.057\n",
      "  Wilcoxon signed-rank test:\n",
      "   *P(x > y) != 0.5: p = 0.068\n",
      "    P(x > y) < 0.5: p = 0.966\n",
      "  **P(x > y) > 0.5: p = 0.034\n",
      "inFiO2TargetRangeStartTime:\n",
      "  mean diff = 30.000; stdev diff = 68.492\n",
      "  Paired t-test:\n",
      "    |diff| > 0: p = 0.430\n",
      "    diff < 0: p = 0.785\n",
      "    diff > 0: p = 0.215\n",
      "  Wilcoxon signed-rank test:\n",
      "    P(x > y) != 0.5: p = 0.593\n",
      "    P(x > y) < 0.5: p = 0.704\n",
      "    P(x > y) > 0.5: p = 0.296\n",
      "inFiO2TargetRangeDuration:\n",
      "  mean diff = -27.200; stdev diff = 28.414\n",
      "  Paired t-test:\n",
      "   ~|diff| > 0: p = 0.128\n",
      "   *diff < 0: p = 0.064\n",
      "    diff > 0: p = 0.936\n",
      "  Wilcoxon signed-rank test:\n",
      "   ~P(x > y) != 0.5: p = 0.109\n",
      "   *P(x > y) < 0.5: p = 0.054\n",
      "    P(x > y) > 0.5: p = 0.946\n",
      "aboveFiO2TargetRangeDuration:\n",
      "  mean diff = -17.600; stdev diff = 67.497\n",
      "  Paired t-test:\n",
      "    |diff| > 0: p = 0.630\n",
      "    diff < 0: p = 0.315\n",
      "    diff > 0: p = 0.685\n",
      "  Wilcoxon signed-rank test:\n",
      "    P(x > y) != 0.5: p = 0.893\n",
      "    P(x > y) < 0.5: p = 0.446\n",
      "    P(x > y) > 0.5: p = 0.554"
     ]
    },
    {
     "name": "stderr",
     "output_type": "stream",
     "text": [
      "/usr/local/lib/python3.5/dist-packages/scipy/stats/morestats.py:2385: UserWarning: Warning: sample size too small for normal approximation.\n",
      "  warnings.warn(\"Warning: sample size too small for normal approximation.\")\n",
      "/usr/local/lib/python3.5/dist-packages/scipy/stats/morestats.py:2410: RuntimeWarning: invalid value encountered in double_scalars\n",
      "  z = (T - mn - correction) / se\n"
     ]
    },
    {
     "name": "stdout",
     "output_type": "stream",
     "text": [
      "\n",
      "belowFiO2TargetRangeDuration:\n",
      "  mean diff = 44.000; stdev diff = 47.850\n",
      "  Paired t-test:\n",
      "   ~|diff| > 0: p = 0.140\n",
      "    diff < 0: p = 0.930\n",
      "   *diff > 0: p = 0.070\n",
      "  Wilcoxon signed-rank test:\n",
      "   ~P(x > y) != 0.5: p = 0.144\n",
      "    P(x > y) < 0.5: p = 0.928\n",
      "   *P(x > y) > 0.5: p = 0.072\n",
      "spO2SignedErrorIntegral:\n",
      "  mean diff = -11.045; stdev diff = 13.275\n",
      "  Paired t-test:\n",
      "   ~|diff| > 0: p = 0.171\n",
      "   *diff < 0: p = 0.086\n",
      "    diff > 0: p = 0.914\n",
      "  Wilcoxon signed-rank test:\n",
      "   *P(x > y) != 0.5: p = 0.068\n",
      "  **P(x > y) < 0.5: p = 0.034\n",
      "    P(x > y) > 0.5: p = 0.966\n",
      "spO2UnsignedErrorIntegral:\n",
      "  mean diff = 8.334; stdev diff = 7.978\n",
      "  Paired t-test:\n",
      "   ~|diff| > 0: p = 0.105\n",
      "    diff < 0: p = 0.948\n",
      "   *diff > 0: p = 0.052\n",
      "  Wilcoxon signed-rank test:\n",
      "   *P(x > y) != 0.5: p = 0.068\n",
      "    P(x > y) < 0.5: p = 0.966\n",
      "  **P(x > y) > 0.5: p = 0.034\n",
      "spO2SquaredErrorIntegral:\n",
      "  mean diff = 1.582; stdev diff = 1.712\n",
      "  Paired t-test:\n",
      "   ~|diff| > 0: p = 0.138\n",
      "    diff < 0: p = 0.931\n",
      "   *diff > 0: p = 0.069\n",
      "  Wilcoxon signed-rank test:\n",
      "   *P(x > y) != 0.5: p = 0.068\n",
      "    P(x > y) < 0.5: p = 0.966\n",
      "  **P(x > y) > 0.5: p = 0.034\n",
      "fiO2LargeAdjustments:\n",
      "  mean diff = 0.400; stdev diff = 2.417\n",
      "  Paired t-test:\n",
      "    |diff| > 0: p = 0.757\n",
      "    diff < 0: p = 0.621\n",
      "    diff > 0: p = 0.379\n",
      "  Wilcoxon signed-rank test:\n",
      "    P(x > y) != 0.5: p = 1.000\n",
      "    P(x > y) < 0.5: p = 0.500\n",
      "    P(x > y) > 0.5: p = 0.500\n"
     ]
    }
   ],
   "source": [
    "statistics.test_tracing_outcomes(duration_display_pairings[1])"
   ]
  },
  {
   "cell_type": "markdown",
   "metadata": {},
   "source": [
    "Observations:\n",
    "\n",
    "* As before, we ignore the Wilcoxon signed-rank tests.\n",
    "* With the new display, participants spend significantly more time in the SpO2 target range and accumulate maybe significantly less total absolute SpO2 error."
   ]
  },
  {
   "cell_type": "markdown",
   "metadata": {},
   "source": [
    "#### Summary\n",
    "\n",
    "* For the top 5 and bottom 5 participants on the hard scenario (selected by duration within +/- 5 percentage points of the target SpO2 range), the display did not seem to significantly help or hinder them.\n",
    "* The top 5 participants who spent the most time within +/- 5 percentage points of the target SpO2 range on the hard scenario weren't significantly helped by the display (and in fact entered the SpO2 and FiO2 target ranges significantly later), but the bottom 5 participants who accumulated the highest SpO2 errors on the hard scenario were significantly helped by the display."
   ]
  }
 ],
 "metadata": {
  "kernelspec": {
   "display_name": "Python 3",
   "language": "python",
   "name": "python3"
  },
  "language_info": {
   "codemirror_mode": {
    "name": "ipython",
    "version": 3
   },
   "file_extension": ".py",
   "mimetype": "text/x-python",
   "name": "python",
   "nbconvert_exporter": "python",
   "pygments_lexer": "ipython3",
   "version": "3.5.2"
  }
 },
 "nbformat": 4,
 "nbformat_minor": 2
}
