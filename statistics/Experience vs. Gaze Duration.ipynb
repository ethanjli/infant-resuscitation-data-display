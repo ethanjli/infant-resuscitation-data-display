{
 "cells": [
  {
   "cell_type": "markdown",
   "metadata": {},
   "source": [
    "# Imports"
   ]
  },
  {
   "cell_type": "code",
   "execution_count": 1,
   "metadata": {},
   "outputs": [],
   "source": [
    "%matplotlib inline\n",
    "%load_ext autoreload\n",
    "%autoreload 2\n",
    "\n",
    "import scipy as sp\n",
    "from scipy import stats\n",
    "import numpy as np\n",
    "import pandas as pd\n",
    "\n",
    "import statistics"
   ]
  },
  {
   "cell_type": "markdown",
   "metadata": {},
   "source": [
    "# Load Data"
   ]
  },
  {
   "cell_type": "code",
   "execution_count": 2,
   "metadata": {
    "scrolled": true
   },
   "outputs": [
    {
     "data": {
      "text/plain": [
       "Index(['id', 'subjectNumber', 'scenarioNumber', 'newAfterOld', 'scenarioType',\n",
       "       'displayType', 'sensorPlacementTime', 'ppvStartTime', 'ccStartTime',\n",
       "       'inSpO2TargetRangeDuration', 'inSpO2LooseTargetRangeDuration',\n",
       "       'inSpO2TargetRangeStartTime', 'aboveSpO2TargetRangeDuration',\n",
       "       'belowSpO2TargetRangeDuration', 'inFiO2TargetRangeDuration',\n",
       "       'inFiO2TargetRangeStartTime', 'aboveFiO2TargetRangeDuration',\n",
       "       'belowFiO2TargetRangeDuration', 'spO2SignedErrorIntegral',\n",
       "       'spO2UnsignedErrorIntegral', 'spO2SquaredErrorIntegral',\n",
       "       'fiO2LargeAdjustments', 'code', 'education', 'cumulativeNICU',\n",
       "       'resusLD', 'resusLDnonzero', 'cumulativeNICU5', 'cumulativeNICU10',\n",
       "       'cumulativeNICU13', 'resusLD20', 'visitDuration_fiO2Dial',\n",
       "       'visitDuration_infant', 'visitDuration_monitorApgarTimer',\n",
       "       'visitDuration_monitorBlank', 'visitDuration_monitorFiO2',\n",
       "       'visitDuration_monitorFull', 'visitDuration_monitorGraph',\n",
       "       'visitDuration_monitorHeartRate', 'visitDuration_monitorSpO2',\n",
       "       'visitDuration_spO2ReferenceTable',\n",
       "       'visitDuration_warmerInstrumentPanel', 'visitDuration_combinedFiO2',\n",
       "       'visitDuration_combinedSpO2', 'visitCount_fiO2Dial',\n",
       "       'visitCount_infant', 'visitCount_monitorApgarTimer',\n",
       "       'visitCount_monitorBlank', 'visitCount_monitorFiO2',\n",
       "       'visitCount_monitorFull', 'visitCount_monitorGraph',\n",
       "       'visitCount_monitorHeartRate', 'visitCount_monitorSpO2',\n",
       "       'visitCount_spO2ReferenceTable', 'visitCount_warmerInstrumentPanel',\n",
       "       'visitCount_combinedFiO2', 'visitCount_combinedSpO2'],\n",
       "      dtype='object')"
      ]
     },
     "execution_count": 2,
     "metadata": {},
     "output_type": "execute_result"
    }
   ],
   "source": [
    "demo_df = statistics.load_demographic_features()\n",
    "statistics.compute_demo_features(demo_df)\n",
    "tracing_df = statistics.load_tracing_features(sort='order')\n",
    "recording_df = statistics.load_recording_relations()\n",
    "recording_df = statistics.associate_recordings(recording_df, tracing_df, demo_df)\n",
    "gaze_dfs = statistics.load_gaze_features()\n",
    "statistics.check_gaze_recording_associations(recording_df, gaze_dfs)\n",
    "statistics.compute_gaze_features(gaze_dfs)\n",
    "gaze_df = statistics.combine_gaze_features(gaze_dfs)\n",
    "full_df = statistics.combine_all_features(recording_df, gaze_df)\n",
    "full_df.columns"
   ]
  },
  {
   "cell_type": "markdown",
   "metadata": {},
   "source": [
    "### Scenario Type Split"
   ]
  },
  {
   "cell_type": "code",
   "execution_count": 3,
   "metadata": {},
   "outputs": [
    {
     "name": "stdout",
     "output_type": "stream",
     "text": [
      "Pairing against scenarioType:\n",
      "  0: easy vs. 1: hard\n",
      "  30 0 examples vs. 34 1 examples.\n",
      "  Paired t-test alternative hypotheses:\n",
      "    Ha left-tailed (diff < 0): mean 0 - mean 1 < 0\n",
      "    Ha two-tailed (|diff| > 0): mean 0 - mean 1 != 0\n",
      "    Ha right-tailed (diff > 0): mean 0 - mean 1 > 0\n"
     ]
    }
   ],
   "source": [
    "scenario_split = statistics.build_pairing(\n",
    "    full_df, 'scenarioType',\n",
    "    intersect_subjects=False, check_validity=False\n",
    ")\n",
    "scenario_split.describe()"
   ]
  },
  {
   "cell_type": "markdown",
   "metadata": {},
   "source": [
    "## Led resuscitations in L&D in past year?"
   ]
  },
  {
   "cell_type": "markdown",
   "metadata": {},
   "source": [
    "### Combined scenarios"
   ]
  },
  {
   "cell_type": "code",
   "execution_count": 4,
   "metadata": {},
   "outputs": [
    {
     "name": "stdout",
     "output_type": "stream",
     "text": [
      "8 0 and 9 1\n",
      "Pairing against resusLDnonzero:\n",
      "  0: noLDResusPastYear vs. 1: LDResusPastYear\n",
      "  32 0 examples vs. 28 1 examples.\n",
      "  Paired t-test alternative hypotheses:\n",
      "    Ha left-tailed (diff < 0): mean 0 - mean 1 < 0\n",
      "    Ha two-tailed (|diff| > 0): mean 0 - mean 1 != 0\n",
      "    Ha right-tailed (diff > 0): mean 0 - mean 1 > 0\n"
     ]
    }
   ],
   "source": [
    "resusLD_pairing = statistics.build_pairing(\n",
    "    full_df, 'resusLDnonzero',\n",
    "    intersect_subjects=False, check_validity=False\n",
    ")\n",
    "print('{} 0 and {} 1'.format(\n",
    "    len(resusLD_pairing[0].subjectNumber.unique()),\n",
    "    len(resusLD_pairing[1].subjectNumber.unique())\n",
    "))\n",
    "resusLD_pairing.describe()"
   ]
  },
  {
   "cell_type": "code",
   "execution_count": 5,
   "metadata": {
    "scrolled": true
   },
   "outputs": [
    {
     "name": "stdout",
     "output_type": "stream",
     "text": [
      "visitDuration_infant:\n",
      "  mean 0 = 73.204; mean 1 = 44.537\n",
      "  Independent t-test:\n",
      "  **|diff| > 0: p = 0.002\n",
      "    diff < 0: p = 0.999\n",
      "  **diff > 0: p = 0.001\n",
      "visitDuration_warmerInstrumentPanel:\n",
      "  mean 0 = 11.788; mean 1 = 19.086\n",
      "  Independent t-test:\n",
      "  **|diff| > 0: p = 0.047\n",
      "  **diff < 0: p = 0.023\n",
      "    diff > 0: p = 0.977\n",
      "visitDuration_fiO2Dial:\n",
      "  mean 0 = 5.921; mean 1 = 5.763\n",
      "  Independent t-test:\n",
      "    |diff| > 0: p = 0.886\n",
      "    diff < 0: p = 0.557\n",
      "    diff > 0: p = 0.443\n",
      "visitDuration_spO2ReferenceTable:\n",
      "  mean 0 = 4.911; mean 1 = 4.660\n",
      "  Independent t-test:\n",
      "    |diff| > 0: p = 0.860\n",
      "    diff < 0: p = 0.570\n",
      "    diff > 0: p = 0.430\n",
      "visitDuration_monitorFull:\n",
      "  mean 0 = 88.078; mean 1 = 111.314\n",
      "  Independent t-test:\n",
      "  **|diff| > 0: p = 0.002\n",
      "  **diff < 0: p = 0.001\n",
      "    diff > 0: p = 0.999\n",
      "visitDuration_monitorBlank:\n",
      "  mean 0 = 11.465; mean 1 = 9.107\n",
      "  Independent t-test:\n",
      "    |diff| > 0: p = 0.363\n",
      "    diff < 0: p = 0.819\n",
      "   ~diff > 0: p = 0.181\n",
      "visitDuration_monitorApgarTimer:\n",
      "  mean 0 = 6.060; mean 1 = 14.725\n",
      "  Independent t-test:\n",
      "  **|diff| > 0: p = 0.002\n",
      "  **diff < 0: p = 0.001\n",
      "    diff > 0: p = 0.999\n",
      "visitDuration_monitorHeartRate:\n",
      "  mean 0 = 19.421; mean 1 = 24.635\n",
      "  Independent t-test:\n",
      "   ~|diff| > 0: p = 0.131\n",
      "   *diff < 0: p = 0.065\n",
      "    diff > 0: p = 0.935\n",
      "visitDuration_monitorSpO2:\n",
      "  mean 0 = 27.352; mean 1 = 27.636\n",
      "  Independent t-test:\n",
      "    |diff| > 0: p = 0.952\n",
      "    diff < 0: p = 0.476\n",
      "    diff > 0: p = 0.524\n",
      "visitDuration_combinedFiO2:\n",
      "  mean 0 = 10.250; mean 1 = 12.069\n",
      "  Independent t-test:\n",
      "    |diff| > 0: p = 0.372\n",
      "   ~diff < 0: p = 0.186\n",
      "    diff > 0: p = 0.814\n",
      "visitDuration_combinedSpO2:\n",
      "  mean 0 = 41.446; mean 1 = 45.731\n",
      "  Independent t-test:\n",
      "    |diff| > 0: p = 0.477\n",
      "    diff < 0: p = 0.238\n",
      "    diff > 0: p = 0.762\n"
     ]
    }
   ],
   "source": [
    "statistics.test_gaze_duration_outcomes(resusLD_pairing, paired=False)"
   ]
  },
  {
   "cell_type": "markdown",
   "metadata": {},
   "source": [
    "Observations:\n",
    "\n",
    "* Subjects who have led a resuscitation in L&D in the past year look at the infant less, the instrument panel more, the monitor more, the apgar timer more, and the heart rate maye more."
   ]
  },
  {
   "cell_type": "markdown",
   "metadata": {},
   "source": [
    "### Easy Scenarios"
   ]
  },
  {
   "cell_type": "code",
   "execution_count": 6,
   "metadata": {
    "scrolled": true
   },
   "outputs": [
    {
     "name": "stdout",
     "output_type": "stream",
     "text": [
      "Pairing against resusLDnonzero:\n",
      "  0: noLDResusPastYear vs. 1: LDResusPastYear\n",
      "  16 0 examples vs. 12 1 examples.\n",
      "  Paired t-test alternative hypotheses:\n",
      "    Ha left-tailed (diff < 0): mean 0 - mean 1 < 0\n",
      "    Ha two-tailed (|diff| > 0): mean 0 - mean 1 != 0\n",
      "    Ha right-tailed (diff > 0): mean 0 - mean 1 > 0\n"
     ]
    }
   ],
   "source": [
    "resusLD_easy_pairing = statistics.build_pairing(\n",
    "    scenario_split[0], 'resusLDnonzero',\n",
    "    intersect_subjects=False, check_validity=False\n",
    ")\n",
    "resusLD_easy_pairing.describe()"
   ]
  },
  {
   "cell_type": "code",
   "execution_count": 7,
   "metadata": {
    "scrolled": true
   },
   "outputs": [
    {
     "name": "stdout",
     "output_type": "stream",
     "text": [
      "visitDuration_infant:\n",
      "  mean 0 = 67.322; mean 1 = 31.157\n",
      "  Independent t-test:\n",
      "  **|diff| > 0: p = 0.003\n",
      "    diff < 0: p = 0.998\n",
      "  **diff > 0: p = 0.002\n",
      "visitDuration_warmerInstrumentPanel:\n",
      "  mean 0 = 13.843; mean 1 = 14.984\n",
      "  Independent t-test:\n",
      "    |diff| > 0: p = 0.829\n",
      "    diff < 0: p = 0.415\n",
      "    diff > 0: p = 0.585\n",
      "visitDuration_fiO2Dial:\n",
      "  mean 0 = 6.502; mean 1 = 8.494\n",
      "  Independent t-test:\n",
      "    |diff| > 0: p = 0.337\n",
      "   ~diff < 0: p = 0.168\n",
      "    diff > 0: p = 0.832\n",
      "visitDuration_spO2ReferenceTable:\n",
      "  mean 0 = 6.275; mean 1 = 8.521\n",
      "  Independent t-test:\n",
      "    |diff| > 0: p = 0.386\n",
      "   ~diff < 0: p = 0.193\n",
      "    diff > 0: p = 0.807\n",
      "visitDuration_monitorFull:\n",
      "  mean 0 = 85.021; mean 1 = 115.869\n",
      "  Independent t-test:\n",
      "  **|diff| > 0: p = 0.006\n",
      "  **diff < 0: p = 0.003\n",
      "    diff > 0: p = 0.997\n",
      "visitDuration_monitorBlank:\n",
      "  mean 0 = 10.009; mean 1 = 8.744\n",
      "  Independent t-test:\n",
      "    |diff| > 0: p = 0.684\n",
      "    diff < 0: p = 0.658\n",
      "    diff > 0: p = 0.342\n",
      "visitDuration_monitorApgarTimer:\n",
      "  mean 0 = 5.789; mean 1 = 13.175\n",
      "  Independent t-test:\n",
      "  **|diff| > 0: p = 0.021\n",
      "  **diff < 0: p = 0.011\n",
      "    diff > 0: p = 0.989\n",
      "visitDuration_monitorHeartRate:\n",
      "  mean 0 = 16.051; mean 1 = 17.790\n",
      "  Independent t-test:\n",
      "    |diff| > 0: p = 0.725\n",
      "    diff < 0: p = 0.362\n",
      "    diff > 0: p = 0.638\n",
      "visitDuration_monitorSpO2:\n",
      "  mean 0 = 27.096; mean 1 = 38.053\n",
      "  Independent t-test:\n",
      "   ~|diff| > 0: p = 0.176\n",
      "   *diff < 0: p = 0.088\n",
      "    diff > 0: p = 0.912\n",
      "visitDuration_combinedFiO2:\n",
      "  mean 0 = 10.476; mean 1 = 12.642\n",
      "  Independent t-test:\n",
      "    |diff| > 0: p = 0.381\n",
      "   ~diff < 0: p = 0.190\n",
      "    diff > 0: p = 0.810\n",
      "visitDuration_combinedSpO2:\n",
      "  mean 0 = 44.093; mean 1 = 62.010\n",
      "  Independent t-test:\n",
      "   *|diff| > 0: p = 0.072\n",
      "  **diff < 0: p = 0.036\n",
      "    diff > 0: p = 0.964\n"
     ]
    }
   ],
   "source": [
    "statistics.test_gaze_duration_outcomes(resusLD_easy_pairing, paired=False)"
   ]
  },
  {
   "cell_type": "markdown",
   "metadata": {},
   "source": [
    "Observations:\n",
    "\n",
    "* Subjects who have led a resuscitation in L&D in the past year look at the infant less, the monitor more, the apgar timer more, the SpO2 number maybe more, and the combined SpO2 elements more."
   ]
  },
  {
   "cell_type": "markdown",
   "metadata": {},
   "source": [
    "### Hard Scenarios"
   ]
  },
  {
   "cell_type": "code",
   "execution_count": 8,
   "metadata": {
    "scrolled": true
   },
   "outputs": [
    {
     "name": "stdout",
     "output_type": "stream",
     "text": [
      "Pairing against resusLDnonzero:\n",
      "  0: noLDResusPastYear vs. 1: LDResusPastYear\n",
      "  16 0 vs. 1 pairs.\n",
      "  Paired t-test alternative hypotheses:\n",
      "    Ha left-tailed (diff < 0): mean 0 - mean 1 < 0\n",
      "    Ha two-tailed (|diff| > 0): mean 0 - mean 1 != 0\n",
      "    Ha right-tailed (diff > 0): mean 0 - mean 1 > 0\n"
     ]
    }
   ],
   "source": [
    "resusLD_hard_pairing = statistics.build_pairing(\n",
    "    scenario_split[1], 'resusLDnonzero',\n",
    "    intersect_subjects=False, check_validity=False\n",
    ")\n",
    "resusLD_hard_pairing.describe()"
   ]
  },
  {
   "cell_type": "code",
   "execution_count": 9,
   "metadata": {
    "scrolled": true
   },
   "outputs": [
    {
     "name": "stdout",
     "output_type": "stream",
     "text": [
      "visitDuration_infant:\n",
      "  mean 0 = 79.086; mean 1 = 54.571\n",
      "  Independent t-test:\n",
      "   *|diff| > 0: p = 0.063\n",
      "    diff < 0: p = 0.968\n",
      "  **diff > 0: p = 0.032\n",
      "visitDuration_warmerInstrumentPanel:\n",
      "  mean 0 = 9.733; mean 1 = 22.162\n",
      "  Independent t-test:\n",
      "  **|diff| > 0: p = 0.017\n",
      "  **diff < 0: p = 0.008\n",
      "    diff > 0: p = 0.992\n",
      "visitDuration_fiO2Dial:\n",
      "  mean 0 = 5.340; mean 1 = 3.714\n",
      "  Independent t-test:\n",
      "  **|diff| > 0: p = 0.042\n",
      "    diff < 0: p = 0.979\n",
      "  **diff > 0: p = 0.021\n",
      "visitDuration_spO2ReferenceTable:\n",
      "  mean 0 = 3.547; mean 1 = 1.765\n",
      "  Independent t-test:\n",
      "   *|diff| > 0: p = 0.055\n",
      "    diff < 0: p = 0.973\n",
      "  **diff > 0: p = 0.027\n",
      "visitDuration_monitorFull:\n",
      "  mean 0 = 91.135; mean 1 = 107.898\n",
      "  Independent t-test:\n",
      "   ~|diff| > 0: p = 0.107\n",
      "   *diff < 0: p = 0.053\n",
      "    diff > 0: p = 0.947\n",
      "visitDuration_monitorBlank:\n",
      "  mean 0 = 12.921; mean 1 = 9.379\n",
      "  Independent t-test:\n",
      "    |diff| > 0: p = 0.391\n",
      "    diff < 0: p = 0.805\n",
      "   ~diff > 0: p = 0.195\n",
      "visitDuration_monitorApgarTimer:\n",
      "  mean 0 = 6.332; mean 1 = 15.887\n",
      "  Independent t-test:\n",
      "  **|diff| > 0: p = 0.039\n",
      "  **diff < 0: p = 0.020\n",
      "    diff > 0: p = 0.980\n",
      "visitDuration_monitorHeartRate:\n",
      "  mean 0 = 22.792; mean 1 = 29.769\n",
      "  Independent t-test:\n",
      "   ~|diff| > 0: p = 0.114\n",
      "   *diff < 0: p = 0.057\n",
      "    diff > 0: p = 0.943\n",
      "visitDuration_monitorSpO2:\n",
      "  mean 0 = 27.609; mean 1 = 19.824\n",
      "  Independent t-test:\n",
      "   ~|diff| > 0: p = 0.124\n",
      "    diff < 0: p = 0.938\n",
      "   *diff > 0: p = 0.062\n",
      "visitDuration_combinedFiO2:\n",
      "  mean 0 = 10.024; mean 1 = 11.639\n",
      "  Independent t-test:\n",
      "    |diff| > 0: p = 0.619\n",
      "    diff < 0: p = 0.309\n",
      "    diff > 0: p = 0.691\n",
      "visitDuration_combinedSpO2:\n",
      "  mean 0 = 38.799; mean 1 = 33.523\n",
      "  Independent t-test:\n",
      "    |diff| > 0: p = 0.395\n",
      "    diff < 0: p = 0.803\n",
      "   ~diff > 0: p = 0.197\n"
     ]
    }
   ],
   "source": [
    "statistics.test_gaze_duration_outcomes(resusLD_hard_pairing, paired=False)"
   ]
  },
  {
   "cell_type": "markdown",
   "metadata": {},
   "source": [
    "Observations:\n",
    "\n",
    "* Subjects who have led a resuscitation in L&D in the past year look at the infant less, the instrument panel more, the FiO2 dial less, the SpO2 reference table less, the monitor maybe more, the apgar timer more, the heart rate maybe more, and the SpO2 number maybe less."
   ]
  },
  {
   "cell_type": "markdown",
   "metadata": {},
   "source": [
    "## At least 10 years cumulative NICU experience?"
   ]
  },
  {
   "cell_type": "markdown",
   "metadata": {},
   "source": [
    "### Combined scenarios"
   ]
  },
  {
   "cell_type": "code",
   "execution_count": 10,
   "metadata": {},
   "outputs": [
    {
     "name": "stdout",
     "output_type": "stream",
     "text": [
      "7 0 and 10 1\n",
      "Pairing against cumulativeNICU10:\n",
      "  0: <10CumulativeNICUYears vs. 1: >=10CumulativeNICUYears\n",
      "  22 0 examples vs. 38 1 examples.\n",
      "  Paired t-test alternative hypotheses:\n",
      "    Ha left-tailed (diff < 0): mean 0 - mean 1 < 0\n",
      "    Ha two-tailed (|diff| > 0): mean 0 - mean 1 != 0\n",
      "    Ha right-tailed (diff > 0): mean 0 - mean 1 > 0\n"
     ]
    }
   ],
   "source": [
    "cumulativeNICU10_pairing = statistics.build_pairing(\n",
    "    full_df, 'cumulativeNICU10',\n",
    "    intersect_subjects=False, check_validity=False\n",
    ")\n",
    "print('{} 0 and {} 1'.format(\n",
    "    len(cumulativeNICU10_pairing[0].subjectNumber.unique()),\n",
    "    len(cumulativeNICU10_pairing[1].subjectNumber.unique())\n",
    "))\n",
    "cumulativeNICU10_pairing.describe()"
   ]
  },
  {
   "cell_type": "code",
   "execution_count": 11,
   "metadata": {
    "scrolled": true
   },
   "outputs": [
    {
     "name": "stdout",
     "output_type": "stream",
     "text": [
      "visitDuration_infant:\n",
      "  mean 0 = 44.344; mean 1 = 68.789\n",
      "  Independent t-test:\n",
      "  **|diff| > 0: p = 0.011\n",
      "  **diff < 0: p = 0.005\n",
      "    diff > 0: p = 0.995\n",
      "visitDuration_warmerInstrumentPanel:\n",
      "  mean 0 = 19.045; mean 1 = 12.964\n",
      "  Independent t-test:\n",
      "   ~|diff| > 0: p = 0.112\n",
      "    diff < 0: p = 0.944\n",
      "   *diff > 0: p = 0.056\n",
      "visitDuration_fiO2Dial:\n",
      "  mean 0 = 4.771; mean 1 = 6.471\n",
      "  Independent t-test:\n",
      "   ~|diff| > 0: p = 0.133\n",
      "   *diff < 0: p = 0.067\n",
      "    diff > 0: p = 0.933\n",
      "visitDuration_spO2ReferenceTable:\n",
      "  mean 0 = 3.979; mean 1 = 5.266\n",
      "  Independent t-test:\n",
      "    |diff| > 0: p = 0.378\n",
      "   ~diff < 0: p = 0.189\n",
      "    diff > 0: p = 0.811\n",
      "visitDuration_monitorFull:\n",
      "  mean 0 = 105.857; mean 1 = 94.907\n",
      "  Independent t-test:\n",
      "   ~|diff| > 0: p = 0.172\n",
      "    diff < 0: p = 0.914\n",
      "   *diff > 0: p = 0.086\n",
      "visitDuration_monitorBlank:\n",
      "  mean 0 = 16.933; mean 1 = 6.562\n",
      "  Independent t-test:\n",
      "  **|diff| > 0: p = 0.000\n",
      "    diff < 0: p = 1.000\n",
      "  **diff > 0: p = 0.000\n",
      "visitDuration_monitorApgarTimer:\n",
      "  mean 0 = 8.388; mean 1 = 11.097\n",
      "  Independent t-test:\n",
      "    |diff| > 0: p = 0.374\n",
      "   ~diff < 0: p = 0.187\n",
      "    diff > 0: p = 0.813\n",
      "visitDuration_monitorHeartRate:\n",
      "  mean 0 = 22.369; mean 1 = 21.557\n",
      "  Independent t-test:\n",
      "    |diff| > 0: p = 0.822\n",
      "    diff < 0: p = 0.589\n",
      "    diff > 0: p = 0.411\n",
      "visitDuration_monitorSpO2:\n",
      "  mean 0 = 25.881; mean 1 = 28.413\n",
      "  Independent t-test:\n",
      "    |diff| > 0: p = 0.604\n",
      "    diff < 0: p = 0.302\n",
      "    diff > 0: p = 0.698\n",
      "visitDuration_combinedFiO2:\n",
      "  mean 0 = 10.593; mean 1 = 11.392\n",
      "  Independent t-test:\n",
      "    |diff| > 0: p = 0.705\n",
      "    diff < 0: p = 0.353\n",
      "    diff > 0: p = 0.647\n",
      "visitDuration_combinedSpO2:\n",
      "  mean 0 = 40.758; mean 1 = 45.002\n",
      "  Independent t-test:\n",
      "    |diff| > 0: p = 0.496\n",
      "    diff < 0: p = 0.248\n",
      "    diff > 0: p = 0.752\n"
     ]
    }
   ],
   "source": [
    "statistics.test_gaze_duration_outcomes(cumulativeNICU10_pairing, paired=False)"
   ]
  },
  {
   "cell_type": "markdown",
   "metadata": {},
   "source": [
    "### Easy Scenarios"
   ]
  },
  {
   "cell_type": "code",
   "execution_count": 12,
   "metadata": {
    "scrolled": true
   },
   "outputs": [
    {
     "name": "stdout",
     "output_type": "stream",
     "text": [
      "Pairing against cumulativeNICU10:\n",
      "  0: <10CumulativeNICUYears vs. 1: >=10CumulativeNICUYears\n",
      "  10 0 examples vs. 18 1 examples.\n",
      "  Paired t-test alternative hypotheses:\n",
      "    Ha left-tailed (diff < 0): mean 0 - mean 1 < 0\n",
      "    Ha two-tailed (|diff| > 0): mean 0 - mean 1 != 0\n",
      "    Ha right-tailed (diff > 0): mean 0 - mean 1 > 0\n"
     ]
    }
   ],
   "source": [
    "cumulativeNICU10_easy_pairing = statistics.build_pairing(\n",
    "    scenario_split[0], 'cumulativeNICU10',\n",
    "    intersect_subjects=False, check_validity=False\n",
    ")\n",
    "cumulativeNICU10_easy_pairing.describe()"
   ]
  },
  {
   "cell_type": "code",
   "execution_count": 13,
   "metadata": {
    "scrolled": true
   },
   "outputs": [
    {
     "name": "stdout",
     "output_type": "stream",
     "text": [
      "visitDuration_infant:\n",
      "  mean 0 = 36.293; mean 1 = 60.450\n",
      "  Independent t-test:\n",
      "   *|diff| > 0: p = 0.069\n",
      "  **diff < 0: p = 0.034\n",
      "    diff > 0: p = 0.966\n",
      "visitDuration_warmerInstrumentPanel:\n",
      "  mean 0 = 14.918; mean 1 = 14.006\n",
      "  Independent t-test:\n",
      "    |diff| > 0: p = 0.868\n",
      "    diff < 0: p = 0.566\n",
      "    diff > 0: p = 0.434\n",
      "visitDuration_fiO2Dial:\n",
      "  mean 0 = 5.970; mean 1 = 8.126\n",
      "  Independent t-test:\n",
      "    |diff| > 0: p = 0.314\n",
      "   ~diff < 0: p = 0.157\n",
      "    diff > 0: p = 0.843\n",
      "visitDuration_spO2ReferenceTable:\n",
      "  mean 0 = 6.624; mean 1 = 7.578\n",
      "  Independent t-test:\n",
      "    |diff| > 0: p = 0.723\n",
      "    diff < 0: p = 0.362\n",
      "    diff > 0: p = 0.638\n",
      "visitDuration_monitorFull:\n",
      "  mean 0 = 110.746; mean 1 = 91.295\n",
      "  Independent t-test:\n",
      "   ~|diff| > 0: p = 0.111\n",
      "    diff < 0: p = 0.945\n",
      "   *diff > 0: p = 0.055\n",
      "visitDuration_monitorBlank:\n",
      "  mean 0 = 14.868; mean 1 = 6.466\n",
      "  Independent t-test:\n",
      "  **|diff| > 0: p = 0.005\n",
      "    diff < 0: p = 0.998\n",
      "  **diff > 0: p = 0.002\n",
      "visitDuration_monitorApgarTimer:\n",
      "  mean 0 = 8.016; mean 1 = 9.475\n",
      "  Independent t-test:\n",
      "    |diff| > 0: p = 0.675\n",
      "    diff < 0: p = 0.337\n",
      "    diff > 0: p = 0.663\n",
      "visitDuration_monitorHeartRate:\n",
      "  mean 0 = 21.097; mean 1 = 14.407\n",
      "  Independent t-test:\n",
      "   ~|diff| > 0: p = 0.183\n",
      "    diff < 0: p = 0.909\n",
      "   *diff > 0: p = 0.091\n",
      "visitDuration_monitorSpO2:\n",
      "  mean 0 = 32.314; mean 1 = 31.502\n",
      "  Independent t-test:\n",
      "    |diff| > 0: p = 0.924\n",
      "    diff < 0: p = 0.538\n",
      "    diff > 0: p = 0.462\n",
      "visitDuration_combinedFiO2:\n",
      "  mean 0 = 9.714; mean 1 = 12.343\n",
      "  Independent t-test:\n",
      "    |diff| > 0: p = 0.301\n",
      "   ~diff < 0: p = 0.151\n",
      "    diff > 0: p = 0.849\n",
      "visitDuration_combinedSpO2:\n",
      "  mean 0 = 49.870; mean 1 = 52.828\n",
      "  Independent t-test:\n",
      "    |diff| > 0: p = 0.780\n",
      "    diff < 0: p = 0.390\n",
      "    diff > 0: p = 0.610\n"
     ]
    }
   ],
   "source": [
    "statistics.test_gaze_duration_outcomes(cumulativeNICU10_easy_pairing, paired=False)"
   ]
  },
  {
   "cell_type": "markdown",
   "metadata": {},
   "source": [
    "### Hard Scenarios"
   ]
  },
  {
   "cell_type": "code",
   "execution_count": 14,
   "metadata": {
    "scrolled": true
   },
   "outputs": [
    {
     "name": "stdout",
     "output_type": "stream",
     "text": [
      "Pairing against cumulativeNICU10:\n",
      "  0: <10CumulativeNICUYears vs. 1: >=10CumulativeNICUYears\n",
      "  12 0 examples vs. 20 1 examples.\n",
      "  Paired t-test alternative hypotheses:\n",
      "    Ha left-tailed (diff < 0): mean 0 - mean 1 < 0\n",
      "    Ha two-tailed (|diff| > 0): mean 0 - mean 1 != 0\n",
      "    Ha right-tailed (diff > 0): mean 0 - mean 1 > 0\n"
     ]
    }
   ],
   "source": [
    "cumulativeNICU10_hard_pairing = statistics.build_pairing(\n",
    "    scenario_split[1], 'cumulativeNICU10',\n",
    "    intersect_subjects=False, check_validity=False\n",
    ")\n",
    "cumulativeNICU10_hard_pairing.describe()"
   ]
  },
  {
   "cell_type": "code",
   "execution_count": 15,
   "metadata": {
    "scrolled": true
   },
   "outputs": [
    {
     "name": "stdout",
     "output_type": "stream",
     "text": [
      "visitDuration_infant:\n",
      "  mean 0 = 51.054; mean 1 = 76.294\n",
      "  Independent t-test:\n",
      "   *|diff| > 0: p = 0.064\n",
      "  **diff < 0: p = 0.032\n",
      "    diff > 0: p = 0.968\n",
      "visitDuration_warmerInstrumentPanel:\n",
      "  mean 0 = 22.484; mean 1 = 12.025\n",
      "  Independent t-test:\n",
      "   *|diff| > 0: p = 0.056\n",
      "    diff < 0: p = 0.972\n",
      "  **diff > 0: p = 0.028\n",
      "visitDuration_fiO2Dial:\n",
      "  mean 0 = 3.771; mean 1 = 4.981\n",
      "  Independent t-test:\n",
      "   ~|diff| > 0: p = 0.150\n",
      "   *diff < 0: p = 0.075\n",
      "    diff > 0: p = 0.925\n",
      "visitDuration_spO2ReferenceTable:\n",
      "  mean 0 = 1.775; mean 1 = 3.184\n",
      "  Independent t-test:\n",
      "   ~|diff| > 0: p = 0.147\n",
      "   *diff < 0: p = 0.073\n",
      "    diff > 0: p = 0.927\n",
      "visitDuration_monitorFull:\n",
      "  mean 0 = 101.782; mean 1 = 98.157\n",
      "  Independent t-test:\n",
      "    |diff| > 0: p = 0.741\n",
      "    diff < 0: p = 0.630\n",
      "    diff > 0: p = 0.370\n",
      "visitDuration_monitorBlank:\n",
      "  mean 0 = 18.654; mean 1 = 6.648\n",
      "  Independent t-test:\n",
      "  **|diff| > 0: p = 0.003\n",
      "    diff < 0: p = 0.999\n",
      "  **diff > 0: p = 0.001\n",
      "visitDuration_monitorApgarTimer:\n",
      "  mean 0 = 8.698; mean 1 = 12.557\n",
      "  Independent t-test:\n",
      "    |diff| > 0: p = 0.434\n",
      "    diff < 0: p = 0.217\n",
      "    diff > 0: p = 0.783\n",
      "visitDuration_monitorHeartRate:\n",
      "  mean 0 = 23.429; mean 1 = 27.991\n",
      "  Independent t-test:\n",
      "    |diff| > 0: p = 0.323\n",
      "   ~diff < 0: p = 0.162\n",
      "    diff > 0: p = 0.838\n",
      "visitDuration_monitorSpO2:\n",
      "  mean 0 = 20.521; mean 1 = 25.633\n",
      "  Independent t-test:\n",
      "    |diff| > 0: p = 0.333\n",
      "   ~diff < 0: p = 0.167\n",
      "    diff > 0: p = 0.833\n",
      "visitDuration_combinedFiO2:\n",
      "  mean 0 = 11.325; mean 1 = 10.536\n",
      "  Independent t-test:\n",
      "    |diff| > 0: p = 0.814\n",
      "    diff < 0: p = 0.593\n",
      "    diff > 0: p = 0.407\n",
      "visitDuration_combinedSpO2:\n",
      "  mean 0 = 33.165; mean 1 = 37.958\n",
      "  Independent t-test:\n",
      "    |diff| > 0: p = 0.455\n",
      "    diff < 0: p = 0.227\n",
      "    diff > 0: p = 0.773\n"
     ]
    }
   ],
   "source": [
    "statistics.test_gaze_duration_outcomes(cumulativeNICU10_hard_pairing, paired=False)"
   ]
  },
  {
   "cell_type": "markdown",
   "metadata": {},
   "source": [
    "## RN vs. MD\n",
    "Note that only one MD had not performed a resuscitation in L&D in the past year, and only 3 RNs had performed a resuscitation in L&D in the past year."
   ]
  },
  {
   "cell_type": "markdown",
   "metadata": {},
   "source": [
    "### Combined scenarios"
   ]
  },
  {
   "cell_type": "code",
   "execution_count": 16,
   "metadata": {},
   "outputs": [
    {
     "name": "stdout",
     "output_type": "stream",
     "text": [
      "8 0 and 9 1\n",
      "MDs: [ 4  6  7  9 15 16 17 19 23]\n",
      "RNs: [ 8 10 11 12 13 20 22 28]\n",
      "Pairing against education:\n",
      "  0: RN vs. 1: MD\n",
      "  32 0 examples vs. 28 1 examples.\n",
      "  Paired t-test alternative hypotheses:\n",
      "    Ha left-tailed (diff < 0): mean 0 - mean 1 < 0\n",
      "    Ha two-tailed (|diff| > 0): mean 0 - mean 1 != 0\n",
      "    Ha right-tailed (diff > 0): mean 0 - mean 1 > 0\n"
     ]
    }
   ],
   "source": [
    "education_pairing = statistics.build_pairing(\n",
    "    full_df, 'education',\n",
    "    intersect_subjects=False, check_validity=False\n",
    ")\n",
    "print('{} 0 and {} 1'.format(\n",
    "    len(education_pairing[0].subjectNumber.unique()),\n",
    "    len(education_pairing[1].subjectNumber.unique())\n",
    "))\n",
    "print('MDs: {}'.format(education_pairing[1].subjectNumber.unique()))\n",
    "print('RNs: {}'.format(education_pairing[0].subjectNumber.unique()))\n",
    "education_pairing.describe()"
   ]
  },
  {
   "cell_type": "code",
   "execution_count": 17,
   "metadata": {
    "scrolled": true
   },
   "outputs": [
    {
     "name": "stdout",
     "output_type": "stream",
     "text": [
      "visitDuration_infant:\n",
      "  mean 0 = 67.400; mean 1 = 51.169\n",
      "  Independent t-test:\n",
      "   *|diff| > 0: p = 0.084\n",
      "    diff < 0: p = 0.958\n",
      "  **diff > 0: p = 0.042\n",
      "visitDuration_warmerInstrumentPanel:\n",
      "  mean 0 = 12.143; mean 1 = 18.680\n",
      "  Independent t-test:\n",
      "   *|diff| > 0: p = 0.076\n",
      "  **diff < 0: p = 0.038\n",
      "    diff > 0: p = 0.962\n",
      "visitDuration_fiO2Dial:\n",
      "  mean 0 = 6.323; mean 1 = 5.304\n",
      "  Independent t-test:\n",
      "    |diff| > 0: p = 0.354\n",
      "    diff < 0: p = 0.823\n",
      "   ~diff > 0: p = 0.177\n",
      "visitDuration_spO2ReferenceTable:\n",
      "  mean 0 = 5.372; mean 1 = 4.133\n",
      "  Independent t-test:\n",
      "    |diff| > 0: p = 0.380\n",
      "    diff < 0: p = 0.810\n",
      "   ~diff > 0: p = 0.190\n",
      "visitDuration_monitorFull:\n",
      "  mean 0 = 89.631; mean 1 = 109.539\n",
      "  Independent t-test:\n",
      "  **|diff| > 0: p = 0.009\n",
      "  **diff < 0: p = 0.004\n",
      "    diff > 0: p = 0.996\n",
      "visitDuration_monitorBlank:\n",
      "  mean 0 = 7.621; mean 1 = 13.499\n",
      "  Independent t-test:\n",
      "  **|diff| > 0: p = 0.021\n",
      "  **diff < 0: p = 0.010\n",
      "    diff > 0: p = 0.990\n",
      "visitDuration_monitorApgarTimer:\n",
      "  mean 0 = 8.542; mean 1 = 11.889\n",
      "  Independent t-test:\n",
      "    |diff| > 0: p = 0.255\n",
      "   ~diff < 0: p = 0.127\n",
      "    diff > 0: p = 0.873\n",
      "visitDuration_monitorHeartRate:\n",
      "  mean 0 = 19.061; mean 1 = 25.046\n",
      "  Independent t-test:\n",
      "   *|diff| > 0: p = 0.082\n",
      "  **diff < 0: p = 0.041\n",
      "    diff > 0: p = 0.959\n",
      "visitDuration_monitorSpO2:\n",
      "  mean 0 = 28.169; mean 1 = 26.703\n",
      "  Independent t-test:\n",
      "    |diff| > 0: p = 0.756\n",
      "    diff < 0: p = 0.622\n",
      "    diff > 0: p = 0.378\n",
      "visitDuration_combinedFiO2:\n",
      "  mean 0 = 10.792; mean 1 = 11.449\n",
      "  Independent t-test:\n",
      "    |diff| > 0: p = 0.748\n",
      "    diff < 0: p = 0.374\n",
      "    diff > 0: p = 0.626\n",
      "visitDuration_combinedSpO2:\n",
      "  mean 0 = 43.059; mean 1 = 43.888\n",
      "  Independent t-test:\n",
      "    |diff| > 0: p = 0.891\n",
      "    diff < 0: p = 0.445\n",
      "    diff > 0: p = 0.555\n"
     ]
    }
   ],
   "source": [
    "statistics.test_gaze_duration_outcomes(education_pairing, paired=False)"
   ]
  },
  {
   "cell_type": "markdown",
   "metadata": {},
   "source": [
    "### Easy Scenarios"
   ]
  },
  {
   "cell_type": "code",
   "execution_count": 18,
   "metadata": {
    "scrolled": true
   },
   "outputs": [
    {
     "name": "stdout",
     "output_type": "stream",
     "text": [
      "Pairing against education:\n",
      "  0: RN vs. 1: MD\n",
      "  16 0 examples vs. 12 1 examples.\n",
      "  Paired t-test alternative hypotheses:\n",
      "    Ha left-tailed (diff < 0): mean 0 - mean 1 < 0\n",
      "    Ha two-tailed (|diff| > 0): mean 0 - mean 1 != 0\n",
      "    Ha right-tailed (diff > 0): mean 0 - mean 1 > 0\n"
     ]
    }
   ],
   "source": [
    "education_easy_pairing = statistics.build_pairing(\n",
    "    scenario_split[0], 'education',\n",
    "    intersect_subjects=False, check_validity=False\n",
    ")\n",
    "education_easy_pairing.describe()"
   ]
  },
  {
   "cell_type": "code",
   "execution_count": 19,
   "metadata": {
    "scrolled": true
   },
   "outputs": [
    {
     "name": "stdout",
     "output_type": "stream",
     "text": [
      "visitDuration_infant:\n",
      "  mean 0 = 61.668; mean 1 = 38.695\n",
      "  Independent t-test:\n",
      "   *|diff| > 0: p = 0.074\n",
      "    diff < 0: p = 0.963\n",
      "  **diff > 0: p = 0.037\n",
      "visitDuration_warmerInstrumentPanel:\n",
      "  mean 0 = 13.789; mean 1 = 15.056\n",
      "  Independent t-test:\n",
      "    |diff| > 0: p = 0.811\n",
      "    diff < 0: p = 0.405\n",
      "    diff > 0: p = 0.595\n",
      "visitDuration_fiO2Dial:\n",
      "  mean 0 = 7.204; mean 1 = 7.558\n",
      "  Independent t-test:\n",
      "    |diff| > 0: p = 0.866\n",
      "    diff < 0: p = 0.433\n",
      "    diff > 0: p = 0.567\n",
      "visitDuration_spO2ReferenceTable:\n",
      "  mean 0 = 6.778; mean 1 = 7.850\n",
      "  Independent t-test:\n",
      "    |diff| > 0: p = 0.681\n",
      "    diff < 0: p = 0.340\n",
      "    diff > 0: p = 0.660\n",
      "visitDuration_monitorFull:\n",
      "  mean 0 = 84.236; mean 1 = 116.916\n",
      "  Independent t-test:\n",
      "  **|diff| > 0: p = 0.003\n",
      "  **diff < 0: p = 0.002\n",
      "    diff > 0: p = 0.998\n",
      "visitDuration_monitorBlank:\n",
      "  mean 0 = 7.222; mean 1 = 12.460\n",
      "  Independent t-test:\n",
      "   *|diff| > 0: p = 0.083\n",
      "  **diff < 0: p = 0.041\n",
      "    diff > 0: p = 0.959\n",
      "visitDuration_monitorApgarTimer:\n",
      "  mean 0 = 7.009; mean 1 = 11.547\n",
      "  Independent t-test:\n",
      "   ~|diff| > 0: p = 0.171\n",
      "   *diff < 0: p = 0.086\n",
      "    diff > 0: p = 0.914\n",
      "visitDuration_monitorHeartRate:\n",
      "  mean 0 = 14.236; mean 1 = 20.210\n",
      "  Independent t-test:\n",
      "    |diff| > 0: p = 0.220\n",
      "   ~diff < 0: p = 0.110\n",
      "    diff > 0: p = 0.890\n",
      "visitDuration_monitorSpO2:\n",
      "  mean 0 = 28.843; mean 1 = 35.724\n",
      "  Independent t-test:\n",
      "    |diff| > 0: p = 0.400\n",
      "    diff < 0: p = 0.200\n",
      "    diff > 0: p = 0.800\n",
      "visitDuration_combinedFiO2:\n",
      "  mean 0 = 11.378; mean 1 = 11.439\n",
      "  Independent t-test:\n",
      "    |diff| > 0: p = 0.981\n",
      "    diff < 0: p = 0.490\n",
      "    diff > 0: p = 0.510\n",
      "visitDuration_combinedSpO2:\n",
      "  mean 0 = 45.978; mean 1 = 59.497\n",
      "  Independent t-test:\n",
      "   ~|diff| > 0: p = 0.180\n",
      "   *diff < 0: p = 0.090\n",
      "    diff > 0: p = 0.910\n"
     ]
    }
   ],
   "source": [
    "statistics.test_gaze_duration_outcomes(education_easy_pairing, paired=False)"
   ]
  },
  {
   "cell_type": "markdown",
   "metadata": {},
   "source": [
    "### Hard Scenarios"
   ]
  },
  {
   "cell_type": "code",
   "execution_count": 20,
   "metadata": {
    "scrolled": true
   },
   "outputs": [
    {
     "name": "stdout",
     "output_type": "stream",
     "text": [
      "Pairing against education:\n",
      "  0: RN vs. 1: MD\n",
      "  16 0 vs. 1 pairs.\n",
      "  Paired t-test alternative hypotheses:\n",
      "    Ha left-tailed (diff < 0): mean 0 - mean 1 < 0\n",
      "    Ha two-tailed (|diff| > 0): mean 0 - mean 1 != 0\n",
      "    Ha right-tailed (diff > 0): mean 0 - mean 1 > 0\n"
     ]
    }
   ],
   "source": [
    "education_hard_pairing = statistics.build_pairing(\n",
    "    scenario_split[1], 'education',\n",
    "    intersect_subjects=False, check_validity=False\n",
    ")\n",
    "education_hard_pairing.describe()"
   ]
  },
  {
   "cell_type": "code",
   "execution_count": 21,
   "metadata": {
    "scrolled": true
   },
   "outputs": [
    {
     "name": "stdout",
     "output_type": "stream",
     "text": [
      "visitDuration_infant:\n",
      "  mean 0 = 73.132; mean 1 = 60.525\n",
      "  Independent t-test:\n",
      "    |diff| > 0: p = 0.350\n",
      "    diff < 0: p = 0.825\n",
      "   ~diff > 0: p = 0.175\n",
      "visitDuration_warmerInstrumentPanel:\n",
      "  mean 0 = 10.496; mean 1 = 21.398\n",
      "  Independent t-test:\n",
      "  **|diff| > 0: p = 0.039\n",
      "  **diff < 0: p = 0.019\n",
      "    diff > 0: p = 0.981\n",
      "visitDuration_fiO2Dial:\n",
      "  mean 0 = 5.442; mean 1 = 3.613\n",
      "  Independent t-test:\n",
      "  **|diff| > 0: p = 0.021\n",
      "    diff < 0: p = 0.989\n",
      "  **diff > 0: p = 0.011\n",
      "visitDuration_spO2ReferenceTable:\n",
      "  mean 0 = 3.965; mean 1 = 1.346\n",
      "  Independent t-test:\n",
      "  **|diff| > 0: p = 0.003\n",
      "    diff < 0: p = 0.998\n",
      "  **diff > 0: p = 0.002\n",
      "visitDuration_monitorFull:\n",
      "  mean 0 = 95.026; mean 1 = 104.007\n",
      "  Independent t-test:\n",
      "    |diff| > 0: p = 0.395\n",
      "   ~diff < 0: p = 0.198\n",
      "    diff > 0: p = 0.802\n",
      "visitDuration_monitorBlank:\n",
      "  mean 0 = 8.021; mean 1 = 14.279\n",
      "  Independent t-test:\n",
      "   ~|diff| > 0: p = 0.124\n",
      "   *diff < 0: p = 0.062\n",
      "    diff > 0: p = 0.938\n",
      "visitDuration_monitorApgarTimer:\n",
      "  mean 0 = 10.074; mean 1 = 12.146\n",
      "  Independent t-test:\n",
      "    |diff| > 0: p = 0.665\n",
      "    diff < 0: p = 0.333\n",
      "    diff > 0: p = 0.667\n",
      "visitDuration_monitorHeartRate:\n",
      "  mean 0 = 23.886; mean 1 = 28.674\n",
      "  Independent t-test:\n",
      "    |diff| > 0: p = 0.284\n",
      "   ~diff < 0: p = 0.142\n",
      "    diff > 0: p = 0.858\n",
      "visitDuration_monitorSpO2:\n",
      "  mean 0 = 27.495; mean 1 = 19.937\n",
      "  Independent t-test:\n",
      "   ~|diff| > 0: p = 0.135\n",
      "    diff < 0: p = 0.932\n",
      "   *diff > 0: p = 0.068\n",
      "visitDuration_combinedFiO2:\n",
      "  mean 0 = 10.207; mean 1 = 11.457\n",
      "  Independent t-test:\n",
      "    |diff| > 0: p = 0.700\n",
      "    diff < 0: p = 0.350\n",
      "    diff > 0: p = 0.650\n",
      "visitDuration_combinedSpO2:\n",
      "  mean 0 = 40.140; mean 1 = 32.182\n",
      "  Independent t-test:\n",
      "   ~|diff| > 0: p = 0.196\n",
      "    diff < 0: p = 0.902\n",
      "   *diff > 0: p = 0.098\n"
     ]
    }
   ],
   "source": [
    "statistics.test_gaze_duration_outcomes(education_hard_pairing, paired=False)"
   ]
  },
  {
   "cell_type": "markdown",
   "metadata": {},
   "source": [
    "## MD: Cumulative years NICU experience, split at 10"
   ]
  },
  {
   "cell_type": "markdown",
   "metadata": {},
   "source": [
    "### Combined scenarios"
   ]
  },
  {
   "cell_type": "code",
   "execution_count": 22,
   "metadata": {},
   "outputs": [
    {
     "name": "stdout",
     "output_type": "stream",
     "text": [
      "Pairing against cumulativeNICU10:\n",
      "  0: <10CumulativeNICUYears vs. 1: >=10CumulativeNICUYears\n",
      "  18 0 examples vs. 10 1 examples.\n",
      "  Paired t-test alternative hypotheses:\n",
      "    Ha left-tailed (diff < 0): mean 0 - mean 1 < 0\n",
      "    Ha two-tailed (|diff| > 0): mean 0 - mean 1 != 0\n",
      "    Ha right-tailed (diff > 0): mean 0 - mean 1 > 0\n"
     ]
    }
   ],
   "source": [
    "md_cumulativeNICU10_pairing = statistics.build_pairing(\n",
    "    education_pairing[1], 'cumulativeNICU10',\n",
    "    intersect_subjects=False, check_validity=False\n",
    ")\n",
    "md_cumulativeNICU10_pairing.describe()"
   ]
  },
  {
   "cell_type": "code",
   "execution_count": 23,
   "metadata": {
    "scrolled": true
   },
   "outputs": [
    {
     "name": "stdout",
     "output_type": "stream",
     "text": [
      "visitDuration_infant:\n",
      "  mean 0 = 44.519; mean 1 = 63.140\n",
      "  Independent t-test:\n",
      "   ~|diff| > 0: p = 0.146\n",
      "   *diff < 0: p = 0.073\n",
      "    diff > 0: p = 0.927\n",
      "visitDuration_warmerInstrumentPanel:\n",
      "  mean 0 = 20.544; mean 1 = 15.326\n",
      "  Independent t-test:\n",
      "    |diff| > 0: p = 0.440\n",
      "    diff < 0: p = 0.780\n",
      "    diff > 0: p = 0.220\n",
      "visitDuration_fiO2Dial:\n",
      "  mean 0 = 4.724; mean 1 = 6.346\n",
      "  Independent t-test:\n",
      "    |diff| > 0: p = 0.389\n",
      "   ~diff < 0: p = 0.195\n",
      "    diff > 0: p = 0.805\n",
      "visitDuration_spO2ReferenceTable:\n",
      "  mean 0 = 4.390; mean 1 = 3.671\n",
      "  Independent t-test:\n",
      "    |diff| > 0: p = 0.747\n",
      "    diff < 0: p = 0.626\n",
      "    diff > 0: p = 0.374\n",
      "visitDuration_monitorFull:\n",
      "  mean 0 = 107.999; mean 1 = 112.311\n",
      "  Independent t-test:\n",
      "    |diff| > 0: p = 0.716\n",
      "    diff < 0: p = 0.358\n",
      "    diff > 0: p = 0.642\n",
      "visitDuration_monitorBlank:\n",
      "  mean 0 = 17.451; mean 1 = 6.386\n",
      "  Independent t-test:\n",
      "  **|diff| > 0: p = 0.015\n",
      "    diff < 0: p = 0.993\n",
      "  **diff > 0: p = 0.007\n",
      "visitDuration_monitorApgarTimer:\n",
      "  mean 0 = 9.782; mean 1 = 15.682\n",
      "  Independent t-test:\n",
      "    |diff| > 0: p = 0.239\n",
      "   ~diff < 0: p = 0.120\n",
      "    diff > 0: p = 0.880\n",
      "visitDuration_monitorHeartRate:\n",
      "  mean 0 = 23.987; mean 1 = 26.953\n",
      "  Independent t-test:\n",
      "    |diff| > 0: p = 0.576\n",
      "    diff < 0: p = 0.288\n",
      "    diff > 0: p = 0.712\n",
      "visitDuration_monitorSpO2:\n",
      "  mean 0 = 25.929; mean 1 = 28.097\n",
      "  Independent t-test:\n",
      "    |diff| > 0: p = 0.747\n",
      "    diff < 0: p = 0.373\n",
      "    diff > 0: p = 0.627\n",
      "visitDuration_combinedFiO2:\n",
      "  mean 0 = 10.816; mean 1 = 12.589\n",
      "  Independent t-test:\n",
      "    |diff| > 0: p = 0.648\n",
      "    diff < 0: p = 0.324\n",
      "    diff > 0: p = 0.676\n",
      "visitDuration_combinedSpO2:\n",
      "  mean 0 = 40.293; mean 1 = 50.359\n",
      "  Independent t-test:\n",
      "    |diff| > 0: p = 0.337\n",
      "   ~diff < 0: p = 0.168\n",
      "    diff > 0: p = 0.832\n"
     ]
    }
   ],
   "source": [
    "statistics.test_gaze_duration_outcomes(md_cumulativeNICU10_pairing, paired=False)"
   ]
  },
  {
   "cell_type": "markdown",
   "metadata": {},
   "source": [
    "### Easy Scenarios"
   ]
  },
  {
   "cell_type": "code",
   "execution_count": 24,
   "metadata": {
    "scrolled": true
   },
   "outputs": [
    {
     "name": "stdout",
     "output_type": "stream",
     "text": [
      "Pairing against cumulativeNICU10:\n",
      "  0: <10CumulativeNICUYears vs. 1: >=10CumulativeNICUYears\n",
      "  8 0 examples vs. 4 1 examples.\n",
      "  Paired t-test alternative hypotheses:\n",
      "    Ha left-tailed (diff < 0): mean 0 - mean 1 < 0\n",
      "    Ha two-tailed (|diff| > 0): mean 0 - mean 1 != 0\n",
      "    Ha right-tailed (diff > 0): mean 0 - mean 1 > 0\n"
     ]
    }
   ],
   "source": [
    "md_cumulativeNICU10_easy_pairing = statistics.build_pairing(\n",
    "    education_easy_pairing[1], 'cumulativeNICU10',\n",
    "    intersect_subjects=False, check_validity=False\n",
    ")\n",
    "md_cumulativeNICU10_easy_pairing.describe()"
   ]
  },
  {
   "cell_type": "code",
   "execution_count": 25,
   "metadata": {
    "scrolled": true
   },
   "outputs": [
    {
     "name": "stdout",
     "output_type": "stream",
     "text": [
      "visitDuration_infant:\n",
      "  mean 0 = 31.834; mean 1 = 52.417\n",
      "  Independent t-test:\n",
      "    |diff| > 0: p = 0.272\n",
      "   ~diff < 0: p = 0.136\n",
      "    diff > 0: p = 0.864\n",
      "visitDuration_warmerInstrumentPanel:\n",
      "  mean 0 = 15.916; mean 1 = 13.337\n",
      "  Independent t-test:\n",
      "    |diff| > 0: p = 0.795\n",
      "    diff < 0: p = 0.602\n",
      "    diff > 0: p = 0.398\n",
      "visitDuration_fiO2Dial:\n",
      "  mean 0 = 6.451; mean 1 = 9.773\n",
      "  Independent t-test:\n",
      "    |diff| > 0: p = 0.410\n",
      "    diff < 0: p = 0.205\n",
      "    diff > 0: p = 0.795\n",
      "visitDuration_spO2ReferenceTable:\n",
      "  mean 0 = 8.148; mean 1 = 7.253\n",
      "  Independent t-test:\n",
      "    |diff| > 0: p = 0.839\n",
      "    diff < 0: p = 0.580\n",
      "    diff > 0: p = 0.420\n",
      "visitDuration_monitorFull:\n",
      "  mean 0 = 115.726; mean 1 = 119.295\n",
      "  Independent t-test:\n",
      "    |diff| > 0: p = 0.839\n",
      "    diff < 0: p = 0.419\n",
      "    diff > 0: p = 0.581\n",
      "visitDuration_monitorBlank:\n",
      "  mean 0 = 16.536; mean 1 = 4.309\n",
      "  Independent t-test:\n",
      "  **|diff| > 0: p = 0.041\n",
      "    diff < 0: p = 0.979\n",
      "  **diff > 0: p = 0.021\n",
      "visitDuration_monitorApgarTimer:\n",
      "  mean 0 = 9.395; mean 1 = 15.851\n",
      "  Independent t-test:\n",
      "    |diff| > 0: p = 0.324\n",
      "   ~diff < 0: p = 0.162\n",
      "    diff > 0: p = 0.838\n",
      "visitDuration_monitorHeartRate:\n",
      "  mean 0 = 21.432; mean 1 = 17.766\n",
      "  Independent t-test:\n",
      "    |diff| > 0: p = 0.629\n",
      "    diff < 0: p = 0.685\n",
      "    diff > 0: p = 0.315\n",
      "visitDuration_monitorSpO2:\n",
      "  mean 0 = 34.516; mean 1 = 38.140\n",
      "  Independent t-test:\n",
      "    |diff| > 0: p = 0.771\n",
      "    diff < 0: p = 0.386\n",
      "    diff > 0: p = 0.614\n",
      "visitDuration_combinedFiO2:\n",
      "  mean 0 = 10.012; mean 1 = 14.291\n",
      "  Independent t-test:\n",
      "    |diff| > 0: p = 0.274\n",
      "   ~diff < 0: p = 0.137\n",
      "    diff > 0: p = 0.863\n",
      "visitDuration_combinedSpO2:\n",
      "  mean 0 = 52.950; mean 1 = 72.592\n",
      "  Independent t-test:\n",
      "    |diff| > 0: p = 0.251\n",
      "   ~diff < 0: p = 0.126\n",
      "    diff > 0: p = 0.874\n"
     ]
    }
   ],
   "source": [
    "statistics.test_gaze_duration_outcomes(md_cumulativeNICU10_easy_pairing, paired=False)"
   ]
  },
  {
   "cell_type": "markdown",
   "metadata": {},
   "source": [
    "### Hard Scenarios"
   ]
  },
  {
   "cell_type": "code",
   "execution_count": 26,
   "metadata": {
    "scrolled": true
   },
   "outputs": [
    {
     "name": "stdout",
     "output_type": "stream",
     "text": [
      "Pairing against cumulativeNICU10:\n",
      "  0: <10CumulativeNICUYears vs. 1: >=10CumulativeNICUYears\n",
      "  10 0 examples vs. 6 1 examples.\n",
      "  Paired t-test alternative hypotheses:\n",
      "    Ha left-tailed (diff < 0): mean 0 - mean 1 < 0\n",
      "    Ha two-tailed (|diff| > 0): mean 0 - mean 1 != 0\n",
      "    Ha right-tailed (diff > 0): mean 0 - mean 1 > 0\n"
     ]
    }
   ],
   "source": [
    "md_cumulativeNICU10_hard_pairing = statistics.build_pairing(\n",
    "    education_hard_pairing[1], 'cumulativeNICU10',\n",
    "    intersect_subjects=False, check_validity=False\n",
    ")\n",
    "md_cumulativeNICU10_hard_pairing.describe()"
   ]
  },
  {
   "cell_type": "code",
   "execution_count": 27,
   "metadata": {
    "scrolled": true
   },
   "outputs": [
    {
     "name": "stdout",
     "output_type": "stream",
     "text": [
      "visitDuration_infant:\n",
      "  mean 0 = 54.666; mean 1 = 70.289\n",
      "  Independent t-test:\n",
      "    |diff| > 0: p = 0.360\n",
      "   ~diff < 0: p = 0.180\n",
      "    diff > 0: p = 0.820\n",
      "visitDuration_warmerInstrumentPanel:\n",
      "  mean 0 = 24.246; mean 1 = 16.652\n",
      "  Independent t-test:\n",
      "    |diff| > 0: p = 0.429\n",
      "    diff < 0: p = 0.785\n",
      "    diff > 0: p = 0.215\n",
      "visitDuration_fiO2Dial:\n",
      "  mean 0 = 3.343; mean 1 = 4.062\n",
      "  Independent t-test:\n",
      "    |diff| > 0: p = 0.497\n",
      "    diff < 0: p = 0.248\n",
      "    diff > 0: p = 0.752\n",
      "visitDuration_spO2ReferenceTable:\n",
      "  mean 0 = 1.384; mean 1 = 1.283\n",
      "  Independent t-test:\n",
      "    |diff| > 0: p = 0.903\n",
      "    diff < 0: p = 0.549\n",
      "    diff > 0: p = 0.451\n",
      "visitDuration_monitorFull:\n",
      "  mean 0 = 101.818; mean 1 = 107.656\n",
      "  Independent t-test:\n",
      "    |diff| > 0: p = 0.726\n",
      "    diff < 0: p = 0.363\n",
      "    diff > 0: p = 0.637\n",
      "visitDuration_monitorBlank:\n",
      "  mean 0 = 18.183; mean 1 = 7.771\n",
      "  Independent t-test:\n",
      "   ~|diff| > 0: p = 0.133\n",
      "    diff < 0: p = 0.934\n",
      "   *diff > 0: p = 0.066\n",
      "visitDuration_monitorApgarTimer:\n",
      "  mean 0 = 10.091; mean 1 = 15.569\n",
      "  Independent t-test:\n",
      "    |diff| > 0: p = 0.479\n",
      "    diff < 0: p = 0.240\n",
      "    diff > 0: p = 0.760\n",
      "visitDuration_monitorHeartRate:\n",
      "  mean 0 = 26.031; mean 1 = 33.078\n",
      "  Independent t-test:\n",
      "    |diff| > 0: p = 0.323\n",
      "   ~diff < 0: p = 0.162\n",
      "    diff > 0: p = 0.838\n",
      "visitDuration_monitorSpO2:\n",
      "  mean 0 = 19.059; mean 1 = 21.401\n",
      "  Independent t-test:\n",
      "    |diff| > 0: p = 0.687\n",
      "    diff < 0: p = 0.343\n",
      "    diff > 0: p = 0.657\n",
      "visitDuration_combinedFiO2:\n",
      "  mean 0 = 11.459; mean 1 = 11.454\n",
      "  Independent t-test:\n",
      "    |diff| > 0: p = 0.999\n",
      "    diff < 0: p = 0.500\n",
      "    diff > 0: p = 0.500\n",
      "visitDuration_combinedSpO2:\n",
      "  mean 0 = 30.168; mean 1 = 35.538\n",
      "  Independent t-test:\n",
      "    |diff| > 0: p = 0.596\n",
      "    diff < 0: p = 0.298\n",
      "    diff > 0: p = 0.702\n"
     ]
    }
   ],
   "source": [
    "statistics.test_gaze_duration_outcomes(md_cumulativeNICU10_hard_pairing, paired=False)"
   ]
  },
  {
   "cell_type": "markdown",
   "metadata": {},
   "source": [
    "## RN: Cumulative years NICU experience, split at 13"
   ]
  },
  {
   "cell_type": "markdown",
   "metadata": {},
   "source": [
    "### Combined scenarios"
   ]
  },
  {
   "cell_type": "code",
   "execution_count": 28,
   "metadata": {},
   "outputs": [
    {
     "name": "stdout",
     "output_type": "stream",
     "text": [
      "Pairing against cumulativeNICU13:\n",
      "  0: <13CumulativeNICUYears vs. 1: >=13CumulativeNICUYears\n",
      "  12 0 examples vs. 20 1 examples.\n",
      "  Paired t-test alternative hypotheses:\n",
      "    Ha left-tailed (diff < 0): mean 0 - mean 1 < 0\n",
      "    Ha two-tailed (|diff| > 0): mean 0 - mean 1 != 0\n",
      "    Ha right-tailed (diff > 0): mean 0 - mean 1 > 0\n"
     ]
    }
   ],
   "source": [
    "rn_cumulativeNICU13_pairing = statistics.build_pairing(\n",
    "    education_pairing[0], 'cumulativeNICU13',\n",
    "    intersect_subjects=False, check_validity=False\n",
    ")\n",
    "rn_cumulativeNICU13_pairing.describe()"
   ]
  },
  {
   "cell_type": "code",
   "execution_count": 29,
   "metadata": {
    "scrolled": true
   },
   "outputs": [
    {
     "name": "stdout",
     "output_type": "stream",
     "text": [
      "visitDuration_infant:\n",
      "  mean 0 = 83.134; mean 1 = 57.960\n",
      "  Independent t-test:\n",
      "   *|diff| > 0: p = 0.072\n",
      "    diff < 0: p = 0.964\n",
      "  **diff > 0: p = 0.036\n",
      "visitDuration_warmerInstrumentPanel:\n",
      "  mean 0 = 17.072; mean 1 = 9.185\n",
      "  Independent t-test:\n",
      "  **|diff| > 0: p = 0.049\n",
      "    diff < 0: p = 0.976\n",
      "  **diff > 0: p = 0.024\n",
      "visitDuration_fiO2Dial:\n",
      "  mean 0 = 7.495; mean 1 = 5.620\n",
      "  Independent t-test:\n",
      "   ~|diff| > 0: p = 0.178\n",
      "    diff < 0: p = 0.911\n",
      "   *diff > 0: p = 0.089\n",
      "visitDuration_spO2ReferenceTable:\n",
      "  mean 0 = 5.109; mean 1 = 5.530\n",
      "  Independent t-test:\n",
      "    |diff| > 0: p = 0.833\n",
      "    diff < 0: p = 0.416\n",
      "    diff > 0: p = 0.584\n",
      "visitDuration_monitorFull:\n",
      "  mean 0 = 75.935; mean 1 = 97.849\n",
      "  Independent t-test:\n",
      "  **|diff| > 0: p = 0.026\n",
      "  **diff < 0: p = 0.013\n",
      "    diff > 0: p = 0.987\n",
      "visitDuration_monitorBlank:\n",
      "  mean 0 = 9.574; mean 1 = 6.450\n",
      "  Independent t-test:\n",
      "    |diff| > 0: p = 0.225\n",
      "    diff < 0: p = 0.887\n",
      "   ~diff > 0: p = 0.113\n",
      "visitDuration_monitorApgarTimer:\n",
      "  mean 0 = 5.214; mean 1 = 10.538\n",
      "  Independent t-test:\n",
      "   ~|diff| > 0: p = 0.148\n",
      "   *diff < 0: p = 0.074\n",
      "    diff > 0: p = 0.926\n",
      "visitDuration_monitorHeartRate:\n",
      "  mean 0 = 15.149; mean 1 = 21.408\n",
      "  Independent t-test:\n",
      "   ~|diff| > 0: p = 0.192\n",
      "   *diff < 0: p = 0.096\n",
      "    diff > 0: p = 0.904\n",
      "visitDuration_monitorSpO2:\n",
      "  mean 0 = 21.916; mean 1 = 31.921\n",
      "  Independent t-test:\n",
      "   ~|diff| > 0: p = 0.162\n",
      "   *diff < 0: p = 0.081\n",
      "    diff > 0: p = 0.919\n",
      "visitDuration_combinedFiO2:\n",
      "  mean 0 = 12.240; mean 1 = 9.924\n",
      "  Independent t-test:\n",
      "    |diff| > 0: p = 0.295\n",
      "    diff < 0: p = 0.853\n",
      "   ~diff > 0: p = 0.147\n",
      "visitDuration_combinedSpO2:\n",
      "  mean 0 = 36.152; mean 1 = 47.202\n",
      "  Independent t-test:\n",
      "   ~|diff| > 0: p = 0.141\n",
      "   *diff < 0: p = 0.071\n",
      "    diff > 0: p = 0.929\n"
     ]
    }
   ],
   "source": [
    "statistics.test_gaze_duration_outcomes(rn_cumulativeNICU13_pairing, paired=False)"
   ]
  },
  {
   "cell_type": "markdown",
   "metadata": {},
   "source": [
    "### Easy Scenarios"
   ]
  },
  {
   "cell_type": "code",
   "execution_count": 30,
   "metadata": {
    "scrolled": true
   },
   "outputs": [
    {
     "name": "stdout",
     "output_type": "stream",
     "text": [
      "Pairing against cumulativeNICU13:\n",
      "  0: <13CumulativeNICUYears vs. 1: >=13CumulativeNICUYears\n",
      "  6 0 examples vs. 10 1 examples.\n",
      "  Paired t-test alternative hypotheses:\n",
      "    Ha left-tailed (diff < 0): mean 0 - mean 1 < 0\n",
      "    Ha two-tailed (|diff| > 0): mean 0 - mean 1 != 0\n",
      "    Ha right-tailed (diff > 0): mean 0 - mean 1 > 0\n"
     ]
    }
   ],
   "source": [
    "rn_cumulativeNICU13_easy_pairing = statistics.build_pairing(\n",
    "    education_easy_pairing[0], 'cumulativeNICU13',\n",
    "    intersect_subjects=False, check_validity=False\n",
    ")\n",
    "rn_cumulativeNICU13_easy_pairing.describe()"
   ]
  },
  {
   "cell_type": "code",
   "execution_count": 31,
   "metadata": {
    "scrolled": true
   },
   "outputs": [
    {
     "name": "stdout",
     "output_type": "stream",
     "text": [
      "visitDuration_infant:\n",
      "  mean 0 = 80.273; mean 1 = 50.505\n",
      "  Independent t-test:\n",
      "   *|diff| > 0: p = 0.093\n",
      "    diff < 0: p = 0.953\n",
      "  **diff > 0: p = 0.047\n",
      "visitDuration_warmerInstrumentPanel:\n",
      "  mean 0 = 20.145; mean 1 = 9.975\n",
      "  Independent t-test:\n",
      "   ~|diff| > 0: p = 0.121\n",
      "    diff < 0: p = 0.939\n",
      "   *diff > 0: p = 0.061\n",
      "visitDuration_fiO2Dial:\n",
      "  mean 0 = 9.191; mean 1 = 6.012\n",
      "  Independent t-test:\n",
      "    |diff| > 0: p = 0.205\n",
      "    diff < 0: p = 0.897\n",
      "   ~diff > 0: p = 0.103\n",
      "visitDuration_spO2ReferenceTable:\n",
      "  mean 0 = 6.828; mean 1 = 6.748\n",
      "  Independent t-test:\n",
      "    |diff| > 0: p = 0.983\n",
      "    diff < 0: p = 0.509\n",
      "    diff > 0: p = 0.491\n",
      "visitDuration_monitorFull:\n",
      "  mean 0 = 71.488; mean 1 = 91.885\n",
      "  Independent t-test:\n",
      "   ~|diff| > 0: p = 0.140\n",
      "   *diff < 0: p = 0.070\n",
      "    diff > 0: p = 0.930\n",
      "visitDuration_monitorBlank:\n",
      "  mean 0 = 7.295; mean 1 = 7.178\n",
      "  Independent t-test:\n",
      "    |diff| > 0: p = 0.966\n",
      "    diff < 0: p = 0.517\n",
      "    diff > 0: p = 0.483\n",
      "visitDuration_monitorApgarTimer:\n",
      "  mean 0 = 5.619; mean 1 = 7.844\n",
      "  Independent t-test:\n",
      "    |diff| > 0: p = 0.550\n",
      "    diff < 0: p = 0.275\n",
      "    diff > 0: p = 0.725\n",
      "visitDuration_monitorHeartRate:\n",
      "  mean 0 = 14.380; mean 1 = 14.150\n",
      "  Independent t-test:\n",
      "    |diff| > 0: p = 0.974\n",
      "    diff < 0: p = 0.513\n",
      "    diff > 0: p = 0.487\n",
      "visitDuration_monitorSpO2:\n",
      "  mean 0 = 20.448; mean 1 = 33.879\n",
      "  Independent t-test:\n",
      "    |diff| > 0: p = 0.261\n",
      "   ~diff < 0: p = 0.131\n",
      "    diff > 0: p = 0.869\n",
      "visitDuration_combinedFiO2:\n",
      "  mean 0 = 14.546; mean 1 = 9.478\n",
      "  Independent t-test:\n",
      "   ~|diff| > 0: p = 0.147\n",
      "    diff < 0: p = 0.926\n",
      "   *diff > 0: p = 0.074\n",
      "visitDuration_combinedSpO2:\n",
      "  mean 0 = 35.674; mean 1 = 52.160\n",
      "  Independent t-test:\n",
      "    |diff| > 0: p = 0.209\n",
      "   ~diff < 0: p = 0.104\n",
      "    diff > 0: p = 0.896\n"
     ]
    }
   ],
   "source": [
    "statistics.test_gaze_duration_outcomes(rn_cumulativeNICU13_easy_pairing, paired=False)"
   ]
  },
  {
   "cell_type": "markdown",
   "metadata": {},
   "source": [
    "### Hard Scenarios"
   ]
  },
  {
   "cell_type": "code",
   "execution_count": 32,
   "metadata": {
    "scrolled": true
   },
   "outputs": [
    {
     "name": "stdout",
     "output_type": "stream",
     "text": [
      "Pairing against cumulativeNICU13:\n",
      "  0: <13CumulativeNICUYears vs. 1: >=13CumulativeNICUYears\n",
      "  6 0 examples vs. 10 1 examples.\n",
      "  Paired t-test alternative hypotheses:\n",
      "    Ha left-tailed (diff < 0): mean 0 - mean 1 < 0\n",
      "    Ha two-tailed (|diff| > 0): mean 0 - mean 1 != 0\n",
      "    Ha right-tailed (diff > 0): mean 0 - mean 1 > 0\n"
     ]
    }
   ],
   "source": [
    "rn_cumulativeNICU13_hard_pairing = statistics.build_pairing(\n",
    "    education_hard_pairing[0], 'cumulativeNICU13',\n",
    "    intersect_subjects=False, check_validity=False\n",
    ")\n",
    "rn_cumulativeNICU13_hard_pairing.describe()"
   ]
  },
  {
   "cell_type": "code",
   "execution_count": 33,
   "metadata": {
    "scrolled": true
   },
   "outputs": [
    {
     "name": "stdout",
     "output_type": "stream",
     "text": [
      "visitDuration_infant:\n",
      "  mean 0 = 85.994; mean 1 = 65.415\n",
      "  Independent t-test:\n",
      "    |diff| > 0: p = 0.366\n",
      "    diff < 0: p = 0.817\n",
      "   ~diff > 0: p = 0.183\n",
      "visitDuration_warmerInstrumentPanel:\n",
      "  mean 0 = 14.000; mean 1 = 8.394\n",
      "  Independent t-test:\n",
      "    |diff| > 0: p = 0.259\n",
      "    diff < 0: p = 0.871\n",
      "   ~diff > 0: p = 0.129\n",
      "visitDuration_fiO2Dial:\n",
      "  mean 0 = 5.798; mean 1 = 5.228\n",
      "  Independent t-test:\n",
      "    |diff| > 0: p = 0.644\n",
      "    diff < 0: p = 0.678\n",
      "    diff > 0: p = 0.322\n",
      "visitDuration_spO2ReferenceTable:\n",
      "  mean 0 = 3.389; mean 1 = 4.311\n",
      "  Independent t-test:\n",
      "    |diff| > 0: p = 0.559\n",
      "    diff < 0: p = 0.279\n",
      "    diff > 0: p = 0.721\n",
      "visitDuration_monitorFull:\n",
      "  mean 0 = 80.382; mean 1 = 103.812\n",
      "  Independent t-test:\n",
      "   ~|diff| > 0: p = 0.109\n",
      "   *diff < 0: p = 0.055\n",
      "    diff > 0: p = 0.945\n",
      "visitDuration_monitorBlank:\n",
      "  mean 0 = 11.854; mean 1 = 5.722\n",
      "  Independent t-test:\n",
      "   ~|diff| > 0: p = 0.178\n",
      "    diff < 0: p = 0.911\n",
      "   *diff > 0: p = 0.089\n",
      "visitDuration_monitorApgarTimer:\n",
      "  mean 0 = 4.809; mean 1 = 13.233\n",
      "  Independent t-test:\n",
      "   ~|diff| > 0: p = 0.199\n",
      "   *diff < 0: p = 0.099\n",
      "    diff > 0: p = 0.901\n",
      "visitDuration_monitorHeartRate:\n",
      "  mean 0 = 15.919; mean 1 = 28.667\n",
      "  Independent t-test:\n",
      "  **|diff| > 0: p = 0.024\n",
      "  **diff < 0: p = 0.012\n",
      "    diff > 0: p = 0.988\n",
      "visitDuration_monitorSpO2:\n",
      "  mean 0 = 23.384; mean 1 = 29.962\n",
      "  Independent t-test:\n",
      "    |diff| > 0: p = 0.460\n",
      "    diff < 0: p = 0.230\n",
      "    diff > 0: p = 0.770\n",
      "visitDuration_combinedFiO2:\n",
      "  mean 0 = 9.934; mean 1 = 10.370\n",
      "  Independent t-test:\n",
      "    |diff| > 0: p = 0.880\n",
      "    diff < 0: p = 0.440\n",
      "    diff > 0: p = 0.560\n",
      "visitDuration_combinedSpO2:\n",
      "  mean 0 = 36.630; mean 1 = 42.245\n",
      "  Independent t-test:\n",
      "    |diff| > 0: p = 0.491\n",
      "    diff < 0: p = 0.245\n",
      "    diff > 0: p = 0.755\n"
     ]
    }
   ],
   "source": [
    "statistics.test_gaze_duration_outcomes(rn_cumulativeNICU13_hard_pairing, paired=False)"
   ]
  },
  {
   "cell_type": "markdown",
   "metadata": {},
   "source": [
    "## MD: Resuscitations in L&D in past year, split at 20"
   ]
  },
  {
   "cell_type": "markdown",
   "metadata": {},
   "source": [
    "### Combined scenarios"
   ]
  },
  {
   "cell_type": "code",
   "execution_count": 34,
   "metadata": {},
   "outputs": [
    {
     "name": "stdout",
     "output_type": "stream",
     "text": [
      "Pairing against resusLD20:\n",
      "  0: <20LDResusPastYear vs. 1: >=20LDResusPastYear\n",
      "  18 0 examples vs. 10 1 examples.\n",
      "  Paired t-test alternative hypotheses:\n",
      "    Ha left-tailed (diff < 0): mean 0 - mean 1 < 0\n",
      "    Ha two-tailed (|diff| > 0): mean 0 - mean 1 != 0\n",
      "    Ha right-tailed (diff > 0): mean 0 - mean 1 > 0\n"
     ]
    }
   ],
   "source": [
    "md_resusLD20_pairing = statistics.build_pairing(\n",
    "    education_pairing[1], 'resusLD20',\n",
    "    intersect_subjects=False, check_validity=False\n",
    ")\n",
    "md_resusLD20_pairing.describe()"
   ]
  },
  {
   "cell_type": "code",
   "execution_count": 35,
   "metadata": {
    "scrolled": true
   },
   "outputs": [
    {
     "name": "stdout",
     "output_type": "stream",
     "text": [
      "visitDuration_infant:\n",
      "  mean 0 = 44.519; mean 1 = 63.140\n",
      "  Independent t-test:\n",
      "   ~|diff| > 0: p = 0.146\n",
      "   *diff < 0: p = 0.073\n",
      "    diff > 0: p = 0.927\n",
      "visitDuration_warmerInstrumentPanel:\n",
      "  mean 0 = 20.544; mean 1 = 15.326\n",
      "  Independent t-test:\n",
      "    |diff| > 0: p = 0.440\n",
      "    diff < 0: p = 0.780\n",
      "    diff > 0: p = 0.220\n",
      "visitDuration_fiO2Dial:\n",
      "  mean 0 = 4.724; mean 1 = 6.346\n",
      "  Independent t-test:\n",
      "    |diff| > 0: p = 0.389\n",
      "   ~diff < 0: p = 0.195\n",
      "    diff > 0: p = 0.805\n",
      "visitDuration_spO2ReferenceTable:\n",
      "  mean 0 = 4.390; mean 1 = 3.671\n",
      "  Independent t-test:\n",
      "    |diff| > 0: p = 0.747\n",
      "    diff < 0: p = 0.626\n",
      "    diff > 0: p = 0.374\n",
      "visitDuration_monitorFull:\n",
      "  mean 0 = 107.999; mean 1 = 112.311\n",
      "  Independent t-test:\n",
      "    |diff| > 0: p = 0.716\n",
      "    diff < 0: p = 0.358\n",
      "    diff > 0: p = 0.642\n",
      "visitDuration_monitorBlank:\n",
      "  mean 0 = 17.451; mean 1 = 6.386\n",
      "  Independent t-test:\n",
      "  **|diff| > 0: p = 0.015\n",
      "    diff < 0: p = 0.993\n",
      "  **diff > 0: p = 0.007\n",
      "visitDuration_monitorApgarTimer:\n",
      "  mean 0 = 9.782; mean 1 = 15.682\n",
      "  Independent t-test:\n",
      "    |diff| > 0: p = 0.239\n",
      "   ~diff < 0: p = 0.120\n",
      "    diff > 0: p = 0.880\n",
      "visitDuration_monitorHeartRate:\n",
      "  mean 0 = 23.987; mean 1 = 26.953\n",
      "  Independent t-test:\n",
      "    |diff| > 0: p = 0.576\n",
      "    diff < 0: p = 0.288\n",
      "    diff > 0: p = 0.712\n",
      "visitDuration_monitorSpO2:\n",
      "  mean 0 = 25.929; mean 1 = 28.097\n",
      "  Independent t-test:\n",
      "    |diff| > 0: p = 0.747\n",
      "    diff < 0: p = 0.373\n",
      "    diff > 0: p = 0.627\n",
      "visitDuration_combinedFiO2:\n",
      "  mean 0 = 10.816; mean 1 = 12.589\n",
      "  Independent t-test:\n",
      "    |diff| > 0: p = 0.648\n",
      "    diff < 0: p = 0.324\n",
      "    diff > 0: p = 0.676\n",
      "visitDuration_combinedSpO2:\n",
      "  mean 0 = 40.293; mean 1 = 50.359\n",
      "  Independent t-test:\n",
      "    |diff| > 0: p = 0.337\n",
      "   ~diff < 0: p = 0.168\n",
      "    diff > 0: p = 0.832\n"
     ]
    }
   ],
   "source": [
    "statistics.test_gaze_duration_outcomes(md_resusLD20_pairing, paired=False)"
   ]
  },
  {
   "cell_type": "markdown",
   "metadata": {},
   "source": [
    "### Easy Scenarios"
   ]
  },
  {
   "cell_type": "code",
   "execution_count": 36,
   "metadata": {
    "scrolled": true
   },
   "outputs": [
    {
     "name": "stdout",
     "output_type": "stream",
     "text": [
      "Pairing against resusLD20:\n",
      "  0: <20LDResusPastYear vs. 1: >=20LDResusPastYear\n",
      "  8 0 examples vs. 4 1 examples.\n",
      "  Paired t-test alternative hypotheses:\n",
      "    Ha left-tailed (diff < 0): mean 0 - mean 1 < 0\n",
      "    Ha two-tailed (|diff| > 0): mean 0 - mean 1 != 0\n",
      "    Ha right-tailed (diff > 0): mean 0 - mean 1 > 0\n"
     ]
    }
   ],
   "source": [
    "md_resusLD20_easy_pairing = statistics.build_pairing(\n",
    "    education_easy_pairing[1], 'resusLD20',\n",
    "    intersect_subjects=False, check_validity=False\n",
    ")\n",
    "md_resusLD20_easy_pairing.describe()"
   ]
  },
  {
   "cell_type": "code",
   "execution_count": 37,
   "metadata": {
    "scrolled": true
   },
   "outputs": [
    {
     "name": "stdout",
     "output_type": "stream",
     "text": [
      "visitDuration_infant:\n",
      "  mean 0 = 31.834; mean 1 = 52.417\n",
      "  Independent t-test:\n",
      "    |diff| > 0: p = 0.272\n",
      "   ~diff < 0: p = 0.136\n",
      "    diff > 0: p = 0.864\n",
      "visitDuration_warmerInstrumentPanel:\n",
      "  mean 0 = 15.916; mean 1 = 13.337\n",
      "  Independent t-test:\n",
      "    |diff| > 0: p = 0.795\n",
      "    diff < 0: p = 0.602\n",
      "    diff > 0: p = 0.398\n",
      "visitDuration_fiO2Dial:\n",
      "  mean 0 = 6.451; mean 1 = 9.773\n",
      "  Independent t-test:\n",
      "    |diff| > 0: p = 0.410\n",
      "    diff < 0: p = 0.205\n",
      "    diff > 0: p = 0.795\n",
      "visitDuration_spO2ReferenceTable:\n",
      "  mean 0 = 8.148; mean 1 = 7.253\n",
      "  Independent t-test:\n",
      "    |diff| > 0: p = 0.839\n",
      "    diff < 0: p = 0.580\n",
      "    diff > 0: p = 0.420\n",
      "visitDuration_monitorFull:\n",
      "  mean 0 = 115.726; mean 1 = 119.295\n",
      "  Independent t-test:\n",
      "    |diff| > 0: p = 0.839\n",
      "    diff < 0: p = 0.419\n",
      "    diff > 0: p = 0.581\n",
      "visitDuration_monitorBlank:\n",
      "  mean 0 = 16.536; mean 1 = 4.309\n",
      "  Independent t-test:\n",
      "  **|diff| > 0: p = 0.041\n",
      "    diff < 0: p = 0.979\n",
      "  **diff > 0: p = 0.021\n",
      "visitDuration_monitorApgarTimer:\n",
      "  mean 0 = 9.395; mean 1 = 15.851\n",
      "  Independent t-test:\n",
      "    |diff| > 0: p = 0.324\n",
      "   ~diff < 0: p = 0.162\n",
      "    diff > 0: p = 0.838\n",
      "visitDuration_monitorHeartRate:\n",
      "  mean 0 = 21.432; mean 1 = 17.766\n",
      "  Independent t-test:\n",
      "    |diff| > 0: p = 0.629\n",
      "    diff < 0: p = 0.685\n",
      "    diff > 0: p = 0.315\n",
      "visitDuration_monitorSpO2:\n",
      "  mean 0 = 34.516; mean 1 = 38.140\n",
      "  Independent t-test:\n",
      "    |diff| > 0: p = 0.771\n",
      "    diff < 0: p = 0.386\n",
      "    diff > 0: p = 0.614\n",
      "visitDuration_combinedFiO2:\n",
      "  mean 0 = 10.012; mean 1 = 14.291\n",
      "  Independent t-test:\n",
      "    |diff| > 0: p = 0.274\n",
      "   ~diff < 0: p = 0.137\n",
      "    diff > 0: p = 0.863\n",
      "visitDuration_combinedSpO2:\n",
      "  mean 0 = 52.950; mean 1 = 72.592\n",
      "  Independent t-test:\n",
      "    |diff| > 0: p = 0.251\n",
      "   ~diff < 0: p = 0.126\n",
      "    diff > 0: p = 0.874\n"
     ]
    }
   ],
   "source": [
    "statistics.test_gaze_duration_outcomes(md_resusLD20_easy_pairing, paired=False)"
   ]
  },
  {
   "cell_type": "markdown",
   "metadata": {},
   "source": [
    "### Hard Scenarios"
   ]
  },
  {
   "cell_type": "code",
   "execution_count": 38,
   "metadata": {
    "scrolled": true
   },
   "outputs": [
    {
     "name": "stdout",
     "output_type": "stream",
     "text": [
      "Pairing against resusLD20:\n",
      "  0: <20LDResusPastYear vs. 1: >=20LDResusPastYear\n",
      "  10 0 examples vs. 6 1 examples.\n",
      "  Paired t-test alternative hypotheses:\n",
      "    Ha left-tailed (diff < 0): mean 0 - mean 1 < 0\n",
      "    Ha two-tailed (|diff| > 0): mean 0 - mean 1 != 0\n",
      "    Ha right-tailed (diff > 0): mean 0 - mean 1 > 0\n"
     ]
    }
   ],
   "source": [
    "md_resusLD20_hard_pairing = statistics.build_pairing(\n",
    "    education_hard_pairing[1], 'resusLD20',\n",
    "    intersect_subjects=False, check_validity=False\n",
    ")\n",
    "md_resusLD20_hard_pairing.describe()"
   ]
  },
  {
   "cell_type": "code",
   "execution_count": 39,
   "metadata": {
    "scrolled": true
   },
   "outputs": [
    {
     "name": "stdout",
     "output_type": "stream",
     "text": [
      "visitDuration_infant:\n",
      "  mean 0 = 54.666; mean 1 = 70.289\n",
      "  Independent t-test:\n",
      "    |diff| > 0: p = 0.360\n",
      "   ~diff < 0: p = 0.180\n",
      "    diff > 0: p = 0.820\n",
      "visitDuration_warmerInstrumentPanel:\n",
      "  mean 0 = 24.246; mean 1 = 16.652\n",
      "  Independent t-test:\n",
      "    |diff| > 0: p = 0.429\n",
      "    diff < 0: p = 0.785\n",
      "    diff > 0: p = 0.215\n",
      "visitDuration_fiO2Dial:\n",
      "  mean 0 = 3.343; mean 1 = 4.062\n",
      "  Independent t-test:\n",
      "    |diff| > 0: p = 0.497\n",
      "    diff < 0: p = 0.248\n",
      "    diff > 0: p = 0.752\n",
      "visitDuration_spO2ReferenceTable:\n",
      "  mean 0 = 1.384; mean 1 = 1.283\n",
      "  Independent t-test:\n",
      "    |diff| > 0: p = 0.903\n",
      "    diff < 0: p = 0.549\n",
      "    diff > 0: p = 0.451\n",
      "visitDuration_monitorFull:\n",
      "  mean 0 = 101.818; mean 1 = 107.656\n",
      "  Independent t-test:\n",
      "    |diff| > 0: p = 0.726\n",
      "    diff < 0: p = 0.363\n",
      "    diff > 0: p = 0.637\n",
      "visitDuration_monitorBlank:\n",
      "  mean 0 = 18.183; mean 1 = 7.771\n",
      "  Independent t-test:\n",
      "   ~|diff| > 0: p = 0.133\n",
      "    diff < 0: p = 0.934\n",
      "   *diff > 0: p = 0.066\n",
      "visitDuration_monitorApgarTimer:\n",
      "  mean 0 = 10.091; mean 1 = 15.569\n",
      "  Independent t-test:\n",
      "    |diff| > 0: p = 0.479\n",
      "    diff < 0: p = 0.240\n",
      "    diff > 0: p = 0.760\n",
      "visitDuration_monitorHeartRate:\n",
      "  mean 0 = 26.031; mean 1 = 33.078\n",
      "  Independent t-test:\n",
      "    |diff| > 0: p = 0.323\n",
      "   ~diff < 0: p = 0.162\n",
      "    diff > 0: p = 0.838\n",
      "visitDuration_monitorSpO2:\n",
      "  mean 0 = 19.059; mean 1 = 21.401\n",
      "  Independent t-test:\n",
      "    |diff| > 0: p = 0.687\n",
      "    diff < 0: p = 0.343\n",
      "    diff > 0: p = 0.657\n",
      "visitDuration_combinedFiO2:\n",
      "  mean 0 = 11.459; mean 1 = 11.454\n",
      "  Independent t-test:\n",
      "    |diff| > 0: p = 0.999\n",
      "    diff < 0: p = 0.500\n",
      "    diff > 0: p = 0.500\n",
      "visitDuration_combinedSpO2:\n",
      "  mean 0 = 30.168; mean 1 = 35.538\n",
      "  Independent t-test:\n",
      "    |diff| > 0: p = 0.596\n",
      "    diff < 0: p = 0.298\n",
      "    diff > 0: p = 0.702\n"
     ]
    }
   ],
   "source": [
    "statistics.test_gaze_duration_outcomes(md_resusLD20_hard_pairing, paired=False)"
   ]
  },
  {
   "cell_type": "markdown",
   "metadata": {},
   "source": [
    "## RN: Resuscitations in L&D in past year, split at 0"
   ]
  },
  {
   "cell_type": "markdown",
   "metadata": {},
   "source": [
    "### Combined scenarios"
   ]
  },
  {
   "cell_type": "code",
   "execution_count": 40,
   "metadata": {},
   "outputs": [
    {
     "name": "stdout",
     "output_type": "stream",
     "text": [
      "Pairing against resusLDnonzero:\n",
      "  0: noLDResusPastYear vs. 1: LDResusPastYear\n",
      "  28 0 examples vs. 4 1 examples.\n",
      "  Paired t-test alternative hypotheses:\n",
      "    Ha left-tailed (diff < 0): mean 0 - mean 1 < 0\n",
      "    Ha two-tailed (|diff| > 0): mean 0 - mean 1 != 0\n",
      "    Ha right-tailed (diff > 0): mean 0 - mean 1 > 0\n"
     ]
    }
   ],
   "source": [
    "rn_resusLDnonzero_pairing = statistics.build_pairing(\n",
    "    education_pairing[0], 'resusLDnonzero',\n",
    "    intersect_subjects=False, check_validity=False\n",
    ")\n",
    "rn_resusLDnonzero_pairing.describe()"
   ]
  },
  {
   "cell_type": "code",
   "execution_count": 41,
   "metadata": {
    "scrolled": true
   },
   "outputs": [
    {
     "name": "stdout",
     "output_type": "stream",
     "text": [
      "visitDuration_infant:\n",
      "  mean 0 = 76.148; mean 1 = 6.163\n",
      "  Independent t-test:\n",
      "  **|diff| > 0: p = 0.000\n",
      "    diff < 0: p = 1.000\n",
      "  **diff > 0: p = 0.000\n",
      "visitDuration_warmerInstrumentPanel:\n",
      "  mean 0 = 12.613; mean 1 = 8.848\n",
      "  Independent t-test:\n",
      "    |diff| > 0: p = 0.532\n",
      "    diff < 0: p = 0.734\n",
      "    diff > 0: p = 0.266\n",
      "visitDuration_fiO2Dial:\n",
      "  mean 0 = 6.562; mean 1 = 4.654\n",
      "  Independent t-test:\n",
      "    |diff| > 0: p = 0.352\n",
      "    diff < 0: p = 0.824\n",
      "   ~diff > 0: p = 0.176\n",
      "visitDuration_spO2ReferenceTable:\n",
      "  mean 0 = 5.259; mean 1 = 6.158\n",
      "  Independent t-test:\n",
      "    |diff| > 0: p = 0.758\n",
      "    diff < 0: p = 0.379\n",
      "    diff > 0: p = 0.621\n",
      "visitDuration_monitorFull:\n",
      "  mean 0 = 84.802; mean 1 = 123.434\n",
      "  Independent t-test:\n",
      "  **|diff| > 0: p = 0.006\n",
      "  **diff < 0: p = 0.003\n",
      "    diff > 0: p = 0.997\n",
      "visitDuration_monitorBlank:\n",
      "  mean 0 = 8.052; mean 1 = 4.609\n",
      "  Independent t-test:\n",
      "    |diff| > 0: p = 0.364\n",
      "    diff < 0: p = 0.818\n",
      "   ~diff > 0: p = 0.182\n",
      "visitDuration_monitorApgarTimer:\n",
      "  mean 0 = 5.569; mean 1 = 29.352\n",
      "  Independent t-test:\n",
      "  **|diff| > 0: p = 0.000\n",
      "  **diff < 0: p = 0.000\n",
      "    diff > 0: p = 1.000\n",
      "visitDuration_monitorHeartRate:\n",
      "  mean 0 = 18.550; mean 1 = 22.644\n",
      "  Independent t-test:\n",
      "    |diff| > 0: p = 0.564\n",
      "    diff < 0: p = 0.282\n",
      "    diff > 0: p = 0.718\n",
      "visitDuration_monitorSpO2:\n",
      "  mean 0 = 28.962; mean 1 = 22.619\n",
      "  Independent t-test:\n",
      "    |diff| > 0: p = 0.550\n",
      "    diff < 0: p = 0.725\n",
      "    diff > 0: p = 0.275\n",
      "visitDuration_combinedFiO2:\n",
      "  mean 0 = 10.653; mean 1 = 11.767\n",
      "  Independent t-test:\n",
      "    |diff| > 0: p = 0.733\n",
      "    diff < 0: p = 0.366\n",
      "    diff > 0: p = 0.634\n",
      "visitDuration_combinedSpO2:\n",
      "  mean 0 = 43.815; mean 1 = 37.763\n",
      "  Independent t-test:\n",
      "    |diff| > 0: p = 0.588\n",
      "    diff < 0: p = 0.706\n",
      "    diff > 0: p = 0.294\n"
     ]
    }
   ],
   "source": [
    "statistics.test_gaze_duration_outcomes(rn_resusLDnonzero_pairing, paired=False)"
   ]
  },
  {
   "cell_type": "markdown",
   "metadata": {},
   "source": [
    "### Easy Scenarios"
   ]
  },
  {
   "cell_type": "code",
   "execution_count": 42,
   "metadata": {
    "scrolled": true
   },
   "outputs": [
    {
     "name": "stdout",
     "output_type": "stream",
     "text": [
      "Pairing against resusLDnonzero:\n",
      "  0: noLDResusPastYear vs. 1: LDResusPastYear\n",
      "  14 0 examples vs. 2 1 examples.\n",
      "  Paired t-test alternative hypotheses:\n",
      "    Ha left-tailed (diff < 0): mean 0 - mean 1 < 0\n",
      "    Ha two-tailed (|diff| > 0): mean 0 - mean 1 != 0\n",
      "    Ha right-tailed (diff > 0): mean 0 - mean 1 > 0\n"
     ]
    }
   ],
   "source": [
    "rn_resusLDnonzero_easy_pairing = statistics.build_pairing(\n",
    "    education_easy_pairing[0], 'resusLDnonzero',\n",
    "    intersect_subjects=False, check_validity=False\n",
    ")\n",
    "rn_resusLDnonzero_easy_pairing.describe()"
   ]
  },
  {
   "cell_type": "code",
   "execution_count": 43,
   "metadata": {
    "scrolled": true
   },
   "outputs": [
    {
     "name": "stdout",
     "output_type": "stream",
     "text": [
      "visitDuration_infant:\n",
      "  mean 0 = 69.104; mean 1 = 9.618\n",
      "  Independent t-test:\n",
      "  **|diff| > 0: p = 0.016\n",
      "    diff < 0: p = 0.992\n",
      "  **diff > 0: p = 0.008\n",
      "visitDuration_warmerInstrumentPanel:\n",
      "  mean 0 = 14.948; mean 1 = 5.678\n",
      "  Independent t-test:\n",
      "    |diff| > 0: p = 0.348\n",
      "    diff < 0: p = 0.826\n",
      "   ~diff > 0: p = 0.174\n",
      "visitDuration_fiO2Dial:\n",
      "  mean 0 = 7.268; mean 1 = 6.758\n",
      "  Independent t-test:\n",
      "    |diff| > 0: p = 0.893\n",
      "    diff < 0: p = 0.554\n",
      "    diff > 0: p = 0.446\n",
      "visitDuration_spO2ReferenceTable:\n",
      "  mean 0 = 6.787; mean 1 = 6.718\n",
      "  Independent t-test:\n",
      "    |diff| > 0: p = 0.990\n",
      "    diff < 0: p = 0.505\n",
      "    diff > 0: p = 0.495\n",
      "visitDuration_monitorFull:\n",
      "  mean 0 = 82.532; mean 1 = 96.169\n",
      "  Independent t-test:\n",
      "    |diff| > 0: p = 0.514\n",
      "    diff < 0: p = 0.257\n",
      "    diff > 0: p = 0.743\n",
      "visitDuration_monitorBlank:\n",
      "  mean 0 = 7.110; mean 1 = 8.008\n",
      "  Independent t-test:\n",
      "    |diff| > 0: p = 0.822\n",
      "    diff < 0: p = 0.411\n",
      "    diff > 0: p = 0.589\n",
      "visitDuration_monitorApgarTimer:\n",
      "  mean 0 = 5.290; mean 1 = 19.045\n",
      "  Independent t-test:\n",
      "  **|diff| > 0: p = 0.004\n",
      "  **diff < 0: p = 0.002\n",
      "    diff > 0: p = 0.998\n",
      "visitDuration_monitorHeartRate:\n",
      "  mean 0 = 14.642; mean 1 = 11.397\n",
      "  Independent t-test:\n",
      "    |diff| > 0: p = 0.754\n",
      "    diff < 0: p = 0.623\n",
      "    diff > 0: p = 0.377\n",
      "visitDuration_monitorSpO2:\n",
      "  mean 0 = 29.168; mean 1 = 26.563\n",
      "  Independent t-test:\n",
      "    |diff| > 0: p = 0.884\n",
      "    diff < 0: p = 0.558\n",
      "    diff > 0: p = 0.442\n",
      "visitDuration_combinedFiO2:\n",
      "  mean 0 = 11.370; mean 1 = 11.437\n",
      "  Independent t-test:\n",
      "    |diff| > 0: p = 0.990\n",
      "    diff < 0: p = 0.495\n",
      "    diff > 0: p = 0.505\n",
      "visitDuration_combinedSpO2:\n",
      "  mean 0 = 47.151; mean 1 = 37.765\n",
      "  Independent t-test:\n",
      "    |diff| > 0: p = 0.633\n",
      "    diff < 0: p = 0.683\n",
      "    diff > 0: p = 0.317\n"
     ]
    }
   ],
   "source": [
    "statistics.test_gaze_duration_outcomes(rn_resusLDnonzero_easy_pairing, paired=False)"
   ]
  },
  {
   "cell_type": "markdown",
   "metadata": {},
   "source": [
    "### Hard Scenarios"
   ]
  },
  {
   "cell_type": "code",
   "execution_count": 44,
   "metadata": {
    "scrolled": true
   },
   "outputs": [
    {
     "name": "stdout",
     "output_type": "stream",
     "text": [
      "Pairing against resusLDnonzero:\n",
      "  0: noLDResusPastYear vs. 1: LDResusPastYear\n",
      "  14 0 examples vs. 2 1 examples.\n",
      "  Paired t-test alternative hypotheses:\n",
      "    Ha left-tailed (diff < 0): mean 0 - mean 1 < 0\n",
      "    Ha two-tailed (|diff| > 0): mean 0 - mean 1 != 0\n",
      "    Ha right-tailed (diff > 0): mean 0 - mean 1 > 0\n"
     ]
    }
   ],
   "source": [
    "rn_resusLDnonzero_hard_pairing = statistics.build_pairing(\n",
    "    education_hard_pairing[0], 'resusLDnonzero',\n",
    "    intersect_subjects=False, check_validity=False\n",
    ")\n",
    "rn_resusLDnonzero_hard_pairing.describe()"
   ]
  },
  {
   "cell_type": "code",
   "execution_count": 45,
   "metadata": {
    "scrolled": false
   },
   "outputs": [
    {
     "name": "stdout",
     "output_type": "stream",
     "text": [
      "visitDuration_infant:\n",
      "  mean 0 = 83.193; mean 1 = 2.709\n",
      "  Independent t-test:\n",
      "  **|diff| > 0: p = 0.007\n",
      "    diff < 0: p = 0.997\n",
      "  **diff > 0: p = 0.003\n",
      "visitDuration_warmerInstrumentPanel:\n",
      "  mean 0 = 10.279; mean 1 = 12.017\n",
      "  Independent t-test:\n",
      "    |diff| > 0: p = 0.815\n",
      "    diff < 0: p = 0.408\n",
      "    diff > 0: p = 0.592\n",
      "visitDuration_fiO2Dial:\n",
      "  mean 0 = 5.855; mean 1 = 2.549\n",
      "  Independent t-test:\n",
      "   *|diff| > 0: p = 0.051\n",
      "    diff < 0: p = 0.975\n",
      "  **diff > 0: p = 0.025\n",
      "visitDuration_spO2ReferenceTable:\n",
      "  mean 0 = 3.732; mean 1 = 5.599\n",
      "  Independent t-test:\n",
      "    |diff| > 0: p = 0.416\n",
      "    diff < 0: p = 0.208\n",
      "    diff > 0: p = 0.792\n",
      "visitDuration_monitorFull:\n",
      "  mean 0 = 87.073; mean 1 = 150.699\n",
      "  Independent t-test:\n",
      "  **|diff| > 0: p = 0.000\n",
      "  **diff < 0: p = 0.000\n",
      "    diff > 0: p = 1.000\n",
      "visitDuration_monitorBlank:\n",
      "  mean 0 = 8.994; mean 1 = 1.210\n",
      "  Independent t-test:\n",
      "    |diff| > 0: p = 0.247\n",
      "    diff < 0: p = 0.876\n",
      "   ~diff > 0: p = 0.124\n",
      "visitDuration_monitorApgarTimer:\n",
      "  mean 0 = 5.847; mean 1 = 39.659\n",
      "  Independent t-test:\n",
      "  **|diff| > 0: p = 0.000\n",
      "  **diff < 0: p = 0.000\n",
      "    diff > 0: p = 1.000\n",
      "visitDuration_monitorHeartRate:\n",
      "  mean 0 = 22.457; mean 1 = 33.891\n",
      "  Independent t-test:\n",
      "   ~|diff| > 0: p = 0.194\n",
      "   *diff < 0: p = 0.097\n",
      "    diff > 0: p = 0.903\n",
      "visitDuration_monitorSpO2:\n",
      "  mean 0 = 28.755; mean 1 = 18.675\n",
      "  Independent t-test:\n",
      "    |diff| > 0: p = 0.439\n",
      "    diff < 0: p = 0.780\n",
      "    diff > 0: p = 0.220\n",
      "visitDuration_combinedFiO2:\n",
      "  mean 0 = 9.937; mean 1 = 12.097\n",
      "  Independent t-test:\n",
      "    |diff| > 0: p = 0.607\n",
      "    diff < 0: p = 0.304\n",
      "    diff > 0: p = 0.696\n",
      "visitDuration_combinedSpO2:\n",
      "  mean 0 = 40.479; mean 1 = 37.760\n",
      "  Independent t-test:\n",
      "    |diff| > 0: p = 0.821\n",
      "    diff < 0: p = 0.589\n",
      "    diff > 0: p = 0.411\n"
     ]
    }
   ],
   "source": [
    "statistics.test_gaze_duration_outcomes(rn_resusLDnonzero_hard_pairing, paired=False)"
   ]
  },
  {
   "cell_type": "markdown",
   "metadata": {},
   "source": [
    "## Correlations"
   ]
  },
  {
   "cell_type": "code",
   "execution_count": 46,
   "metadata": {},
   "outputs": [
    {
     "data": {
      "text/plain": [
       "array([[<matplotlib.axes._subplots.AxesSubplot object at 0x7fdbc5ee0160>,\n",
       "        <matplotlib.axes._subplots.AxesSubplot object at 0x7fdbc61d5710>,\n",
       "        <matplotlib.axes._subplots.AxesSubplot object at 0x7fdbc601eef0>,\n",
       "        <matplotlib.axes._subplots.AxesSubplot object at 0x7fdbc613fda0>,\n",
       "        <matplotlib.axes._subplots.AxesSubplot object at 0x7fdbc61adf98>],\n",
       "       [<matplotlib.axes._subplots.AxesSubplot object at 0x7fdbc61adcf8>,\n",
       "        <matplotlib.axes._subplots.AxesSubplot object at 0x7fdbc6051c50>,\n",
       "        <matplotlib.axes._subplots.AxesSubplot object at 0x7fdbc3e13438>,\n",
       "        <matplotlib.axes._subplots.AxesSubplot object at 0x7fdbc3dd6b00>,\n",
       "        <matplotlib.axes._subplots.AxesSubplot object at 0x7fdbc3d46278>],\n",
       "       [<matplotlib.axes._subplots.AxesSubplot object at 0x7fdbc3d18518>,\n",
       "        <matplotlib.axes._subplots.AxesSubplot object at 0x7fdbc3c881d0>,\n",
       "        <matplotlib.axes._subplots.AxesSubplot object at 0x7fdbc3c60b00>,\n",
       "        <matplotlib.axes._subplots.AxesSubplot object at 0x7fdbc3c18ef0>,\n",
       "        <matplotlib.axes._subplots.AxesSubplot object at 0x7fdbc3ba9470>],\n",
       "       [<matplotlib.axes._subplots.AxesSubplot object at 0x7fdbc3b3b400>,\n",
       "        <matplotlib.axes._subplots.AxesSubplot object at 0x7fdbc3af52b0>,\n",
       "        <matplotlib.axes._subplots.AxesSubplot object at 0x7fdbc3a4d978>,\n",
       "        <matplotlib.axes._subplots.AxesSubplot object at 0x7fdbc39c00f0>,\n",
       "        <matplotlib.axes._subplots.AxesSubplot object at 0x7fdbc399d390>],\n",
       "       [<matplotlib.axes._subplots.AxesSubplot object at 0x7fdbc3919048>,\n",
       "        <matplotlib.axes._subplots.AxesSubplot object at 0x7fdbc38d68d0>,\n",
       "        <matplotlib.axes._subplots.AxesSubplot object at 0x7fdbc38560f0>,\n",
       "        <matplotlib.axes._subplots.AxesSubplot object at 0x7fdbc382c240>,\n",
       "        <matplotlib.axes._subplots.AxesSubplot object at 0x7fdbc37e5240>]], dtype=object)"
      ]
     },
     "execution_count": 46,
     "metadata": {},
     "output_type": "execute_result"
    },
    {
     "data": {
      "image/png": "[encoded data removed]",
      "text/plain": [
       "<matplotlib.figure.Figure at 0x7fdbc5ece940>"
      ]
     },
     "metadata": {},
     "output_type": "display_data"
    }
   ],
   "source": [
    "outcomes_df = full_df[statistics.TRACING_OUTCOMES + statistics.DEMO_OUTCOMES]\n",
    "\n",
    "pd.plotting.scatter_matrix(outcomes_df, figsize=(20, 20))"
   ]
  },
  {
   "cell_type": "code",
   "execution_count": 49,
   "metadata": {},
   "outputs": [
    {
     "data": {
      "text/html": [
       "<div>\n",
       "<style scoped>\n",
       "    .dataframe tbody tr th:only-of-type {\n",
       "        vertical-align: middle;\n",
       "    }\n",
       "\n",
       "    .dataframe tbody tr th {\n",
       "        vertical-align: top;\n",
       "    }\n",
       "\n",
       "    .dataframe thead th {\n",
       "        text-align: right;\n",
       "    }\n",
       "</style>\n",
       "<table border=\"1\" class=\"dataframe\">\n",
       "  <thead>\n",
       "    <tr style=\"text-align: right;\">\n",
       "      <th></th>\n",
       "      <th>inSpO2TargetRangeDuration</th>\n",
       "      <th>inSpO2LooseTargetRangeDuration</th>\n",
       "      <th>education</th>\n",
       "      <th>resusLD</th>\n",
       "      <th>cumulativeNICU</th>\n",
       "    </tr>\n",
       "  </thead>\n",
       "  <tbody>\n",
       "    <tr>\n",
       "      <th>inSpO2TargetRangeDuration</th>\n",
       "      <td>1.000000</td>\n",
       "      <td>0.639573</td>\n",
       "      <td>0.223706</td>\n",
       "      <td>0.177249</td>\n",
       "      <td>-0.219380</td>\n",
       "    </tr>\n",
       "    <tr>\n",
       "      <th>inSpO2LooseTargetRangeDuration</th>\n",
       "      <td>0.639573</td>\n",
       "      <td>1.000000</td>\n",
       "      <td>0.084540</td>\n",
       "      <td>0.120907</td>\n",
       "      <td>-0.100954</td>\n",
       "    </tr>\n",
       "    <tr>\n",
       "      <th>education</th>\n",
       "      <td>0.223706</td>\n",
       "      <td>0.084540</td>\n",
       "      <td>1.000000</td>\n",
       "      <td>0.625760</td>\n",
       "      <td>-0.574828</td>\n",
       "    </tr>\n",
       "    <tr>\n",
       "      <th>resusLD</th>\n",
       "      <td>0.177249</td>\n",
       "      <td>0.120907</td>\n",
       "      <td>0.625760</td>\n",
       "      <td>1.000000</td>\n",
       "      <td>-0.122393</td>\n",
       "    </tr>\n",
       "    <tr>\n",
       "      <th>cumulativeNICU</th>\n",
       "      <td>-0.219380</td>\n",
       "      <td>-0.100954</td>\n",
       "      <td>-0.574828</td>\n",
       "      <td>-0.122393</td>\n",
       "      <td>1.000000</td>\n",
       "    </tr>\n",
       "  </tbody>\n",
       "</table>\n",
       "</div>"
      ],
      "text/plain": [
       "                                inSpO2TargetRangeDuration  \\\n",
       "inSpO2TargetRangeDuration                        1.000000   \n",
       "inSpO2LooseTargetRangeDuration                   0.639573   \n",
       "education                                        0.223706   \n",
       "resusLD                                          0.177249   \n",
       "cumulativeNICU                                  -0.219380   \n",
       "\n",
       "                                inSpO2LooseTargetRangeDuration  education  \\\n",
       "inSpO2TargetRangeDuration                             0.639573   0.223706   \n",
       "inSpO2LooseTargetRangeDuration                        1.000000   0.084540   \n",
       "education                                             0.084540   1.000000   \n",
       "resusLD                                               0.120907   0.625760   \n",
       "cumulativeNICU                                       -0.100954  -0.574828   \n",
       "\n",
       "                                 resusLD  cumulativeNICU  \n",
       "inSpO2TargetRangeDuration       0.177249       -0.219380  \n",
       "inSpO2LooseTargetRangeDuration  0.120907       -0.100954  \n",
       "education                       0.625760       -0.574828  \n",
       "resusLD                         1.000000       -0.122393  \n",
       "cumulativeNICU                 -0.122393        1.000000  "
      ]
     },
     "execution_count": 49,
     "metadata": {},
     "output_type": "execute_result"
    }
   ],
   "source": [
    "outcomes_df.corr('pearson')"
   ]
  },
  {
   "cell_type": "code",
   "execution_count": 50,
   "metadata": {},
   "outputs": [
    {
     "data": {
      "text/html": [
       "<div>\n",
       "<style scoped>\n",
       "    .dataframe tbody tr th:only-of-type {\n",
       "        vertical-align: middle;\n",
       "    }\n",
       "\n",
       "    .dataframe tbody tr th {\n",
       "        vertical-align: top;\n",
       "    }\n",
       "\n",
       "    .dataframe thead th {\n",
       "        text-align: right;\n",
       "    }\n",
       "</style>\n",
       "<table border=\"1\" class=\"dataframe\">\n",
       "  <thead>\n",
       "    <tr style=\"text-align: right;\">\n",
       "      <th></th>\n",
       "      <th>inSpO2TargetRangeDuration</th>\n",
       "      <th>inSpO2LooseTargetRangeDuration</th>\n",
       "      <th>education</th>\n",
       "      <th>resusLD</th>\n",
       "      <th>cumulativeNICU</th>\n",
       "    </tr>\n",
       "  </thead>\n",
       "  <tbody>\n",
       "    <tr>\n",
       "      <th>inSpO2TargetRangeDuration</th>\n",
       "      <td>1.000000</td>\n",
       "      <td>0.639535</td>\n",
       "      <td>0.259063</td>\n",
       "      <td>0.250290</td>\n",
       "      <td>-0.172435</td>\n",
       "    </tr>\n",
       "    <tr>\n",
       "      <th>inSpO2LooseTargetRangeDuration</th>\n",
       "      <td>0.639535</td>\n",
       "      <td>1.000000</td>\n",
       "      <td>0.071420</td>\n",
       "      <td>0.051974</td>\n",
       "      <td>-0.034422</td>\n",
       "    </tr>\n",
       "    <tr>\n",
       "      <th>education</th>\n",
       "      <td>0.259063</td>\n",
       "      <td>0.071420</td>\n",
       "      <td>1.000000</td>\n",
       "      <td>0.795719</td>\n",
       "      <td>-0.562408</td>\n",
       "    </tr>\n",
       "    <tr>\n",
       "      <th>resusLD</th>\n",
       "      <td>0.250290</td>\n",
       "      <td>0.051974</td>\n",
       "      <td>0.795719</td>\n",
       "      <td>1.000000</td>\n",
       "      <td>-0.206621</td>\n",
       "    </tr>\n",
       "    <tr>\n",
       "      <th>cumulativeNICU</th>\n",
       "      <td>-0.172435</td>\n",
       "      <td>-0.034422</td>\n",
       "      <td>-0.562408</td>\n",
       "      <td>-0.206621</td>\n",
       "      <td>1.000000</td>\n",
       "    </tr>\n",
       "  </tbody>\n",
       "</table>\n",
       "</div>"
      ],
      "text/plain": [
       "                                inSpO2TargetRangeDuration  \\\n",
       "inSpO2TargetRangeDuration                        1.000000   \n",
       "inSpO2LooseTargetRangeDuration                   0.639535   \n",
       "education                                        0.259063   \n",
       "resusLD                                          0.250290   \n",
       "cumulativeNICU                                  -0.172435   \n",
       "\n",
       "                                inSpO2LooseTargetRangeDuration  education  \\\n",
       "inSpO2TargetRangeDuration                             0.639535   0.259063   \n",
       "inSpO2LooseTargetRangeDuration                        1.000000   0.071420   \n",
       "education                                             0.071420   1.000000   \n",
       "resusLD                                               0.051974   0.795719   \n",
       "cumulativeNICU                                       -0.034422  -0.562408   \n",
       "\n",
       "                                 resusLD  cumulativeNICU  \n",
       "inSpO2TargetRangeDuration       0.250290       -0.172435  \n",
       "inSpO2LooseTargetRangeDuration  0.051974       -0.034422  \n",
       "education                       0.795719       -0.562408  \n",
       "resusLD                         1.000000       -0.206621  \n",
       "cumulativeNICU                 -0.206621        1.000000  "
      ]
     },
     "execution_count": 50,
     "metadata": {},
     "output_type": "execute_result"
    }
   ],
   "source": [
    "outcomes_df.corr('spearman')"
   ]
  },
  {
   "cell_type": "code",
   "execution_count": null,
   "metadata": {},
   "outputs": [],
   "source": []
  }
 ],
 "metadata": {
  "kernelspec": {
   "display_name": "Python 3",
   "language": "python",
   "name": "python3"
  },
  "language_info": {
   "codemirror_mode": {
    "name": "ipython",
    "version": 3
   },
   "file_extension": ".py",
   "mimetype": "text/x-python",
   "name": "python",
   "nbconvert_exporter": "python",
   "pygments_lexer": "ipython3",
   "version": "3.6.5"
  }
 },
 "nbformat": 4,
 "nbformat_minor": 2
}
