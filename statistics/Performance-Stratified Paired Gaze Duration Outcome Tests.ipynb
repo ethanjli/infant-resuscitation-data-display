{
 "cells": [
  {
   "cell_type": "markdown",
   "metadata": {},
   "source": [
    "# Imports"
   ]
  },
  {
   "cell_type": "code",
   "execution_count": 1,
   "metadata": {},
   "outputs": [],
   "source": [
    "%matplotlib inline\n",
    "\n",
    "import scipy as sp\n",
    "from scipy import stats\n",
    "import numpy as np\n",
    "import pandas as pd\n",
    "\n",
    "import statistics"
   ]
  },
  {
   "cell_type": "markdown",
   "metadata": {},
   "source": [
    "# Load Data"
   ]
  },
  {
   "cell_type": "code",
   "execution_count": 2,
   "metadata": {
    "scrolled": false
   },
   "outputs": [
    {
     "data": {
      "text/plain": [
       "Index(['id', 'subjectNumber', 'scenarioNumber', 'newAfterOld', 'scenarioType',\n",
       "       'displayType', 'sensorPlacementTime', 'ppvStartTime', 'ccStartTime',\n",
       "       'inSpO2TargetRangeDuration', 'inSpO2LooseTargetRangeDuration',\n",
       "       'inSpO2TargetRangeStartTime', 'aboveSpO2TargetRangeDuration',\n",
       "       'belowSpO2TargetRangeDuration', 'inFiO2TargetRangeDuration',\n",
       "       'inFiO2TargetRangeStartTime', 'aboveFiO2TargetRangeDuration',\n",
       "       'belowFiO2TargetRangeDuration', 'spO2SignedErrorIntegral',\n",
       "       'spO2UnsignedErrorIntegral', 'spO2SquaredErrorIntegral',\n",
       "       'fiO2LargeAdjustments', 'visitDuration_fiO2Dial',\n",
       "       'visitDuration_infant', 'visitDuration_monitorApgarTimer',\n",
       "       'visitDuration_monitorBlank', 'visitDuration_monitorFiO2',\n",
       "       'visitDuration_monitorFull', 'visitDuration_monitorGraph',\n",
       "       'visitDuration_monitorHeartRate', 'visitDuration_monitorSpO2',\n",
       "       'visitDuration_spO2ReferenceTable',\n",
       "       'visitDuration_warmerInstrumentPanel', 'visitDuration_combinedSpO2',\n",
       "       'visitDuration_combinedFiO2', 'visitCount_fiO2Dial',\n",
       "       'visitCount_infant', 'visitCount_monitorApgarTimer',\n",
       "       'visitCount_monitorBlank', 'visitCount_monitorFiO2',\n",
       "       'visitCount_monitorFull', 'visitCount_monitorGraph',\n",
       "       'visitCount_monitorHeartRate', 'visitCount_monitorSpO2',\n",
       "       'visitCount_spO2ReferenceTable', 'visitCount_warmerInstrumentPanel',\n",
       "       'visitCount_combinedSpO2', 'visitCount_combinedFiO2'],\n",
       "      dtype='object')"
      ]
     },
     "execution_count": 2,
     "metadata": {},
     "output_type": "execute_result"
    }
   ],
   "source": [
    "tracing_df = statistics.load_tracing_features()\n",
    "recording_df = statistics.load_recording_relations()\n",
    "recording_df = statistics.associate_recordings(recording_df, tracing_df)\n",
    "gaze_dfs = statistics.load_gaze_features()\n",
    "statistics.check_gaze_recording_associations(recording_df, gaze_dfs)\n",
    "statistics.compute_gaze_features(gaze_dfs)\n",
    "gaze_df = statistics.combine_gaze_features(gaze_dfs)\n",
    "full_df = statistics.combine_all_features(recording_df, gaze_df)\n",
    "full_df.columns"
   ]
  },
  {
   "cell_type": "markdown",
   "metadata": {},
   "source": [
    "# Error Stratification\n",
    "For each scenario type, we stratify by the total accumulated error across both scenarios of the same type per subject."
   ]
  },
  {
   "cell_type": "code",
   "execution_count": 3,
   "metadata": {
    "scrolled": true
   },
   "outputs": [
    {
     "name": "stdout",
     "output_type": "stream",
     "text": [
      "Lowest-error subjects, easy: [ 9  8  7 12 10]\n",
      "Highest-error subjects, easy: [17 13  4 19 20]\n",
      "Lowest-error subjects, hard: [16  6  9  7 18]\n",
      "Highest-error subjects, hard: [11 17 13  8 15]\n"
     ]
    }
   ],
   "source": [
    "stratification_size = 5\n",
    "scenario_split = statistics.build_split(full_df, 'scenarioType')\n",
    "errors = [\n",
    "    df[['subjectNumber', 'spO2UnsignedErrorIntegral']]\n",
    "    .groupby('subjectNumber')\n",
    "    .sum()\n",
    "    .sort_values(by=['spO2UnsignedErrorIntegral'])\n",
    "    for df in scenario_split.dfs\n",
    "]\n",
    "tails = [\n",
    "    [\n",
    "        df.index[:stratification_size].values,\n",
    "         df.index[-stratification_size:].values\n",
    "    ]\n",
    "    for df in errors\n",
    "]\n",
    "\n",
    "masks = [\n",
    "    [df.subjectNumber.isin(lowest_tail), df.subjectNumber.isin(highest_tail)]\n",
    "    for (df, (lowest_tail, highest_tail)) in zip(scenario_split.dfs, tails)\n",
    "]\n",
    "print('Lowest-error subjects, easy:', tails[0][0])\n",
    "print('Highest-error subjects, easy:', tails[0][1])\n",
    "print('Lowest-error subjects, hard:', tails[1][0])\n",
    "print('Highest-error subjects, hard:', tails[1][1])"
   ]
  },
  {
   "cell_type": "markdown",
   "metadata": {},
   "source": [
    "### Accumulated Absolute Error Stratification, Hard"
   ]
  },
  {
   "cell_type": "code",
   "execution_count": 4,
   "metadata": {},
   "outputs": [
    {
     "name": "stdout",
     "output_type": "stream",
     "text": [
      "Pairing against absoluteError:\n",
      "  0: lowest vs. 1: highest\n",
      "  10 0 vs. 1 pairs.\n"
     ]
    }
   ],
   "source": [
    "error_stratification = statistics.build_stratification(scenario_split.dfs[1], 'absoluteError', ['lowest', 'highest'], masks[1])\n",
    "error_stratification.describe(tests=False)"
   ]
  },
  {
   "cell_type": "code",
   "execution_count": 5,
   "metadata": {},
   "outputs": [],
   "source": [
    "error_display_pairings = [\n",
    "    statistics.build_pairing(df, 'displayType')\n",
    "    for df in error_stratification.dfs\n",
    "]"
   ]
  },
  {
   "cell_type": "markdown",
   "metadata": {},
   "source": [
    "#### Lowest Errors"
   ]
  },
  {
   "cell_type": "code",
   "execution_count": 6,
   "metadata": {},
   "outputs": [
    {
     "name": "stdout",
     "output_type": "stream",
     "text": [
      "Pairing against displayType:\n",
      "  0: minimal vs. 1: full\n",
      "  5 0 vs. 1 pairs.\n",
      "  Paired t-test alternative hypotheses:\n",
      "    Ha left-tailed (diff < 0): mean 0 - mean 1 < 0\n",
      "    Ha two-tailed (|diff| > 0): mean 0 - mean 1 != 0\n",
      "    Ha right-tailed (diff > 0): mean 0 - mean 1 > 0\n",
      "  Wilcoxon signed-rank alternative hypotheses:\n",
      "    Ha left-tailed (P(x > y) < 0.5)\n",
      "    Ha two-tailed (P(x > y) != 0.5)\n",
      "    Ha right-tailed (P(x > y) > 0.5)\n"
     ]
    }
   ],
   "source": [
    "error_display_pairings[0].describe()"
   ]
  },
  {
   "cell_type": "code",
   "execution_count": 7,
   "metadata": {
    "scrolled": true
   },
   "outputs": [
    {
     "name": "stdout",
     "output_type": "stream",
     "text": [
      "visitDuration_infant:\n",
      "  mean diff = 17.004; stdev diff = 21.697\n",
      "  Paired t-test:\n",
      "   ~|diff| > 0: p = 0.192\n",
      "    diff < 0: p = 0.904\n",
      "   *diff > 0: p = 0.096\n",
      "  Wilcoxon signed-rank test:\n",
      "  **P(x > y) != 0.5: p = 0.043\n",
      "    P(x > y) < 0.5: p = 0.978\n",
      "  **P(x > y) > 0.5: p = 0.022\n",
      "visitDuration_warmerInstrumentPanel:\n",
      "  mean diff = 0.704; stdev diff = 5.876\n",
      "  Paired t-test:\n",
      "    |diff| > 0: p = 0.822\n",
      "    diff < 0: p = 0.589\n",
      "    diff > 0: p = 0.411\n",
      "  Wilcoxon signed-rank test:\n",
      "    P(x > y) != 0.5: p = 0.893\n",
      "    P(x > y) < 0.5: p = 0.554\n",
      "    P(x > y) > 0.5: p = 0.446\n",
      "visitDuration_fiO2Dial:\n",
      "  mean diff = 0.620; stdev diff = 2.416\n",
      "  Paired t-test:\n",
      "    |diff| > 0: p = 0.635\n",
      "    diff < 0: p = 0.683\n",
      "    diff > 0: p = 0.317\n",
      "  Wilcoxon signed-rank test:\n",
      "    P(x > y) != 0.5: p = 0.686\n",
      "    P(x > y) < 0.5: p = 0.657\n",
      "    P(x > y) > 0.5: p = 0.343\n",
      "visitDuration_spO2ReferenceTable:\n",
      "  mean diff = 1.832; stdev diff = 1.684\n",
      "  Paired t-test:\n",
      "   *|diff| > 0: p = 0.095\n",
      "    diff < 0: p = 0.952\n",
      "  **diff > 0: p = 0.048\n",
      "  Wilcoxon signed-rank test:\n",
      "   ~P(x > y) != 0.5: p = 0.138\n",
      "    P(x > y) < 0.5: p = 0.931\n",
      "   *P(x > y) > 0.5: p = 0.069\n",
      "visitDuration_monitorFull:\n",
      "  mean diff = -21.330; stdev diff = 26.436\n",
      "  Paired t-test:\n",
      "   ~|diff| > 0: p = 0.182\n",
      "   *diff < 0: p = 0.091\n",
      "    diff > 0: p = 0.909\n",
      "  Wilcoxon signed-rank test:\n",
      "   ~P(x > y) != 0.5: p = 0.138\n",
      "   *P(x > y) < 0.5: p = 0.069\n",
      "    P(x > y) > 0.5: p = 0.931\n",
      "visitDuration_monitorBlank:\n",
      "  mean diff = -2.423; stdev diff = 7.775\n",
      "  Paired t-test:\n",
      "    |diff| > 0: p = 0.567\n",
      "    diff < 0: p = 0.283\n",
      "    diff > 0: p = 0.717\n",
      "  Wilcoxon signed-rank test:\n",
      "    P(x > y) != 0.5: p = 0.686\n",
      "    P(x > y) < 0.5: p = 0.343\n",
      "    P(x > y) > 0.5: p = 0.657\n",
      "visitDuration_monitorApgarTimer:\n",
      "  mean diff = 5.059; stdev diff = 2.823\n",
      "  Paired t-test:\n",
      "  **|diff| > 0: p = 0.023\n",
      "    diff < 0: p = 0.988\n",
      "  **diff > 0: p = 0.012\n",
      "  Wilcoxon signed-rank test:\n",
      "  **P(x > y) != 0.5: p = 0.043\n",
      "    P(x > y) < 0.5: p = 0.978\n",
      "  **P(x > y) > 0.5: p = 0.022\n",
      "visitDuration_monitorHeartRate:\n",
      "  mean diff = 14.105; stdev diff = 9.777\n",
      "  Paired t-test:\n",
      "  **|diff| > 0: p = 0.045\n",
      "    diff < 0: p = 0.978\n",
      "  **diff > 0: p = 0.022\n",
      "  Wilcoxon signed-rank test:\n",
      "   *P(x > y) != 0.5: p = 0.080\n",
      "    P(x > y) < 0.5: p = 0.960\n",
      "  **P(x > y) > 0.5: p = 0.040\n",
      "visitDuration_monitorFiO2:\n",
      "  mean diff = -11.045; stdev diff = 13.884\n",
      "  Paired t-test:\n",
      "   ~|diff| > 0: p = 0.187\n",
      "   *diff < 0: p = 0.093\n",
      "    diff > 0: p = 0.907\n",
      "  Wilcoxon signed-rank test:\n",
      "  **P(x > y) != 0.5: p = 0.043\n",
      "  **P(x > y) < 0.5: p = 0.022\n",
      "    P(x > y) > 0.5: p = 0.978\n",
      "visitDuration_monitorGraph:\n",
      "  mean diff = -27.389; stdev diff = 18.937\n",
      "  Paired t-test:\n",
      "  **|diff| > 0: p = 0.044\n",
      "  **diff < 0: p = 0.022\n",
      "    diff > 0: p = 0.978\n",
      "  Wilcoxon signed-rank test:\n",
      "  **P(x > y) != 0.5: p = 0.043\n",
      "  **P(x > y) < 0.5: p = 0.022\n",
      "    P(x > y) > 0.5: p = 0.978\n",
      "visitDuration_monitorSpO2:\n",
      "  mean diff = 2.527; stdev diff = 9.718\n",
      "  Paired t-test:\n",
      "    |diff| > 0: p = 0.630\n",
      "    diff < 0: p = 0.685\n",
      "    diff > 0: p = 0.315\n",
      "  Wilcoxon signed-rank test:\n",
      "    P(x > y) != 0.5: p = 0.893\n",
      "    P(x > y) < 0.5: p = 0.554\n",
      "    P(x > y) > 0.5: p = 0.446\n",
      "visitDuration_combinedFiO2:\n",
      "  mean diff = -10.425; stdev diff = 13.189\n",
      "  Paired t-test:\n",
      "   ~|diff| > 0: p = 0.189\n",
      "   *diff < 0: p = 0.095\n",
      "    diff > 0: p = 0.905\n",
      "  Wilcoxon signed-rank test:\n",
      "   *P(x > y) != 0.5: p = 0.080\n",
      "  **P(x > y) < 0.5: p = 0.040\n",
      "    P(x > y) > 0.5: p = 0.960\n",
      "visitDuration_combinedSpO2:\n",
      "  mean diff = -23.030; stdev diff = 11.604\n",
      "  Paired t-test:\n",
      "  **|diff| > 0: p = 0.017\n",
      "  **diff < 0: p = 0.008\n",
      "    diff > 0: p = 0.992\n",
      "  Wilcoxon signed-rank test:\n",
      "  **P(x > y) != 0.5: p = 0.043\n",
      "  **P(x > y) < 0.5: p = 0.022\n",
      "    P(x > y) > 0.5: p = 0.978\n"
     ]
    },
    {
     "name": "stderr",
     "output_type": "stream",
     "text": [
      "/usr/local/lib/python3.5/dist-packages/scipy/stats/morestats.py:2385: UserWarning: Warning: sample size too small for normal approximation.\n",
      "  warnings.warn(\"Warning: sample size too small for normal approximation.\")\n"
     ]
    }
   ],
   "source": [
    "statistics.test_gaze_duration_outcomes(error_display_pairings[0])"
   ]
  },
  {
   "cell_type": "markdown",
   "metadata": {},
   "source": [
    "Observations:\n",
    "\n",
    "* As before, we ignore the Wilcoxon tests because the sample sizes are too small.\n",
    "* With the new display, participants spend less time looking at the SpO2 reference table, less time looking at the Apgar timer on the monitor, less time looking at the heart rate on the monitor, and more time looking at combined SpO2 elements."
   ]
  },
  {
   "cell_type": "markdown",
   "metadata": {},
   "source": [
    "#### Highest Errors"
   ]
  },
  {
   "cell_type": "code",
   "execution_count": 8,
   "metadata": {},
   "outputs": [
    {
     "name": "stdout",
     "output_type": "stream",
     "text": [
      "Pairing against displayType:\n",
      "  0: minimal vs. 1: full\n",
      "  5 0 vs. 1 pairs.\n",
      "  Paired t-test alternative hypotheses:\n",
      "    Ha left-tailed (diff < 0): mean 0 - mean 1 < 0\n",
      "    Ha two-tailed (|diff| > 0): mean 0 - mean 1 != 0\n",
      "    Ha right-tailed (diff > 0): mean 0 - mean 1 > 0\n",
      "  Wilcoxon signed-rank alternative hypotheses:\n",
      "    Ha left-tailed (P(x > y) < 0.5)\n",
      "    Ha two-tailed (P(x > y) != 0.5)\n",
      "    Ha right-tailed (P(x > y) > 0.5)\n"
     ]
    }
   ],
   "source": [
    "error_display_pairings[1].describe()"
   ]
  },
  {
   "cell_type": "code",
   "execution_count": 9,
   "metadata": {
    "scrolled": true
   },
   "outputs": [
    {
     "name": "stdout",
     "output_type": "stream",
     "text": [
      "visitDuration_infant:\n",
      "  mean diff = -7.270; stdev diff = 32.861\n",
      "  Paired t-test:\n",
      "    |diff| > 0: p = 0.681\n",
      "    diff < 0: p = 0.341\n",
      "    diff > 0: p = 0.659\n",
      "  Wilcoxon signed-rank test:\n",
      "    P(x > y) != 0.5: p = 0.893\n",
      "    P(x > y) < 0.5: p = 0.446\n",
      "    P(x > y) > 0.5: p = 0.554\n",
      "visitDuration_warmerInstrumentPanel:\n",
      "  mean diff = 1.024; stdev diff = 12.326\n",
      "  Paired t-test:\n",
      "    |diff| > 0: p = 0.876\n",
      "    diff < 0: p = 0.562\n",
      "    diff > 0: p = 0.438\n",
      "  Wilcoxon signed-rank test:\n",
      "    P(x > y) != 0.5: p = 0.500\n",
      "    P(x > y) < 0.5: p = 0.750\n",
      "    P(x > y) > 0.5: p = 0.250\n",
      "visitDuration_fiO2Dial:\n",
      "  mean diff = 1.032; stdev diff = 2.740\n",
      "  Paired t-test:\n",
      "    |diff| > 0: p = 0.493\n",
      "    diff < 0: p = 0.753\n",
      "    diff > 0: p = 0.247\n",
      "  Wilcoxon signed-rank test:\n",
      "    P(x > y) != 0.5: p = 0.686\n",
      "    P(x > y) < 0.5: p = 0.657\n",
      "    P(x > y) > 0.5: p = 0.343\n",
      "visitDuration_spO2ReferenceTable:\n",
      "  mean diff = 1.216; stdev diff = 2.248\n",
      "  Paired t-test:\n",
      "    |diff| > 0: p = 0.340\n",
      "    diff < 0: p = 0.830\n",
      "   ~diff > 0: p = 0.170\n",
      "  Wilcoxon signed-rank test:\n",
      "    P(x > y) != 0.5: p = 0.273\n",
      "    P(x > y) < 0.5: p = 0.863\n",
      "   ~P(x > y) > 0.5: p = 0.137\n",
      "visitDuration_monitorFull:\n",
      "  mean diff = -6.019; stdev diff = 20.413\n",
      "  Paired t-test:\n",
      "    |diff| > 0: p = 0.587\n",
      "    diff < 0: p = 0.294\n",
      "    diff > 0: p = 0.706\n",
      "  Wilcoxon signed-rank test:\n",
      "    P(x > y) != 0.5: p = 0.893\n",
      "    P(x > y) < 0.5: p = 0.446\n",
      "    P(x > y) > 0.5: p = 0.554\n",
      "visitDuration_monitorBlank:\n",
      "  mean diff = 9.094; stdev diff = 11.104\n",
      "  Paired t-test:\n",
      "   ~|diff| > 0: p = 0.177\n",
      "    diff < 0: p = 0.912\n",
      "   *diff > 0: p = 0.088\n",
      "  Wilcoxon signed-rank test:\n",
      "   ~P(x > y) != 0.5: p = 0.138\n",
      "    P(x > y) < 0.5: p = 0.931\n",
      "   *P(x > y) > 0.5: p = 0.069\n",
      "visitDuration_monitorApgarTimer:\n",
      "  mean diff = 5.107; stdev diff = 16.239\n",
      "  Paired t-test:\n",
      "    |diff| > 0: p = 0.564\n",
      "    diff < 0: p = 0.718\n",
      "    diff > 0: p = 0.282\n",
      "  Wilcoxon signed-rank test:\n",
      "    P(x > y) != 0.5: p = 0.345\n",
      "    P(x > y) < 0.5: p = 0.827\n",
      "   ~P(x > y) > 0.5: p = 0.173\n",
      "visitDuration_monitorHeartRate:\n",
      "  mean diff = 7.810; stdev diff = 8.612\n",
      "  Paired t-test:\n",
      "   ~|diff| > 0: p = 0.144\n",
      "    diff < 0: p = 0.928\n",
      "   *diff > 0: p = 0.072\n",
      "  Wilcoxon signed-rank test:\n",
      "   ~P(x > y) != 0.5: p = 0.138\n",
      "    P(x > y) < 0.5: p = 0.931\n",
      "   *P(x > y) > 0.5: p = 0.069\n",
      "visitDuration_monitorFiO2:\n",
      "  mean diff = -11.561; stdev diff = 6.377\n",
      "  Paired t-test:\n",
      "  **|diff| > 0: p = 0.022\n",
      "  **diff < 0: p = 0.011\n",
      "    diff > 0: p = 0.989\n",
      "  Wilcoxon signed-rank test:\n",
      "  **P(x > y) != 0.5: p = 0.043\n",
      "  **P(x > y) < 0.5: p = 0.022\n",
      "    P(x > y) > 0.5: p = 0.978\n",
      "visitDuration_monitorGraph:\n",
      "  mean diff = -14.420; stdev diff = 4.746\n",
      "  Paired t-test:\n",
      "  **|diff| > 0: p = 0.004\n",
      "  **diff < 0: p = 0.002\n",
      "    diff > 0: p = 0.998\n",
      "  Wilcoxon signed-rank test:\n",
      "  **P(x > y) != 0.5: p = 0.043\n",
      "  **P(x > y) < 0.5: p = 0.022\n",
      "    P(x > y) > 0.5: p = 0.978\n",
      "visitDuration_monitorSpO2:\n",
      "  mean diff = -2.707; stdev diff = 16.439\n",
      "  Paired t-test:\n",
      "    |diff| > 0: p = 0.758\n",
      "    diff < 0: p = 0.379\n",
      "    diff > 0: p = 0.621\n",
      "  Wilcoxon signed-rank test:\n",
      "    P(x > y) != 0.5: p = 0.893\n",
      "    P(x > y) < 0.5: p = 0.446\n",
      "    P(x > y) > 0.5: p = 0.554\n",
      "visitDuration_combinedFiO2:\n",
      "  mean diff = -10.529; stdev diff = 8.878\n",
      "  Paired t-test:\n",
      "   *|diff| > 0: p = 0.077\n",
      "  **diff < 0: p = 0.038\n",
      "    diff > 0: p = 0.962\n",
      "  Wilcoxon signed-rank test:\n",
      "   *P(x > y) != 0.5: p = 0.080\n",
      "  **P(x > y) < 0.5: p = 0.040\n",
      "    P(x > y) > 0.5: p = 0.960\n",
      "visitDuration_combinedSpO2:\n",
      "  mean diff = -15.912; stdev diff = 16.065\n",
      "  Paired t-test:\n",
      "   ~|diff| > 0: p = 0.119\n",
      "   *diff < 0: p = 0.059\n",
      "    diff > 0: p = 0.941\n",
      "  Wilcoxon signed-rank test:\n",
      "   *P(x > y) != 0.5: p = 0.080\n",
      "  **P(x > y) < 0.5: p = 0.040\n",
      "    P(x > y) > 0.5: p = 0.960\n"
     ]
    },
    {
     "name": "stderr",
     "output_type": "stream",
     "text": [
      "/usr/local/lib/python3.5/dist-packages/scipy/stats/morestats.py:2385: UserWarning: Warning: sample size too small for normal approximation.\n",
      "  warnings.warn(\"Warning: sample size too small for normal approximation.\")\n"
     ]
    }
   ],
   "source": [
    "statistics.test_gaze_duration_outcomes(error_display_pairings[1])"
   ]
  },
  {
   "cell_type": "markdown",
   "metadata": {},
   "source": [
    "Observations:\n",
    "\n",
    "* As before, we ignore the Wilcoxon signed-rank tests.\n",
    "* With the new display, participants spend significantly more time looking at the combined FiO2 elements, and almost significantly more time looking at the combined SpO2 elements."
   ]
  },
  {
   "cell_type": "markdown",
   "metadata": {},
   "source": [
    "#### Summary\n",
    "\n",
    "* The top 5 participants who accumulated the lowest SpO2 errors on the hard scenario spent less time looking at the SpO2 reference table, Apgar timer, and heart rate display and more time looking at the SpO2 elements on the screen, but the bottom 5 participants who accumulated the highest SpO2 errors on the hard scenario spent more time looking at FiO2 and maybe also at SpO2 in general (no significant difference in either direction with the SpO2 reference table)."
   ]
  },
  {
   "cell_type": "markdown",
   "metadata": {},
   "source": [
    "### Accumulated Absolute Error Stratification, Easy"
   ]
  },
  {
   "cell_type": "code",
   "execution_count": 10,
   "metadata": {},
   "outputs": [
    {
     "name": "stdout",
     "output_type": "stream",
     "text": [
      "Pairing against absoluteError:\n",
      "  0: lowest vs. 1: highest\n",
      "  10 0 vs. 1 pairs.\n"
     ]
    }
   ],
   "source": [
    "error_stratification = statistics.build_stratification(scenario_split.dfs[0], 'absoluteError', ['lowest', 'highest'], masks[0])\n",
    "error_stratification.describe(tests=False)"
   ]
  },
  {
   "cell_type": "code",
   "execution_count": 11,
   "metadata": {},
   "outputs": [],
   "source": [
    "error_display_pairings = [\n",
    "    statistics.build_pairing(df, 'displayType')\n",
    "    for df in error_stratification.dfs\n",
    "]"
   ]
  },
  {
   "cell_type": "markdown",
   "metadata": {},
   "source": [
    "#### Lowest Errors"
   ]
  },
  {
   "cell_type": "code",
   "execution_count": 12,
   "metadata": {
    "scrolled": true
   },
   "outputs": [
    {
     "name": "stdout",
     "output_type": "stream",
     "text": [
      "Pairing against displayType:\n",
      "  0: minimal vs. 1: full\n",
      "  5 0 vs. 1 pairs.\n",
      "  Paired t-test alternative hypotheses:\n",
      "    Ha left-tailed (diff < 0): mean 0 - mean 1 < 0\n",
      "    Ha two-tailed (|diff| > 0): mean 0 - mean 1 != 0\n",
      "    Ha right-tailed (diff > 0): mean 0 - mean 1 > 0\n",
      "  Wilcoxon signed-rank alternative hypotheses:\n",
      "    Ha left-tailed (P(x > y) < 0.5)\n",
      "    Ha two-tailed (P(x > y) != 0.5)\n",
      "    Ha right-tailed (P(x > y) > 0.5)\n"
     ]
    }
   ],
   "source": [
    "error_display_pairings[0].describe()"
   ]
  },
  {
   "cell_type": "code",
   "execution_count": 13,
   "metadata": {
    "scrolled": true
   },
   "outputs": [
    {
     "name": "stdout",
     "output_type": "stream",
     "text": [
      "visitDuration_infant:\n",
      "  mean diff = -0.388; stdev diff = 18.461\n",
      "  Paired t-test:\n",
      "    |diff| > 0: p = 0.968\n",
      "    diff < 0: p = 0.484\n",
      "    diff > 0: p = 0.516\n",
      "  Wilcoxon signed-rank test:\n",
      "    P(x > y) != 0.5: p = 0.893\n",
      "    P(x > y) < 0.5: p = 0.446\n",
      "    P(x > y) > 0.5: p = 0.554\n",
      "visitDuration_warmerInstrumentPanel:\n",
      "  mean diff = 3.059; stdev diff = 8.856\n",
      "  Paired t-test:\n",
      "    |diff| > 0: p = 0.528\n",
      "    diff < 0: p = 0.736\n",
      "    diff > 0: p = 0.264\n",
      "  Wilcoxon signed-rank test:\n",
      "    P(x > y) != 0.5: p = 0.893\n",
      "    P(x > y) < 0.5: p = 0.554\n",
      "    P(x > y) > 0.5: p = 0.446\n",
      "visitDuration_fiO2Dial:\n",
      "  mean diff = -0.128; stdev diff = 7.721\n",
      "  Paired t-test:\n",
      "    |diff| > 0: p = 0.975\n",
      "    diff < 0: p = 0.488\n",
      "    diff > 0: p = 0.512\n",
      "  Wilcoxon signed-rank test:\n",
      "    P(x > y) != 0.5: p = 0.893\n",
      "    P(x > y) < 0.5: p = 0.446\n",
      "    P(x > y) > 0.5: p = 0.554\n",
      "visitDuration_spO2ReferenceTable:\n",
      "  mean diff = 0.480; stdev diff = 6.066\n",
      "  Paired t-test:\n",
      "    |diff| > 0: p = 0.882\n",
      "    diff < 0: p = 0.559\n",
      "    diff > 0: p = 0.441\n",
      "  Wilcoxon signed-rank test:\n",
      "    P(x > y) != 0.5: p = 0.893\n",
      "    P(x > y) < 0.5: p = 0.554\n",
      "    P(x > y) > 0.5: p = 0.446\n",
      "visitDuration_monitorFull:\n",
      "  mean diff = -1.520; stdev diff = 31.609\n",
      "  Paired t-test:\n",
      "    |diff| > 0: p = 0.928\n",
      "    diff < 0: p = 0.464\n",
      "    diff > 0: p = 0.536\n",
      "  Wilcoxon signed-rank test:\n",
      "    P(x > y) != 0.5: p = 0.893\n",
      "    P(x > y) < 0.5: p = 0.446\n",
      "    P(x > y) > 0.5: p = 0.554\n",
      "visitDuration_monitorBlank:\n",
      "  mean diff = 2.775; stdev diff = 3.434\n",
      "  Paired t-test:\n",
      "   ~|diff| > 0: p = 0.181\n",
      "    diff < 0: p = 0.909\n",
      "   *diff > 0: p = 0.091\n",
      "  Wilcoxon signed-rank test:\n",
      "    P(x > y) != 0.5: p = 0.225\n",
      "    P(x > y) < 0.5: p = 0.888\n",
      "   ~P(x > y) > 0.5: p = 0.112\n",
      "visitDuration_monitorApgarTimer:\n",
      "  mean diff = 4.575; stdev diff = 4.586\n",
      "  Paired t-test:\n",
      "   ~|diff| > 0: p = 0.117\n",
      "    diff < 0: p = 0.942\n",
      "   *diff > 0: p = 0.058\n",
      "  Wilcoxon signed-rank test:\n",
      "    P(x > y) != 0.5: p = 0.225\n",
      "    P(x > y) < 0.5: p = 0.888\n",
      "   ~P(x > y) > 0.5: p = 0.112\n",
      "visitDuration_monitorHeartRate:\n",
      "  mean diff = 1.991; stdev diff = 8.076\n",
      "  Paired t-test:\n",
      "    |diff| > 0: p = 0.648\n",
      "    diff < 0: p = 0.676\n",
      "    diff > 0: p = 0.324\n",
      "  Wilcoxon signed-rank test:\n",
      "    P(x > y) != 0.5: p = 0.893\n",
      "    P(x > y) < 0.5: p = 0.554\n",
      "    P(x > y) > 0.5: p = 0.446\n",
      "visitDuration_monitorFiO2:\n",
      "  mean diff = -8.542; stdev diff = 6.221\n",
      "  Paired t-test:\n",
      "   *|diff| > 0: p = 0.052\n",
      "  **diff < 0: p = 0.026\n",
      "    diff > 0: p = 0.974\n",
      "  Wilcoxon signed-rank test:\n",
      "  **P(x > y) != 0.5: p = 0.043\n",
      "  **P(x > y) < 0.5: p = 0.022\n",
      "    P(x > y) > 0.5: p = 0.978\n",
      "visitDuration_monitorGraph:\n",
      "  mean diff = -28.641; stdev diff = 22.216\n",
      "  Paired t-test:\n",
      "   *|diff| > 0: p = 0.061\n",
      "  **diff < 0: p = 0.031\n",
      "    diff > 0: p = 0.969\n",
      "  Wilcoxon signed-rank test:\n",
      "  **P(x > y) != 0.5: p = 0.043\n",
      "  **P(x > y) < 0.5: p = 0.022\n",
      "    P(x > y) > 0.5: p = 0.978\n",
      "visitDuration_monitorSpO2:\n",
      "  mean diff = 26.261; stdev diff = 16.237\n",
      "  Paired t-test:\n",
      "  **|diff| > 0: p = 0.032\n",
      "    diff < 0: p = 0.984\n",
      "  **diff > 0: p = 0.016\n",
      "  Wilcoxon signed-rank test:\n",
      "  **P(x > y) != 0.5: p = 0.043\n",
      "    P(x > y) < 0.5: p = 0.978\n",
      "  **P(x > y) > 0.5: p = 0.022\n",
      "visitDuration_combinedFiO2:\n",
      "  mean diff = -8.670; stdev diff = 7.893\n",
      "  Paired t-test:\n",
      "   *|diff| > 0: p = 0.093\n",
      "  **diff < 0: p = 0.046\n",
      "    diff > 0: p = 0.954\n",
      "  Wilcoxon signed-rank test:\n",
      "   *P(x > y) != 0.5: p = 0.080\n",
      "  **P(x > y) < 0.5: p = 0.040\n",
      "    P(x > y) > 0.5: p = 0.960\n",
      "visitDuration_combinedSpO2:\n",
      "  mean diff = -1.900; stdev diff = 25.936\n",
      "  Paired t-test:\n",
      "    |diff| > 0: p = 0.891\n",
      "    diff < 0: p = 0.445\n",
      "    diff > 0: p = 0.555\n",
      "  Wilcoxon signed-rank test:\n",
      "    P(x > y) != 0.5: p = 0.893\n",
      "    P(x > y) < 0.5: p = 0.446\n",
      "    P(x > y) > 0.5: p = 0.554\n"
     ]
    },
    {
     "name": "stderr",
     "output_type": "stream",
     "text": [
      "/usr/local/lib/python3.5/dist-packages/scipy/stats/morestats.py:2385: UserWarning: Warning: sample size too small for normal approximation.\n",
      "  warnings.warn(\"Warning: sample size too small for normal approximation.\")\n"
     ]
    }
   ],
   "source": [
    "statistics.test_gaze_duration_outcomes(error_display_pairings[0])"
   ]
  },
  {
   "cell_type": "markdown",
   "metadata": {},
   "source": [
    "Observations:\n",
    "\n",
    "* As before, we ignore the Wilcoxon tests.\n",
    "* With the new display, participants spent almost significantly less time looking at the Apgar timer, significantly less time looking at SpO2, and significantly more time looking at combined FiO2 elements."
   ]
  },
  {
   "cell_type": "markdown",
   "metadata": {},
   "source": [
    "#### Highest Errors"
   ]
  },
  {
   "cell_type": "code",
   "execution_count": 14,
   "metadata": {
    "scrolled": true
   },
   "outputs": [
    {
     "name": "stdout",
     "output_type": "stream",
     "text": [
      "Pairing against displayType:\n",
      "  0: minimal vs. 1: full\n",
      "  5 0 vs. 1 pairs.\n",
      "  Paired t-test alternative hypotheses:\n",
      "    Ha left-tailed (diff < 0): mean 0 - mean 1 < 0\n",
      "    Ha two-tailed (|diff| > 0): mean 0 - mean 1 != 0\n",
      "    Ha right-tailed (diff > 0): mean 0 - mean 1 > 0\n",
      "  Wilcoxon signed-rank alternative hypotheses:\n",
      "    Ha left-tailed (P(x > y) < 0.5)\n",
      "    Ha two-tailed (P(x > y) != 0.5)\n",
      "    Ha right-tailed (P(x > y) > 0.5)\n"
     ]
    }
   ],
   "source": [
    "error_display_pairings[1].describe()"
   ]
  },
  {
   "cell_type": "code",
   "execution_count": 15,
   "metadata": {
    "scrolled": true
   },
   "outputs": [
    {
     "name": "stdout",
     "output_type": "stream",
     "text": [
      "visitDuration_infant:\n",
      "  mean diff = -7.186; stdev diff = 22.444\n",
      "  Paired t-test:\n",
      "    |diff| > 0: p = 0.557\n",
      "    diff < 0: p = 0.278\n",
      "    diff > 0: p = 0.722\n",
      "  Wilcoxon signed-rank test:\n",
      "    P(x > y) != 0.5: p = 0.225\n",
      "   ~P(x > y) < 0.5: p = 0.112\n",
      "    P(x > y) > 0.5: p = 0.888\n",
      "visitDuration_warmerInstrumentPanel:\n",
      "  mean diff = -1.348; stdev diff = 5.446\n",
      "  Paired t-test:\n",
      "    |diff| > 0: p = 0.647\n",
      "    diff < 0: p = 0.323\n",
      "    diff > 0: p = 0.677\n",
      "  Wilcoxon signed-rank test:\n",
      "    P(x > y) != 0.5: p = 0.500\n",
      "    P(x > y) < 0.5: p = 0.250\n",
      "    P(x > y) > 0.5: p = 0.750\n",
      "visitDuration_fiO2Dial:\n",
      "  mean diff = 3.879; stdev diff = 6.262\n",
      "  Paired t-test:\n",
      "    |diff| > 0: p = 0.283\n",
      "    diff < 0: p = 0.858\n",
      "   ~diff > 0: p = 0.142\n",
      "  Wilcoxon signed-rank test:\n",
      "    P(x > y) != 0.5: p = 0.225\n",
      "    P(x > y) < 0.5: p = 0.888\n",
      "   ~P(x > y) > 0.5: p = 0.112\n",
      "visitDuration_spO2ReferenceTable:\n",
      "  mean diff = 2.699; stdev diff = 5.711\n",
      "  Paired t-test:\n",
      "    |diff| > 0: p = 0.398\n",
      "    diff < 0: p = 0.801\n",
      "   ~diff > 0: p = 0.199\n",
      "  Wilcoxon signed-rank test:\n",
      "    P(x > y) != 0.5: p = 0.225\n",
      "    P(x > y) < 0.5: p = 0.888\n",
      "   ~P(x > y) > 0.5: p = 0.112\n",
      "visitDuration_monitorFull:\n",
      "  mean diff = -12.879; stdev diff = 41.418\n",
      "  Paired t-test:\n",
      "    |diff| > 0: p = 0.568\n",
      "    diff < 0: p = 0.284\n",
      "    diff > 0: p = 0.716\n",
      "  Wilcoxon signed-rank test:\n",
      "    P(x > y) != 0.5: p = 0.893\n",
      "    P(x > y) < 0.5: p = 0.446\n",
      "    P(x > y) > 0.5: p = 0.554\n",
      "visitDuration_monitorBlank:\n",
      "  mean diff = 3.543; stdev diff = 9.219\n",
      "  Paired t-test:\n",
      "    |diff| > 0: p = 0.485\n",
      "    diff < 0: p = 0.758\n",
      "    diff > 0: p = 0.242\n",
      "  Wilcoxon signed-rank test:\n",
      "    P(x > y) != 0.5: p = 0.500\n",
      "    P(x > y) < 0.5: p = 0.750\n",
      "    P(x > y) > 0.5: p = 0.250\n",
      "visitDuration_monitorApgarTimer:\n",
      "  mean diff = 5.567; stdev diff = 10.453\n",
      "  Paired t-test:\n",
      "    |diff| > 0: p = 0.347\n",
      "    diff < 0: p = 0.827\n",
      "   ~diff > 0: p = 0.173\n",
      "  Wilcoxon signed-rank test:\n",
      "    P(x > y) != 0.5: p = 0.225\n",
      "    P(x > y) < 0.5: p = 0.888\n",
      "   ~P(x > y) > 0.5: p = 0.112\n",
      "visitDuration_monitorHeartRate:\n",
      "  mean diff = 18.743; stdev diff = 21.072\n",
      "  Paired t-test:"
     ]
    },
    {
     "name": "stderr",
     "output_type": "stream",
     "text": [
      "/usr/local/lib/python3.5/dist-packages/scipy/stats/morestats.py:2385: UserWarning: Warning: sample size too small for normal approximation.\n",
      "  warnings.warn(\"Warning: sample size too small for normal approximation.\")\n"
     ]
    },
    {
     "name": "stdout",
     "output_type": "stream",
     "text": [
      "\n",
      "   ~|diff| > 0: p = 0.150\n",
      "    diff < 0: p = 0.925\n",
      "   *diff > 0: p = 0.075\n",
      "  Wilcoxon signed-rank test:\n",
      "    P(x > y) != 0.5: p = 0.225\n",
      "    P(x > y) < 0.5: p = 0.888\n",
      "   ~P(x > y) > 0.5: p = 0.112\n",
      "visitDuration_monitorFiO2:\n",
      "  mean diff = -8.322; stdev diff = 1.483\n",
      "  Paired t-test:\n",
      "  **|diff| > 0: p = 0.000\n",
      "  **diff < 0: p = 0.000\n",
      "    diff > 0: p = 1.000\n",
      "  Wilcoxon signed-rank test:\n",
      "  **P(x > y) != 0.5: p = 0.043\n",
      "  **P(x > y) < 0.5: p = 0.022\n",
      "    P(x > y) > 0.5: p = 0.978\n",
      "visitDuration_monitorGraph:\n",
      "  mean diff = -24.460; stdev diff = 7.566\n",
      "  Paired t-test:\n",
      "  **|diff| > 0: p = 0.003\n",
      "  **diff < 0: p = 0.001\n",
      "    diff > 0: p = 0.999\n",
      "  Wilcoxon signed-rank test:\n",
      "  **P(x > y) != 0.5: p = 0.043\n",
      "  **P(x > y) < 0.5: p = 0.022\n",
      "    P(x > y) > 0.5: p = 0.978\n",
      "visitDuration_monitorSpO2:\n",
      "  mean diff = -5.715; stdev diff = 22.334\n",
      "  Paired t-test:\n",
      "    |diff| > 0: p = 0.636\n",
      "    diff < 0: p = 0.318\n",
      "    diff > 0: p = 0.682\n",
      "  Wilcoxon signed-rank test:\n",
      "    P(x > y) != 0.5: p = 0.500\n",
      "    P(x > y) < 0.5: p = 0.250\n",
      "    P(x > y) > 0.5: p = 0.750\n",
      "visitDuration_combinedFiO2:\n",
      "  mean diff = -4.443; stdev diff = 6.406\n",
      "  Paired t-test:\n",
      "    |diff| > 0: p = 0.238\n",
      "   ~diff < 0: p = 0.119\n",
      "    diff > 0: p = 0.881\n",
      "  Wilcoxon signed-rank test:\n",
      "    P(x > y) != 0.5: p = 0.345\n",
      "   ~P(x > y) < 0.5: p = 0.173\n",
      "    P(x > y) > 0.5: p = 0.827\n",
      "visitDuration_combinedSpO2:\n",
      "  mean diff = -27.475; stdev diff = 21.464\n",
      "  Paired t-test:\n",
      "   *|diff| > 0: p = 0.063\n",
      "  **diff < 0: p = 0.031\n",
      "    diff > 0: p = 0.969\n",
      "  Wilcoxon signed-rank test:\n",
      "   *P(x > y) != 0.5: p = 0.080\n",
      "  **P(x > y) < 0.5: p = 0.040\n",
      "    P(x > y) > 0.5: p = 0.960\n"
     ]
    }
   ],
   "source": [
    "statistics.test_gaze_duration_outcomes(error_display_pairings[1])"
   ]
  },
  {
   "cell_type": "markdown",
   "metadata": {},
   "source": [
    "Observations:\n",
    "\n",
    "* As before, we ignore the Wilcoxon signed-rank tests.\n",
    "* With the new display, participants spent significantly more time looking at combined SpO2 elements."
   ]
  },
  {
   "cell_type": "markdown",
   "metadata": {},
   "source": [
    "#### Summary\n",
    "\n",
    "* The top 5 participants who accumulated the lowest SpO2 errors on the hard scenario shifted their attention away from SpO2 reference table, Apgar timer, and heart rate to the SpO2 graph with the new display, but the bottom 5 participants who accumulated the highest SpO2 errors on the hard scenario didn't shift their attention as much (and looked at FiO2 more).\n",
    "* The top 5 participants who accumulated the lowest SpO2 errors on the easy scenario shifted their attention from SpO2 to the SpO2 graph and from Apgar timer to the FiO2 on the new display, but the bottom 5 participants who accumulated the highest SpO2 errors on the easy scenario shifted their attention to the SpO2 graph but probably shifted their attention away from different areas."
   ]
  },
  {
   "cell_type": "markdown",
   "metadata": {},
   "source": [
    "# Duration Stratification\n",
    "For each scenario type, we stratify by the total time in the loose SpO2 target range across both scenarios of the same type per subject. Stratifying by the strict SpO2 target range doesn't yield any significant differences."
   ]
  },
  {
   "cell_type": "code",
   "execution_count": 16,
   "metadata": {
    "scrolled": true
   },
   "outputs": [
    {
     "name": "stdout",
     "output_type": "stream",
     "text": [
      "Highest-duration subjects, easy: [ 8  9 12  7 10]\n",
      "Lowest-duration subjects, easy: [18 13  4 19 20]\n",
      "Highest-duration subjects, hard: [16  6 10  7 17]\n",
      "Lowest-duration subjects, hard: [19  8 13 15 18]\n"
     ]
    }
   ],
   "source": [
    "stratification_size = 5\n",
    "scenario_split = statistics.build_split(full_df, 'scenarioType')\n",
    "durations = [\n",
    "    df[['subjectNumber', 'inSpO2LooseTargetRangeDuration']]\n",
    "    .groupby('subjectNumber')\n",
    "    .sum()\n",
    "    .sort_values(by=['inSpO2LooseTargetRangeDuration'], ascending=False)\n",
    "    for df in scenario_split.dfs\n",
    "]\n",
    "tails = [\n",
    "    [\n",
    "        df.index[:stratification_size].values,\n",
    "         df.index[-stratification_size:].values\n",
    "    ]\n",
    "    for df in durations\n",
    "]\n",
    "\n",
    "masks = [\n",
    "    [df.subjectNumber.isin(lowest_tail), df.subjectNumber.isin(highest_tail)]\n",
    "    for (df, (lowest_tail, highest_tail)) in zip(scenario_split.dfs, tails)\n",
    "]\n",
    "print('Highest-duration subjects, easy:', tails[0][0])\n",
    "print('Lowest-duration subjects, easy:', tails[0][1])\n",
    "print('Highest-duration subjects, hard:', tails[1][0])\n",
    "print('Lowest-duration subjects, hard:', tails[1][1])"
   ]
  },
  {
   "cell_type": "markdown",
   "metadata": {},
   "source": [
    "### Duration Stratification, Hard"
   ]
  },
  {
   "cell_type": "code",
   "execution_count": 17,
   "metadata": {},
   "outputs": [
    {
     "name": "stdout",
     "output_type": "stream",
     "text": [
      "Pairing against spO2LooseTargetDuration:\n",
      "  0: highest vs. 1: lowest\n",
      "  10 0 vs. 1 pairs.\n"
     ]
    }
   ],
   "source": [
    "duration_stratification = statistics.build_stratification(scenario_split.dfs[1], 'spO2LooseTargetDuration', ['highest', 'lowest'], masks[1])\n",
    "duration_stratification.describe(tests=False)"
   ]
  },
  {
   "cell_type": "code",
   "execution_count": 18,
   "metadata": {},
   "outputs": [],
   "source": [
    "duration_display_pairings = [\n",
    "    statistics.build_pairing(df, 'displayType')\n",
    "    for df in duration_stratification.dfs\n",
    "]"
   ]
  },
  {
   "cell_type": "markdown",
   "metadata": {},
   "source": [
    "#### Highest Durations"
   ]
  },
  {
   "cell_type": "code",
   "execution_count": 19,
   "metadata": {},
   "outputs": [
    {
     "name": "stdout",
     "output_type": "stream",
     "text": [
      "Pairing against displayType:\n",
      "  0: minimal vs. 1: full\n",
      "  5 0 vs. 1 pairs.\n",
      "  Paired t-test alternative hypotheses:\n",
      "    Ha left-tailed (diff < 0): mean 0 - mean 1 < 0\n",
      "    Ha two-tailed (|diff| > 0): mean 0 - mean 1 != 0\n",
      "    Ha right-tailed (diff > 0): mean 0 - mean 1 > 0\n",
      "  Wilcoxon signed-rank alternative hypotheses:\n",
      "    Ha left-tailed (P(x > y) < 0.5)\n",
      "    Ha two-tailed (P(x > y) != 0.5)\n",
      "    Ha right-tailed (P(x > y) > 0.5)\n"
     ]
    }
   ],
   "source": [
    "duration_display_pairings[0].describe()"
   ]
  },
  {
   "cell_type": "code",
   "execution_count": 20,
   "metadata": {
    "scrolled": true
   },
   "outputs": [
    {
     "name": "stdout",
     "output_type": "stream",
     "text": [
      "visitDuration_infant:\n",
      "  mean diff = 17.779; stdev diff = 26.983\n",
      "  Paired t-test:\n",
      "    |diff| > 0: p = 0.258\n",
      "    diff < 0: p = 0.871\n",
      "   ~diff > 0: p = 0.129\n",
      "  Wilcoxon signed-rank test:\n",
      "    P(x > y) != 0.5: p = 0.225\n",
      "    P(x > y) < 0.5: p = 0.888\n",
      "   ~P(x > y) > 0.5: p = 0.112\n",
      "visitDuration_warmerInstrumentPanel:\n",
      "  mean diff = 1.524; stdev diff = 4.411\n",
      "  Paired t-test:\n",
      "    |diff| > 0: p = 0.528\n",
      "    diff < 0: p = 0.736\n",
      "    diff > 0: p = 0.264\n",
      "  Wilcoxon signed-rank test:\n",
      "    P(x > y) != 0.5: p = 0.500\n",
      "    P(x > y) < 0.5: p = 0.750\n",
      "    P(x > y) > 0.5: p = 0.250\n",
      "visitDuration_fiO2Dial:\n",
      "  mean diff = 0.252; stdev diff = 1.883\n",
      "  Paired t-test:\n",
      "    |diff| > 0: p = 0.802\n",
      "    diff < 0: p = 0.599\n",
      "    diff > 0: p = 0.401\n",
      "  Wilcoxon signed-rank test:\n",
      "    P(x > y) != 0.5: p = 0.686\n",
      "    P(x > y) < 0.5: p = 0.657\n",
      "    P(x > y) > 0.5: p = 0.343\n",
      "visitDuration_spO2ReferenceTable:\n",
      "  mean diff = 0.416; stdev diff = 2.699\n",
      "  Paired t-test:\n",
      "    |diff| > 0: p = 0.773\n",
      "    diff < 0: p = 0.613\n",
      "    diff > 0: p = 0.387\n",
      "  Wilcoxon signed-rank test:\n",
      "    P(x > y) != 0.5: p = 0.686\n",
      "    P(x > y) < 0.5: p = 0.657\n",
      "    P(x > y) > 0.5: p = 0.343\n",
      "visitDuration_monitorFull:\n",
      "  mean diff = -25.186; stdev diff = 29.838\n",
      "  Paired t-test:\n",
      "   ~|diff| > 0: p = 0.167\n",
      "   *diff < 0: p = 0.083\n",
      "    diff > 0: p = 0.917\n",
      "  Wilcoxon signed-rank test:\n",
      "   ~P(x > y) != 0.5: p = 0.138\n",
      "   *P(x > y) < 0.5: p = 0.069\n",
      "    P(x > y) > 0.5: p = 0.931\n",
      "visitDuration_monitorBlank:\n",
      "  mean diff = 2.491; stdev diff = 14.733\n",
      "  Paired t-test:\n",
      "    |diff| > 0: p = 0.752\n",
      "    diff < 0: p = 0.624\n",
      "    diff > 0: p = 0.376\n",
      "  Wilcoxon signed-rank test:\n",
      "    P(x > y) != 0.5: p = 0.893\n",
      "    P(x > y) < 0.5: p = 0.554\n",
      "    P(x > y) > 0.5: p = 0.446\n",
      "visitDuration_monitorApgarTimer:\n",
      "  mean diff = 0.668; stdev diff = 9.453\n",
      "  Paired t-test:\n",
      "    |diff| > 0: p = 0.894\n",
      "    diff < 0: p = 0.553\n",
      "    diff > 0: p = 0.447\n",
      "  Wilcoxon signed-rank test:\n",
      "    P(x > y) != 0.5: p = 0.500\n",
      "    P(x > y) < 0.5: p = 0.750\n",
      "    P(x > y) > 0.5: p = 0.250\n",
      "visitDuration_monitorHeartRate:\n",
      "  mean diff = 11.685; stdev diff = 11.618\n",
      "  Paired t-test:\n",
      "   ~|diff| > 0: p = 0.115\n",
      "    diff < 0: p = 0.943\n",
      "   *diff > 0: p = 0.057\n",
      "  Wilcoxon signed-rank test:\n",
      "    P(x > y) != 0.5: p = 0.225\n",
      "    P(x > y) < 0.5: p = 0.888\n",
      "   ~P(x > y) > 0.5: p = 0.112\n",
      "visitDuration_monitorFiO2:\n",
      "  mean diff = -16.204; stdev diff = 11.790\n",
      "  Paired t-test:\n",
      "   *|diff| > 0: p = 0.051\n",
      "  **diff < 0: p = 0.026\n",
      "    diff > 0: p = 0.974\n",
      "  Wilcoxon signed-rank test:\n",
      "  **P(x > y) != 0.5: p = 0.043\n",
      "  **P(x > y) < 0.5: p = 0.022\n",
      "    P(x > y) > 0.5: p = 0.978\n",
      "visitDuration_monitorGraph:\n",
      "  mean diff = -25.861; stdev diff = 18.880\n",
      "  Paired t-test:\n",
      "   *|diff| > 0: p = 0.052\n",
      "  **diff < 0: p = 0.026\n",
      "    diff > 0: p = 0.974\n",
      "  Wilcoxon signed-rank test:\n",
      "  **P(x > y) != 0.5: p = 0.043\n",
      "  **P(x > y) < 0.5: p = 0.022\n",
      "    P(x > y) > 0.5: p = 0.978\n",
      "visitDuration_monitorSpO2:\n",
      "  mean diff = 6.070; stdev diff = 21.045\n",
      "  Paired t-test:\n",
      "    |diff| > 0: p = 0.595\n",
      "    diff < 0: p = 0.703\n",
      "    diff > 0: p = 0.297\n",
      "  Wilcoxon signed-rank test:\n",
      "    P(x > y) != 0.5: p = 0.345\n",
      "    P(x > y) < 0.5: p = 0.827\n",
      "   ~P(x > y) > 0.5: p = 0.173\n",
      "visitDuration_combinedFiO2:\n",
      "  mean diff = -15.952; stdev diff = 11.290\n",
      "  Paired t-test:\n",
      "  **|diff| > 0: p = 0.048\n",
      "  **diff < 0: p = 0.024\n",
      "    diff > 0: p = 0.976\n",
      "  Wilcoxon signed-rank test:\n",
      "  **P(x > y) != 0.5: p = 0.043\n",
      "  **P(x > y) < 0.5: p = 0.022\n",
      "    P(x > y) > 0.5: p = 0.978\n",
      "visitDuration_combinedSpO2:\n",
      "  mean diff = -19.375; stdev diff = 22.321\n",
      "  Paired t-test:\n",
      "   ~|diff| > 0: p = 0.158\n",
      "   *diff < 0: p = 0.079\n",
      "    diff > 0: p = 0.921\n",
      "  Wilcoxon signed-rank test:\n",
      "   ~P(x > y) != 0.5: p = 0.138\n",
      "   *P(x > y) < 0.5: p = 0.069\n",
      "    P(x > y) > 0.5: p = 0.931\n"
     ]
    },
    {
     "name": "stderr",
     "output_type": "stream",
     "text": [
      "/usr/local/lib/python3.5/dist-packages/scipy/stats/morestats.py:2385: UserWarning: Warning: sample size too small for normal approximation.\n",
      "  warnings.warn(\"Warning: sample size too small for normal approximation.\")\n"
     ]
    }
   ],
   "source": [
    "statistics.test_gaze_duration_outcomes(duration_display_pairings[0])"
   ]
  },
  {
   "cell_type": "markdown",
   "metadata": {},
   "source": [
    "Observations:\n",
    "\n",
    "* As before, we ignore the Wilcoxon tests because the sample sizes are too small.\n",
    "* With the new display, participants look at combined FiO2 elements significantly more."
   ]
  },
  {
   "cell_type": "markdown",
   "metadata": {},
   "source": [
    "#### Lowest Durations"
   ]
  },
  {
   "cell_type": "code",
   "execution_count": 21,
   "metadata": {},
   "outputs": [
    {
     "name": "stdout",
     "output_type": "stream",
     "text": [
      "Pairing against displayType:\n",
      "  0: minimal vs. 1: full\n",
      "  5 0 vs. 1 pairs.\n",
      "  Paired t-test alternative hypotheses:\n",
      "    Ha left-tailed (diff < 0): mean 0 - mean 1 < 0\n",
      "    Ha two-tailed (|diff| > 0): mean 0 - mean 1 != 0\n",
      "    Ha right-tailed (diff > 0): mean 0 - mean 1 > 0\n",
      "  Wilcoxon signed-rank alternative hypotheses:\n",
      "    Ha left-tailed (P(x > y) < 0.5)\n",
      "    Ha two-tailed (P(x > y) != 0.5)\n",
      "    Ha right-tailed (P(x > y) > 0.5)\n"
     ]
    }
   ],
   "source": [
    "duration_display_pairings[1].describe()"
   ]
  },
  {
   "cell_type": "code",
   "execution_count": 22,
   "metadata": {
    "scrolled": true
   },
   "outputs": [
    {
     "name": "stdout",
     "output_type": "stream",
     "text": [
      "visitDuration_infant:\n",
      "  mean diff = -7.002; stdev diff = 29.533\n",
      "  Paired t-test:\n",
      "    |diff| > 0: p = 0.660\n",
      "    diff < 0: p = 0.330\n",
      "    diff > 0: p = 0.670\n",
      "  Wilcoxon signed-rank test:\n",
      "    P(x > y) != 0.5: p = 0.500\n",
      "    P(x > y) < 0.5: p = 0.250\n",
      "    P(x > y) > 0.5: p = 0.750\n",
      "visitDuration_warmerInstrumentPanel:\n",
      "  mean diff = -3.899; stdev diff = 14.923\n",
      "  Paired t-test:\n",
      "    |diff| > 0: p = 0.629\n",
      "    diff < 0: p = 0.314\n",
      "    diff > 0: p = 0.686\n",
      "  Wilcoxon signed-rank test:\n",
      "    P(x > y) != 0.5: p = 0.500\n",
      "    P(x > y) < 0.5: p = 0.250\n",
      "    P(x > y) > 0.5: p = 0.750\n",
      "visitDuration_fiO2Dial:\n",
      "  mean diff = -1.232; stdev diff = 3.221\n",
      "  Paired t-test:\n",
      "    |diff| > 0: p = 0.487\n",
      "    diff < 0: p = 0.244\n",
      "    diff > 0: p = 0.756\n",
      "  Wilcoxon signed-rank test:\n",
      "    P(x > y) != 0.5: p = 0.345\n",
      "   ~P(x > y) < 0.5: p = 0.173\n",
      "    P(x > y) > 0.5: p = 0.827\n",
      "visitDuration_spO2ReferenceTable:\n",
      "  mean diff = 1.508; stdev diff = 1.250\n",
      "  Paired t-test:\n",
      "   *|diff| > 0: p = 0.073\n",
      "    diff < 0: p = 0.963\n",
      "  **diff > 0: p = 0.037\n",
      "  Wilcoxon signed-rank test:\n",
      "   *P(x > y) != 0.5: p = 0.068\n",
      "    P(x > y) < 0.5: p = 0.966\n",
      "  **P(x > y) > 0.5: p = 0.034\n",
      "visitDuration_monitorFull:\n",
      "  mean diff = -2.943; stdev diff = 12.144\n",
      "  Paired t-test:\n",
      "    |diff| > 0: p = 0.653\n",
      "    diff < 0: p = 0.327\n",
      "    diff > 0: p = 0.673\n",
      "  Wilcoxon signed-rank test:\n",
      "    P(x > y) != 0.5: p = 0.686\n",
      "    P(x > y) < 0.5: p = 0.343\n",
      "    P(x > y) > 0.5: p = 0.657\n",
      "visitDuration_monitorBlank:\n",
      "  mean diff = -0.460; stdev diff = 6.440\n",
      "  Paired t-test:\n",
      "    |diff| > 0: p = 0.893\n",
      "    diff < 0: p = 0.447\n",
      "    diff > 0: p = 0.553\n",
      "  Wilcoxon signed-rank test:\n",
      "    P(x > y) != 0.5: p = 0.893\n",
      "    P(x > y) < 0.5: p = 0.446\n",
      "    P(x > y) > 0.5: p = 0.554\n",
      "visitDuration_monitorApgarTimer:\n",
      "  mean diff = 9.358; stdev diff = 12.045\n",
      "  Paired t-test:\n",
      "   ~|diff| > 0: p = 0.195\n",
      "    diff < 0: p = 0.902\n",
      "   *diff > 0: p = 0.098\n",
      "  Wilcoxon signed-rank test:\n",
      "  **P(x > y) != 0.5: p = 0.043\n",
      "    P(x > y) < 0.5: p = 0.978\n",
      "  **P(x > y) > 0.5: p = 0.022\n",
      "visitDuration_monitorHeartRate:\n",
      "  mean diff = 6.170; stdev diff = 7.341\n",
      "  Paired t-test:\n",
      "   ~|diff| > 0: p = 0.168\n",
      "    diff < 0: p = 0.916\n",
      "   *diff > 0: p = 0.084\n",
      "  Wilcoxon signed-rank test:\n",
      "   ~P(x > y) != 0.5: p = 0.138\n",
      "    P(x > y) < 0.5: p = 0.931\n",
      "   *P(x > y) > 0.5: p = 0.069\n",
      "visitDuration_monitorFiO2:\n",
      "  mean diff = -11.593; stdev diff = 7.674\n",
      "  Paired t-test:\n",
      "  **|diff| > 0: p = 0.039\n",
      "  **diff < 0: p = 0.020\n",
      "    diff > 0: p = 0.980\n",
      "  Wilcoxon signed-rank test:\n",
      "  **P(x > y) != 0.5: p = 0.043\n",
      "  **P(x > y) < 0.5: p = 0.022\n",
      "    P(x > y) > 0.5: p = 0.978\n",
      "visitDuration_monitorGraph:\n",
      "  mean diff = -12.457; stdev diff = 6.872\n",
      "  Paired t-test:\n",
      "  **|diff| > 0: p = 0.022\n",
      "  **diff < 0: p = 0.011\n",
      "    diff > 0: p = 0.989\n",
      "  Wilcoxon signed-rank test:\n",
      "  **P(x > y) != 0.5: p = 0.043\n",
      "  **P(x > y) < 0.5: p = 0.022\n",
      "    P(x > y) > 0.5: p = 0.978\n",
      "visitDuration_monitorSpO2:\n",
      "  mean diff = 5.987; stdev diff = 10.711\n",
      "  Paired t-test:\n",
      "    |diff| > 0: p = 0.326\n",
      "    diff < 0: p = 0.837\n",
      "   ~diff > 0: p = 0.163\n",
      "  Wilcoxon signed-rank test:\n",
      "    P(x > y) != 0.5: p = 0.345\n",
      "    P(x > y) < 0.5: p = 0.827\n",
      "   ~P(x > y) > 0.5: p = 0.173\n",
      "visitDuration_combinedFiO2:\n",
      "  mean diff = -12.825; stdev diff = 9.558\n"
     ]
    },
    {
     "name": "stderr",
     "output_type": "stream",
     "text": [
      "/usr/local/lib/python3.5/dist-packages/scipy/stats/morestats.py:2385: UserWarning: Warning: sample size too small for normal approximation.\n",
      "  warnings.warn(\"Warning: sample size too small for normal approximation.\")\n"
     ]
    },
    {
     "name": "stdout",
     "output_type": "stream",
     "text": [
      "  Paired t-test:\n",
      "   *|diff| > 0: p = 0.055\n",
      "  **diff < 0: p = 0.028\n",
      "    diff > 0: p = 0.972\n",
      "  Wilcoxon signed-rank test:\n",
      "   *P(x > y) != 0.5: p = 0.080\n",
      "  **P(x > y) < 0.5: p = 0.040\n",
      "    P(x > y) > 0.5: p = 0.960\n",
      "visitDuration_combinedSpO2:\n",
      "  mean diff = -4.963; stdev diff = 12.570\n",
      "  Paired t-test:\n",
      "    |diff| > 0: p = 0.474\n",
      "    diff < 0: p = 0.237\n",
      "    diff > 0: p = 0.763\n",
      "  Wilcoxon signed-rank test:\n",
      "    P(x > y) != 0.5: p = 0.345\n",
      "   ~P(x > y) < 0.5: p = 0.173\n",
      "    P(x > y) > 0.5: p = 0.827\n"
     ]
    }
   ],
   "source": [
    "statistics.test_gaze_duration_outcomes(duration_display_pairings[1])"
   ]
  },
  {
   "cell_type": "markdown",
   "metadata": {},
   "source": [
    "Observations:\n",
    "\n",
    "* As before, we ignore the Wilcoxon signed-rank tests.\n",
    "* With the new display, participants look at the SpO2 reference table significantly less, and the combined FiO2 elements significantly more."
   ]
  },
  {
   "cell_type": "markdown",
   "metadata": {},
   "source": [
    "#### Summary\n",
    "\n",
    "* The top 5 participants who spent the most time within +/- 5 percentage points of the SpO2 target range shifted their attention to FiO2 on the new display, but the areas they shifted their attention away from were probably different.\n",
    "* The bottom 5 participants who spent the least time within +/- 5 percentage points of the SpO2 target range shifted their attention away from the SpO2 reference table and other areas (probably different across participants) to the FiO2 on the new display."
   ]
  },
  {
   "cell_type": "markdown",
   "metadata": {},
   "source": [
    "### Duration Stratification, Easy"
   ]
  },
  {
   "cell_type": "code",
   "execution_count": 23,
   "metadata": {},
   "outputs": [
    {
     "name": "stdout",
     "output_type": "stream",
     "text": [
      "Pairing against spO2LooseTargetDuration:\n",
      "  0: highest vs. 1: lowest\n",
      "  10 0 vs. 1 pairs.\n"
     ]
    }
   ],
   "source": [
    "duration_stratification = statistics.build_stratification(scenario_split.dfs[0], 'spO2LooseTargetDuration', ['highest', 'lowest'], masks[0])\n",
    "duration_stratification.describe(tests=False)"
   ]
  },
  {
   "cell_type": "code",
   "execution_count": 24,
   "metadata": {},
   "outputs": [],
   "source": [
    "duration_display_pairings = [\n",
    "    statistics.build_pairing(df, 'displayType')\n",
    "    for df in duration_stratification.dfs\n",
    "]"
   ]
  },
  {
   "cell_type": "markdown",
   "metadata": {},
   "source": [
    "#### Highest Durations"
   ]
  },
  {
   "cell_type": "code",
   "execution_count": 25,
   "metadata": {
    "scrolled": true
   },
   "outputs": [
    {
     "name": "stdout",
     "output_type": "stream",
     "text": [
      "Pairing against displayType:\n",
      "  0: minimal vs. 1: full\n",
      "  5 0 vs. 1 pairs.\n",
      "  Paired t-test alternative hypotheses:\n",
      "    Ha left-tailed (diff < 0): mean 0 - mean 1 < 0\n",
      "    Ha two-tailed (|diff| > 0): mean 0 - mean 1 != 0\n",
      "    Ha right-tailed (diff > 0): mean 0 - mean 1 > 0\n",
      "  Wilcoxon signed-rank alternative hypotheses:\n",
      "    Ha left-tailed (P(x > y) < 0.5)\n",
      "    Ha two-tailed (P(x > y) != 0.5)\n",
      "    Ha right-tailed (P(x > y) > 0.5)\n"
     ]
    }
   ],
   "source": [
    "duration_display_pairings[0].describe()"
   ]
  },
  {
   "cell_type": "code",
   "execution_count": 26,
   "metadata": {
    "scrolled": true
   },
   "outputs": [
    {
     "name": "stdout",
     "output_type": "stream",
     "text": [
      "visitDuration_infant:\n",
      "  mean diff = -0.388; stdev diff = 18.461\n",
      "  Paired t-test:\n",
      "    |diff| > 0: p = 0.968\n",
      "    diff < 0: p = 0.484\n",
      "    diff > 0: p = 0.516\n",
      "  Wilcoxon signed-rank test:\n",
      "    P(x > y) != 0.5: p = 0.893\n",
      "    P(x > y) < 0.5: p = 0.446\n",
      "    P(x > y) > 0.5: p = 0.554\n",
      "visitDuration_warmerInstrumentPanel:\n",
      "  mean diff = 3.059; stdev diff = 8.856\n",
      "  Paired t-test:\n",
      "    |diff| > 0: p = 0.528\n",
      "    diff < 0: p = 0.736\n",
      "    diff > 0: p = 0.264\n",
      "  Wilcoxon signed-rank test:\n",
      "    P(x > y) != 0.5: p = 0.893\n",
      "    P(x > y) < 0.5: p = 0.554\n",
      "    P(x > y) > 0.5: p = 0.446\n",
      "visitDuration_fiO2Dial:\n",
      "  mean diff = -0.128; stdev diff = 7.721\n",
      "  Paired t-test:\n",
      "    |diff| > 0: p = 0.975\n",
      "    diff < 0: p = 0.488\n",
      "    diff > 0: p = 0.512\n",
      "  Wilcoxon signed-rank test:\n",
      "    P(x > y) != 0.5: p = 0.893\n",
      "    P(x > y) < 0.5: p = 0.446\n",
      "    P(x > y) > 0.5: p = 0.554\n",
      "visitDuration_spO2ReferenceTable:\n",
      "  mean diff = 0.480; stdev diff = 6.066\n",
      "  Paired t-test:\n",
      "    |diff| > 0: p = 0.882\n",
      "    diff < 0: p = 0.559\n",
      "    diff > 0: p = 0.441\n",
      "  Wilcoxon signed-rank test:\n",
      "    P(x > y) != 0.5: p = 0.893\n",
      "    P(x > y) < 0.5: p = 0.554\n",
      "    P(x > y) > 0.5: p = 0.446\n",
      "visitDuration_monitorFull:\n",
      "  mean diff = -1.520; stdev diff = 31.609\n",
      "  Paired t-test:\n",
      "    |diff| > 0: p = 0.928\n",
      "    diff < 0: p = 0.464\n",
      "    diff > 0: p = 0.536\n",
      "  Wilcoxon signed-rank test:\n",
      "    P(x > y) != 0.5: p = 0.893\n",
      "    P(x > y) < 0.5: p = 0.446\n",
      "    P(x > y) > 0.5: p = 0.554\n",
      "visitDuration_monitorBlank:\n",
      "  mean diff = 2.775; stdev diff = 3.434\n",
      "  Paired t-test:\n",
      "   ~|diff| > 0: p = 0.181\n",
      "    diff < 0: p = 0.909\n",
      "   *diff > 0: p = 0.091\n",
      "  Wilcoxon signed-rank test:\n",
      "    P(x > y) != 0.5: p = 0.225\n",
      "    P(x > y) < 0.5: p = 0.888\n",
      "   ~P(x > y) > 0.5: p = 0.112\n",
      "visitDuration_monitorApgarTimer:\n",
      "  mean diff = 4.575; stdev diff = 4.586\n",
      "  Paired t-test:\n",
      "   ~|diff| > 0: p = 0.117\n",
      "    diff < 0: p = 0.942\n",
      "   *diff > 0: p = 0.058\n",
      "  Wilcoxon signed-rank test:\n",
      "    P(x > y) != 0.5: p = 0.225\n",
      "    P(x > y) < 0.5: p = 0.888\n",
      "   ~P(x > y) > 0.5: p = 0.112\n",
      "visitDuration_monitorHeartRate:\n",
      "  mean diff = 1.991; stdev diff = 8.076\n",
      "  Paired t-test:\n",
      "    |diff| > 0: p = 0.648\n",
      "    diff < 0: p = 0.676\n",
      "    diff > 0: p = 0.324\n",
      "  Wilcoxon signed-rank test:\n",
      "    P(x > y) != 0.5: p = 0.893\n",
      "    P(x > y) < 0.5: p = 0.554\n",
      "    P(x > y) > 0.5: p = 0.446\n",
      "visitDuration_monitorFiO2:\n",
      "  mean diff = -8.542; stdev diff = 6.221\n",
      "  Paired t-test:\n",
      "   *|diff| > 0: p = 0.052\n",
      "  **diff < 0: p = 0.026\n",
      "    diff > 0: p = 0.974\n",
      "  Wilcoxon signed-rank test:\n",
      "  **P(x > y) != 0.5: p = 0.043\n",
      "  **P(x > y) < 0.5: p = 0.022\n",
      "    P(x > y) > 0.5: p = 0.978\n",
      "visitDuration_monitorGraph:\n",
      "  mean diff = -28.641; stdev diff = 22.216\n",
      "  Paired t-test:\n",
      "   *|diff| > 0: p = 0.061\n",
      "  **diff < 0: p = 0.031\n",
      "    diff > 0: p = 0.969\n",
      "  Wilcoxon signed-rank test:\n",
      "  **P(x > y) != 0.5: p = 0.043\n",
      "  **P(x > y) < 0.5: p = 0.022\n",
      "    P(x > y) > 0.5: p = 0.978\n",
      "visitDuration_monitorSpO2:\n",
      "  mean diff = 26.261; stdev diff = 16.237\n",
      "  Paired t-test:\n",
      "  **|diff| > 0: p = 0.032\n",
      "    diff < 0: p = 0.984\n",
      "  **diff > 0: p = 0.016\n",
      "  Wilcoxon signed-rank test:\n",
      "  **P(x > y) != 0.5: p = 0.043\n",
      "    P(x > y) < 0.5: p = 0.978\n",
      "  **P(x > y) > 0.5: p = 0.022\n",
      "visitDuration_combinedFiO2:\n",
      "  mean diff = -8.670; stdev diff = 7.893\n",
      "  Paired t-test:\n",
      "   *|diff| > 0: p = 0.093\n",
      "  **diff < 0: p = 0.046\n",
      "    diff > 0: p = 0.954\n",
      "  Wilcoxon signed-rank test:\n",
      "   *P(x > y) != 0.5: p = 0.080\n",
      "  **P(x > y) < 0.5: p = 0.040\n",
      "    P(x > y) > 0.5: p = 0.960\n",
      "visitDuration_combinedSpO2:\n",
      "  mean diff = -1.900; stdev diff = 25.936\n",
      "  Paired t-test:\n",
      "    |diff| > 0: p = 0.891\n",
      "    diff < 0: p = 0.445\n",
      "    diff > 0: p = 0.555\n",
      "  Wilcoxon signed-rank test:\n",
      "    P(x > y) != 0.5: p = 0.893\n",
      "    P(x > y) < 0.5: p = 0.446\n",
      "    P(x > y) > 0.5: p = 0.554\n"
     ]
    },
    {
     "name": "stderr",
     "output_type": "stream",
     "text": [
      "/usr/local/lib/python3.5/dist-packages/scipy/stats/morestats.py:2385: UserWarning: Warning: sample size too small for normal approximation.\n",
      "  warnings.warn(\"Warning: sample size too small for normal approximation.\")\n"
     ]
    }
   ],
   "source": [
    "statistics.test_gaze_duration_outcomes(duration_display_pairings[0])"
   ]
  },
  {
   "cell_type": "markdown",
   "metadata": {},
   "source": [
    "Observations:\n",
    "\n",
    "* As before, we ignore the Wilcoxon tests.\n",
    "* With the new display, participants look at the Apgar timer maybe significantly less, the SpO2 significantly less, and the combined FiO2 significantly more."
   ]
  },
  {
   "cell_type": "markdown",
   "metadata": {},
   "source": [
    "#### Lowest Durations"
   ]
  },
  {
   "cell_type": "code",
   "execution_count": 27,
   "metadata": {
    "scrolled": true
   },
   "outputs": [
    {
     "name": "stdout",
     "output_type": "stream",
     "text": [
      "Pairing against displayType:\n",
      "  0: minimal vs. 1: full\n",
      "  5 0 vs. 1 pairs.\n",
      "  Paired t-test alternative hypotheses:\n",
      "    Ha left-tailed (diff < 0): mean 0 - mean 1 < 0\n",
      "    Ha two-tailed (|diff| > 0): mean 0 - mean 1 != 0\n",
      "    Ha right-tailed (diff > 0): mean 0 - mean 1 > 0\n",
      "  Wilcoxon signed-rank alternative hypotheses:\n",
      "    Ha left-tailed (P(x > y) < 0.5)\n",
      "    Ha two-tailed (P(x > y) != 0.5)\n",
      "    Ha right-tailed (P(x > y) > 0.5)\n"
     ]
    }
   ],
   "source": [
    "duration_display_pairings[1].describe()"
   ]
  },
  {
   "cell_type": "code",
   "execution_count": 28,
   "metadata": {
    "scrolled": true
   },
   "outputs": [
    {
     "name": "stdout",
     "output_type": "stream",
     "text": [
      "visitDuration_infant:\n",
      "  mean diff = -10.673; stdev diff = 19.069\n",
      "  Paired t-test:\n",
      "    |diff| > 0: p = 0.326\n",
      "   ~diff < 0: p = 0.163\n",
      "    diff > 0: p = 0.837\n",
      "  Wilcoxon signed-rank test:\n",
      "    P(x > y) != 0.5: p = 0.225\n",
      "   ~P(x > y) < 0.5: p = 0.112\n",
      "    P(x > y) > 0.5: p = 0.888\n",
      "visitDuration_warmerInstrumentPanel:\n",
      "  mean diff = 0.108; stdev diff = 6.517\n",
      "  Paired t-test:\n",
      "    |diff| > 0: p = 0.975\n",
      "    diff < 0: p = 0.512\n",
      "    diff > 0: p = 0.488\n",
      "  Wilcoxon signed-rank test:\n",
      "    P(x > y) != 0.5: p = 0.893\n",
      "    P(x > y) < 0.5: p = 0.554\n",
      "    P(x > y) > 0.5: p = 0.446\n",
      "visitDuration_fiO2Dial:\n",
      "  mean diff = 4.879; stdev diff = 6.087\n",
      "  Paired t-test:\n",
      "   ~|diff| > 0: p = 0.184\n",
      "    diff < 0: p = 0.908\n",
      "   *diff > 0: p = 0.092\n",
      "  Wilcoxon signed-rank test:\n",
      "   ~P(x > y) != 0.5: p = 0.138\n",
      "    P(x > y) < 0.5: p = 0.931\n",
      "   *P(x > y) > 0.5: p = 0.069\n",
      "visitDuration_spO2ReferenceTable:\n",
      "  mean diff = 2.695; stdev diff = 5.717\n",
      "  Paired t-test:\n",
      "    |diff| > 0: p = 0.399\n",
      "    diff < 0: p = 0.800\n",
      "   ~diff > 0: p = 0.200\n",
      "  Wilcoxon signed-rank test:\n",
      "    P(x > y) != 0.5: p = 0.225\n",
      "    P(x > y) < 0.5: p = 0.888\n",
      "   ~P(x > y) > 0.5: p = 0.112\n",
      "visitDuration_monitorFull:\n",
      "  mean diff = -11.698; stdev diff = 41.570\n",
      "  Paired t-test:\n",
      "    |diff| > 0: p = 0.604\n",
      "    diff < 0: p = 0.302\n",
      "    diff > 0: p = 0.698\n",
      "  Wilcoxon signed-rank test:\n",
      "    P(x > y) != 0.5: p = 0.686\n",
      "    P(x > y) < 0.5: p = 0.343\n",
      "    P(x > y) > 0.5: p = 0.657\n",
      "visitDuration_monitorBlank:\n",
      "  mean diff = 0.924; stdev diff = 9.321\n",
      "  Paired t-test:\n",
      "    |diff| > 0: p = 0.853\n",
      "    diff < 0: p = 0.574\n",
      "    diff > 0: p = 0.426\n",
      "  Wilcoxon signed-rank test:\n",
      "    P(x > y) != 0.5: p = 0.686\n",
      "    P(x > y) < 0.5: p = 0.657\n",
      "    P(x > y) > 0.5: p = 0.343\n",
      "visitDuration_monitorApgarTimer:\n",
      "  mean diff = 9.238; stdev diff = 8.813\n",
      "  Paired t-test:\n",
      "   ~|diff| > 0: p = 0.104\n",
      "    diff < 0: p = 0.948\n",
      "   *diff > 0: p = 0.052\n",
      "  Wilcoxon signed-rank test:\n",
      "   *P(x > y) != 0.5: p = 0.080\n",
      "    P(x > y) < 0.5: p = 0.960\n",
      "  **P(x > y) > 0.5: p = 0.040\n",
      "visitDuration_monitorHeartRate:\n",
      "  mean diff = 15.324; stdev diff = 21.385\n",
      "  Paired t-test:\n",
      "    |diff| > 0: p = 0.225\n",
      "    diff < 0: p = 0.887\n",
      "   ~diff > 0: p = 0.113\n",
      "  Wilcoxon signed-rank test:\n",
      "    P(x > y) != 0.5: p = 0.345\n",
      "    P(x > y) < 0.5: p = 0.827\n",
      "   ~P(x > y) > 0.5: p = 0.173\n",
      "visitDuration_monitorFiO2:\n",
      "  mean diff = -8.094; stdev diff = 1.842\n",
      "  Paired t-test:\n",
      "  **|diff| > 0: p = 0.001\n",
      "  **diff < 0: p = 0.000\n",
      "    diff > 0: p = 1.000\n",
      "  Wilcoxon signed-rank test:\n",
      "  **P(x > y) != 0.5: p = 0.043\n",
      "  **P(x > y) < 0.5: p = 0.022\n",
      "    P(x > y) > 0.5: p = 0.978\n",
      "visitDuration_monitorGraph:"
     ]
    },
    {
     "name": "stderr",
     "output_type": "stream",
     "text": [
      "/usr/local/lib/python3.5/dist-packages/scipy/stats/morestats.py:2385: UserWarning: Warning: sample size too small for normal approximation.\n",
      "  warnings.warn(\"Warning: sample size too small for normal approximation.\")\n"
     ]
    },
    {
     "name": "stdout",
     "output_type": "stream",
     "text": [
      "\n",
      "  mean diff = -22.378; stdev diff = 10.709\n",
      "  Paired t-test:\n",
      "  **|diff| > 0: p = 0.014\n",
      "  **diff < 0: p = 0.007\n",
      "    diff > 0: p = 0.993\n",
      "  Wilcoxon signed-rank test:\n",
      "  **P(x > y) != 0.5: p = 0.043\n",
      "  **P(x > y) < 0.5: p = 0.022\n",
      "    P(x > y) > 0.5: p = 0.978\n",
      "visitDuration_monitorSpO2:\n",
      "  mean diff = -5.587; stdev diff = 22.314\n",
      "  Paired t-test:\n",
      "    |diff| > 0: p = 0.643\n",
      "    diff < 0: p = 0.321\n",
      "    diff > 0: p = 0.679\n",
      "  Wilcoxon signed-rank test:\n",
      "    P(x > y) != 0.5: p = 0.500\n",
      "    P(x > y) < 0.5: p = 0.250\n",
      "    P(x > y) > 0.5: p = 0.750\n",
      "visitDuration_combinedFiO2:\n",
      "  mean diff = -3.215; stdev diff = 6.695\n",
      "  Paired t-test:\n",
      "    |diff| > 0: p = 0.391\n",
      "   ~diff < 0: p = 0.196\n",
      "    diff > 0: p = 0.804\n",
      "  Wilcoxon signed-rank test:\n",
      "    P(x > y) != 0.5: p = 0.500\n",
      "    P(x > y) < 0.5: p = 0.250\n",
      "    P(x > y) > 0.5: p = 0.750\n",
      "visitDuration_combinedSpO2:\n",
      "  mean diff = -25.269; stdev diff = 21.692\n",
      "  Paired t-test:\n",
      "   *|diff| > 0: p = 0.080\n",
      "  **diff < 0: p = 0.040\n",
      "    diff > 0: p = 0.960\n",
      "  Wilcoxon signed-rank test:\n",
      "   *P(x > y) != 0.5: p = 0.080\n",
      "  **P(x > y) < 0.5: p = 0.040\n",
      "    P(x > y) > 0.5: p = 0.960\n"
     ]
    }
   ],
   "source": [
    "statistics.test_gaze_duration_outcomes(duration_display_pairings[1])"
   ]
  },
  {
   "cell_type": "markdown",
   "metadata": {},
   "source": [
    "Observations:\n",
    "\n",
    "* As before, we ignore the Wilcoxon signed-rank tests.\n",
    "* With the new display, participants look at the Apgar timer maybe significantly less and the combined SpO2 elements significantly more."
   ]
  },
  {
   "cell_type": "markdown",
   "metadata": {},
   "source": [
    "#### Summary\n",
    "\n",
    "* Both groups of participants looked at the Apgar timer significantly less, and their attention was shifted towards FiO2 (for the top participants) or SpO2 (for the bottom participants), but for both groups the areas their attention shifted away from seemed to differ among participants."
   ]
  }
 ],
 "metadata": {
  "kernelspec": {
   "display_name": "Python 3",
   "language": "python",
   "name": "python3"
  },
  "language_info": {
   "codemirror_mode": {
    "name": "ipython",
    "version": 3
   },
   "file_extension": ".py",
   "mimetype": "text/x-python",
   "name": "python",
   "nbconvert_exporter": "python",
   "pygments_lexer": "ipython3",
   "version": "3.5.2"
  }
 },
 "nbformat": 4,
 "nbformat_minor": 2
}
