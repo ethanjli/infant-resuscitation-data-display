{
 "cells": [
  {
   "cell_type": "markdown",
   "metadata": {},
   "source": [
    "# Imports"
   ]
  },
  {
   "cell_type": "code",
   "execution_count": 1,
   "metadata": {},
   "outputs": [],
   "source": [
    "%matplotlib inline\n",
    "%load_ext autoreload\n",
    "%autoreload 2\n",
    "\n",
    "import scipy as sp\n",
    "from scipy import stats\n",
    "import numpy as np\n",
    "import pandas as pd\n",
    "\n",
    "import statistics"
   ]
  },
  {
   "cell_type": "markdown",
   "metadata": {},
   "source": [
    "# Load Data"
   ]
  },
  {
   "cell_type": "code",
   "execution_count": 2,
   "metadata": {
    "scrolled": true
   },
   "outputs": [
    {
     "data": {
      "text/plain": [
       "Index(['subjectNumber', 'scenarioNumber', 'newAfterOld', 'scenarioType',\n",
       "       'displayType', 'sensorPlacementTime', 'ppvStartTime', 'ccStartTime',\n",
       "       'inSpO2TargetRangeDuration', 'inSpO2LooseTargetRangeDuration',\n",
       "       'inSpO2TargetRangeStartTime', 'aboveSpO2TargetRangeDuration',\n",
       "       'belowSpO2TargetRangeDuration', 'inFiO2TargetRangeDuration',\n",
       "       'inFiO2TargetRangeStartTime', 'aboveFiO2TargetRangeDuration',\n",
       "       'belowFiO2TargetRangeDuration', 'spO2SignedErrorIntegral',\n",
       "       'spO2UnsignedErrorIntegral', 'spO2SquaredErrorIntegral',\n",
       "       'fiO2LargeAdjustments', 'recording', 'code', 'education',\n",
       "       'cumulativeNICU', 'resusLD', 'resusLDnonzero', 'cumulativeNICU5',\n",
       "       'cumulativeNICU10', 'cumulativeNICU13', 'resusLD20'],\n",
       "      dtype='object')"
      ]
     },
     "execution_count": 2,
     "metadata": {},
     "output_type": "execute_result"
    }
   ],
   "source": [
    "demo_df = statistics.load_demographic_features()\n",
    "statistics.compute_demo_features(demo_df)\n",
    "tracing_df = statistics.load_tracing_features(sort='order')\n",
    "recording_df = statistics.load_recording_relations()\n",
    "recording_df = statistics.associate_demographics(recording_df, tracing_df, demo_df)\n",
    "#gaze_dfs = statistics.load_gaze_features()\n",
    "#statistics.check_gaze_recording_associations(recording_df, gaze_dfs)\n",
    "#statistics.compute_gaze_features(gaze_dfs)\n",
    "#gaze_df = statistics.combine_gaze_features(gaze_dfs)\n",
    "#full_df = statistics.combine_all_features(recording_df, gaze_df)\n",
    "full_df = recording_df\n",
    "full_df.columns"
   ]
  },
  {
   "cell_type": "markdown",
   "metadata": {},
   "source": [
    "### Scenario Type Split"
   ]
  },
  {
   "cell_type": "code",
   "execution_count": 3,
   "metadata": {},
   "outputs": [
    {
     "name": "stdout",
     "output_type": "stream",
     "text": [
      "Pairing against scenarioType:\n",
      "  0: easy vs. 1: hard\n",
      "  40 0 examples vs. 44 1 examples.\n",
      "  Paired t-test alternative hypotheses:\n",
      "    Ha left-tailed (diff < 0): mean 0 - mean 1 < 0\n",
      "    Ha two-tailed (|diff| > 0): mean 0 - mean 1 != 0\n",
      "    Ha right-tailed (diff > 0): mean 0 - mean 1 > 0\n"
     ]
    }
   ],
   "source": [
    "scenario_split = statistics.build_pairing(\n",
    "    full_df, 'scenarioType',\n",
    "    intersect_subjects=False, check_validity=False\n",
    ")\n",
    "scenario_split.describe()"
   ]
  },
  {
   "cell_type": "markdown",
   "metadata": {},
   "source": [
    "## Led resuscitations in L&D in past year?"
   ]
  },
  {
   "cell_type": "code",
   "execution_count": 4,
   "metadata": {},
   "outputs": [
    {
     "name": "stdout",
     "output_type": "stream",
     "text": [
      "Pairing against resusLDnonzero:\n",
      "  0: noLDResusPastYear vs. 1: LDResusPastYear\n",
      "  38 0 examples vs. 42 1 examples.\n",
      "  Paired t-test alternative hypotheses:\n",
      "    Ha left-tailed (diff < 0): mean 0 - mean 1 < 0\n",
      "    Ha two-tailed (|diff| > 0): mean 0 - mean 1 != 0\n",
      "    Ha right-tailed (diff > 0): mean 0 - mean 1 > 0\n"
     ]
    }
   ],
   "source": [
    "resusLD_pairing = statistics.build_pairing(\n",
    "    full_df, 'resusLDnonzero',\n",
    "    intersect_subjects=False, check_validity=False\n",
    ")\n",
    "resusLD_pairing.describe()"
   ]
  },
  {
   "cell_type": "markdown",
   "metadata": {},
   "source": [
    "### Not Led, Easy Scenarios"
   ]
  },
  {
   "cell_type": "code",
   "execution_count": 5,
   "metadata": {
    "scrolled": true
   },
   "outputs": [
    {
     "name": "stdout",
     "output_type": "stream",
     "text": [
      "Pairing against resusLDnonzero:\n",
      "  0: noLDResusPastYear vs. 1: LDResusPastYear\n",
      "  18 0 examples vs. 20 1 examples.\n",
      "  Paired t-test alternative hypotheses:\n",
      "    Ha left-tailed (diff < 0): mean 0 - mean 1 < 0\n",
      "    Ha two-tailed (|diff| > 0): mean 0 - mean 1 != 0\n",
      "    Ha right-tailed (diff > 0): mean 0 - mean 1 > 0\n"
     ]
    }
   ],
   "source": [
    "resusLD_easy_pairing = statistics.build_pairing(\n",
    "    scenario_split[0], 'resusLDnonzero',\n",
    "    intersect_subjects=False, check_validity=False\n",
    ")\n",
    "resusLD_easy_pairing.describe()"
   ]
  },
  {
   "cell_type": "code",
   "execution_count": 6,
   "metadata": {},
   "outputs": [
    {
     "name": "stdout",
     "output_type": "stream",
     "text": [
      "Pairing against displayType:\n",
      "  0: minimal vs. 1: full\n",
      "  9 0 vs. 1 pairs.\n",
      "  Paired t-test alternative hypotheses:\n",
      "    Ha left-tailed (diff < 0): mean 0 - mean 1 < 0\n",
      "    Ha two-tailed (|diff| > 0): mean 0 - mean 1 != 0\n",
      "    Ha right-tailed (diff > 0): mean 0 - mean 1 > 0\n"
     ]
    }
   ],
   "source": [
    "display_pairing = statistics.build_pairing(resusLD_easy_pairing[0], 'displayType')\n",
    "display_pairing.describe()"
   ]
  },
  {
   "cell_type": "code",
   "execution_count": 7,
   "metadata": {
    "scrolled": false
   },
   "outputs": [
    {
     "name": "stdout",
     "output_type": "stream",
     "text": [
      "inSpO2TargetRangeDuration:\n",
      "  mean diff = 13.333; stdev diff = 30.111\n",
      "  Paired t-test:\n",
      "    |diff| > 0: p = 0.246\n",
      "    diff < 0: p = 0.877\n",
      "   ~diff > 0: p = 0.123\n",
      "inSpO2LooseTargetRangeDuration:\n",
      "  mean diff = 10.000; stdev diff = 58.765\n",
      "  Paired t-test:\n",
      "    |diff| > 0: p = 0.643\n",
      "    diff < 0: p = 0.678\n",
      "    diff > 0: p = 0.322\n"
     ]
    }
   ],
   "source": [
    "statistics.test_tracing_outcomes(display_pairing)"
   ]
  },
  {
   "cell_type": "markdown",
   "metadata": {},
   "source": [
    "### Not Led, Hard Scenarios"
   ]
  },
  {
   "cell_type": "code",
   "execution_count": 8,
   "metadata": {
    "scrolled": true
   },
   "outputs": [
    {
     "name": "stdout",
     "output_type": "stream",
     "text": [
      "Pairing against resusLDnonzero:\n",
      "  0: noLDResusPastYear vs. 1: LDResusPastYear\n",
      "  20 0 examples vs. 22 1 examples.\n",
      "  Paired t-test alternative hypotheses:\n",
      "    Ha left-tailed (diff < 0): mean 0 - mean 1 < 0\n",
      "    Ha two-tailed (|diff| > 0): mean 0 - mean 1 != 0\n",
      "    Ha right-tailed (diff > 0): mean 0 - mean 1 > 0\n"
     ]
    }
   ],
   "source": [
    "resusLD_hard_pairing = statistics.build_pairing(\n",
    "    scenario_split[1], 'resusLDnonzero',\n",
    "    intersect_subjects=False, check_validity=False\n",
    ")\n",
    "resusLD_hard_pairing.describe()"
   ]
  },
  {
   "cell_type": "code",
   "execution_count": 9,
   "metadata": {},
   "outputs": [
    {
     "name": "stdout",
     "output_type": "stream",
     "text": [
      "Pairing against displayType:\n",
      "  0: minimal vs. 1: full\n",
      "  10 0 vs. 1 pairs.\n",
      "  Paired t-test alternative hypotheses:\n",
      "    Ha left-tailed (diff < 0): mean 0 - mean 1 < 0\n",
      "    Ha two-tailed (|diff| > 0): mean 0 - mean 1 != 0\n",
      "    Ha right-tailed (diff > 0): mean 0 - mean 1 > 0\n"
     ]
    }
   ],
   "source": [
    "display_pairing = statistics.build_pairing(resusLD_hard_pairing[0], 'displayType')\n",
    "display_pairing.describe()"
   ]
  },
  {
   "cell_type": "code",
   "execution_count": 10,
   "metadata": {
    "scrolled": false
   },
   "outputs": [
    {
     "name": "stdout",
     "output_type": "stream",
     "text": [
      "inSpO2TargetRangeDuration:\n",
      "  mean diff = 5.400; stdev diff = 26.699\n",
      "  Paired t-test:\n",
      "    |diff| > 0: p = 0.559\n",
      "    diff < 0: p = 0.720\n",
      "    diff > 0: p = 0.280\n",
      "inSpO2LooseTargetRangeDuration:\n",
      "  mean diff = 8.800; stdev diff = 28.358\n",
      "  Paired t-test:\n",
      "    |diff| > 0: p = 0.376\n",
      "    diff < 0: p = 0.812\n",
      "   ~diff > 0: p = 0.188\n"
     ]
    }
   ],
   "source": [
    "statistics.test_tracing_outcomes(display_pairing)"
   ]
  },
  {
   "cell_type": "markdown",
   "metadata": {},
   "source": [
    "### Led, Easy Scenarios"
   ]
  },
  {
   "cell_type": "code",
   "execution_count": 11,
   "metadata": {
    "scrolled": true
   },
   "outputs": [
    {
     "name": "stdout",
     "output_type": "stream",
     "text": [
      "Pairing against resusLDnonzero:\n",
      "  0: noLDResusPastYear vs. 1: LDResusPastYear\n",
      "  18 0 examples vs. 20 1 examples.\n",
      "  Paired t-test alternative hypotheses:\n",
      "    Ha left-tailed (diff < 0): mean 0 - mean 1 < 0\n",
      "    Ha two-tailed (|diff| > 0): mean 0 - mean 1 != 0\n",
      "    Ha right-tailed (diff > 0): mean 0 - mean 1 > 0\n"
     ]
    }
   ],
   "source": [
    "resusLD_easy_pairing = statistics.build_pairing(\n",
    "    scenario_split[0], 'resusLDnonzero',\n",
    "    intersect_subjects=False, check_validity=False\n",
    ")\n",
    "resusLD_easy_pairing.describe()"
   ]
  },
  {
   "cell_type": "code",
   "execution_count": 12,
   "metadata": {},
   "outputs": [
    {
     "name": "stdout",
     "output_type": "stream",
     "text": [
      "Pairing against displayType:\n",
      "  0: minimal vs. 1: full\n",
      "  10 0 vs. 1 pairs.\n",
      "  Paired t-test alternative hypotheses:\n",
      "    Ha left-tailed (diff < 0): mean 0 - mean 1 < 0\n",
      "    Ha two-tailed (|diff| > 0): mean 0 - mean 1 != 0\n",
      "    Ha right-tailed (diff > 0): mean 0 - mean 1 > 0\n"
     ]
    }
   ],
   "source": [
    "display_pairing = statistics.build_pairing(resusLD_easy_pairing[1], 'displayType')\n",
    "display_pairing.describe()"
   ]
  },
  {
   "cell_type": "code",
   "execution_count": 13,
   "metadata": {
    "scrolled": false
   },
   "outputs": [
    {
     "name": "stdout",
     "output_type": "stream",
     "text": [
      "inSpO2TargetRangeDuration:\n",
      "  mean diff = -25.400; stdev diff = 29.692\n",
      "  Paired t-test:\n",
      "  **|diff| > 0: p = 0.030\n",
      "  **diff < 0: p = 0.015\n",
      "    diff > 0: p = 0.985\n",
      "inSpO2LooseTargetRangeDuration:\n",
      "  mean diff = -17.200; stdev diff = 30.426\n",
      "  Paired t-test:\n",
      "   ~|diff| > 0: p = 0.124\n",
      "   *diff < 0: p = 0.062\n",
      "    diff > 0: p = 0.938\n"
     ]
    }
   ],
   "source": [
    "statistics.test_tracing_outcomes(display_pairing)"
   ]
  },
  {
   "cell_type": "markdown",
   "metadata": {},
   "source": [
    "### Led, Hard Scenarios"
   ]
  },
  {
   "cell_type": "code",
   "execution_count": 14,
   "metadata": {
    "scrolled": true
   },
   "outputs": [
    {
     "name": "stdout",
     "output_type": "stream",
     "text": [
      "Pairing against resusLDnonzero:\n",
      "  0: noLDResusPastYear vs. 1: LDResusPastYear\n",
      "  20 0 examples vs. 22 1 examples.\n",
      "  Paired t-test alternative hypotheses:\n",
      "    Ha left-tailed (diff < 0): mean 0 - mean 1 < 0\n",
      "    Ha two-tailed (|diff| > 0): mean 0 - mean 1 != 0\n",
      "    Ha right-tailed (diff > 0): mean 0 - mean 1 > 0\n"
     ]
    }
   ],
   "source": [
    "resusLD_hard_pairing = statistics.build_pairing(\n",
    "    scenario_split[1], 'resusLDnonzero',\n",
    "    intersect_subjects=False, check_validity=False\n",
    ")\n",
    "resusLD_hard_pairing.describe()"
   ]
  },
  {
   "cell_type": "code",
   "execution_count": 15,
   "metadata": {},
   "outputs": [
    {
     "name": "stdout",
     "output_type": "stream",
     "text": [
      "Pairing against displayType:\n",
      "  0: minimal vs. 1: full\n",
      "  11 0 vs. 1 pairs.\n",
      "  Paired t-test alternative hypotheses:\n",
      "    Ha left-tailed (diff < 0): mean 0 - mean 1 < 0\n",
      "    Ha two-tailed (|diff| > 0): mean 0 - mean 1 != 0\n",
      "    Ha right-tailed (diff > 0): mean 0 - mean 1 > 0\n"
     ]
    }
   ],
   "source": [
    "display_pairing = statistics.build_pairing(resusLD_hard_pairing[1], 'displayType')\n",
    "display_pairing.describe()"
   ]
  },
  {
   "cell_type": "code",
   "execution_count": 16,
   "metadata": {
    "scrolled": false
   },
   "outputs": [
    {
     "name": "stdout",
     "output_type": "stream",
     "text": [
      "inSpO2TargetRangeDuration:\n",
      "  mean diff = 13.091; stdev diff = 34.031\n",
      "  Paired t-test:\n",
      "    |diff| > 0: p = 0.252\n",
      "    diff < 0: p = 0.874\n",
      "   ~diff > 0: p = 0.126\n",
      "inSpO2LooseTargetRangeDuration:\n",
      "  mean diff = 4.000; stdev diff = 30.748\n",
      "  Paired t-test:\n",
      "    |diff| > 0: p = 0.689\n",
      "    diff < 0: p = 0.655\n",
      "    diff > 0: p = 0.345\n"
     ]
    }
   ],
   "source": [
    "statistics.test_tracing_outcomes(display_pairing)"
   ]
  },
  {
   "cell_type": "markdown",
   "metadata": {},
   "source": [
    "## At least 10 years NICU experience?"
   ]
  },
  {
   "cell_type": "code",
   "execution_count": 17,
   "metadata": {},
   "outputs": [
    {
     "name": "stdout",
     "output_type": "stream",
     "text": [
      "Pairing against cumulativeNICU10:\n",
      "  0: <10CumulativeNICUYears vs. 1: >=10CumulativeNICUYears\n",
      "  30 0 examples vs. 50 1 examples.\n",
      "  Paired t-test alternative hypotheses:\n",
      "    Ha left-tailed (diff < 0): mean 0 - mean 1 < 0\n",
      "    Ha two-tailed (|diff| > 0): mean 0 - mean 1 != 0\n",
      "    Ha right-tailed (diff > 0): mean 0 - mean 1 > 0\n"
     ]
    }
   ],
   "source": [
    "cumulativeNICU10_pairing = statistics.build_pairing(\n",
    "    full_df, 'cumulativeNICU10',\n",
    "    intersect_subjects=False, check_validity=False\n",
    ")\n",
    "cumulativeNICU10_pairing.describe()"
   ]
  },
  {
   "cell_type": "markdown",
   "metadata": {},
   "source": [
    "### Less than 10 years, Easy Scenarios"
   ]
  },
  {
   "cell_type": "code",
   "execution_count": 18,
   "metadata": {
    "scrolled": true
   },
   "outputs": [
    {
     "name": "stdout",
     "output_type": "stream",
     "text": [
      "Pairing against cumulativeNICU10:\n",
      "  0: <10CumulativeNICUYears vs. 1: >=10CumulativeNICUYears\n",
      "  14 0 examples vs. 24 1 examples.\n",
      "  Paired t-test alternative hypotheses:\n",
      "    Ha left-tailed (diff < 0): mean 0 - mean 1 < 0\n",
      "    Ha two-tailed (|diff| > 0): mean 0 - mean 1 != 0\n",
      "    Ha right-tailed (diff > 0): mean 0 - mean 1 > 0\n"
     ]
    }
   ],
   "source": [
    "cumulativeNICU10_easy_pairing = statistics.build_pairing(\n",
    "    scenario_split[0], 'cumulativeNICU10',\n",
    "    intersect_subjects=False, check_validity=False\n",
    ")\n",
    "cumulativeNICU10_easy_pairing.describe()"
   ]
  },
  {
   "cell_type": "code",
   "execution_count": 19,
   "metadata": {},
   "outputs": [
    {
     "name": "stdout",
     "output_type": "stream",
     "text": [
      "Pairing against displayType:\n",
      "  0: minimal vs. 1: full\n",
      "  7 0 vs. 1 pairs.\n",
      "  Paired t-test alternative hypotheses:\n",
      "    Ha left-tailed (diff < 0): mean 0 - mean 1 < 0\n",
      "    Ha two-tailed (|diff| > 0): mean 0 - mean 1 != 0\n",
      "    Ha right-tailed (diff > 0): mean 0 - mean 1 > 0\n"
     ]
    }
   ],
   "source": [
    "display_pairing = statistics.build_pairing(cumulativeNICU10_easy_pairing[0], 'displayType')\n",
    "display_pairing.describe()"
   ]
  },
  {
   "cell_type": "code",
   "execution_count": 20,
   "metadata": {
    "scrolled": false
   },
   "outputs": [
    {
     "name": "stdout",
     "output_type": "stream",
     "text": [
      "inSpO2TargetRangeDuration:\n",
      "  mean diff = -21.143; stdev diff = 18.666\n",
      "  Paired t-test:\n",
      "  **|diff| > 0: p = 0.032\n",
      "  **diff < 0: p = 0.016\n",
      "    diff > 0: p = 0.984\n",
      "inSpO2LooseTargetRangeDuration:\n",
      "  mean diff = -23.429; stdev diff = 63.008\n",
      "  Paired t-test:\n",
      "    |diff| > 0: p = 0.398\n",
      "   ~diff < 0: p = 0.199\n",
      "    diff > 0: p = 0.801\n"
     ]
    }
   ],
   "source": [
    "statistics.test_tracing_outcomes(display_pairing)"
   ]
  },
  {
   "cell_type": "markdown",
   "metadata": {},
   "source": [
    "### Less than 10 years, Hard Scenarios"
   ]
  },
  {
   "cell_type": "code",
   "execution_count": 21,
   "metadata": {
    "scrolled": true
   },
   "outputs": [
    {
     "name": "stdout",
     "output_type": "stream",
     "text": [
      "Pairing against cumulativeNICU10:\n",
      "  0: <10CumulativeNICUYears vs. 1: >=10CumulativeNICUYears\n",
      "  16 0 examples vs. 26 1 examples.\n",
      "  Paired t-test alternative hypotheses:\n",
      "    Ha left-tailed (diff < 0): mean 0 - mean 1 < 0\n",
      "    Ha two-tailed (|diff| > 0): mean 0 - mean 1 != 0\n",
      "    Ha right-tailed (diff > 0): mean 0 - mean 1 > 0\n"
     ]
    }
   ],
   "source": [
    "cumulativeNICU10_hard_pairing = statistics.build_pairing(\n",
    "    scenario_split[1], 'cumulativeNICU10',\n",
    "    intersect_subjects=False, check_validity=False\n",
    ")\n",
    "cumulativeNICU10_hard_pairing.describe()"
   ]
  },
  {
   "cell_type": "code",
   "execution_count": 22,
   "metadata": {},
   "outputs": [
    {
     "name": "stdout",
     "output_type": "stream",
     "text": [
      "Pairing against displayType:\n",
      "  0: minimal vs. 1: full\n",
      "  8 0 vs. 1 pairs.\n",
      "  Paired t-test alternative hypotheses:\n",
      "    Ha left-tailed (diff < 0): mean 0 - mean 1 < 0\n",
      "    Ha two-tailed (|diff| > 0): mean 0 - mean 1 != 0\n",
      "    Ha right-tailed (diff > 0): mean 0 - mean 1 > 0\n"
     ]
    }
   ],
   "source": [
    "display_pairing = statistics.build_pairing(cumulativeNICU10_hard_pairing[0], 'displayType')\n",
    "display_pairing.describe()"
   ]
  },
  {
   "cell_type": "code",
   "execution_count": 23,
   "metadata": {
    "scrolled": false
   },
   "outputs": [
    {
     "name": "stdout",
     "output_type": "stream",
     "text": [
      "inSpO2TargetRangeDuration:\n",
      "  mean diff = 3.000; stdev diff = 17.292\n",
      "  Paired t-test:\n",
      "    |diff| > 0: p = 0.660\n",
      "    diff < 0: p = 0.670\n",
      "    diff > 0: p = 0.330\n",
      "inSpO2LooseTargetRangeDuration:\n",
      "  mean diff = 0.500; stdev diff = 19.151\n",
      "  Paired t-test:\n",
      "    |diff| > 0: p = 0.947\n",
      "    diff < 0: p = 0.527\n",
      "    diff > 0: p = 0.473\n"
     ]
    }
   ],
   "source": [
    "statistics.test_tracing_outcomes(display_pairing)"
   ]
  },
  {
   "cell_type": "markdown",
   "metadata": {},
   "source": [
    "### At least 10 years, Easy Scenarios"
   ]
  },
  {
   "cell_type": "code",
   "execution_count": 24,
   "metadata": {
    "scrolled": true
   },
   "outputs": [
    {
     "name": "stdout",
     "output_type": "stream",
     "text": [
      "Pairing against cumulativeNICU10:\n",
      "  0: <10CumulativeNICUYears vs. 1: >=10CumulativeNICUYears\n",
      "  14 0 examples vs. 24 1 examples.\n",
      "  Paired t-test alternative hypotheses:\n",
      "    Ha left-tailed (diff < 0): mean 0 - mean 1 < 0\n",
      "    Ha two-tailed (|diff| > 0): mean 0 - mean 1 != 0\n",
      "    Ha right-tailed (diff > 0): mean 0 - mean 1 > 0\n"
     ]
    }
   ],
   "source": [
    "cumulativeNICU10_easy_pairing = statistics.build_pairing(\n",
    "    scenario_split[0], 'cumulativeNICU10',\n",
    "    intersect_subjects=False, check_validity=False\n",
    ")\n",
    "cumulativeNICU10_easy_pairing.describe()"
   ]
  },
  {
   "cell_type": "code",
   "execution_count": 25,
   "metadata": {},
   "outputs": [
    {
     "name": "stdout",
     "output_type": "stream",
     "text": [
      "Pairing against displayType:\n",
      "  0: minimal vs. 1: full\n",
      "  12 0 vs. 1 pairs.\n",
      "  Paired t-test alternative hypotheses:\n",
      "    Ha left-tailed (diff < 0): mean 0 - mean 1 < 0\n",
      "    Ha two-tailed (|diff| > 0): mean 0 - mean 1 != 0\n",
      "    Ha right-tailed (diff > 0): mean 0 - mean 1 > 0\n"
     ]
    }
   ],
   "source": [
    "display_pairing = statistics.build_pairing(cumulativeNICU10_easy_pairing[1], 'displayType')\n",
    "display_pairing.describe()"
   ]
  },
  {
   "cell_type": "code",
   "execution_count": 26,
   "metadata": {
    "scrolled": false
   },
   "outputs": [
    {
     "name": "stdout",
     "output_type": "stream",
     "text": [
      "inSpO2TargetRangeDuration:\n",
      "  mean diff = 1.167; stdev diff = 40.253\n",
      "  Paired t-test:\n",
      "    |diff| > 0: p = 0.925\n",
      "    diff < 0: p = 0.537\n",
      "    diff > 0: p = 0.463\n",
      "inSpO2LooseTargetRangeDuration:\n",
      "  mean diff = 6.833; stdev diff = 31.628\n",
      "  Paired t-test:\n",
      "    |diff| > 0: p = 0.489\n",
      "    diff < 0: p = 0.756\n",
      "    diff > 0: p = 0.244\n"
     ]
    }
   ],
   "source": [
    "statistics.test_tracing_outcomes(display_pairing)"
   ]
  },
  {
   "cell_type": "markdown",
   "metadata": {},
   "source": [
    "### At least 10 years, Hard Scenarios"
   ]
  },
  {
   "cell_type": "code",
   "execution_count": 27,
   "metadata": {
    "scrolled": true
   },
   "outputs": [
    {
     "name": "stdout",
     "output_type": "stream",
     "text": [
      "Pairing against cumulativeNICU10:\n",
      "  0: <10CumulativeNICUYears vs. 1: >=10CumulativeNICUYears\n",
      "  16 0 examples vs. 26 1 examples.\n",
      "  Paired t-test alternative hypotheses:\n",
      "    Ha left-tailed (diff < 0): mean 0 - mean 1 < 0\n",
      "    Ha two-tailed (|diff| > 0): mean 0 - mean 1 != 0\n",
      "    Ha right-tailed (diff > 0): mean 0 - mean 1 > 0\n"
     ]
    }
   ],
   "source": [
    "cumulativeNICU10_hard_pairing = statistics.build_pairing(\n",
    "    scenario_split[1], 'cumulativeNICU10',\n",
    "    intersect_subjects=False, check_validity=False\n",
    ")\n",
    "cumulativeNICU10_hard_pairing.describe()"
   ]
  },
  {
   "cell_type": "code",
   "execution_count": 28,
   "metadata": {},
   "outputs": [
    {
     "name": "stdout",
     "output_type": "stream",
     "text": [
      "Pairing against displayType:\n",
      "  0: minimal vs. 1: full\n",
      "  13 0 vs. 1 pairs.\n",
      "  Paired t-test alternative hypotheses:\n",
      "    Ha left-tailed (diff < 0): mean 0 - mean 1 < 0\n",
      "    Ha two-tailed (|diff| > 0): mean 0 - mean 1 != 0\n",
      "    Ha right-tailed (diff > 0): mean 0 - mean 1 > 0\n"
     ]
    }
   ],
   "source": [
    "display_pairing = statistics.build_pairing(cumulativeNICU10_hard_pairing[1], 'displayType')\n",
    "display_pairing.describe()"
   ]
  },
  {
   "cell_type": "code",
   "execution_count": 29,
   "metadata": {
    "scrolled": false
   },
   "outputs": [
    {
     "name": "stdout",
     "output_type": "stream",
     "text": [
      "inSpO2TargetRangeDuration:\n",
      "  mean diff = 13.385; stdev diff = 36.428\n",
      "  Paired t-test:\n",
      "    |diff| > 0: p = 0.227\n",
      "    diff < 0: p = 0.886\n",
      "   ~diff > 0: p = 0.114\n",
      "inSpO2LooseTargetRangeDuration:\n",
      "  mean diff = 9.846; stdev diff = 34.189\n",
      "  Paired t-test:\n",
      "    |diff| > 0: p = 0.338\n",
      "    diff < 0: p = 0.831\n",
      "   ~diff > 0: p = 0.169\n"
     ]
    }
   ],
   "source": [
    "statistics.test_tracing_outcomes(display_pairing)"
   ]
  },
  {
   "cell_type": "markdown",
   "metadata": {},
   "source": [
    "## RN vs. MD\n",
    "Note that only one MD had not performed a resuscitation in L&D in the past year, and only 3 RNs had performed a resuscitation in L&D in the past year."
   ]
  },
  {
   "cell_type": "code",
   "execution_count": 30,
   "metadata": {},
   "outputs": [
    {
     "name": "stdout",
     "output_type": "stream",
     "text": [
      "Pairing against education:\n",
      "  0: RN vs. 1: MD\n",
      "  42 0 examples vs. 38 1 examples.\n",
      "  Paired t-test alternative hypotheses:\n",
      "    Ha left-tailed (diff < 0): mean 0 - mean 1 < 0\n",
      "    Ha two-tailed (|diff| > 0): mean 0 - mean 1 != 0\n",
      "    Ha right-tailed (diff > 0): mean 0 - mean 1 > 0\n"
     ]
    }
   ],
   "source": [
    "education_pairing = statistics.build_pairing(\n",
    "    full_df, 'education',\n",
    "    intersect_subjects=False, check_validity=False\n",
    ")\n",
    "education_pairing.describe()"
   ]
  },
  {
   "cell_type": "markdown",
   "metadata": {},
   "source": [
    "### RN, Easy Scenarios"
   ]
  },
  {
   "cell_type": "code",
   "execution_count": 31,
   "metadata": {
    "scrolled": true
   },
   "outputs": [
    {
     "name": "stdout",
     "output_type": "stream",
     "text": [
      "Pairing against education:\n",
      "  0: RN vs. 1: MD\n",
      "  20 0 examples vs. 18 1 examples.\n",
      "  Paired t-test alternative hypotheses:\n",
      "    Ha left-tailed (diff < 0): mean 0 - mean 1 < 0\n",
      "    Ha two-tailed (|diff| > 0): mean 0 - mean 1 != 0\n",
      "    Ha right-tailed (diff > 0): mean 0 - mean 1 > 0\n"
     ]
    }
   ],
   "source": [
    "education_easy_pairing = statistics.build_pairing(\n",
    "    scenario_split[0], 'education',\n",
    "    intersect_subjects=False, check_validity=False\n",
    ")\n",
    "education_easy_pairing.describe()"
   ]
  },
  {
   "cell_type": "code",
   "execution_count": 32,
   "metadata": {},
   "outputs": [
    {
     "name": "stdout",
     "output_type": "stream",
     "text": [
      "Pairing against displayType:\n",
      "  0: minimal vs. 1: full\n",
      "  10 0 vs. 1 pairs.\n",
      "  Paired t-test alternative hypotheses:\n",
      "    Ha left-tailed (diff < 0): mean 0 - mean 1 < 0\n",
      "    Ha two-tailed (|diff| > 0): mean 0 - mean 1 != 0\n",
      "    Ha right-tailed (diff > 0): mean 0 - mean 1 > 0\n"
     ]
    }
   ],
   "source": [
    "display_pairing = statistics.build_pairing(education_easy_pairing[0], 'displayType')\n",
    "display_pairing.describe()"
   ]
  },
  {
   "cell_type": "code",
   "execution_count": 33,
   "metadata": {
    "scrolled": false
   },
   "outputs": [
    {
     "name": "stdout",
     "output_type": "stream",
     "text": [
      "inSpO2TargetRangeDuration:\n",
      "  mean diff = 3.800; stdev diff = 38.319\n",
      "  Paired t-test:\n",
      "    |diff| > 0: p = 0.773\n",
      "    diff < 0: p = 0.614\n",
      "    diff > 0: p = 0.386\n",
      "inSpO2LooseTargetRangeDuration:\n",
      "  mean diff = 7.000; stdev diff = 56.535\n",
      "  Paired t-test:\n",
      "    |diff| > 0: p = 0.719\n",
      "    diff < 0: p = 0.641\n",
      "    diff > 0: p = 0.359\n"
     ]
    }
   ],
   "source": [
    "statistics.test_tracing_outcomes(display_pairing)"
   ]
  },
  {
   "cell_type": "markdown",
   "metadata": {},
   "source": [
    "### RN, Hard Scenarios"
   ]
  },
  {
   "cell_type": "code",
   "execution_count": 34,
   "metadata": {
    "scrolled": true
   },
   "outputs": [
    {
     "name": "stdout",
     "output_type": "stream",
     "text": [
      "Pairing against education:\n",
      "  0: RN vs. 1: MD\n",
      "  22 0 examples vs. 20 1 examples.\n",
      "  Paired t-test alternative hypotheses:\n",
      "    Ha left-tailed (diff < 0): mean 0 - mean 1 < 0\n",
      "    Ha two-tailed (|diff| > 0): mean 0 - mean 1 != 0\n",
      "    Ha right-tailed (diff > 0): mean 0 - mean 1 > 0\n"
     ]
    }
   ],
   "source": [
    "education_hard_pairing = statistics.build_pairing(\n",
    "    scenario_split[1], 'education',\n",
    "    intersect_subjects=False, check_validity=False\n",
    ")\n",
    "education_hard_pairing.describe()"
   ]
  },
  {
   "cell_type": "code",
   "execution_count": 35,
   "metadata": {},
   "outputs": [
    {
     "name": "stdout",
     "output_type": "stream",
     "text": [
      "Pairing against displayType:\n",
      "  0: minimal vs. 1: full\n",
      "  11 0 vs. 1 pairs.\n",
      "  Paired t-test alternative hypotheses:\n",
      "    Ha left-tailed (diff < 0): mean 0 - mean 1 < 0\n",
      "    Ha two-tailed (|diff| > 0): mean 0 - mean 1 != 0\n",
      "    Ha right-tailed (diff > 0): mean 0 - mean 1 > 0\n"
     ]
    }
   ],
   "source": [
    "display_pairing = statistics.build_pairing(education_hard_pairing[0], 'displayType')\n",
    "display_pairing.describe()"
   ]
  },
  {
   "cell_type": "code",
   "execution_count": 36,
   "metadata": {
    "scrolled": false
   },
   "outputs": [
    {
     "name": "stdout",
     "output_type": "stream",
     "text": [
      "inSpO2TargetRangeDuration:\n",
      "  mean diff = 7.273; stdev diff = 29.261\n",
      "  Paired t-test:\n",
      "    |diff| > 0: p = 0.450\n",
      "    diff < 0: p = 0.775\n",
      "    diff > 0: p = 0.225\n",
      "inSpO2LooseTargetRangeDuration:\n",
      "  mean diff = 9.818; stdev diff = 30.742\n",
      "  Paired t-test:\n",
      "    |diff| > 0: p = 0.336\n",
      "    diff < 0: p = 0.832\n",
      "   ~diff > 0: p = 0.168\n"
     ]
    }
   ],
   "source": [
    "statistics.test_tracing_outcomes(display_pairing)"
   ]
  },
  {
   "cell_type": "markdown",
   "metadata": {},
   "source": [
    "### MD, Easy Scenarios"
   ]
  },
  {
   "cell_type": "code",
   "execution_count": 37,
   "metadata": {
    "scrolled": true
   },
   "outputs": [
    {
     "name": "stdout",
     "output_type": "stream",
     "text": [
      "Pairing against education:\n",
      "  0: RN vs. 1: MD\n",
      "  20 0 examples vs. 18 1 examples.\n",
      "  Paired t-test alternative hypotheses:\n",
      "    Ha left-tailed (diff < 0): mean 0 - mean 1 < 0\n",
      "    Ha two-tailed (|diff| > 0): mean 0 - mean 1 != 0\n",
      "    Ha right-tailed (diff > 0): mean 0 - mean 1 > 0\n"
     ]
    }
   ],
   "source": [
    "education_easy_pairing = statistics.build_pairing(\n",
    "    scenario_split[0], 'education',\n",
    "    intersect_subjects=False, check_validity=False\n",
    ")\n",
    "education_easy_pairing.describe()"
   ]
  },
  {
   "cell_type": "code",
   "execution_count": 38,
   "metadata": {},
   "outputs": [
    {
     "name": "stdout",
     "output_type": "stream",
     "text": [
      "Pairing against displayType:\n",
      "  0: minimal vs. 1: full\n",
      "  9 0 vs. 1 pairs.\n",
      "  Paired t-test alternative hypotheses:\n",
      "    Ha left-tailed (diff < 0): mean 0 - mean 1 < 0\n",
      "    Ha two-tailed (|diff| > 0): mean 0 - mean 1 != 0\n",
      "    Ha right-tailed (diff > 0): mean 0 - mean 1 > 0\n"
     ]
    }
   ],
   "source": [
    "display_pairing = statistics.build_pairing(education_easy_pairing[1], 'displayType')\n",
    "display_pairing.describe()"
   ]
  },
  {
   "cell_type": "code",
   "execution_count": 39,
   "metadata": {
    "scrolled": false
   },
   "outputs": [
    {
     "name": "stdout",
     "output_type": "stream",
     "text": [
      "inSpO2TargetRangeDuration:\n",
      "  mean diff = -19.111; stdev diff = 27.715\n",
      "  Paired t-test:\n",
      "   *|diff| > 0: p = 0.087\n",
      "  **diff < 0: p = 0.043\n",
      "    diff > 0: p = 0.957\n",
      "inSpO2LooseTargetRangeDuration:\n",
      "  mean diff = -16.889; stdev diff = 31.932\n",
      "  Paired t-test:\n",
      "   ~|diff| > 0: p = 0.173\n",
      "   *diff < 0: p = 0.087\n",
      "    diff > 0: p = 0.913\n"
     ]
    }
   ],
   "source": [
    "statistics.test_tracing_outcomes(display_pairing)"
   ]
  },
  {
   "cell_type": "markdown",
   "metadata": {},
   "source": [
    "### MD, Hard Scenarios"
   ]
  },
  {
   "cell_type": "code",
   "execution_count": 40,
   "metadata": {
    "scrolled": true
   },
   "outputs": [
    {
     "name": "stdout",
     "output_type": "stream",
     "text": [
      "Pairing against education:\n",
      "  0: RN vs. 1: MD\n",
      "  22 0 examples vs. 20 1 examples.\n",
      "  Paired t-test alternative hypotheses:\n",
      "    Ha left-tailed (diff < 0): mean 0 - mean 1 < 0\n",
      "    Ha two-tailed (|diff| > 0): mean 0 - mean 1 != 0\n",
      "    Ha right-tailed (diff > 0): mean 0 - mean 1 > 0\n"
     ]
    }
   ],
   "source": [
    "education_hard_pairing = statistics.build_pairing(\n",
    "    scenario_split[1], 'education',\n",
    "    intersect_subjects=False, check_validity=False\n",
    ")\n",
    "education_hard_pairing.describe()"
   ]
  },
  {
   "cell_type": "code",
   "execution_count": 41,
   "metadata": {},
   "outputs": [
    {
     "name": "stdout",
     "output_type": "stream",
     "text": [
      "Pairing against displayType:\n",
      "  0: minimal vs. 1: full\n",
      "  10 0 vs. 1 pairs.\n",
      "  Paired t-test alternative hypotheses:\n",
      "    Ha left-tailed (diff < 0): mean 0 - mean 1 < 0\n",
      "    Ha two-tailed (|diff| > 0): mean 0 - mean 1 != 0\n",
      "    Ha right-tailed (diff > 0): mean 0 - mean 1 > 0\n"
     ]
    }
   ],
   "source": [
    "display_pairing = statistics.build_pairing(education_hard_pairing[1], 'displayType')\n",
    "display_pairing.describe()"
   ]
  },
  {
   "cell_type": "code",
   "execution_count": 42,
   "metadata": {
    "scrolled": false
   },
   "outputs": [
    {
     "name": "stdout",
     "output_type": "stream",
     "text": [
      "inSpO2TargetRangeDuration:\n",
      "  mean diff = 11.800; stdev diff = 32.637\n",
      "  Paired t-test:\n",
      "    |diff| > 0: p = 0.306\n",
      "    diff < 0: p = 0.847\n",
      "   ~diff > 0: p = 0.153\n",
      "inSpO2LooseTargetRangeDuration:\n",
      "  mean diff = 2.400; stdev diff = 28.068\n",
      "  Paired t-test:\n",
      "    |diff| > 0: p = 0.803\n",
      "    diff < 0: p = 0.598\n",
      "    diff > 0: p = 0.402\n"
     ]
    }
   ],
   "source": [
    "statistics.test_tracing_outcomes(display_pairing)"
   ]
  }
 ],
 "metadata": {
  "kernelspec": {
   "display_name": "Python 3",
   "language": "python",
   "name": "python3"
  },
  "language_info": {
   "codemirror_mode": {
    "name": "ipython",
    "version": 3
   },
   "file_extension": ".py",
   "mimetype": "text/x-python",
   "name": "python",
   "nbconvert_exporter": "python",
   "pygments_lexer": "ipython3",
   "version": "3.6.5"
  }
 },
 "nbformat": 4,
 "nbformat_minor": 2
}
