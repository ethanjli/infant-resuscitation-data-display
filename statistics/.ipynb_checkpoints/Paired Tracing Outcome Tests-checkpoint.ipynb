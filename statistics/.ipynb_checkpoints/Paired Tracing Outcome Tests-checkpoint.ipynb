{
 "cells": [
  {
   "cell_type": "markdown",
   "metadata": {},
   "source": [
    "# Imports"
   ]
  },
  {
   "cell_type": "code",
   "execution_count": 1,
   "metadata": {},
   "outputs": [],
   "source": [
    "%matplotlib inline\n",
    "\n",
    "import scipy as sp\n",
    "from scipy import stats\n",
    "import numpy as np\n",
    "import pandas as pd\n",
    "\n",
    "import statistics"
   ]
  },
  {
   "cell_type": "markdown",
   "metadata": {},
   "source": [
    "# Load Data"
   ]
  },
  {
   "cell_type": "code",
   "execution_count": 2,
   "metadata": {
    "scrolled": true
   },
   "outputs": [
    {
     "data": {
      "text/plain": [
       "Index(['subjectNumber', 'scenarioNumber', 'newAfterOld', 'scenarioType',\n",
       "       'displayType', 'sensorPlacementTime', 'ppvStartTime', 'ccStartTime',\n",
       "       'inSpO2TargetRangeDuration', 'inSpO2LooseTargetRangeDuration',\n",
       "       'inSpO2TargetRangeStartTime', 'aboveSpO2TargetRangeDuration',\n",
       "       'belowSpO2TargetRangeDuration', 'inFiO2TargetRangeDuration',\n",
       "       'inFiO2TargetRangeStartTime', 'aboveFiO2TargetRangeDuration',\n",
       "       'belowFiO2TargetRangeDuration', 'spO2SignedErrorIntegral',\n",
       "       'spO2UnsignedErrorIntegral', 'spO2SquaredErrorIntegral',\n",
       "       'fiO2LargeAdjustments'],\n",
       "      dtype='object')"
      ]
     },
     "execution_count": 2,
     "metadata": {},
     "output_type": "execute_result"
    }
   ],
   "source": [
    "tracing_df = statistics.load_tracing_features()\n",
    "tracing_df.columns"
   ]
  },
  {
   "cell_type": "markdown",
   "metadata": {},
   "source": [
    "# Pairing"
   ]
  },
  {
   "cell_type": "markdown",
   "metadata": {},
   "source": [
    "### Scenario Type Pairing"
   ]
  },
  {
   "cell_type": "code",
   "execution_count": 3,
   "metadata": {},
   "outputs": [],
   "source": [
    "scenario_pairing = statistics.build_pairing(tracing_df, 'scenarioType')"
   ]
  },
  {
   "cell_type": "code",
   "execution_count": 4,
   "metadata": {},
   "outputs": [
    {
     "name": "stdout",
     "output_type": "stream",
     "text": [
      "Pairing against scenarioType:\n",
      "  0: easy vs. 1: hard\n",
      "  40 0 vs. 1 pairs.\n",
      "  Paired t-test alternative hypotheses:\n",
      "    Ha left-tailed (diff < 0): mean 0 - mean 1 < 0\n",
      "    Ha two-tailed (|diff| > 0): mean 0 - mean 1 != 0\n",
      "    Ha right-tailed (diff > 0): mean 0 - mean 1 > 0\n"
     ]
    }
   ],
   "source": [
    "scenario_pairing.describe()"
   ]
  },
  {
   "cell_type": "code",
   "execution_count": 5,
   "metadata": {
    "scrolled": true
   },
   "outputs": [
    {
     "name": "stdout",
     "output_type": "stream",
     "text": [
      "inSpO2TargetRangeDuration:\n",
      "  mean diff = 9.800; stdev diff = 37.349\n",
      "  Paired t-test:\n",
      "   ~|diff| > 0: p = 0.109\n",
      "    diff < 0: p = 0.945\n",
      "   *diff > 0: p = 0.055\n",
      "inSpO2LooseTargetRangeDuration:\n",
      "  mean diff = 54.200; stdev diff = 35.827\n",
      "  Paired t-test:\n",
      "  **|diff| > 0: p = 0.000\n",
      "    diff < 0: p = 1.000\n",
      "  **diff > 0: p = 0.000\n"
     ]
    }
   ],
   "source": [
    "statistics.test_tracing_outcomes(scenario_pairing)"
   ]
  },
  {
   "cell_type": "markdown",
   "metadata": {},
   "source": [
    "### Display Type Pairing"
   ]
  },
  {
   "cell_type": "code",
   "execution_count": 6,
   "metadata": {},
   "outputs": [],
   "source": [
    "display_pairing = statistics.build_pairing(tracing_df, 'displayType')"
   ]
  },
  {
   "cell_type": "code",
   "execution_count": 7,
   "metadata": {},
   "outputs": [
    {
     "name": "stdout",
     "output_type": "stream",
     "text": [
      "Pairing against displayType:\n",
      "  0: minimal vs. 1: full\n",
      "  44 0 vs. 1 pairs.\n",
      "  Paired t-test alternative hypotheses:\n",
      "    Ha left-tailed (diff < 0): mean 0 - mean 1 < 0\n",
      "    Ha two-tailed (|diff| > 0): mean 0 - mean 1 != 0\n",
      "    Ha right-tailed (diff > 0): mean 0 - mean 1 > 0\n"
     ]
    }
   ],
   "source": [
    "display_pairing.describe()"
   ]
  },
  {
   "cell_type": "code",
   "execution_count": 8,
   "metadata": {
    "scrolled": true
   },
   "outputs": [
    {
     "name": "stdout",
     "output_type": "stream",
     "text": [
      "inSpO2TargetRangeDuration:\n",
      "  mean diff = -0.136; stdev diff = 34.405\n",
      "  Paired t-test:\n",
      "    |diff| > 0: p = 0.979\n",
      "    diff < 0: p = 0.490\n",
      "    diff > 0: p = 0.510\n",
      "inSpO2LooseTargetRangeDuration:\n",
      "  mean diff = 1.045; stdev diff = 38.446\n",
      "  Paired t-test:\n",
      "    |diff| > 0: p = 0.859\n",
      "    diff < 0: p = 0.570\n",
      "    diff > 0: p = 0.430\n"
     ]
    }
   ],
   "source": [
    "statistics.test_tracing_outcomes(display_pairing)"
   ]
  },
  {
   "cell_type": "markdown",
   "metadata": {},
   "source": [
    "### Display Type Pairing, Split by Scenario"
   ]
  },
  {
   "cell_type": "code",
   "execution_count": 9,
   "metadata": {},
   "outputs": [],
   "source": [
    "scenario_pairing = statistics.build_pairing(\n",
    "    tracing_df, 'scenarioType',\n",
    "    intersect_subjects=False, check_validity=False\n",
    ")"
   ]
  },
  {
   "cell_type": "code",
   "execution_count": 10,
   "metadata": {},
   "outputs": [
    {
     "name": "stdout",
     "output_type": "stream",
     "text": [
      "Pairing against scenarioType:\n",
      "  0: easy vs. 1: hard\n",
      "  42 0 examples vs. 46 1 examples.\n",
      "  Paired t-test alternative hypotheses:\n",
      "    Ha left-tailed (diff < 0): mean 0 - mean 1 < 0\n",
      "    Ha two-tailed (|diff| > 0): mean 0 - mean 1 != 0\n",
      "    Ha right-tailed (diff > 0): mean 0 - mean 1 > 0\n"
     ]
    }
   ],
   "source": [
    "scenario_pairing.describe()"
   ]
  },
  {
   "cell_type": "code",
   "execution_count": 11,
   "metadata": {},
   "outputs": [],
   "source": [
    "scenario_display_pairings = {\n",
    "    scenario: statistics.build_pairing(scenario_subset, 'displayType')\n",
    "    for (scenario, scenario_subset) in enumerate(scenario_pairing)\n",
    "}"
   ]
  },
  {
   "cell_type": "markdown",
   "metadata": {},
   "source": [
    "#### Easy Scenarios"
   ]
  },
  {
   "cell_type": "code",
   "execution_count": 12,
   "metadata": {},
   "outputs": [
    {
     "name": "stdout",
     "output_type": "stream",
     "text": [
      "Pairing against displayType:\n",
      "  0: minimal vs. 1: full\n",
      "  21 0 vs. 1 pairs.\n",
      "  Paired t-test alternative hypotheses:\n",
      "    Ha left-tailed (diff < 0): mean 0 - mean 1 < 0\n",
      "    Ha two-tailed (|diff| > 0): mean 0 - mean 1 != 0\n",
      "    Ha right-tailed (diff > 0): mean 0 - mean 1 > 0\n"
     ]
    }
   ],
   "source": [
    "scenario_display_pairings[0].describe()"
   ]
  },
  {
   "cell_type": "code",
   "execution_count": 13,
   "metadata": {
    "scrolled": true
   },
   "outputs": [
    {
     "name": "stdout",
     "output_type": "stream",
     "text": [
      "inSpO2TargetRangeDuration:\n",
      "  mean diff = -10.857; stdev diff = 35.849\n",
      "  Paired t-test:\n",
      "   ~|diff| > 0: p = 0.191\n",
      "   *diff < 0: p = 0.095\n",
      "    diff > 0: p = 0.905\n",
      "inSpO2LooseTargetRangeDuration:\n",
      "  mean diff = -5.429; stdev diff = 45.924\n",
      "  Paired t-test:\n",
      "    |diff| > 0: p = 0.603\n",
      "    diff < 0: p = 0.301\n",
      "    diff > 0: p = 0.699\n"
     ]
    }
   ],
   "source": [
    "statistics.test_tracing_outcomes(scenario_display_pairings[0])"
   ]
  },
  {
   "cell_type": "markdown",
   "metadata": {},
   "source": [
    "#### Hard Scenarios"
   ]
  },
  {
   "cell_type": "code",
   "execution_count": 14,
   "metadata": {},
   "outputs": [
    {
     "name": "stdout",
     "output_type": "stream",
     "text": [
      "Pairing against displayType:\n",
      "  0: minimal vs. 1: full\n",
      "  23 0 vs. 1 pairs.\n",
      "  Paired t-test alternative hypotheses:\n",
      "    Ha left-tailed (diff < 0): mean 0 - mean 1 < 0\n",
      "    Ha two-tailed (|diff| > 0): mean 0 - mean 1 != 0\n",
      "    Ha right-tailed (diff > 0): mean 0 - mean 1 > 0\n"
     ]
    }
   ],
   "source": [
    "scenario_display_pairings[1].describe()"
   ]
  },
  {
   "cell_type": "code",
   "execution_count": 15,
   "metadata": {
    "scrolled": true
   },
   "outputs": [
    {
     "name": "stdout",
     "output_type": "stream",
     "text": [
      "inSpO2TargetRangeDuration:\n",
      "  mean diff = 9.652; stdev diff = 29.838\n",
      "  Paired t-test:\n",
      "   ~|diff| > 0: p = 0.143\n",
      "    diff < 0: p = 0.928\n",
      "   *diff > 0: p = 0.072\n",
      "inSpO2LooseTargetRangeDuration:\n",
      "  mean diff = 6.957; stdev diff = 28.789\n",
      "  Paired t-test:\n",
      "    |diff| > 0: p = 0.269\n",
      "    diff < 0: p = 0.865\n",
      "   ~diff > 0: p = 0.135\n"
     ]
    }
   ],
   "source": [
    "statistics.test_tracing_outcomes(scenario_display_pairings[1])"
   ]
  },
  {
   "cell_type": "markdown",
   "metadata": {},
   "source": [
    "### Scenario Order Pairing, Split by Scenario"
   ]
  },
  {
   "cell_type": "code",
   "execution_count": 16,
   "metadata": {},
   "outputs": [],
   "source": [
    "scenario_order_pairings = {\n",
    "    0: statistics.build_pairing(scenario_pairing[0], 'scenarioNumber', values=(1, 4), check_validity=False),\n",
    "    1: statistics.build_pairing(scenario_pairing[1], 'scenarioNumber', values=(2, 3), check_validity=False),\n",
    "}"
   ]
  },
  {
   "cell_type": "markdown",
   "metadata": {},
   "source": [
    "#### Easy Scenarios"
   ]
  },
  {
   "cell_type": "code",
   "execution_count": 17,
   "metadata": {
    "scrolled": true
   },
   "outputs": [
    {
     "name": "stdout",
     "output_type": "stream",
     "text": [
      "Pairing against scenarioNumber:\n",
      "  0: first vs. 1: second\n",
      "  21 0 vs. 1 pairs.\n",
      "  Paired t-test alternative hypotheses:\n",
      "    Ha left-tailed (diff < 0): mean 0 - mean 1 < 0\n",
      "    Ha two-tailed (|diff| > 0): mean 0 - mean 1 != 0\n",
      "    Ha right-tailed (diff > 0): mean 0 - mean 1 > 0\n"
     ]
    }
   ],
   "source": [
    "scenario_order_pairings[0].describe()"
   ]
  },
  {
   "cell_type": "code",
   "execution_count": 18,
   "metadata": {
    "scrolled": true
   },
   "outputs": [
    {
     "name": "stdout",
     "output_type": "stream",
     "text": [
      "inSpO2TargetRangeDuration:\n",
      "  mean diff = -15.810; stdev diff = 33.957\n",
      "  Paired t-test:\n",
      "   *|diff| > 0: p = 0.050\n",
      "  **diff < 0: p = 0.025\n",
      "    diff > 0: p = 0.975\n",
      "inSpO2LooseTargetRangeDuration:\n",
      "  mean diff = -19.905; stdev diff = 41.741\n",
      "  Paired t-test:\n",
      "  **|diff| > 0: p = 0.046\n",
      "  **diff < 0: p = 0.023\n",
      "    diff > 0: p = 0.977\n"
     ]
    }
   ],
   "source": [
    "statistics.test_tracing_outcomes(scenario_order_pairings[0])"
   ]
  },
  {
   "cell_type": "markdown",
   "metadata": {},
   "source": [
    "#### Hard Scenarios"
   ]
  },
  {
   "cell_type": "code",
   "execution_count": 19,
   "metadata": {
    "scrolled": true
   },
   "outputs": [
    {
     "name": "stdout",
     "output_type": "stream",
     "text": [
      "Pairing against scenarioNumber:\n",
      "  0: first vs. 1: second\n",
      "  23 0 vs. 1 pairs.\n",
      "  Paired t-test alternative hypotheses:\n",
      "    Ha left-tailed (diff < 0): mean 0 - mean 1 < 0\n",
      "    Ha two-tailed (|diff| > 0): mean 0 - mean 1 != 0\n",
      "    Ha right-tailed (diff > 0): mean 0 - mean 1 > 0\n"
     ]
    }
   ],
   "source": [
    "scenario_order_pairings[1].describe()"
   ]
  },
  {
   "cell_type": "code",
   "execution_count": 20,
   "metadata": {},
   "outputs": [
    {
     "name": "stdout",
     "output_type": "stream",
     "text": [
      "inSpO2TargetRangeDuration:\n",
      "  mean diff = 9.304; stdev diff = 29.948\n",
      "  Paired t-test:\n",
      "   ~|diff| > 0: p = 0.159\n",
      "    diff < 0: p = 0.920\n",
      "   *diff > 0: p = 0.080\n",
      "inSpO2LooseTargetRangeDuration:\n",
      "  mean diff = 4.870; stdev diff = 29.215\n",
      "  Paired t-test:\n",
      "    |diff| > 0: p = 0.443\n",
      "    diff < 0: p = 0.779\n",
      "    diff > 0: p = 0.221\n"
     ]
    }
   ],
   "source": [
    "statistics.test_tracing_outcomes(scenario_order_pairings[1])"
   ]
  }
 ],
 "metadata": {
  "kernelspec": {
   "display_name": "Python 3",
   "language": "python",
   "name": "python3"
  },
  "language_info": {
   "codemirror_mode": {
    "name": "ipython",
    "version": 3
   },
   "file_extension": ".py",
   "mimetype": "text/x-python",
   "name": "python",
   "nbconvert_exporter": "python",
   "pygments_lexer": "ipython3",
   "version": "3.6.5"
  }
 },
 "nbformat": 4,
 "nbformat_minor": 2
}
