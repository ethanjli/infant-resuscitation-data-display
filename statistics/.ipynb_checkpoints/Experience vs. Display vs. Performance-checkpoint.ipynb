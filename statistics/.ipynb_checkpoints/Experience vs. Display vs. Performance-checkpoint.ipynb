{
 "cells": [
  {
   "cell_type": "markdown",
   "metadata": {},
   "source": [
    "# Imports"
   ]
  },
  {
   "cell_type": "code",
   "execution_count": 1,
   "metadata": {},
   "outputs": [],
   "source": [
    "%matplotlib inline\n",
    "%load_ext autoreload\n",
    "%autoreload 2\n",
    "\n",
    "import scipy as sp\n",
    "from scipy import stats\n",
    "import numpy as np\n",
    "import pandas as pd\n",
    "\n",
    "import statistics"
   ]
  },
  {
   "cell_type": "markdown",
   "metadata": {},
   "source": [
    "# Load Data"
   ]
  },
  {
   "cell_type": "code",
   "execution_count": 2,
   "metadata": {
    "scrolled": true
   },
   "outputs": [
    {
     "data": {
      "text/plain": [
       "Index(['subjectNumber', 'scenarioNumber', 'newAfterOld', 'scenarioType',\n",
       "       'displayType', 'sensorPlacementTime', 'ppvStartTime', 'ccStartTime',\n",
       "       'inSpO2TargetRangeDuration', 'inSpO2LooseTargetRangeDuration',\n",
       "       'inSpO2TargetRangeStartTime', 'aboveSpO2TargetRangeDuration',\n",
       "       'belowSpO2TargetRangeDuration', 'inFiO2TargetRangeDuration',\n",
       "       'inFiO2TargetRangeStartTime', 'aboveFiO2TargetRangeDuration',\n",
       "       'belowFiO2TargetRangeDuration', 'spO2SignedErrorIntegral',\n",
       "       'spO2UnsignedErrorIntegral', 'spO2SquaredErrorIntegral',\n",
       "       'fiO2LargeAdjustments', 'recording', 'code', 'education',\n",
       "       'cumulativeNICU', 'resusLD', 'resusLDnonzero', 'cumulativeNICU5',\n",
       "       'cumulativeNICU10', 'cumulativeNICU13', 'resusLD20'],\n",
       "      dtype='object')"
      ]
     },
     "execution_count": 2,
     "metadata": {},
     "output_type": "execute_result"
    }
   ],
   "source": [
    "demo_df = statistics.load_demographic_features()\n",
    "statistics.compute_demo_features(demo_df)\n",
    "tracing_df = statistics.load_tracing_features(sort='order')\n",
    "recording_df = statistics.load_recording_relations()\n",
    "recording_df = statistics.associate_demographics(recording_df, tracing_df, demo_df)\n",
    "#gaze_dfs = statistics.load_gaze_features()\n",
    "#statistics.check_gaze_recording_associations(recording_df, gaze_dfs)\n",
    "#statistics.compute_gaze_features(gaze_dfs)\n",
    "#gaze_df = statistics.combine_gaze_features(gaze_dfs)\n",
    "#full_df = statistics.combine_all_features(recording_df, gaze_df)\n",
    "full_df = recording_df\n",
    "full_df.columns"
   ]
  },
  {
   "cell_type": "markdown",
   "metadata": {},
   "source": [
    "### Scenario Type Split"
   ]
  },
  {
   "cell_type": "code",
   "execution_count": 3,
   "metadata": {},
   "outputs": [
    {
     "name": "stdout",
     "output_type": "stream",
     "text": [
      "Pairing against scenarioType:\n",
      "  0: easy vs. 1: hard\n",
      "  40 0 examples vs. 44 1 examples.\n",
      "  Paired t-test alternative hypotheses:\n",
      "    Ha left-tailed (diff < 0): mean 0 - mean 1 < 0\n",
      "    Ha two-tailed (|diff| > 0): mean 0 - mean 1 != 0\n",
      "    Ha right-tailed (diff > 0): mean 0 - mean 1 > 0\n",
      "  Wilcoxon signed-rank alternative hypotheses:\n",
      "    Ha left-tailed (P(x > y) < 0.5)\n",
      "    Ha two-tailed (P(x > y) != 0.5)\n",
      "    Ha right-tailed (P(x > y) > 0.5)\n"
     ]
    }
   ],
   "source": [
    "scenario_split = statistics.build_pairing(\n",
    "    full_df, 'scenarioType',\n",
    "    intersect_subjects=False, check_validity=False\n",
    ")\n",
    "scenario_split.describe()"
   ]
  },
  {
   "cell_type": "markdown",
   "metadata": {},
   "source": [
    "## Led resuscitations in L&D in past year?"
   ]
  },
  {
   "cell_type": "code",
   "execution_count": 4,
   "metadata": {},
   "outputs": [
    {
     "name": "stdout",
     "output_type": "stream",
     "text": [
      "Pairing against resusLDnonzero:\n",
      "  0: noLDResusPastYear vs. 1: LDResusPastYear\n",
      "  38 0 examples vs. 42 1 examples.\n",
      "  Paired t-test alternative hypotheses:\n",
      "    Ha left-tailed (diff < 0): mean 0 - mean 1 < 0\n",
      "    Ha two-tailed (|diff| > 0): mean 0 - mean 1 != 0\n",
      "    Ha right-tailed (diff > 0): mean 0 - mean 1 > 0\n",
      "  Wilcoxon signed-rank alternative hypotheses:\n",
      "    Ha left-tailed (P(x > y) < 0.5)\n",
      "    Ha two-tailed (P(x > y) != 0.5)\n",
      "    Ha right-tailed (P(x > y) > 0.5)\n"
     ]
    }
   ],
   "source": [
    "resusLD_pairing = statistics.build_pairing(\n",
    "    full_df, 'resusLDnonzero',\n",
    "    intersect_subjects=False, check_validity=False\n",
    ")\n",
    "resusLD_pairing.describe()"
   ]
  },
  {
   "cell_type": "markdown",
   "metadata": {},
   "source": [
    "### Not Led, Easy Scenarios"
   ]
  },
  {
   "cell_type": "code",
   "execution_count": 5,
   "metadata": {
    "scrolled": true
   },
   "outputs": [
    {
     "name": "stdout",
     "output_type": "stream",
     "text": [
      "Pairing against resusLDnonzero:\n",
      "  0: noLDResusPastYear vs. 1: LDResusPastYear\n",
      "  18 0 examples vs. 20 1 examples.\n",
      "  Paired t-test alternative hypotheses:\n",
      "    Ha left-tailed (diff < 0): mean 0 - mean 1 < 0\n",
      "    Ha two-tailed (|diff| > 0): mean 0 - mean 1 != 0\n",
      "    Ha right-tailed (diff > 0): mean 0 - mean 1 > 0\n",
      "  Wilcoxon signed-rank alternative hypotheses:\n",
      "    Ha left-tailed (P(x > y) < 0.5)\n",
      "    Ha two-tailed (P(x > y) != 0.5)\n",
      "    Ha right-tailed (P(x > y) > 0.5)\n"
     ]
    }
   ],
   "source": [
    "resusLD_easy_pairing = statistics.build_pairing(\n",
    "    scenario_split[0], 'resusLDnonzero',\n",
    "    intersect_subjects=False, check_validity=False\n",
    ")\n",
    "resusLD_easy_pairing.describe()"
   ]
  },
  {
   "cell_type": "code",
   "execution_count": 6,
   "metadata": {},
   "outputs": [
    {
     "name": "stdout",
     "output_type": "stream",
     "text": [
      "Pairing against displayType:\n",
      "  0: minimal vs. 1: full\n",
      "  9 0 vs. 1 pairs.\n",
      "  Paired t-test alternative hypotheses:\n",
      "    Ha left-tailed (diff < 0): mean 0 - mean 1 < 0\n",
      "    Ha two-tailed (|diff| > 0): mean 0 - mean 1 != 0\n",
      "    Ha right-tailed (diff > 0): mean 0 - mean 1 > 0\n",
      "  Wilcoxon signed-rank alternative hypotheses:\n",
      "    Ha left-tailed (P(x > y) < 0.5)\n",
      "    Ha two-tailed (P(x > y) != 0.5)\n",
      "    Ha right-tailed (P(x > y) > 0.5)\n"
     ]
    }
   ],
   "source": [
    "display_pairing = statistics.build_pairing(resusLD_easy_pairing[0], 'displayType')\n",
    "display_pairing.describe()"
   ]
  },
  {
   "cell_type": "code",
   "execution_count": 7,
   "metadata": {
    "scrolled": false
   },
   "outputs": [
    {
     "name": "stdout",
     "output_type": "stream",
     "text": [
      "inSpO2TargetRangeDuration:\n",
      "  mean diff = 13.333; stdev diff = 30.111\n",
      "  Paired t-test:\n",
      "    |diff| > 0: p = 0.246\n",
      "    diff < 0: p = 0.877\n",
      "   ~diff > 0: p = 0.123\n",
      "  Wilcoxon signed-rank test:\n",
      "    P(x > y) != 0.5: p = 0.237\n",
      "    P(x > y) < 0.5: p = 0.882\n",
      "   ~P(x > y) > 0.5: p = 0.118\n",
      "inSpO2LooseTargetRangeDuration:\n",
      "  mean diff = 10.000; stdev diff = 58.765\n",
      "  Paired t-test:\n",
      "    |diff| > 0: p = 0.643\n",
      "    diff < 0: p = 0.678\n",
      "    diff > 0: p = 0.322\n",
      "  Wilcoxon signed-rank test:\n",
      "    P(x > y) != 0.5: p = 0.484\n",
      "    P(x > y) < 0.5: p = 0.758\n",
      "    P(x > y) > 0.5: p = 0.242\n"
     ]
    },
    {
     "name": "stderr",
     "output_type": "stream",
     "text": [
      "/home/lietk12/.local/lib/python3.6/site-packages/scipy/stats/morestats.py:2397: UserWarning: Warning: sample size too small for normal approximation.\n",
      "  warnings.warn(\"Warning: sample size too small for normal approximation.\")\n"
     ]
    }
   ],
   "source": [
    "statistics.test_tracing_outcomes(display_pairing)"
   ]
  },
  {
   "cell_type": "markdown",
   "metadata": {},
   "source": [
    "### Not Led, Hard Scenarios"
   ]
  },
  {
   "cell_type": "code",
   "execution_count": 8,
   "metadata": {
    "scrolled": true
   },
   "outputs": [
    {
     "name": "stdout",
     "output_type": "stream",
     "text": [
      "Pairing against resusLDnonzero:\n",
      "  0: noLDResusPastYear vs. 1: LDResusPastYear\n",
      "  20 0 examples vs. 22 1 examples.\n",
      "  Paired t-test alternative hypotheses:\n",
      "    Ha left-tailed (diff < 0): mean 0 - mean 1 < 0\n",
      "    Ha two-tailed (|diff| > 0): mean 0 - mean 1 != 0\n",
      "    Ha right-tailed (diff > 0): mean 0 - mean 1 > 0\n",
      "  Wilcoxon signed-rank alternative hypotheses:\n",
      "    Ha left-tailed (P(x > y) < 0.5)\n",
      "    Ha two-tailed (P(x > y) != 0.5)\n",
      "    Ha right-tailed (P(x > y) > 0.5)\n"
     ]
    }
   ],
   "source": [
    "resusLD_hard_pairing = statistics.build_pairing(\n",
    "    scenario_split[1], 'resusLDnonzero',\n",
    "    intersect_subjects=False, check_validity=False\n",
    ")\n",
    "resusLD_hard_pairing.describe()"
   ]
  },
  {
   "cell_type": "code",
   "execution_count": 9,
   "metadata": {},
   "outputs": [
    {
     "name": "stdout",
     "output_type": "stream",
     "text": [
      "Pairing against displayType:\n",
      "  0: minimal vs. 1: full\n",
      "  10 0 vs. 1 pairs.\n",
      "  Paired t-test alternative hypotheses:\n",
      "    Ha left-tailed (diff < 0): mean 0 - mean 1 < 0\n",
      "    Ha two-tailed (|diff| > 0): mean 0 - mean 1 != 0\n",
      "    Ha right-tailed (diff > 0): mean 0 - mean 1 > 0\n",
      "  Wilcoxon signed-rank alternative hypotheses:\n",
      "    Ha left-tailed (P(x > y) < 0.5)\n",
      "    Ha two-tailed (P(x > y) != 0.5)\n",
      "    Ha right-tailed (P(x > y) > 0.5)\n"
     ]
    }
   ],
   "source": [
    "display_pairing = statistics.build_pairing(resusLD_hard_pairing[0], 'displayType')\n",
    "display_pairing.describe()"
   ]
  },
  {
   "cell_type": "code",
   "execution_count": 10,
   "metadata": {
    "scrolled": false
   },
   "outputs": [
    {
     "name": "stdout",
     "output_type": "stream",
     "text": [
      "inSpO2TargetRangeDuration:\n",
      "  mean diff = 5.400; stdev diff = 26.699\n",
      "  Paired t-test:\n",
      "    |diff| > 0: p = 0.559\n",
      "    diff < 0: p = 0.720\n",
      "    diff > 0: p = 0.280\n",
      "  Wilcoxon signed-rank test:\n",
      "    P(x > y) != 0.5: p = 0.528\n",
      "    P(x > y) < 0.5: p = 0.736\n",
      "    P(x > y) > 0.5: p = 0.264\n",
      "inSpO2LooseTargetRangeDuration:\n",
      "  mean diff = 8.800; stdev diff = 28.358\n",
      "  Paired t-test:\n",
      "    |diff| > 0: p = 0.376\n",
      "    diff < 0: p = 0.812\n",
      "   ~diff > 0: p = 0.188\n",
      "  Wilcoxon signed-rank test:\n",
      "    P(x > y) != 0.5: p = 0.441\n",
      "    P(x > y) < 0.5: p = 0.780\n",
      "    P(x > y) > 0.5: p = 0.220\n"
     ]
    },
    {
     "name": "stderr",
     "output_type": "stream",
     "text": [
      "/home/lietk12/.local/lib/python3.6/site-packages/scipy/stats/morestats.py:2397: UserWarning: Warning: sample size too small for normal approximation.\n",
      "  warnings.warn(\"Warning: sample size too small for normal approximation.\")\n"
     ]
    }
   ],
   "source": [
    "statistics.test_tracing_outcomes(display_pairing)"
   ]
  },
  {
   "cell_type": "markdown",
   "metadata": {},
   "source": [
    "### Led, Easy Scenarios"
   ]
  },
  {
   "cell_type": "code",
   "execution_count": 11,
   "metadata": {
    "scrolled": true
   },
   "outputs": [
    {
     "name": "stdout",
     "output_type": "stream",
     "text": [
      "Pairing against resusLDnonzero:\n",
      "  0: noLDResusPastYear vs. 1: LDResusPastYear\n",
      "  18 0 examples vs. 20 1 examples.\n",
      "  Paired t-test alternative hypotheses:\n",
      "    Ha left-tailed (diff < 0): mean 0 - mean 1 < 0\n",
      "    Ha two-tailed (|diff| > 0): mean 0 - mean 1 != 0\n",
      "    Ha right-tailed (diff > 0): mean 0 - mean 1 > 0\n",
      "  Wilcoxon signed-rank alternative hypotheses:\n",
      "    Ha left-tailed (P(x > y) < 0.5)\n",
      "    Ha two-tailed (P(x > y) != 0.5)\n",
      "    Ha right-tailed (P(x > y) > 0.5)\n"
     ]
    }
   ],
   "source": [
    "resusLD_easy_pairing = statistics.build_pairing(\n",
    "    scenario_split[0], 'resusLDnonzero',\n",
    "    intersect_subjects=False, check_validity=False\n",
    ")\n",
    "resusLD_easy_pairing.describe()"
   ]
  },
  {
   "cell_type": "code",
   "execution_count": 12,
   "metadata": {},
   "outputs": [
    {
     "name": "stdout",
     "output_type": "stream",
     "text": [
      "Pairing against displayType:\n",
      "  0: minimal vs. 1: full\n",
      "  10 0 vs. 1 pairs.\n",
      "  Paired t-test alternative hypotheses:\n",
      "    Ha left-tailed (diff < 0): mean 0 - mean 1 < 0\n",
      "    Ha two-tailed (|diff| > 0): mean 0 - mean 1 != 0\n",
      "    Ha right-tailed (diff > 0): mean 0 - mean 1 > 0\n",
      "  Wilcoxon signed-rank alternative hypotheses:\n",
      "    Ha left-tailed (P(x > y) < 0.5)\n",
      "    Ha two-tailed (P(x > y) != 0.5)\n",
      "    Ha right-tailed (P(x > y) > 0.5)\n"
     ]
    }
   ],
   "source": [
    "display_pairing = statistics.build_pairing(resusLD_easy_pairing[1], 'displayType')\n",
    "display_pairing.describe()"
   ]
  },
  {
   "cell_type": "code",
   "execution_count": 13,
   "metadata": {
    "scrolled": false
   },
   "outputs": [
    {
     "name": "stdout",
     "output_type": "stream",
     "text": [
      "inSpO2TargetRangeDuration:\n",
      "  mean diff = -25.400; stdev diff = 29.692\n",
      "  Paired t-test:\n",
      "  **|diff| > 0: p = 0.030\n",
      "  **diff < 0: p = 0.015\n",
      "    diff > 0: p = 0.985\n",
      "  Wilcoxon signed-rank test:\n",
      "  **P(x > y) != 0.5: p = 0.037\n",
      "  **P(x > y) < 0.5: p = 0.018\n",
      "    P(x > y) > 0.5: p = 0.982\n",
      "inSpO2LooseTargetRangeDuration:\n",
      "  mean diff = -17.200; stdev diff = 30.426\n",
      "  Paired t-test:\n",
      "   ~|diff| > 0: p = 0.124\n",
      "   *diff < 0: p = 0.062\n",
      "    diff > 0: p = 0.938\n",
      "  Wilcoxon signed-rank test:\n",
      "   *P(x > y) != 0.5: p = 0.074\n",
      "  **P(x > y) < 0.5: p = 0.037\n",
      "    P(x > y) > 0.5: p = 0.963\n"
     ]
    }
   ],
   "source": [
    "statistics.test_tracing_outcomes(display_pairing)"
   ]
  },
  {
   "cell_type": "markdown",
   "metadata": {},
   "source": [
    "### Led, Hard Scenarios"
   ]
  },
  {
   "cell_type": "code",
   "execution_count": 14,
   "metadata": {
    "scrolled": true
   },
   "outputs": [
    {
     "name": "stdout",
     "output_type": "stream",
     "text": [
      "Pairing against resusLDnonzero:\n",
      "  0: noLDResusPastYear vs. 1: LDResusPastYear\n",
      "  20 0 examples vs. 22 1 examples.\n",
      "  Paired t-test alternative hypotheses:\n",
      "    Ha left-tailed (diff < 0): mean 0 - mean 1 < 0\n",
      "    Ha two-tailed (|diff| > 0): mean 0 - mean 1 != 0\n",
      "    Ha right-tailed (diff > 0): mean 0 - mean 1 > 0\n",
      "  Wilcoxon signed-rank alternative hypotheses:\n",
      "    Ha left-tailed (P(x > y) < 0.5)\n",
      "    Ha two-tailed (P(x > y) != 0.5)\n",
      "    Ha right-tailed (P(x > y) > 0.5)\n"
     ]
    }
   ],
   "source": [
    "resusLD_hard_pairing = statistics.build_pairing(\n",
    "    scenario_split[1], 'resusLDnonzero',\n",
    "    intersect_subjects=False, check_validity=False\n",
    ")\n",
    "resusLD_hard_pairing.describe()"
   ]
  },
  {
   "cell_type": "code",
   "execution_count": 15,
   "metadata": {},
   "outputs": [
    {
     "name": "stdout",
     "output_type": "stream",
     "text": [
      "Pairing against displayType:\n",
      "  0: minimal vs. 1: full\n",
      "  11 0 vs. 1 pairs.\n",
      "  Paired t-test alternative hypotheses:\n",
      "    Ha left-tailed (diff < 0): mean 0 - mean 1 < 0\n",
      "    Ha two-tailed (|diff| > 0): mean 0 - mean 1 != 0\n",
      "    Ha right-tailed (diff > 0): mean 0 - mean 1 > 0\n",
      "  Wilcoxon signed-rank alternative hypotheses:\n",
      "    Ha left-tailed (P(x > y) < 0.5)\n",
      "    Ha two-tailed (P(x > y) != 0.5)\n",
      "    Ha right-tailed (P(x > y) > 0.5)\n"
     ]
    }
   ],
   "source": [
    "display_pairing = statistics.build_pairing(resusLD_hard_pairing[1], 'displayType')\n",
    "display_pairing.describe()"
   ]
  },
  {
   "cell_type": "code",
   "execution_count": 16,
   "metadata": {
    "scrolled": false
   },
   "outputs": [
    {
     "name": "stdout",
     "output_type": "stream",
     "text": [
      "inSpO2TargetRangeDuration:\n",
      "  mean diff = 13.091; stdev diff = 34.031\n",
      "  Paired t-test:\n",
      "    |diff| > 0: p = 0.252\n",
      "    diff < 0: p = 0.874\n",
      "   ~diff > 0: p = 0.126\n",
      "  Wilcoxon signed-rank test:\n",
      "   ~P(x > y) != 0.5: p = 0.173\n",
      "    P(x > y) < 0.5: p = 0.913\n",
      "   *P(x > y) > 0.5: p = 0.087\n",
      "inSpO2LooseTargetRangeDuration:\n",
      "  mean diff = 4.000; stdev diff = 30.748\n",
      "  Paired t-test:\n",
      "    |diff| > 0: p = 0.689\n",
      "    diff < 0: p = 0.655\n",
      "    diff > 0: p = 0.345\n",
      "  Wilcoxon signed-rank test:\n",
      "    P(x > y) != 0.5: p = 0.721\n",
      "    P(x > y) < 0.5: p = 0.639\n",
      "    P(x > y) > 0.5: p = 0.361\n"
     ]
    },
    {
     "name": "stderr",
     "output_type": "stream",
     "text": [
      "/home/lietk12/.local/lib/python3.6/site-packages/scipy/stats/morestats.py:2397: UserWarning: Warning: sample size too small for normal approximation.\n",
      "  warnings.warn(\"Warning: sample size too small for normal approximation.\")\n"
     ]
    }
   ],
   "source": [
    "statistics.test_tracing_outcomes(display_pairing)"
   ]
  },
  {
   "cell_type": "markdown",
   "metadata": {},
   "source": [
    "## RN vs. MD\n",
    "Note that only one MD had not performed a resuscitation in L&D in the past year, and only 3 RNs had performed a resuscitation in L&D in the past year."
   ]
  },
  {
   "cell_type": "code",
   "execution_count": 17,
   "metadata": {},
   "outputs": [
    {
     "name": "stdout",
     "output_type": "stream",
     "text": [
      "Pairing against education:\n",
      "  0: RN vs. 1: MD\n",
      "  42 0 examples vs. 38 1 examples.\n",
      "  Paired t-test alternative hypotheses:\n",
      "    Ha left-tailed (diff < 0): mean 0 - mean 1 < 0\n",
      "    Ha two-tailed (|diff| > 0): mean 0 - mean 1 != 0\n",
      "    Ha right-tailed (diff > 0): mean 0 - mean 1 > 0\n",
      "  Wilcoxon signed-rank alternative hypotheses:\n",
      "    Ha left-tailed (P(x > y) < 0.5)\n",
      "    Ha two-tailed (P(x > y) != 0.5)\n",
      "    Ha right-tailed (P(x > y) > 0.5)\n"
     ]
    }
   ],
   "source": [
    "education_pairing = statistics.build_pairing(\n",
    "    full_df, 'education',\n",
    "    intersect_subjects=False, check_validity=False\n",
    ")\n",
    "education_pairing.describe()"
   ]
  },
  {
   "cell_type": "markdown",
   "metadata": {},
   "source": [
    "### RN, Easy Scenarios"
   ]
  },
  {
   "cell_type": "code",
   "execution_count": 18,
   "metadata": {
    "scrolled": true
   },
   "outputs": [
    {
     "name": "stdout",
     "output_type": "stream",
     "text": [
      "Pairing against education:\n",
      "  0: RN vs. 1: MD\n",
      "  20 0 examples vs. 18 1 examples.\n",
      "  Paired t-test alternative hypotheses:\n",
      "    Ha left-tailed (diff < 0): mean 0 - mean 1 < 0\n",
      "    Ha two-tailed (|diff| > 0): mean 0 - mean 1 != 0\n",
      "    Ha right-tailed (diff > 0): mean 0 - mean 1 > 0\n",
      "  Wilcoxon signed-rank alternative hypotheses:\n",
      "    Ha left-tailed (P(x > y) < 0.5)\n",
      "    Ha two-tailed (P(x > y) != 0.5)\n",
      "    Ha right-tailed (P(x > y) > 0.5)\n"
     ]
    }
   ],
   "source": [
    "education_easy_pairing = statistics.build_pairing(\n",
    "    scenario_split[0], 'education',\n",
    "    intersect_subjects=False, check_validity=False\n",
    ")\n",
    "education_easy_pairing.describe()"
   ]
  },
  {
   "cell_type": "code",
   "execution_count": 19,
   "metadata": {},
   "outputs": [
    {
     "name": "stdout",
     "output_type": "stream",
     "text": [
      "Pairing against displayType:\n",
      "  0: minimal vs. 1: full\n",
      "  10 0 vs. 1 pairs.\n",
      "  Paired t-test alternative hypotheses:\n",
      "    Ha left-tailed (diff < 0): mean 0 - mean 1 < 0\n",
      "    Ha two-tailed (|diff| > 0): mean 0 - mean 1 != 0\n",
      "    Ha right-tailed (diff > 0): mean 0 - mean 1 > 0\n",
      "  Wilcoxon signed-rank alternative hypotheses:\n",
      "    Ha left-tailed (P(x > y) < 0.5)\n",
      "    Ha two-tailed (P(x > y) != 0.5)\n",
      "    Ha right-tailed (P(x > y) > 0.5)\n"
     ]
    }
   ],
   "source": [
    "display_pairing = statistics.build_pairing(education_easy_pairing[0], 'displayType')\n",
    "display_pairing.describe()"
   ]
  },
  {
   "cell_type": "code",
   "execution_count": 20,
   "metadata": {
    "scrolled": false
   },
   "outputs": [
    {
     "name": "stdout",
     "output_type": "stream",
     "text": [
      "inSpO2TargetRangeDuration:\n",
      "  mean diff = 3.800; stdev diff = 38.319\n",
      "  Paired t-test:\n",
      "    |diff| > 0: p = 0.773\n",
      "    diff < 0: p = 0.614\n",
      "    diff > 0: p = 0.386\n",
      "  Wilcoxon signed-rank test:\n",
      "    P(x > y) != 0.5: p = 0.674\n",
      "    P(x > y) < 0.5: p = 0.663\n",
      "    P(x > y) > 0.5: p = 0.337\n",
      "inSpO2LooseTargetRangeDuration:\n",
      "  mean diff = 7.000; stdev diff = 56.535\n",
      "  Paired t-test:\n",
      "    |diff| > 0: p = 0.719\n",
      "    diff < 0: p = 0.641\n",
      "    diff > 0: p = 0.359\n",
      "  Wilcoxon signed-rank test:\n",
      "    P(x > y) != 0.5: p = 0.594\n",
      "    P(x > y) < 0.5: p = 0.703\n",
      "    P(x > y) > 0.5: p = 0.297\n"
     ]
    },
    {
     "name": "stderr",
     "output_type": "stream",
     "text": [
      "/home/lietk12/.local/lib/python3.6/site-packages/scipy/stats/morestats.py:2397: UserWarning: Warning: sample size too small for normal approximation.\n",
      "  warnings.warn(\"Warning: sample size too small for normal approximation.\")\n"
     ]
    }
   ],
   "source": [
    "statistics.test_tracing_outcomes(display_pairing)"
   ]
  },
  {
   "cell_type": "markdown",
   "metadata": {},
   "source": [
    "### RN, Hard Scenarios"
   ]
  },
  {
   "cell_type": "code",
   "execution_count": 21,
   "metadata": {
    "scrolled": true
   },
   "outputs": [
    {
     "name": "stdout",
     "output_type": "stream",
     "text": [
      "Pairing against education:\n",
      "  0: RN vs. 1: MD\n",
      "  22 0 examples vs. 20 1 examples.\n",
      "  Paired t-test alternative hypotheses:\n",
      "    Ha left-tailed (diff < 0): mean 0 - mean 1 < 0\n",
      "    Ha two-tailed (|diff| > 0): mean 0 - mean 1 != 0\n",
      "    Ha right-tailed (diff > 0): mean 0 - mean 1 > 0\n",
      "  Wilcoxon signed-rank alternative hypotheses:\n",
      "    Ha left-tailed (P(x > y) < 0.5)\n",
      "    Ha two-tailed (P(x > y) != 0.5)\n",
      "    Ha right-tailed (P(x > y) > 0.5)\n"
     ]
    }
   ],
   "source": [
    "education_hard_pairing = statistics.build_pairing(\n",
    "    scenario_split[1], 'education',\n",
    "    intersect_subjects=False, check_validity=False\n",
    ")\n",
    "education_hard_pairing.describe()"
   ]
  },
  {
   "cell_type": "code",
   "execution_count": 22,
   "metadata": {},
   "outputs": [
    {
     "name": "stdout",
     "output_type": "stream",
     "text": [
      "Pairing against displayType:\n",
      "  0: minimal vs. 1: full\n",
      "  11 0 vs. 1 pairs.\n",
      "  Paired t-test alternative hypotheses:\n",
      "    Ha left-tailed (diff < 0): mean 0 - mean 1 < 0\n",
      "    Ha two-tailed (|diff| > 0): mean 0 - mean 1 != 0\n",
      "    Ha right-tailed (diff > 0): mean 0 - mean 1 > 0\n",
      "  Wilcoxon signed-rank alternative hypotheses:\n",
      "    Ha left-tailed (P(x > y) < 0.5)\n",
      "    Ha two-tailed (P(x > y) != 0.5)\n",
      "    Ha right-tailed (P(x > y) > 0.5)\n"
     ]
    }
   ],
   "source": [
    "display_pairing = statistics.build_pairing(education_hard_pairing[0], 'displayType')\n",
    "display_pairing.describe()"
   ]
  },
  {
   "cell_type": "code",
   "execution_count": 23,
   "metadata": {
    "scrolled": false
   },
   "outputs": [
    {
     "name": "stdout",
     "output_type": "stream",
     "text": [
      "inSpO2TargetRangeDuration:\n",
      "  mean diff = 7.273; stdev diff = 29.261\n",
      "  Paired t-test:\n",
      "    |diff| > 0: p = 0.450\n",
      "    diff < 0: p = 0.775\n",
      "    diff > 0: p = 0.225\n",
      "  Wilcoxon signed-rank test:\n",
      "    P(x > y) != 0.5: p = 0.398\n",
      "    P(x > y) < 0.5: p = 0.801\n",
      "   ~P(x > y) > 0.5: p = 0.199\n",
      "inSpO2LooseTargetRangeDuration:\n",
      "  mean diff = 9.818; stdev diff = 30.742\n",
      "  Paired t-test:\n",
      "    |diff| > 0: p = 0.336\n",
      "    diff < 0: p = 0.832\n",
      "   ~diff > 0: p = 0.168\n",
      "  Wilcoxon signed-rank test:\n",
      "    P(x > y) != 0.5: p = 0.314\n",
      "    P(x > y) < 0.5: p = 0.843\n",
      "   ~P(x > y) > 0.5: p = 0.157\n"
     ]
    },
    {
     "name": "stderr",
     "output_type": "stream",
     "text": [
      "/home/lietk12/.local/lib/python3.6/site-packages/scipy/stats/morestats.py:2397: UserWarning: Warning: sample size too small for normal approximation.\n",
      "  warnings.warn(\"Warning: sample size too small for normal approximation.\")\n"
     ]
    }
   ],
   "source": [
    "statistics.test_tracing_outcomes(display_pairing)"
   ]
  },
  {
   "cell_type": "markdown",
   "metadata": {},
   "source": [
    "### MD, Easy Scenarios"
   ]
  },
  {
   "cell_type": "code",
   "execution_count": 24,
   "metadata": {
    "scrolled": true
   },
   "outputs": [
    {
     "name": "stdout",
     "output_type": "stream",
     "text": [
      "Pairing against education:\n",
      "  0: RN vs. 1: MD\n",
      "  20 0 examples vs. 18 1 examples.\n",
      "  Paired t-test alternative hypotheses:\n",
      "    Ha left-tailed (diff < 0): mean 0 - mean 1 < 0\n",
      "    Ha two-tailed (|diff| > 0): mean 0 - mean 1 != 0\n",
      "    Ha right-tailed (diff > 0): mean 0 - mean 1 > 0\n",
      "  Wilcoxon signed-rank alternative hypotheses:\n",
      "    Ha left-tailed (P(x > y) < 0.5)\n",
      "    Ha two-tailed (P(x > y) != 0.5)\n",
      "    Ha right-tailed (P(x > y) > 0.5)\n"
     ]
    }
   ],
   "source": [
    "education_easy_pairing = statistics.build_pairing(\n",
    "    scenario_split[0], 'education',\n",
    "    intersect_subjects=False, check_validity=False\n",
    ")\n",
    "education_easy_pairing.describe()"
   ]
  },
  {
   "cell_type": "code",
   "execution_count": 25,
   "metadata": {},
   "outputs": [
    {
     "name": "stdout",
     "output_type": "stream",
     "text": [
      "Pairing against displayType:\n",
      "  0: minimal vs. 1: full\n",
      "  9 0 vs. 1 pairs.\n",
      "  Paired t-test alternative hypotheses:\n",
      "    Ha left-tailed (diff < 0): mean 0 - mean 1 < 0\n",
      "    Ha two-tailed (|diff| > 0): mean 0 - mean 1 != 0\n",
      "    Ha right-tailed (diff > 0): mean 0 - mean 1 > 0\n",
      "  Wilcoxon signed-rank alternative hypotheses:\n",
      "    Ha left-tailed (P(x > y) < 0.5)\n",
      "    Ha two-tailed (P(x > y) != 0.5)\n",
      "    Ha right-tailed (P(x > y) > 0.5)\n"
     ]
    }
   ],
   "source": [
    "display_pairing = statistics.build_pairing(education_easy_pairing[1], 'displayType')\n",
    "display_pairing.describe()"
   ]
  },
  {
   "cell_type": "code",
   "execution_count": 26,
   "metadata": {
    "scrolled": false
   },
   "outputs": [
    {
     "name": "stdout",
     "output_type": "stream",
     "text": [
      "inSpO2TargetRangeDuration:\n",
      "  mean diff = -19.111; stdev diff = 27.715\n",
      "  Paired t-test:\n",
      "   *|diff| > 0: p = 0.087\n",
      "  **diff < 0: p = 0.043\n",
      "    diff > 0: p = 0.957\n",
      "  Wilcoxon signed-rank test:\n",
      "   *P(x > y) != 0.5: p = 0.097\n",
      "  **P(x > y) < 0.5: p = 0.048\n",
      "    P(x > y) > 0.5: p = 0.952\n",
      "inSpO2LooseTargetRangeDuration:\n",
      "  mean diff = -16.889; stdev diff = 31.932\n",
      "  Paired t-test:\n",
      "   ~|diff| > 0: p = 0.173\n",
      "   *diff < 0: p = 0.087\n",
      "    diff > 0: p = 0.913\n",
      "  Wilcoxon signed-rank test:\n",
      "   ~P(x > y) != 0.5: p = 0.110\n",
      "   *P(x > y) < 0.5: p = 0.055\n",
      "    P(x > y) > 0.5: p = 0.945\n"
     ]
    },
    {
     "name": "stderr",
     "output_type": "stream",
     "text": [
      "/home/lietk12/.local/lib/python3.6/site-packages/scipy/stats/morestats.py:2397: UserWarning: Warning: sample size too small for normal approximation.\n",
      "  warnings.warn(\"Warning: sample size too small for normal approximation.\")\n"
     ]
    }
   ],
   "source": [
    "statistics.test_tracing_outcomes(display_pairing)"
   ]
  },
  {
   "cell_type": "markdown",
   "metadata": {},
   "source": [
    "### MD, Hard Scenarios"
   ]
  },
  {
   "cell_type": "code",
   "execution_count": 27,
   "metadata": {
    "scrolled": true
   },
   "outputs": [
    {
     "name": "stdout",
     "output_type": "stream",
     "text": [
      "Pairing against education:\n",
      "  0: RN vs. 1: MD\n",
      "  22 0 examples vs. 20 1 examples.\n",
      "  Paired t-test alternative hypotheses:\n",
      "    Ha left-tailed (diff < 0): mean 0 - mean 1 < 0\n",
      "    Ha two-tailed (|diff| > 0): mean 0 - mean 1 != 0\n",
      "    Ha right-tailed (diff > 0): mean 0 - mean 1 > 0\n",
      "  Wilcoxon signed-rank alternative hypotheses:\n",
      "    Ha left-tailed (P(x > y) < 0.5)\n",
      "    Ha two-tailed (P(x > y) != 0.5)\n",
      "    Ha right-tailed (P(x > y) > 0.5)\n"
     ]
    }
   ],
   "source": [
    "education_hard_pairing = statistics.build_pairing(\n",
    "    scenario_split[1], 'education',\n",
    "    intersect_subjects=False, check_validity=False\n",
    ")\n",
    "education_hard_pairing.describe()"
   ]
  },
  {
   "cell_type": "code",
   "execution_count": 28,
   "metadata": {},
   "outputs": [
    {
     "name": "stdout",
     "output_type": "stream",
     "text": [
      "Pairing against displayType:\n",
      "  0: minimal vs. 1: full\n",
      "  10 0 vs. 1 pairs.\n",
      "  Paired t-test alternative hypotheses:\n",
      "    Ha left-tailed (diff < 0): mean 0 - mean 1 < 0\n",
      "    Ha two-tailed (|diff| > 0): mean 0 - mean 1 != 0\n",
      "    Ha right-tailed (diff > 0): mean 0 - mean 1 > 0\n",
      "  Wilcoxon signed-rank alternative hypotheses:\n",
      "    Ha left-tailed (P(x > y) < 0.5)\n",
      "    Ha two-tailed (P(x > y) != 0.5)\n",
      "    Ha right-tailed (P(x > y) > 0.5)\n"
     ]
    }
   ],
   "source": [
    "display_pairing = statistics.build_pairing(education_hard_pairing[1], 'displayType')\n",
    "display_pairing.describe()"
   ]
  },
  {
   "cell_type": "code",
   "execution_count": 29,
   "metadata": {
    "scrolled": false
   },
   "outputs": [
    {
     "name": "stdout",
     "output_type": "stream",
     "text": [
      "inSpO2TargetRangeDuration:\n",
      "  mean diff = 11.800; stdev diff = 32.637\n",
      "  Paired t-test:\n",
      "    |diff| > 0: p = 0.306\n",
      "    diff < 0: p = 0.847\n",
      "   ~diff > 0: p = 0.153\n",
      "  Wilcoxon signed-rank test:\n",
      "    P(x > y) != 0.5: p = 0.208\n",
      "    P(x > y) < 0.5: p = 0.896\n",
      "   ~P(x > y) > 0.5: p = 0.104\n",
      "inSpO2LooseTargetRangeDuration:\n",
      "  mean diff = 2.400; stdev diff = 28.068\n",
      "  Paired t-test:\n",
      "    |diff| > 0: p = 0.803\n",
      "    diff < 0: p = 0.598\n",
      "    diff > 0: p = 0.402\n",
      "  Wilcoxon signed-rank test:\n",
      "    P(x > y) != 0.5: p = 0.767\n",
      "    P(x > y) < 0.5: p = 0.617\n",
      "    P(x > y) > 0.5: p = 0.383\n"
     ]
    },
    {
     "name": "stderr",
     "output_type": "stream",
     "text": [
      "/home/lietk12/.local/lib/python3.6/site-packages/scipy/stats/morestats.py:2397: UserWarning: Warning: sample size too small for normal approximation.\n",
      "  warnings.warn(\"Warning: sample size too small for normal approximation.\")\n"
     ]
    }
   ],
   "source": [
    "statistics.test_tracing_outcomes(display_pairing)"
   ]
  },
  {
   "cell_type": "markdown",
   "metadata": {},
   "source": [
    "## MD: Cumulative years NICU experience, split at 5"
   ]
  },
  {
   "cell_type": "markdown",
   "metadata": {},
   "source": [
    "### Combined scenarios"
   ]
  },
  {
   "cell_type": "code",
   "execution_count": 30,
   "metadata": {},
   "outputs": [
    {
     "name": "stdout",
     "output_type": "stream",
     "text": [
      "Pairing against cumulativeNICU5:\n",
      "  0: <5CumulativeNICUYears vs. 1: >=5CumulativeNICUYears\n",
      "  16 0 examples vs. 22 1 examples.\n",
      "  Paired t-test alternative hypotheses:\n",
      "    Ha left-tailed (diff < 0): mean 0 - mean 1 < 0\n",
      "    Ha two-tailed (|diff| > 0): mean 0 - mean 1 != 0\n",
      "    Ha right-tailed (diff > 0): mean 0 - mean 1 > 0\n",
      "  Wilcoxon signed-rank alternative hypotheses:\n",
      "    Ha left-tailed (P(x > y) < 0.5)\n",
      "    Ha two-tailed (P(x > y) != 0.5)\n",
      "    Ha right-tailed (P(x > y) > 0.5)\n"
     ]
    }
   ],
   "source": [
    "md_cumulativeNICU5_pairing = statistics.build_pairing(\n",
    "    education_pairing[1], 'cumulativeNICU5',\n",
    "    intersect_subjects=False, check_validity=False\n",
    ")\n",
    "md_cumulativeNICU5_pairing.describe()"
   ]
  },
  {
   "cell_type": "code",
   "execution_count": 31,
   "metadata": {
    "scrolled": true
   },
   "outputs": [
    {
     "name": "stdout",
     "output_type": "stream",
     "text": [
      "inSpO2TargetRangeDuration:\n",
      "  Independent t-test:\n",
      "  **|diff| > 0: p = 0.027\n",
      "  **diff < 0: p = 0.013\n",
      "    diff > 0: p = 0.987\n",
      "inSpO2LooseTargetRangeDuration:\n",
      "  Independent t-test:\n",
      "  **|diff| > 0: p = 0.018\n",
      "  **diff < 0: p = 0.009\n",
      "    diff > 0: p = 0.991\n"
     ]
    }
   ],
   "source": [
    "statistics.test_tracing_outcomes(md_cumulativeNICU5_pairing, paired=False)"
   ]
  },
  {
   "cell_type": "markdown",
   "metadata": {},
   "source": [
    "Observations:\n",
    "\n",
    "- MDs with at least 5 cumulative years of NICU experience performed significantly better."
   ]
  },
  {
   "cell_type": "markdown",
   "metadata": {},
   "source": [
    "### Easy Scenarios"
   ]
  },
  {
   "cell_type": "code",
   "execution_count": 32,
   "metadata": {
    "scrolled": true
   },
   "outputs": [
    {
     "name": "stdout",
     "output_type": "stream",
     "text": [
      "Pairing against cumulativeNICU5:\n",
      "  0: <5CumulativeNICUYears vs. 1: >=5CumulativeNICUYears\n",
      "  8 0 examples vs. 10 1 examples.\n",
      "  Paired t-test alternative hypotheses:\n",
      "    Ha left-tailed (diff < 0): mean 0 - mean 1 < 0\n",
      "    Ha two-tailed (|diff| > 0): mean 0 - mean 1 != 0\n",
      "    Ha right-tailed (diff > 0): mean 0 - mean 1 > 0\n",
      "  Wilcoxon signed-rank alternative hypotheses:\n",
      "    Ha left-tailed (P(x > y) < 0.5)\n",
      "    Ha two-tailed (P(x > y) != 0.5)\n",
      "    Ha right-tailed (P(x > y) > 0.5)\n"
     ]
    }
   ],
   "source": [
    "md_cumulativeNICU5_easy_pairing = statistics.build_pairing(\n",
    "    education_easy_pairing[1], 'cumulativeNICU5',\n",
    "    intersect_subjects=False, check_validity=False\n",
    ")\n",
    "md_cumulativeNICU5_easy_pairing.describe()"
   ]
  },
  {
   "cell_type": "code",
   "execution_count": 33,
   "metadata": {
    "scrolled": true
   },
   "outputs": [
    {
     "name": "stdout",
     "output_type": "stream",
     "text": [
      "inSpO2TargetRangeDuration:\n",
      "  Independent t-test:\n",
      "  **|diff| > 0: p = 0.004\n",
      "  **diff < 0: p = 0.002\n",
      "    diff > 0: p = 0.998\n",
      "inSpO2LooseTargetRangeDuration:\n",
      "  Independent t-test:\n",
      "  **|diff| > 0: p = 0.000\n",
      "  **diff < 0: p = 0.000\n",
      "    diff > 0: p = 1.000\n"
     ]
    }
   ],
   "source": [
    "statistics.test_tracing_outcomes(md_cumulativeNICU5_easy_pairing, paired=False)"
   ]
  },
  {
   "cell_type": "markdown",
   "metadata": {},
   "source": [
    "Observations:\n",
    "\n",
    "- MDs with at least 5 cumulative years of NICU experience decided to place the sensor maybe significantly sooner, were in the SpO2 target range for significantly longer, were in the loose SpO2 target range for significantly longer, and were in the FiO2 target range for significantly longer.\n",
    "- i.e. participants with at least 5 cumulative years of NICU experience performed significantly better on the easy scenario."
   ]
  },
  {
   "cell_type": "markdown",
   "metadata": {},
   "source": [
    "### Hard Scenarios"
   ]
  },
  {
   "cell_type": "code",
   "execution_count": 34,
   "metadata": {
    "scrolled": true
   },
   "outputs": [
    {
     "name": "stdout",
     "output_type": "stream",
     "text": [
      "Pairing against cumulativeNICU5:\n",
      "  0: <5CumulativeNICUYears vs. 1: >=5CumulativeNICUYears\n",
      "  8 0 examples vs. 12 1 examples.\n",
      "  Paired t-test alternative hypotheses:\n",
      "    Ha left-tailed (diff < 0): mean 0 - mean 1 < 0\n",
      "    Ha two-tailed (|diff| > 0): mean 0 - mean 1 != 0\n",
      "    Ha right-tailed (diff > 0): mean 0 - mean 1 > 0\n",
      "  Wilcoxon signed-rank alternative hypotheses:\n",
      "    Ha left-tailed (P(x > y) < 0.5)\n",
      "    Ha two-tailed (P(x > y) != 0.5)\n",
      "    Ha right-tailed (P(x > y) > 0.5)\n"
     ]
    }
   ],
   "source": [
    "md_cumulativeNICU5_hard_pairing = statistics.build_pairing(\n",
    "    education_hard_pairing[1], 'cumulativeNICU5',\n",
    "    intersect_subjects=False, check_validity=False\n",
    ")\n",
    "md_cumulativeNICU5_hard_pairing.describe()"
   ]
  },
  {
   "cell_type": "code",
   "execution_count": 35,
   "metadata": {
    "scrolled": true
   },
   "outputs": [
    {
     "name": "stdout",
     "output_type": "stream",
     "text": [
      "inSpO2TargetRangeDuration:\n",
      "  Independent t-test:\n",
      "    |diff| > 0: p = 0.693\n",
      "    diff < 0: p = 0.346\n",
      "    diff > 0: p = 0.654\n",
      "inSpO2LooseTargetRangeDuration:\n",
      "  Independent t-test:\n",
      "    |diff| > 0: p = 0.247\n",
      "   ~diff < 0: p = 0.123\n",
      "    diff > 0: p = 0.877\n"
     ]
    }
   ],
   "source": [
    "statistics.test_tracing_outcomes(md_cumulativeNICU5_hard_pairing, paired=False)"
   ]
  },
  {
   "cell_type": "markdown",
   "metadata": {},
   "source": [
    "Observations:\n",
    "\n",
    "- MDs with at least 5 cumulative years of NICU experience decided to place the sensor maybe significantly sooner. No other significant differences.\n",
    "- i.e. participants with at least 5 cumulative years of NICU experience did not perform significantly better on the hard scenario."
   ]
  },
  {
   "cell_type": "markdown",
   "metadata": {},
   "source": [
    "## MD: Cumulative years NICU experience, split at 10"
   ]
  },
  {
   "cell_type": "markdown",
   "metadata": {},
   "source": [
    "### Combined scenarios"
   ]
  },
  {
   "cell_type": "code",
   "execution_count": 36,
   "metadata": {},
   "outputs": [
    {
     "name": "stdout",
     "output_type": "stream",
     "text": [
      "Pairing against cumulativeNICU10:\n",
      "  0: <10CumulativeNICUYears vs. 1: >=10CumulativeNICUYears\n",
      "  20 0 examples vs. 18 1 examples.\n",
      "  Paired t-test alternative hypotheses:\n",
      "    Ha left-tailed (diff < 0): mean 0 - mean 1 < 0\n",
      "    Ha two-tailed (|diff| > 0): mean 0 - mean 1 != 0\n",
      "    Ha right-tailed (diff > 0): mean 0 - mean 1 > 0\n",
      "  Wilcoxon signed-rank alternative hypotheses:\n",
      "    Ha left-tailed (P(x > y) < 0.5)\n",
      "    Ha two-tailed (P(x > y) != 0.5)\n",
      "    Ha right-tailed (P(x > y) > 0.5)\n"
     ]
    }
   ],
   "source": [
    "md_cumulativeNICU10_pairing = statistics.build_pairing(\n",
    "    education_pairing[1], 'cumulativeNICU10',\n",
    "    intersect_subjects=False, check_validity=False\n",
    ")\n",
    "md_cumulativeNICU10_pairing.describe()"
   ]
  },
  {
   "cell_type": "code",
   "execution_count": 37,
   "metadata": {
    "scrolled": true
   },
   "outputs": [
    {
     "name": "stdout",
     "output_type": "stream",
     "text": [
      "inSpO2TargetRangeDuration:\n",
      "  Independent t-test:\n",
      "   ~|diff| > 0: p = 0.162\n",
      "   *diff < 0: p = 0.081\n",
      "    diff > 0: p = 0.919\n",
      "inSpO2LooseTargetRangeDuration:\n",
      "  Independent t-test:\n",
      "   *|diff| > 0: p = 0.090\n",
      "  **diff < 0: p = 0.045\n",
      "    diff > 0: p = 0.955\n"
     ]
    }
   ],
   "source": [
    "statistics.test_tracing_outcomes(md_cumulativeNICU10_pairing, paired=False)"
   ]
  },
  {
   "cell_type": "markdown",
   "metadata": {},
   "source": [
    "Observations:\n",
    "\n",
    "- No significant differences."
   ]
  },
  {
   "cell_type": "markdown",
   "metadata": {},
   "source": [
    "### Easy Scenarios"
   ]
  },
  {
   "cell_type": "code",
   "execution_count": 38,
   "metadata": {
    "scrolled": true
   },
   "outputs": [
    {
     "name": "stdout",
     "output_type": "stream",
     "text": [
      "Pairing against cumulativeNICU10:\n",
      "  0: <10CumulativeNICUYears vs. 1: >=10CumulativeNICUYears\n",
      "  10 0 examples vs. 8 1 examples.\n",
      "  Paired t-test alternative hypotheses:\n",
      "    Ha left-tailed (diff < 0): mean 0 - mean 1 < 0\n",
      "    Ha two-tailed (|diff| > 0): mean 0 - mean 1 != 0\n",
      "    Ha right-tailed (diff > 0): mean 0 - mean 1 > 0\n",
      "  Wilcoxon signed-rank alternative hypotheses:\n",
      "    Ha left-tailed (P(x > y) < 0.5)\n",
      "    Ha two-tailed (P(x > y) != 0.5)\n",
      "    Ha right-tailed (P(x > y) > 0.5)\n"
     ]
    }
   ],
   "source": [
    "md_cumulativeNICU10_easy_pairing = statistics.build_pairing(\n",
    "    education_easy_pairing[1], 'cumulativeNICU10',\n",
    "    intersect_subjects=False, check_validity=False\n",
    ")\n",
    "md_cumulativeNICU10_easy_pairing.describe()"
   ]
  },
  {
   "cell_type": "code",
   "execution_count": 39,
   "metadata": {
    "scrolled": true
   },
   "outputs": [
    {
     "name": "stdout",
     "output_type": "stream",
     "text": [
      "inSpO2TargetRangeDuration:\n",
      "  Independent t-test:\n",
      "   *|diff| > 0: p = 0.079\n",
      "  **diff < 0: p = 0.040\n",
      "    diff > 0: p = 0.960\n",
      "inSpO2LooseTargetRangeDuration:\n",
      "  Independent t-test:\n",
      "  **|diff| > 0: p = 0.047\n",
      "  **diff < 0: p = 0.023\n",
      "    diff > 0: p = 0.977\n"
     ]
    }
   ],
   "source": [
    "statistics.test_tracing_outcomes(md_cumulativeNICU10_easy_pairing, paired=False)"
   ]
  },
  {
   "cell_type": "markdown",
   "metadata": {},
   "source": [
    "Observations:\n",
    "\n",
    "- No significant differences."
   ]
  },
  {
   "cell_type": "markdown",
   "metadata": {},
   "source": [
    "### Hard Scenarios"
   ]
  },
  {
   "cell_type": "code",
   "execution_count": 40,
   "metadata": {
    "scrolled": true
   },
   "outputs": [
    {
     "name": "stdout",
     "output_type": "stream",
     "text": [
      "Pairing against cumulativeNICU10:\n",
      "  0: <10CumulativeNICUYears vs. 1: >=10CumulativeNICUYears\n",
      "  10 0 vs. 1 pairs.\n",
      "  Paired t-test alternative hypotheses:\n",
      "    Ha left-tailed (diff < 0): mean 0 - mean 1 < 0\n",
      "    Ha two-tailed (|diff| > 0): mean 0 - mean 1 != 0\n",
      "    Ha right-tailed (diff > 0): mean 0 - mean 1 > 0\n",
      "  Wilcoxon signed-rank alternative hypotheses:\n",
      "    Ha left-tailed (P(x > y) < 0.5)\n",
      "    Ha two-tailed (P(x > y) != 0.5)\n",
      "    Ha right-tailed (P(x > y) > 0.5)\n"
     ]
    }
   ],
   "source": [
    "md_cumulativeNICU10_hard_pairing = statistics.build_pairing(\n",
    "    education_hard_pairing[1], 'cumulativeNICU10',\n",
    "    intersect_subjects=False, check_validity=False\n",
    ")\n",
    "md_cumulativeNICU10_hard_pairing.describe()"
   ]
  },
  {
   "cell_type": "code",
   "execution_count": 41,
   "metadata": {
    "scrolled": true
   },
   "outputs": [
    {
     "name": "stdout",
     "output_type": "stream",
     "text": [
      "inSpO2TargetRangeDuration:\n",
      "  Independent t-test:\n",
      "    |diff| > 0: p = 0.774\n",
      "    diff < 0: p = 0.387\n",
      "    diff > 0: p = 0.613\n",
      "inSpO2LooseTargetRangeDuration:\n",
      "  Independent t-test:\n",
      "    |diff| > 0: p = 0.208\n",
      "   ~diff < 0: p = 0.104\n",
      "    diff > 0: p = 0.896\n"
     ]
    }
   ],
   "source": [
    "statistics.test_tracing_outcomes(md_cumulativeNICU10_hard_pairing, paired=False)"
   ]
  },
  {
   "cell_type": "markdown",
   "metadata": {},
   "source": [
    "Observations:\n",
    "\n",
    "- No significant differences"
   ]
  },
  {
   "cell_type": "markdown",
   "metadata": {},
   "source": [
    "## RN: Cumulative years NICU experience, split at 13"
   ]
  },
  {
   "cell_type": "markdown",
   "metadata": {},
   "source": [
    "### Combined scenarios"
   ]
  },
  {
   "cell_type": "code",
   "execution_count": 42,
   "metadata": {},
   "outputs": [
    {
     "name": "stdout",
     "output_type": "stream",
     "text": [
      "Pairing against cumulativeNICU13:\n",
      "  0: <13CumulativeNICUYears vs. 1: >=13CumulativeNICUYears\n",
      "  18 0 examples vs. 24 1 examples.\n",
      "  Paired t-test alternative hypotheses:\n",
      "    Ha left-tailed (diff < 0): mean 0 - mean 1 < 0\n",
      "    Ha two-tailed (|diff| > 0): mean 0 - mean 1 != 0\n",
      "    Ha right-tailed (diff > 0): mean 0 - mean 1 > 0\n",
      "  Wilcoxon signed-rank alternative hypotheses:\n",
      "    Ha left-tailed (P(x > y) < 0.5)\n",
      "    Ha two-tailed (P(x > y) != 0.5)\n",
      "    Ha right-tailed (P(x > y) > 0.5)\n"
     ]
    }
   ],
   "source": [
    "rn_cumulativeNICU13_pairing = statistics.build_pairing(\n",
    "    education_pairing[0], 'cumulativeNICU13',\n",
    "    intersect_subjects=False, check_validity=False\n",
    ")\n",
    "rn_cumulativeNICU13_pairing.describe()"
   ]
  },
  {
   "cell_type": "code",
   "execution_count": 43,
   "metadata": {
    "scrolled": true
   },
   "outputs": [
    {
     "name": "stdout",
     "output_type": "stream",
     "text": [
      "inSpO2TargetRangeDuration:\n",
      "  Independent t-test:\n",
      "   ~|diff| > 0: p = 0.147\n",
      "   *diff < 0: p = 0.074\n",
      "    diff > 0: p = 0.926\n",
      "inSpO2LooseTargetRangeDuration:\n",
      "  Independent t-test:\n",
      "    |diff| > 0: p = 0.309\n",
      "   ~diff < 0: p = 0.154\n",
      "    diff > 0: p = 0.846\n"
     ]
    }
   ],
   "source": [
    "statistics.test_tracing_outcomes(rn_cumulativeNICU13_pairing, paired=False)"
   ]
  },
  {
   "cell_type": "markdown",
   "metadata": {},
   "source": [
    "Observations:\n",
    "\n",
    "- RNs with at least 13 cumulative years of NICU experience decided to start chest compressions significantly sooner. No other significant differences\n",
    "- No significant differences in performance."
   ]
  },
  {
   "cell_type": "markdown",
   "metadata": {},
   "source": [
    "### Easy Scenarios"
   ]
  },
  {
   "cell_type": "code",
   "execution_count": 44,
   "metadata": {
    "scrolled": true
   },
   "outputs": [
    {
     "name": "stdout",
     "output_type": "stream",
     "text": [
      "Pairing against cumulativeNICU13:\n",
      "  0: <13CumulativeNICUYears vs. 1: >=13CumulativeNICUYears\n",
      "  8 0 examples vs. 12 1 examples.\n",
      "  Paired t-test alternative hypotheses:\n",
      "    Ha left-tailed (diff < 0): mean 0 - mean 1 < 0\n",
      "    Ha two-tailed (|diff| > 0): mean 0 - mean 1 != 0\n",
      "    Ha right-tailed (diff > 0): mean 0 - mean 1 > 0\n",
      "  Wilcoxon signed-rank alternative hypotheses:\n",
      "    Ha left-tailed (P(x > y) < 0.5)\n",
      "    Ha two-tailed (P(x > y) != 0.5)\n",
      "    Ha right-tailed (P(x > y) > 0.5)\n"
     ]
    }
   ],
   "source": [
    "rn_cumulativeNICU13_easy_pairing = statistics.build_pairing(\n",
    "    education_easy_pairing[0], 'cumulativeNICU13',\n",
    "    intersect_subjects=False, check_validity=False\n",
    ")\n",
    "rn_cumulativeNICU13_easy_pairing.describe()"
   ]
  },
  {
   "cell_type": "code",
   "execution_count": 45,
   "metadata": {
    "scrolled": true
   },
   "outputs": [
    {
     "name": "stdout",
     "output_type": "stream",
     "text": [
      "inSpO2TargetRangeDuration:\n",
      "  Independent t-test:\n",
      "    |diff| > 0: p = 0.582\n",
      "    diff < 0: p = 0.291\n",
      "    diff > 0: p = 0.709\n",
      "inSpO2LooseTargetRangeDuration:\n",
      "  Independent t-test:\n",
      "    |diff| > 0: p = 0.854\n",
      "    diff < 0: p = 0.427\n",
      "    diff > 0: p = 0.573\n"
     ]
    }
   ],
   "source": [
    "statistics.test_tracing_outcomes(rn_cumulativeNICU13_easy_pairing, paired=False)"
   ]
  },
  {
   "cell_type": "markdown",
   "metadata": {},
   "source": [
    "Observations:\n",
    "\n",
    "- RNs with at least 13 cumulative years of NICU experience decided to place the sensor significantly sooner. No other significant differences.\n",
    "- No significant differences in performance."
   ]
  },
  {
   "cell_type": "markdown",
   "metadata": {},
   "source": [
    "### Hard Scenarios"
   ]
  },
  {
   "cell_type": "code",
   "execution_count": 46,
   "metadata": {
    "scrolled": true
   },
   "outputs": [
    {
     "name": "stdout",
     "output_type": "stream",
     "text": [
      "Pairing against cumulativeNICU13:\n",
      "  0: <13CumulativeNICUYears vs. 1: >=13CumulativeNICUYears\n",
      "  10 0 examples vs. 12 1 examples.\n",
      "  Paired t-test alternative hypotheses:\n",
      "    Ha left-tailed (diff < 0): mean 0 - mean 1 < 0\n",
      "    Ha two-tailed (|diff| > 0): mean 0 - mean 1 != 0\n",
      "    Ha right-tailed (diff > 0): mean 0 - mean 1 > 0\n",
      "  Wilcoxon signed-rank alternative hypotheses:\n",
      "    Ha left-tailed (P(x > y) < 0.5)\n",
      "    Ha two-tailed (P(x > y) != 0.5)\n",
      "    Ha right-tailed (P(x > y) > 0.5)\n"
     ]
    }
   ],
   "source": [
    "rn_cumulativeNICU13_hard_pairing = statistics.build_pairing(\n",
    "    education_hard_pairing[0], 'cumulativeNICU13',\n",
    "    intersect_subjects=False, check_validity=False\n",
    ")\n",
    "rn_cumulativeNICU13_hard_pairing.describe()"
   ]
  },
  {
   "cell_type": "code",
   "execution_count": 47,
   "metadata": {
    "scrolled": true
   },
   "outputs": [
    {
     "name": "stdout",
     "output_type": "stream",
     "text": [
      "inSpO2TargetRangeDuration:\n",
      "  Independent t-test:\n",
      "   ~|diff| > 0: p = 0.139\n",
      "   *diff < 0: p = 0.070\n",
      "    diff > 0: p = 0.930\n",
      "inSpO2LooseTargetRangeDuration:\n",
      "  Independent t-test:\n",
      "   ~|diff| > 0: p = 0.179\n",
      "   *diff < 0: p = 0.090\n",
      "    diff > 0: p = 0.910\n"
     ]
    }
   ],
   "source": [
    "statistics.test_tracing_outcomes(rn_cumulativeNICU13_hard_pairing, paired=False)"
   ]
  },
  {
   "cell_type": "markdown",
   "metadata": {},
   "source": [
    "Observations:\n",
    "\n",
    "- RNs with at least 13 cumulative years of NICU experience decided to start chest compressions significantly sooner. No other significant differences.\n",
    "- No significant differences in performance."
   ]
  },
  {
   "cell_type": "markdown",
   "metadata": {},
   "source": [
    "## MD: Resuscitations in L&D in past year, split at 20"
   ]
  },
  {
   "cell_type": "markdown",
   "metadata": {},
   "source": [
    "### Combined scenarios"
   ]
  },
  {
   "cell_type": "code",
   "execution_count": 48,
   "metadata": {},
   "outputs": [
    {
     "name": "stdout",
     "output_type": "stream",
     "text": [
      "Pairing against resusLD20:\n",
      "  0: <20LDResusPastYear vs. 1: >=20LDResusPastYear\n",
      "  24 0 examples vs. 14 1 examples.\n",
      "  Paired t-test alternative hypotheses:\n",
      "    Ha left-tailed (diff < 0): mean 0 - mean 1 < 0\n",
      "    Ha two-tailed (|diff| > 0): mean 0 - mean 1 != 0\n",
      "    Ha right-tailed (diff > 0): mean 0 - mean 1 > 0\n",
      "  Wilcoxon signed-rank alternative hypotheses:\n",
      "    Ha left-tailed (P(x > y) < 0.5)\n",
      "    Ha two-tailed (P(x > y) != 0.5)\n",
      "    Ha right-tailed (P(x > y) > 0.5)\n"
     ]
    }
   ],
   "source": [
    "md_resusLD20_pairing = statistics.build_pairing(\n",
    "    education_pairing[1], 'resusLD20',\n",
    "    intersect_subjects=False, check_validity=False\n",
    ")\n",
    "md_resusLD20_pairing.describe()"
   ]
  },
  {
   "cell_type": "code",
   "execution_count": 49,
   "metadata": {
    "scrolled": true
   },
   "outputs": [
    {
     "name": "stdout",
     "output_type": "stream",
     "text": [
      "inSpO2TargetRangeDuration:\n",
      "  Independent t-test:\n",
      "    |diff| > 0: p = 0.999\n",
      "    diff < 0: p = 0.500\n",
      "    diff > 0: p = 0.500\n",
      "inSpO2LooseTargetRangeDuration:\n",
      "  Independent t-test:\n",
      "    |diff| > 0: p = 0.415\n",
      "    diff < 0: p = 0.207\n",
      "    diff > 0: p = 0.793\n"
     ]
    }
   ],
   "source": [
    "statistics.test_tracing_outcomes(md_resusLD20_pairing, paired=False)"
   ]
  },
  {
   "cell_type": "markdown",
   "metadata": {},
   "source": [
    "Observations:\n",
    "\n",
    "- No significant differences"
   ]
  },
  {
   "cell_type": "markdown",
   "metadata": {},
   "source": [
    "### Easy Scenarios"
   ]
  },
  {
   "cell_type": "code",
   "execution_count": 50,
   "metadata": {
    "scrolled": true
   },
   "outputs": [
    {
     "name": "stdout",
     "output_type": "stream",
     "text": [
      "Pairing against resusLD20:\n",
      "  0: <20LDResusPastYear vs. 1: >=20LDResusPastYear\n",
      "  12 0 examples vs. 6 1 examples.\n",
      "  Paired t-test alternative hypotheses:\n",
      "    Ha left-tailed (diff < 0): mean 0 - mean 1 < 0\n",
      "    Ha two-tailed (|diff| > 0): mean 0 - mean 1 != 0\n",
      "    Ha right-tailed (diff > 0): mean 0 - mean 1 > 0\n",
      "  Wilcoxon signed-rank alternative hypotheses:\n",
      "    Ha left-tailed (P(x > y) < 0.5)\n",
      "    Ha two-tailed (P(x > y) != 0.5)\n",
      "    Ha right-tailed (P(x > y) > 0.5)\n"
     ]
    }
   ],
   "source": [
    "md_resusLD20_easy_pairing = statistics.build_pairing(\n",
    "    education_easy_pairing[1], 'resusLD20',\n",
    "    intersect_subjects=False, check_validity=False\n",
    ")\n",
    "md_resusLD20_easy_pairing.describe()"
   ]
  },
  {
   "cell_type": "code",
   "execution_count": 51,
   "metadata": {
    "scrolled": true
   },
   "outputs": [
    {
     "name": "stdout",
     "output_type": "stream",
     "text": [
      "inSpO2TargetRangeDuration:\n",
      "  Independent t-test:\n",
      "    |diff| > 0: p = 0.506\n",
      "    diff < 0: p = 0.253\n",
      "    diff > 0: p = 0.747\n",
      "inSpO2LooseTargetRangeDuration:\n",
      "  Independent t-test:\n",
      "   ~|diff| > 0: p = 0.131\n",
      "   *diff < 0: p = 0.066\n",
      "    diff > 0: p = 0.934\n"
     ]
    }
   ],
   "source": [
    "statistics.test_tracing_outcomes(md_resusLD20_easy_pairing, paired=False)"
   ]
  },
  {
   "cell_type": "markdown",
   "metadata": {},
   "source": [
    "Observations:\n",
    "\n",
    "- No significant differences"
   ]
  },
  {
   "cell_type": "markdown",
   "metadata": {},
   "source": [
    "### Hard Scenarios"
   ]
  },
  {
   "cell_type": "code",
   "execution_count": 52,
   "metadata": {
    "scrolled": true
   },
   "outputs": [
    {
     "name": "stdout",
     "output_type": "stream",
     "text": [
      "Pairing against resusLD20:\n",
      "  0: <20LDResusPastYear vs. 1: >=20LDResusPastYear\n",
      "  12 0 examples vs. 8 1 examples.\n",
      "  Paired t-test alternative hypotheses:\n",
      "    Ha left-tailed (diff < 0): mean 0 - mean 1 < 0\n",
      "    Ha two-tailed (|diff| > 0): mean 0 - mean 1 != 0\n",
      "    Ha right-tailed (diff > 0): mean 0 - mean 1 > 0\n",
      "  Wilcoxon signed-rank alternative hypotheses:\n",
      "    Ha left-tailed (P(x > y) < 0.5)\n",
      "    Ha two-tailed (P(x > y) != 0.5)\n",
      "    Ha right-tailed (P(x > y) > 0.5)\n"
     ]
    }
   ],
   "source": [
    "md_resusLD20_hard_pairing = statistics.build_pairing(\n",
    "    education_hard_pairing[1], 'resusLD20',\n",
    "    intersect_subjects=False, check_validity=False\n",
    ")\n",
    "md_resusLD20_hard_pairing.describe()"
   ]
  },
  {
   "cell_type": "code",
   "execution_count": 53,
   "metadata": {
    "scrolled": true
   },
   "outputs": [
    {
     "name": "stdout",
     "output_type": "stream",
     "text": [
      "inSpO2TargetRangeDuration:\n",
      "  Independent t-test:\n",
      "    |diff| > 0: p = 0.561\n",
      "    diff < 0: p = 0.720\n",
      "    diff > 0: p = 0.280\n",
      "inSpO2LooseTargetRangeDuration:\n",
      "  Independent t-test:\n",
      "    |diff| > 0: p = 0.749\n",
      "    diff < 0: p = 0.374\n",
      "    diff > 0: p = 0.626\n"
     ]
    }
   ],
   "source": [
    "statistics.test_tracing_outcomes(md_resusLD20_hard_pairing, paired=False)"
   ]
  },
  {
   "cell_type": "markdown",
   "metadata": {},
   "source": [
    "Observations:\n",
    "\n",
    "- No significant differences"
   ]
  },
  {
   "cell_type": "markdown",
   "metadata": {},
   "source": [
    "## RN: Resuscitations in L&D in past year, split at 0"
   ]
  },
  {
   "cell_type": "markdown",
   "metadata": {},
   "source": [
    "### Combined scenarios"
   ]
  },
  {
   "cell_type": "code",
   "execution_count": 54,
   "metadata": {},
   "outputs": [
    {
     "name": "stdout",
     "output_type": "stream",
     "text": [
      "Pairing against resusLDnonzero:\n",
      "  0: noLDResusPastYear vs. 1: LDResusPastYear\n",
      "  4 0 examples vs. 34 1 examples.\n",
      "  Paired t-test alternative hypotheses:\n",
      "    Ha left-tailed (diff < 0): mean 0 - mean 1 < 0\n",
      "    Ha two-tailed (|diff| > 0): mean 0 - mean 1 != 0\n",
      "    Ha right-tailed (diff > 0): mean 0 - mean 1 > 0\n",
      "  Wilcoxon signed-rank alternative hypotheses:\n",
      "    Ha left-tailed (P(x > y) < 0.5)\n",
      "    Ha two-tailed (P(x > y) != 0.5)\n",
      "    Ha right-tailed (P(x > y) > 0.5)\n"
     ]
    }
   ],
   "source": [
    "rn_resusLDnonzero_pairing = statistics.build_pairing(\n",
    "    education_pairing[1], 'resusLDnonzero',\n",
    "    intersect_subjects=False, check_validity=False\n",
    ")\n",
    "rn_resusLDnonzero_pairing.describe()"
   ]
  },
  {
   "cell_type": "code",
   "execution_count": 55,
   "metadata": {
    "scrolled": true
   },
   "outputs": [
    {
     "name": "stdout",
     "output_type": "stream",
     "text": [
      "inSpO2TargetRangeDuration:\n",
      "  Independent t-test:\n",
      "    |diff| > 0: p = 0.341\n",
      "   ~diff < 0: p = 0.171\n",
      "    diff > 0: p = 0.829\n",
      "inSpO2LooseTargetRangeDuration:\n",
      "  Independent t-test:\n",
      "    |diff| > 0: p = 0.882\n",
      "    diff < 0: p = 0.441\n",
      "    diff > 0: p = 0.559\n"
     ]
    }
   ],
   "source": [
    "statistics.test_tracing_outcomes(rn_resusLDnonzero_pairing, paired=False)"
   ]
  },
  {
   "cell_type": "markdown",
   "metadata": {},
   "source": [
    "Observations:\n",
    "\n",
    "- RNs with at leastat least one resuscitation in L&D decided to start PPV significantly sooner.\n",
    "- No significant differences in performance, but sample size is kind of too small."
   ]
  },
  {
   "cell_type": "markdown",
   "metadata": {},
   "source": [
    "### Easy Scenarios"
   ]
  },
  {
   "cell_type": "code",
   "execution_count": 56,
   "metadata": {
    "scrolled": true
   },
   "outputs": [
    {
     "name": "stdout",
     "output_type": "stream",
     "text": [
      "Pairing against resusLDnonzero:\n",
      "  0: noLDResusPastYear vs. 1: LDResusPastYear\n",
      "  2 0 examples vs. 16 1 examples.\n",
      "  Paired t-test alternative hypotheses:\n",
      "    Ha left-tailed (diff < 0): mean 0 - mean 1 < 0\n",
      "    Ha two-tailed (|diff| > 0): mean 0 - mean 1 != 0\n",
      "    Ha right-tailed (diff > 0): mean 0 - mean 1 > 0\n",
      "  Wilcoxon signed-rank alternative hypotheses:\n",
      "    Ha left-tailed (P(x > y) < 0.5)\n",
      "    Ha two-tailed (P(x > y) != 0.5)\n",
      "    Ha right-tailed (P(x > y) > 0.5)\n"
     ]
    }
   ],
   "source": [
    "rn_resusLDnonzero_easy_pairing = statistics.build_pairing(\n",
    "    education_easy_pairing[1], 'resusLDnonzero',\n",
    "    intersect_subjects=False, check_validity=False\n",
    ")\n",
    "rn_resusLDnonzero_easy_pairing.describe()"
   ]
  },
  {
   "cell_type": "code",
   "execution_count": 57,
   "metadata": {
    "scrolled": true
   },
   "outputs": [
    {
     "name": "stdout",
     "output_type": "stream",
     "text": [
      "inSpO2TargetRangeDuration:\n",
      "  Independent t-test:\n",
      "   ~|diff| > 0: p = 0.122\n",
      "   *diff < 0: p = 0.061\n",
      "    diff > 0: p = 0.939\n",
      "inSpO2LooseTargetRangeDuration:\n",
      "  Independent t-test:\n",
      "    |diff| > 0: p = 0.806\n",
      "    diff < 0: p = 0.403\n",
      "    diff > 0: p = 0.597\n"
     ]
    }
   ],
   "source": [
    "statistics.test_tracing_outcomes(rn_resusLDnonzero_easy_pairing, paired=False)"
   ]
  },
  {
   "cell_type": "markdown",
   "metadata": {},
   "source": [
    "Observations:\n",
    "\n",
    "- Sample size is too small to count."
   ]
  },
  {
   "cell_type": "markdown",
   "metadata": {},
   "source": [
    "### Hard Scenarios"
   ]
  },
  {
   "cell_type": "code",
   "execution_count": 58,
   "metadata": {
    "scrolled": true
   },
   "outputs": [
    {
     "name": "stdout",
     "output_type": "stream",
     "text": [
      "Pairing against resusLDnonzero:\n",
      "  0: noLDResusPastYear vs. 1: LDResusPastYear\n",
      "  2 0 examples vs. 18 1 examples.\n",
      "  Paired t-test alternative hypotheses:\n",
      "    Ha left-tailed (diff < 0): mean 0 - mean 1 < 0\n",
      "    Ha two-tailed (|diff| > 0): mean 0 - mean 1 != 0\n",
      "    Ha right-tailed (diff > 0): mean 0 - mean 1 > 0\n",
      "  Wilcoxon signed-rank alternative hypotheses:\n",
      "    Ha left-tailed (P(x > y) < 0.5)\n",
      "    Ha two-tailed (P(x > y) != 0.5)\n",
      "    Ha right-tailed (P(x > y) > 0.5)\n"
     ]
    }
   ],
   "source": [
    "rn_resusLDnonzero_hard_pairing = statistics.build_pairing(\n",
    "    education_hard_pairing[1], 'resusLDnonzero',\n",
    "    intersect_subjects=False, check_validity=False\n",
    ")\n",
    "rn_resusLDnonzero_hard_pairing.describe()"
   ]
  },
  {
   "cell_type": "code",
   "execution_count": 59,
   "metadata": {
    "scrolled": true
   },
   "outputs": [
    {
     "name": "stdout",
     "output_type": "stream",
     "text": [
      "inSpO2TargetRangeDuration:\n",
      "  Independent t-test:\n",
      "    |diff| > 0: p = 0.790\n",
      "    diff < 0: p = 0.605\n",
      "    diff > 0: p = 0.395\n",
      "inSpO2LooseTargetRangeDuration:\n",
      "  Independent t-test:\n",
      "    |diff| > 0: p = 0.918\n",
      "    diff < 0: p = 0.459\n",
      "    diff > 0: p = 0.541\n"
     ]
    }
   ],
   "source": [
    "statistics.test_tracing_outcomes(rn_resusLDnonzero_hard_pairing, paired=False)"
   ]
  },
  {
   "cell_type": "markdown",
   "metadata": {},
   "source": [
    "Observations:\n",
    "\n",
    "- Sample size is too small to count."
   ]
  }
 ],
 "metadata": {
  "kernelspec": {
   "display_name": "Python 3",
   "language": "python",
   "name": "python3"
  },
  "language_info": {
   "codemirror_mode": {
    "name": "ipython",
    "version": 3
   },
   "file_extension": ".py",
   "mimetype": "text/x-python",
   "name": "python",
   "nbconvert_exporter": "python",
   "pygments_lexer": "ipython3",
   "version": "3.6.5"
  }
 },
 "nbformat": 4,
 "nbformat_minor": 2
}
