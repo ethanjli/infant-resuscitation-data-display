{
 "cells": [
  {
   "cell_type": "markdown",
   "metadata": {},
   "source": [
    "# Imports"
   ]
  },
  {
   "cell_type": "code",
   "execution_count": 1,
   "metadata": {
    "collapsed": true
   },
   "outputs": [],
   "source": [
    "%matplotlib inline\n",
    "\n",
    "import scipy as sp\n",
    "from scipy import stats\n",
    "import numpy as np\n",
    "import pandas as pd\n",
    "\n",
    "import statistics"
   ]
  },
  {
   "cell_type": "markdown",
   "metadata": {},
   "source": [
    "# Load Data"
   ]
  },
  {
   "cell_type": "code",
   "execution_count": 2,
   "metadata": {
    "scrolled": false
   },
   "outputs": [
    {
     "data": {
      "text/plain": [
       "Index(['id', 'subjectNumber', 'scenarioNumber', 'newAfterOld', 'scenarioType',\n",
       "       'displayType', 'sensorPlacementTime', 'ppvStartTime', 'ccStartTime',\n",
       "       'inSpO2TargetRangeDuration', 'inSpO2LooseTargetRangeDuration',\n",
       "       'inSpO2TargetRangeStartTime', 'aboveSpO2TargetRangeDuration',\n",
       "       'belowSpO2TargetRangeDuration', 'inFiO2TargetRangeDuration',\n",
       "       'inFiO2TargetRangeStartTime', 'aboveFiO2TargetRangeDuration',\n",
       "       'belowFiO2TargetRangeDuration', 'spO2SignedErrorIntegral',\n",
       "       'spO2UnsignedErrorIntegral', 'spO2SquaredErrorIntegral',\n",
       "       'fiO2LargeAdjustments', 'visitDuration_fiO2Dial',\n",
       "       'visitDuration_infant', 'visitDuration_monitorApgarTimer',\n",
       "       'visitDuration_monitorBlank', 'visitDuration_monitorFiO2',\n",
       "       'visitDuration_monitorFull', 'visitDuration_monitorGraph',\n",
       "       'visitDuration_monitorHeartRate', 'visitDuration_monitorSpO2',\n",
       "       'visitDuration_spO2ReferenceTable',\n",
       "       'visitDuration_warmerInstrumentPanel', 'visitDuration_combinedFiO2',\n",
       "       'visitDuration_combinedSpO2', 'visitCount_fiO2Dial',\n",
       "       'visitCount_infant', 'visitCount_monitorApgarTimer',\n",
       "       'visitCount_monitorBlank', 'visitCount_monitorFiO2',\n",
       "       'visitCount_monitorFull', 'visitCount_monitorGraph',\n",
       "       'visitCount_monitorHeartRate', 'visitCount_monitorSpO2',\n",
       "       'visitCount_spO2ReferenceTable', 'visitCount_warmerInstrumentPanel',\n",
       "       'visitCount_combinedFiO2', 'visitCount_combinedSpO2'],\n",
       "      dtype='object')"
      ]
     },
     "execution_count": 2,
     "metadata": {},
     "output_type": "execute_result"
    }
   ],
   "source": [
    "tracing_df = statistics.load_tracing_features()\n",
    "recording_df = statistics.load_recording_relations()\n",
    "recording_df = statistics.associate_recordings(recording_df, tracing_df)\n",
    "gaze_dfs = statistics.load_gaze_features()\n",
    "statistics.check_gaze_recording_associations(recording_df, gaze_dfs)\n",
    "statistics.compute_gaze_features(gaze_dfs)\n",
    "gaze_df = statistics.combine_gaze_features(gaze_dfs)\n",
    "full_df = statistics.combine_all_features(recording_df, gaze_df)\n",
    "full_df.columns"
   ]
  },
  {
   "cell_type": "markdown",
   "metadata": {},
   "source": [
    "# Stratification\n",
    "For each scenario type, we stratify by the total accumulated error across both scenarios of the same type per subject."
   ]
  },
  {
   "cell_type": "code",
   "execution_count": 3,
   "metadata": {
    "scrolled": true
   },
   "outputs": [
    {
     "name": "stdout",
     "output_type": "stream",
     "text": [
      "Best subjects, easy: [ 9  8  7 12 10]\n",
      "Worst subjects, easy: [17 13  4 19 20]\n",
      "Best subjects, hard: [16  6  9  7 18]\n",
      "Worst subjects, hard: [11 17 13  8 15]\n"
     ]
    }
   ],
   "source": [
    "stratification_size = 5\n",
    "scenario_split = statistics.build_split(full_df, 'scenarioType')\n",
    "errors = [\n",
    "    df[['subjectNumber', 'spO2UnsignedErrorIntegral']]\n",
    "    .groupby('subjectNumber')\n",
    "    .sum()\n",
    "    .sort_values(by=['spO2UnsignedErrorIntegral'])\n",
    "    for df in scenario_split.dfs\n",
    "]\n",
    "tails = [\n",
    "    [\n",
    "        df.index[:stratification_size].values,\n",
    "         df.index[-stratification_size:].values\n",
    "    ]\n",
    "    for df in errors\n",
    "]\n",
    "\n",
    "masks = [\n",
    "    [df.subjectNumber.isin(lowest_tail), df.subjectNumber.isin(highest_tail)]\n",
    "    for (df, (lowest_tail, highest_tail)) in zip(scenario_split.dfs, tails)\n",
    "]\n",
    "print('Best subjects, easy:', tails[0][0])\n",
    "print('Worst subjects, easy:', tails[0][1])\n",
    "print('Best subjects, hard:', tails[1][0])\n",
    "print('Worst subjects, hard:', tails[1][1])"
   ]
  },
  {
   "cell_type": "markdown",
   "metadata": {},
   "source": [
    "### Accumulated Absolute Error Stratification, Hard"
   ]
  },
  {
   "cell_type": "code",
   "execution_count": 4,
   "metadata": {},
   "outputs": [
    {
     "name": "stdout",
     "output_type": "stream",
     "text": [
      "Pairing against absoluteError:\n",
      "  0: lowest vs. 1: highest\n",
      "  10 0 vs. 1 pairs.\n"
     ]
    }
   ],
   "source": [
    "error_stratification = statistics.build_stratification(scenario_split.dfs[1], 'absoluteError', ['lowest', 'highest'], masks[1])\n",
    "error_stratification.describe(tests=False)"
   ]
  },
  {
   "cell_type": "code",
   "execution_count": 5,
   "metadata": {
    "collapsed": true
   },
   "outputs": [],
   "source": [
    "error_display_pairings = [\n",
    "    statistics.build_pairing(df, 'displayType')\n",
    "    for df in error_stratification.dfs\n",
    "]"
   ]
  },
  {
   "cell_type": "markdown",
   "metadata": {},
   "source": [
    "#### Lowest Errors"
   ]
  },
  {
   "cell_type": "code",
   "execution_count": 6,
   "metadata": {},
   "outputs": [
    {
     "name": "stdout",
     "output_type": "stream",
     "text": [
      "Pairing against displayType:\n",
      "  0: minimal vs. 1: full\n",
      "  5 0 vs. 1 pairs.\n",
      "  Paired t-test alternative hypotheses:\n",
      "    Ha left-tailed (diff < 0): mean 0 - mean 1 < 0\n",
      "    Ha two-tailed (|diff| > 0): mean 0 - mean 1 != 0\n",
      "    Ha right-tailed (diff > 0): mean 0 - mean 1 > 0\n",
      "  Wilcoxon signed-rank alternative hypotheses:\n",
      "    Ha left-tailed (P(x > y) < 0.5)\n",
      "    Ha two-tailed (P(x > y) != 0.5)\n",
      "    Ha right-tailed (P(x > y) > 0.5)\n"
     ]
    }
   ],
   "source": [
    "error_display_pairings[0].describe()"
   ]
  },
  {
   "cell_type": "code",
   "execution_count": 7,
   "metadata": {
    "scrolled": true
   },
   "outputs": [
    {
     "name": "stdout",
     "output_type": "stream",
     "text": [
      "sensorPlacementTime:\n",
      "  mean diff = -2.200; stdev diff = 13.746\n",
      "  Paired t-test:\n",
      "    |diff| > 0: p = 0.765\n",
      "    diff < 0: p = 0.382\n",
      "    diff > 0: p = 0.618\n",
      "  Wilcoxon signed-rank test:\n",
      "    P(x > y) != 0.5: p = 0.893\n",
      "    P(x > y) < 0.5: p = 0.446\n",
      "    P(x > y) > 0.5: p = 0.554\n",
      "ppvStartTime:\n",
      "  mean diff = 5.600; stdev diff = 5.499\n",
      "  Paired t-test:\n",
      "   ~|diff| > 0: p = 0.111\n",
      "    diff < 0: p = 0.944\n",
      "   *diff > 0: p = 0.056\n",
      "  Wilcoxon signed-rank test:\n",
      "    P(x > y) != 0.5: p = 0.221\n",
      "    P(x > y) < 0.5: p = 0.890\n",
      "   ~P(x > y) > 0.5: p = 0.110\n",
      "ccStartTime:\n",
      "  mean diff = 6.400; stdev diff = 15.895\n",
      "  Paired t-test:\n",
      "    |diff| > 0: p = 0.466\n",
      "    diff < 0: p = 0.767\n",
      "    diff > 0: p = 0.233\n",
      "  Wilcoxon signed-rank test:\n",
      "    P(x > y) != 0.5: p = 0.345\n",
      "    P(x > y) < 0.5: p = 0.827\n",
      "   ~P(x > y) > 0.5: p = 0.173\n",
      "inSpO2TargetRangeStartTime:\n",
      "  mean diff = 35.600; stdev diff = 44.729\n",
      "  Paired t-test:\n",
      "   ~|diff| > 0: p = 0.187\n",
      "    diff < 0: p = 0.907\n",
      "   *diff > 0: p = 0.093\n",
      "  Wilcoxon signed-rank test:\n",
      "   ~P(x > y) != 0.5: p = 0.144\n",
      "    P(x > y) < 0.5: p = 0.928\n",
      "   *P(x > y) > 0.5: p = 0.072\n",
      "inSpO2TargetRangeDuration:\n",
      "  mean diff = -10.000; stdev diff = 25.235\n",
      "  Paired t-test:\n",
      "    |diff| > 0: p = 0.472\n",
      "    diff < 0: p = 0.236\n",
      "    diff > 0: p = 0.764\n",
      "  Wilcoxon signed-rank test:\n",
      "    P(x > y) != 0.5: p = 0.593\n",
      "    P(x > y) < 0.5: p = 0.296\n",
      "    P(x > y) > 0.5: p = 0.704\n",
      "inSpO2LooseTargetRangeDuration:\n",
      "  mean diff = -16.800; stdev diff = 25.127\n",
      "  Paired t-test:\n",
      "    |diff| > 0: p = 0.252\n",
      "   ~diff < 0: p = 0.126\n",
      "    diff > 0: p = 0.874\n",
      "  Wilcoxon signed-rank test:\n",
      "   ~P(x > y) != 0.5: p = 0.144\n",
      "   *P(x > y) < 0.5: p = 0.072\n",
      "    P(x > y) > 0.5: p = 0.928\n",
      "aboveSpO2TargetRangeDuration:\n",
      "  mean diff = 0.000; stdev diff = 0.000\n",
      "    Skipped t-test.\n",
      "    Skipped Wilcoxon test.\n",
      "belowSpO2TargetRangeDuration:\n",
      "  mean diff = 12.000; stdev diff = 25.675\n",
      "  Paired t-test:\n",
      "    |diff| > 0: p = 0.403\n",
      "    diff < 0: p = 0.799\n",
      "    diff > 0: p = 0.201\n",
      "  Wilcoxon signed-rank test:\n",
      "    P(x > y) != 0.5: p = 0.465\n",
      "    P(x > y) < 0.5: p = 0.767\n",
      "    P(x > y) > 0.5: p = 0.233\n",
      "inFiO2TargetRangeStartTime:\n",
      "  mean diff = 6.400; stdev diff = 17.500\n",
      "  Paired t-test:\n",
      "    |diff| > 0: p = 0.505\n",
      "    diff < 0: p = 0.747\n",
      "    diff > 0: p = 0.253\n",
      "  Wilcoxon signed-rank test:\n",
      "    P(x > y) != 0.5: p = 0.593\n",
      "    P(x > y) < 0.5: p = 0.704\n",
      "    P(x > y) > 0.5: p = 0.296\n",
      "inFiO2TargetRangeDuration:\n",
      "  mean diff = -16.000; stdev diff = 13.565\n",
      "  Paired t-test:\n",
      "   *|diff| > 0: p = 0.078\n",
      "  **diff < 0: p = 0.039\n",
      "    diff > 0: p = 0.961\n",
      "  Wilcoxon signed-rank test:\n",
      "   ~P(x > y) != 0.5: p = 0.102\n",
      "   *P(x > y) < 0.5: p = 0.051\n",
      "    P(x > y) > 0.5: p = 0.949\n",
      "aboveFiO2TargetRangeDuration:\n",
      "  mean diff = 0.000; stdev diff = 0.000\n",
      "    Skipped t-test.\n",
      "    Skipped Wilcoxon test.\n",
      "belowFiO2TargetRangeDuration:\n",
      "  mean diff = 16.800; stdev diff = 13.891\n",
      "  Paired t-test:\n",
      "   *|diff| > 0: p = 0.073\n",
      "    diff < 0: p = 0.964\n",
      "  **diff > 0: p = 0.036\n",
      "  Wilcoxon signed-rank test:\n",
      "   ~P(x > y) != 0.5: p = 0.102\n",
      "    P(x > y) < 0.5: p = 0.949\n",
      "   *P(x > y) > 0.5: p = 0.051\n",
      "spO2SignedErrorIntegral:\n",
      "  mean diff = -3.513; stdev diff = 3.176\n",
      "  Paired t-test:\n",
      "   *|diff| > 0: p = 0.091\n",
      "  **diff < 0: p = 0.046\n",
      "    diff > 0: p = 0.954\n",
      "  Wilcoxon signed-rank test:\n",
      "   ~P(x > y) != 0.5: p = 0.138\n",
      "   *P(x > y) < 0.5: p = 0.069\n",
      "    P(x > y) > 0.5: p = 0.931\n",
      "spO2UnsignedErrorIntegral:\n",
      "  mean diff = 3.513; stdev diff = 3.176\n",
      "  Paired t-test:\n",
      "   *|diff| > 0: p = 0.091\n",
      "    diff < 0: p = 0.954\n",
      "  **diff > 0: p = 0.046\n",
      "  Wilcoxon signed-rank test:\n",
      "   ~P(x > y) != 0.5: p = 0.138\n",
      "    P(x > y) < 0.5: p = 0.931\n",
      "   *P(x > y) > 0.5: p = 0.069\n",
      "spO2SquaredErrorIntegral:\n",
      "  mean diff = 1.442; stdev diff = 0.538\n",
      "  Paired t-test:\n",
      "  **|diff| > 0: p = 0.006\n",
      "    diff < 0: p = 0.997\n",
      "  **diff > 0: p = 0.003\n",
      "  Wilcoxon signed-rank test:\n",
      "  **P(x > y) != 0.5: p = 0.043\n",
      "    P(x > y) < 0.5: p = 0.978\n",
      "  **P(x > y) > 0.5: p = 0.022\n",
      "fiO2LargeAdjustments:\n",
      "  mean diff = -0.600; stdev diff = 0.800\n",
      "  Paired t-test:\n",
      "    |diff| > 0: p = 0.208\n",
      "   ~diff < 0: p = 0.104\n",
      "    diff > 0: p = 0.896\n",
      "  Wilcoxon signed-rank test:\n",
      "   ~P(x > y) != 0.5: p = 0.180\n",
      "   *P(x > y) < 0.5: p = 0.090\n",
      "    P(x > y) > 0.5: p = 0.910\n"
     ]
    },
    {
     "name": "stderr",
     "output_type": "stream",
     "text": [
      "/usr/lib/python3.6/site-packages/scipy/stats/morestats.py:2385: UserWarning: Warning: sample size too small for normal approximation.\n",
      "  warnings.warn(\"Warning: sample size too small for normal approximation.\")\n",
      "/usr/lib/python3.6/site-packages/scipy/stats/morestats.py:2410: RuntimeWarning: invalid value encountered in double_scalars\n",
      "  z = (T - mn - correction) / se\n"
     ]
    }
   ],
   "source": [
    "statistics.test_tracing_outcomes(error_display_pairings[0])"
   ]
  },
  {
   "cell_type": "markdown",
   "metadata": {},
   "source": [
    "Observations:\n",
    "\n",
    "* Wilcoxon signed-rank and paired t-tests seem to behave generally the same way, though the t-tests are more significant. We ignore the Wilcoxon tests because the sample sizes are too small.\n",
    "* With the new display, participants are in the FiO2 target range significantly more and achieve a significantly lower signed and squared SpO2 squared error integrals."
   ]
  },
  {
   "cell_type": "markdown",
   "metadata": {},
   "source": [
    "#### Highest Errors"
   ]
  },
  {
   "cell_type": "code",
   "execution_count": 8,
   "metadata": {},
   "outputs": [
    {
     "name": "stdout",
     "output_type": "stream",
     "text": [
      "Pairing against displayType:\n",
      "  0: minimal vs. 1: full\n",
      "  5 0 vs. 1 pairs.\n",
      "  Paired t-test alternative hypotheses:\n",
      "    Ha left-tailed (diff < 0): mean 0 - mean 1 < 0\n",
      "    Ha two-tailed (|diff| > 0): mean 0 - mean 1 != 0\n",
      "    Ha right-tailed (diff > 0): mean 0 - mean 1 > 0\n",
      "  Wilcoxon signed-rank alternative hypotheses:\n",
      "    Ha left-tailed (P(x > y) < 0.5)\n",
      "    Ha two-tailed (P(x > y) != 0.5)\n",
      "    Ha right-tailed (P(x > y) > 0.5)\n"
     ]
    }
   ],
   "source": [
    "error_display_pairings[1].describe()"
   ]
  },
  {
   "cell_type": "code",
   "execution_count": 9,
   "metadata": {
    "scrolled": true
   },
   "outputs": [
    {
     "name": "stdout",
     "output_type": "stream",
     "text": [
      "sensorPlacementTime:\n",
      "  mean diff = -10.200; stdev diff = 34.114\n",
      "  Paired t-test:\n",
      "    |diff| > 0: p = 0.582\n",
      "    diff < 0: p = 0.291\n",
      "    diff > 0: p = 0.709\n",
      "  Wilcoxon signed-rank test:\n",
      "    P(x > y) != 0.5: p = 0.686\n",
      "    P(x > y) < 0.5: p = 0.343\n",
      "    P(x > y) > 0.5: p = 0.657\n",
      "ppvStartTime:\n",
      "  mean diff = 8.400; stdev diff = 7.552\n",
      "  Paired t-test:\n",
      "   *|diff| > 0: p = 0.090\n",
      "    diff < 0: p = 0.955\n",
      "  **diff > 0: p = 0.045\n",
      "  Wilcoxon signed-rank test:\n",
      "   *P(x > y) != 0.5: p = 0.078\n",
      "    P(x > y) < 0.5: p = 0.961\n",
      "  **P(x > y) > 0.5: p = 0.039\n",
      "ccStartTime:\n",
      "  mean diff = -11.200; stdev diff = 38.426\n",
      "  Paired t-test:\n",
      "    |diff| > 0: p = 0.591\n",
      "    diff < 0: p = 0.296\n",
      "    diff > 0: p = 0.704\n",
      "  Wilcoxon signed-rank test:\n",
      "    P(x > y) != 0.5: p = 0.593\n",
      "    P(x > y) < 0.5: p = 0.296\n",
      "    P(x > y) > 0.5: p = 0.704\n",
      "inSpO2TargetRangeStartTime:\n",
      "  mean diff = -15.200; stdev diff = 42.494\n",
      "  Paired t-test:\n",
      "    |diff| > 0: p = 0.514\n",
      "    diff < 0: p = 0.257\n",
      "    diff > 0: p = 0.743\n",
      "  Wilcoxon signed-rank test:\n",
      "    P(x > y) != 0.5: p = 0.593\n",
      "    P(x > y) < 0.5: p = 0.296\n",
      "    P(x > y) > 0.5: p = 0.704\n",
      "inSpO2TargetRangeDuration:\n",
      "  mean diff = 5.200; stdev diff = 28.103\n",
      "  Paired t-test:\n",
      "    |diff| > 0: p = 0.730\n",
      "    diff < 0: p = 0.635\n",
      "    diff > 0: p = 0.365\n",
      "  Wilcoxon signed-rank test:\n",
      "    P(x > y) != 0.5: p = 1.000\n",
      "    P(x > y) < 0.5: p = 0.500\n",
      "    P(x > y) > 0.5: p = 0.500\n",
      "inSpO2LooseTargetRangeDuration:\n",
      "  mean diff = 10.000; stdev diff = 34.316\n",
      "  Paired t-test:\n",
      "    |diff| > 0: p = 0.591\n",
      "    diff < 0: p = 0.704"
     ]
    },
    {
     "name": "stderr",
     "output_type": "stream",
     "text": [
      "/usr/lib/python3.6/site-packages/scipy/stats/morestats.py:2385: UserWarning: Warning: sample size too small for normal approximation.\n",
      "  warnings.warn(\"Warning: sample size too small for normal approximation.\")\n"
     ]
    },
    {
     "name": "stdout",
     "output_type": "stream",
     "text": [
      "\n",
      "    diff > 0: p = 0.296\n",
      "  Wilcoxon signed-rank test:\n",
      "    P(x > y) != 0.5: p = 0.593\n",
      "    P(x > y) < 0.5: p = 0.704\n",
      "    P(x > y) > 0.5: p = 0.296\n",
      "aboveSpO2TargetRangeDuration:\n",
      "  mean diff = 0.000; stdev diff = 0.000\n",
      "    Skipped t-test.\n",
      "    Skipped Wilcoxon test.\n",
      "belowSpO2TargetRangeDuration:\n",
      "  mean diff = -6.400; stdev diff = 29.486\n",
      "  Paired t-test:\n",
      "    |diff| > 0: p = 0.687\n",
      "    diff < 0: p = 0.343\n",
      "    diff > 0: p = 0.657\n",
      "  Wilcoxon signed-rank test:\n",
      "    P(x > y) != 0.5: p = 0.785\n",
      "    P(x > y) < 0.5: p = 0.393\n",
      "    P(x > y) > 0.5: p = 0.607\n",
      "inFiO2TargetRangeStartTime:\n",
      "  mean diff = -29.600; stdev diff = 55.647\n",
      "  Paired t-test:\n",
      "    |diff| > 0: p = 0.347\n",
      "   ~diff < 0: p = 0.174\n",
      "    diff > 0: p = 0.826\n",
      "  Wilcoxon signed-rank test:\n",
      "    P(x > y) != 0.5: p = 0.285\n",
      "   ~P(x > y) < 0.5: p = 0.143\n",
      "    P(x > y) > 0.5: p = 0.857\n",
      "inFiO2TargetRangeDuration:\n",
      "  mean diff = 22.800; stdev diff = 43.462\n",
      "  Paired t-test:\n",
      "    |diff| > 0: p = 0.353\n",
      "    diff < 0: p = 0.823\n",
      "   ~diff > 0: p = 0.177\n",
      "  Wilcoxon signed-rank test:\n",
      "    P(x > y) != 0.5: p = 0.285\n",
      "    P(x > y) < 0.5: p = 0.857\n",
      "   ~P(x > y) > 0.5: p = 0.143\n",
      "aboveFiO2TargetRangeDuration:\n",
      "  mean diff = 0.000; stdev diff = 0.000\n",
      "    Skipped t-test.\n",
      "    Skipped Wilcoxon test.\n",
      "belowFiO2TargetRangeDuration:\n",
      "  mean diff = -23.600; stdev diff = 44.854\n",
      "  Paired t-test:\n",
      "    |diff| > 0: p = 0.352\n",
      "   ~diff < 0: p = 0.176\n",
      "    diff > 0: p = 0.824\n",
      "  Wilcoxon signed-rank test:\n",
      "    P(x > y) != 0.5: p = 0.285\n",
      "   ~P(x > y) < 0.5: p = 0.143\n",
      "    P(x > y) > 0.5: p = 0.857\n",
      "spO2SignedErrorIntegral:\n",
      "  mean diff = 4.664; stdev diff = 12.068\n",
      "  Paired t-test:\n",
      "    |diff| > 0: p = 0.483\n",
      "    diff < 0: p = 0.759\n",
      "    diff > 0: p = 0.241\n",
      "  Wilcoxon signed-rank test:\n",
      "    P(x > y) != 0.5: p = 0.500\n",
      "    P(x > y) < 0.5: p = 0.750\n",
      "    P(x > y) > 0.5: p = 0.250\n",
      "spO2UnsignedErrorIntegral:\n",
      "  mean diff = -4.664; stdev diff = 12.068\n",
      "  Paired t-test:\n",
      "    |diff| > 0: p = 0.483\n",
      "    diff < 0: p = 0.241\n",
      "    diff > 0: p = 0.759\n",
      "  Wilcoxon signed-rank test:\n",
      "    P(x > y) != 0.5: p = 0.500\n",
      "    P(x > y) < 0.5: p = 0.250\n",
      "    P(x > y) > 0.5: p = 0.750\n",
      "spO2SquaredErrorIntegral:\n",
      "  mean diff = -1.582; stdev diff = 4.124\n",
      "  Paired t-test:\n",
      "    |diff| > 0: p = 0.486\n",
      "    diff < 0: p = 0.243\n",
      "    diff > 0: p = 0.757\n",
      "  Wilcoxon signed-rank test:\n",
      "    P(x > y) != 0.5: p = 0.500\n",
      "    P(x > y) < 0.5: p = 0.250\n",
      "    P(x > y) > 0.5: p = 0.750\n",
      "fiO2LargeAdjustments:\n",
      "  mean diff = 0.000; stdev diff = 1.095\n",
      "  Paired t-test:\n",
      "    |diff| > 0: p = 1.000\n",
      "    diff < 0: p = 0.500\n",
      "    diff > 0: p = 0.500\n",
      "  Wilcoxon signed-rank test:\n",
      "    P(x > y) != 0.5: p = 1.000\n",
      "    P(x > y) < 0.5: p = 0.500\n",
      "    P(x > y) > 0.5: p = 0.500\n"
     ]
    },
    {
     "name": "stderr",
     "output_type": "stream",
     "text": [
      "/usr/lib/python3.6/site-packages/scipy/stats/morestats.py:2410: RuntimeWarning: invalid value encountered in double_scalars\n",
      "  z = (T - mn - correction) / se\n"
     ]
    }
   ],
   "source": [
    "statistics.test_tracing_outcomes(error_display_pairings[1])"
   ]
  },
  {
   "cell_type": "markdown",
   "metadata": {},
   "source": [
    "Observations:\n",
    "\n",
    "* As before, we ignore the Wilcoxon signed-rank tests.\n",
    "* With the new display, participants start PPV significantly earlier but don't achieve significantly better outcomes."
   ]
  },
  {
   "cell_type": "markdown",
   "metadata": {},
   "source": [
    "#### Summary\n",
    "\n",
    "* The top 5 participants who accumulated the lowest SpO2 errors on the hard scenario were significantly helped by the display, but the bottom 5 participants who accumulated the highest SpO2 errors on the hard scenario weren't significantly helped by the display."
   ]
  },
  {
   "cell_type": "markdown",
   "metadata": {},
   "source": [
    "### Accumulated Absolute Error Stratification, Easy"
   ]
  },
  {
   "cell_type": "code",
   "execution_count": 10,
   "metadata": {},
   "outputs": [
    {
     "name": "stdout",
     "output_type": "stream",
     "text": [
      "Pairing against absoluteError:\n",
      "  0: lowest vs. 1: highest\n",
      "  10 0 vs. 1 pairs.\n"
     ]
    }
   ],
   "source": [
    "error_stratification = statistics.build_stratification(scenario_split.dfs[0], 'absoluteError', ['lowest', 'highest'], masks[0])\n",
    "error_stratification.describe(tests=False)"
   ]
  },
  {
   "cell_type": "code",
   "execution_count": 11,
   "metadata": {
    "collapsed": true
   },
   "outputs": [],
   "source": [
    "error_display_pairings = [\n",
    "    statistics.build_pairing(df, 'displayType')\n",
    "    for df in error_stratification.dfs\n",
    "]"
   ]
  },
  {
   "cell_type": "markdown",
   "metadata": {},
   "source": [
    "#### Lowest Errors"
   ]
  },
  {
   "cell_type": "code",
   "execution_count": 12,
   "metadata": {
    "scrolled": true
   },
   "outputs": [
    {
     "name": "stdout",
     "output_type": "stream",
     "text": [
      "Pairing against displayType:\n",
      "  0: minimal vs. 1: full\n",
      "  5 0 vs. 1 pairs.\n",
      "  Paired t-test alternative hypotheses:\n",
      "    Ha left-tailed (diff < 0): mean 0 - mean 1 < 0\n",
      "    Ha two-tailed (|diff| > 0): mean 0 - mean 1 != 0\n",
      "    Ha right-tailed (diff > 0): mean 0 - mean 1 > 0\n",
      "  Wilcoxon signed-rank alternative hypotheses:\n",
      "    Ha left-tailed (P(x > y) < 0.5)\n",
      "    Ha two-tailed (P(x > y) != 0.5)\n",
      "    Ha right-tailed (P(x > y) > 0.5)\n"
     ]
    }
   ],
   "source": [
    "error_display_pairings[0].describe()"
   ]
  },
  {
   "cell_type": "code",
   "execution_count": 13,
   "metadata": {
    "scrolled": true
   },
   "outputs": [
    {
     "name": "stdout",
     "output_type": "stream",
     "text": [
      "sensorPlacementTime:\n",
      "  mean diff = -19.200; stdev diff = 13.452\n",
      "  Paired t-test:\n",
      "  **|diff| > 0: p = 0.046\n",
      "  **diff < 0: p = 0.023\n",
      "    diff > 0: p = 0.977\n",
      "  Wilcoxon signed-rank test:\n",
      "   *P(x > y) != 0.5: p = 0.080\n",
      "  **P(x > y) < 0.5: p = 0.040\n",
      "    P(x > y) > 0.5: p = 0.960\n",
      "ppvStartTime:\n",
      "  mean diff = -19.400; stdev diff = 19.704\n",
      "  Paired t-test:\n",
      "   ~|diff| > 0: p = 0.120\n",
      "   *diff < 0: p = 0.060\n",
      "    diff > 0: p = 0.940\n",
      "  Wilcoxon signed-rank test:\n",
      "   ~P(x > y) != 0.5: p = 0.138\n",
      "   *P(x > y) < 0.5: p = 0.069\n",
      "    P(x > y) > 0.5: p = 0.931\n",
      "ccStartTime:\n",
      "  mean diff = 0.000; stdev diff = 0.000\n",
      "    Skipped t-test.\n",
      "    Skipped Wilcoxon test.\n",
      "inSpO2TargetRangeStartTime:\n",
      "  mean diff = -30.000; stdev diff = 20.239\n",
      "  Paired t-test:\n",
      "  **|diff| > 0: p = 0.041\n",
      "  **diff < 0: p = 0.021\n",
      "    diff > 0: p = 0.979\n",
      "  Wilcoxon signed-rank test:\n",
      "  **P(x > y) != 0.5: p = 0.043\n",
      "  **P(x > y) < 0.5: p = 0.022\n",
      "    P(x > y) > 0.5: p = 0.978\n",
      "inSpO2TargetRangeDuration:\n",
      "  mean diff = 25.200; stdev diff = 37.621\n",
      "  Paired t-test:\n",
      "    |diff| > 0: p = 0.251\n",
      "    diff < 0: p = 0.874\n",
      "   ~diff > 0: p = 0.126\n",
      "  Wilcoxon signed-rank test:\n",
      "    P(x > y) != 0.5: p = 0.225\n",
      "    P(x > y) < 0.5: p = 0.888\n",
      "   ~P(x > y) > 0.5: p = 0.112\n",
      "inSpO2LooseTargetRangeDuration:\n",
      "  mean diff = 26.800; stdev diff = 34.999\n",
      "  Paired t-test:\n",
      "    |diff| > 0: p = 0.200\n",
      "    diff < 0: p = 0.900\n",
      "   ~diff > 0: p = 0.100\n",
      "  Wilcoxon signed-rank test:\n",
      "   ~P(x > y) != 0.5: p = 0.176\n",
      "    P(x > y) < 0.5: p = 0.912\n",
      "   *P(x > y) > 0.5: p = 0.088\n",
      "aboveSpO2TargetRangeDuration:\n",
      "  mean diff = -12.800; stdev diff = 12.172\n",
      "  Paired t-test:\n",
      "   ~|diff| > 0: p = 0.103\n",
      "   *diff < 0: p = 0.052\n",
      "    diff > 0: p = 0.948\n",
      "  Wilcoxon signed-rank test:\n",
      "   *P(x > y) != 0.5: p = 0.068\n",
      "  **P(x > y) < 0.5: p = 0.034\n",
      "    P(x > y) > 0.5: p = 0.966\n",
      "belowSpO2TargetRangeDuration:\n",
      "  mean diff = -16.000; stdev diff = 29.038\n",
      "  Paired t-test:\n",
      "    |diff| > 0: p = 0.332\n",
      "   ~diff < 0: p = 0.166\n",
      "    diff > 0: p = 0.834\n",
      "  Wilcoxon signed-rank test:\n",
      "    P(x > y) != 0.5: p = 0.345\n",
      "   ~P(x > y) < 0.5: p = 0.173\n",
      "    P(x > y) > 0.5: p = 0.827\n",
      "inFiO2TargetRangeStartTime:\n",
      "  mean diff = -80.000; stdev diff = 69.455\n",
      "  Paired t-test:\n",
      "   *|diff| > 0: p = 0.083\n",
      "  **diff < 0: p = 0.041\n",
      "    diff > 0: p = 0.959\n",
      "  Wilcoxon signed-rank test:\n",
      "  **P(x > y) != 0.5: p = 0.043\n",
      "  **P(x > y) < 0.5: p = 0.022\n",
      "    P(x > y) > 0.5: p = 0.978\n",
      "inFiO2TargetRangeDuration:\n",
      "  mean diff = 22.800; stdev diff = 44.084\n",
      "  Paired t-test:\n",
      "    |diff| > 0: p = 0.359\n",
      "    diff < 0: p = 0.820\n",
      "   ~diff > 0: p = 0.180\n",
      "  Wilcoxon signed-rank test:\n",
      "    P(x > y) != 0.5: p = 0.279\n",
      "    P(x > y) < 0.5: p = 0.861\n",
      "   ~P(x > y) > 0.5: p = 0.139\n",
      "aboveFiO2TargetRangeDuration:\n",
      "  mean diff = -1.200; stdev diff = 27.440\n",
      "  Paired t-test:\n",
      "    |diff| > 0: p = 0.935\n",
      "    diff < 0: p = 0.467\n",
      "    diff > 0: p = 0.533\n",
      "  Wilcoxon signed-rank test:\n",
      "    P(x > y) != 0.5: p = 0.686\n",
      "    P(x > y) < 0.5: p = 0.343\n",
      "    P(x > y) > 0.5: p = 0.657\n",
      "belowFiO2TargetRangeDuration:\n",
      "  mean diff = -22.800; stdev diff = 22.004\n",
      "  Paired t-test:\n",
      "   ~|diff| > 0: p = 0.107\n",
      "   *diff < 0: p = 0.053\n",
      "    diff > 0: p = 0.947\n",
      "  Wilcoxon signed-rank test:\n",
      "   ~P(x > y) != 0.5: p = 0.138\n",
      "   *P(x > y) < 0.5: p = 0.069\n",
      "    P(x > y) > 0.5: p = 0.931\n",
      "spO2SignedErrorIntegral:\n",
      "  mean diff = 1.612; stdev diff = 3.608\n",
      "  Paired t-test:\n",
      "    |diff| > 0: p = 0.422\n",
      "    diff < 0: p = 0.789\n",
      "    diff > 0: p = 0.211\n",
      "  Wilcoxon signed-rank test:\n",
      "    P(x > y) != 0.5: p = 0.345\n",
      "    P(x > y) < 0.5: p = 0.827\n",
      "   ~P(x > y) > 0.5: p = 0.173\n",
      "spO2UnsignedErrorIntegral:\n",
      "  mean diff = -3.112; stdev diff = 4.536\n",
      "  Paired t-test:\n",
      "    |diff| > 0: p = 0.242\n",
      "   ~diff < 0: p = 0.121\n",
      "    diff > 0: p = 0.879\n",
      "  Wilcoxon signed-rank test:\n",
      "    P(x > y) != 0.5: p = 0.225\n",
      "   ~P(x > y) < 0.5: p = 0.112\n",
      "    P(x > y) > 0.5: p = 0.888\n",
      "spO2SquaredErrorIntegral:\n",
      "  mean diff = -0.305; stdev diff = 0.608\n",
      "  Paired t-test:\n",
      "    |diff| > 0: p = 0.372\n",
      "   ~diff < 0: p = 0.186\n",
      "    diff > 0: p = 0.814\n",
      "  Wilcoxon signed-rank test:\n",
      "    P(x > y) != 0.5: p = 0.345\n",
      "   ~P(x > y) < 0.5: p = 0.173\n",
      "    P(x > y) > 0.5: p = 0.827\n",
      "fiO2LargeAdjustments:\n",
      "  mean diff = 0.800; stdev diff = 0.980\n",
      "  Paired t-test:\n",
      "   ~|diff| > 0: p = 0.178\n",
      "    diff < 0: p = 0.911\n",
      "   *diff > 0: p = 0.089\n",
      "  Wilcoxon signed-rank test:\n",
      "   ~P(x > y) != 0.5: p = 0.157\n",
      "    P(x > y) < 0.5: p = 0.921\n",
      "   *P(x > y) > 0.5: p = 0.079\n"
     ]
    },
    {
     "name": "stderr",
     "output_type": "stream",
     "text": [
      "/usr/lib/python3.6/site-packages/scipy/stats/morestats.py:2385: UserWarning: Warning: sample size too small for normal approximation.\n",
      "  warnings.warn(\"Warning: sample size too small for normal approximation.\")\n",
      "/usr/lib/python3.6/site-packages/scipy/stats/morestats.py:2410: RuntimeWarning: invalid value encountered in double_scalars\n",
      "  z = (T - mn - correction) / se\n"
     ]
    }
   ],
   "source": [
    "statistics.test_tracing_outcomes(error_display_pairings[0])"
   ]
  },
  {
   "cell_type": "markdown",
   "metadata": {},
   "source": [
    "Observations:\n",
    "\n",
    "* As before, we ignore the Wilcoxon tests.\n",
    "* With the new display, participants place the sensor significantly later and enter the SpO2 and FiO2 target ranges significantly later, but do not produce any other significant differences."
   ]
  },
  {
   "cell_type": "markdown",
   "metadata": {},
   "source": [
    "#### Highest Errors"
   ]
  },
  {
   "cell_type": "code",
   "execution_count": 14,
   "metadata": {
    "scrolled": true
   },
   "outputs": [
    {
     "name": "stdout",
     "output_type": "stream",
     "text": [
      "Pairing against displayType:\n",
      "  0: minimal vs. 1: full\n",
      "  5 0 vs. 1 pairs.\n",
      "  Paired t-test alternative hypotheses:\n",
      "    Ha left-tailed (diff < 0): mean 0 - mean 1 < 0\n",
      "    Ha two-tailed (|diff| > 0): mean 0 - mean 1 != 0\n",
      "    Ha right-tailed (diff > 0): mean 0 - mean 1 > 0\n",
      "  Wilcoxon signed-rank alternative hypotheses:\n",
      "    Ha left-tailed (P(x > y) < 0.5)\n",
      "    Ha two-tailed (P(x > y) != 0.5)\n",
      "    Ha right-tailed (P(x > y) > 0.5)\n"
     ]
    }
   ],
   "source": [
    "error_display_pairings[1].describe()"
   ]
  },
  {
   "cell_type": "code",
   "execution_count": 15,
   "metadata": {
    "scrolled": true
   },
   "outputs": [
    {
     "name": "stdout",
     "output_type": "stream",
     "text": [
      "sensorPlacementTime:\n",
      "  mean diff = -12.000; stdev diff = 16.432\n",
      "  Paired t-test:\n",
      "    |diff| > 0: p = 0.218\n",
      "   ~diff < 0: p = 0.109\n",
      "    diff > 0: p = 0.891\n",
      "  Wilcoxon signed-rank test:\n",
      "    P(x > y) != 0.5: p = 0.225\n",
      "   ~P(x > y) < 0.5: p = 0.112\n",
      "    P(x > y) > 0.5: p = 0.888\n",
      "ppvStartTime:\n",
      "  mean diff = -2.000; stdev diff = 9.695\n",
      "  Paired t-test:\n",
      "    |diff| > 0: p = 0.701\n",
      "    diff < 0: p = 0.351\n",
      "    diff > 0: p = 0.649\n",
      "  Wilcoxon signed-rank test:\n",
      "    P(x > y) != 0.5: p = 0.588\n",
      "    P(x > y) < 0.5: p = 0.294\n",
      "    P(x > y) > 0.5: p = 0.706\n",
      "ccStartTime:\n",
      "  mean diff = 0.000; stdev diff = 0.000\n",
      "    Skipped t-test.\n",
      "    Skipped Wilcoxon test.\n",
      "inSpO2TargetRangeStartTime:\n",
      "  mean diff = 52.800; stdev diff = 79.404\n",
      "  Paired t-test:\n",
      "    |diff| > 0: p = 0.254\n",
      "    diff < 0: p = 0.873\n",
      "   ~diff > 0: p = 0.127\n",
      "  Wilcoxon signed-rank test:\n",
      "    P(x > y) != 0.5: p = 0.273\n",
      "    P(x > y) < 0.5: p = 0.863\n",
      "   ~P(x > y) > 0.5: p = 0.137\n",
      "inSpO2TargetRangeDuration:\n",
      "  mean diff = -18.800; stdev diff = 17.781\n"
     ]
    },
    {
     "name": "stderr",
     "output_type": "stream",
     "text": [
      "/usr/lib/python3.6/site-packages/scipy/stats/morestats.py:2385: UserWarning: Warning: sample size too small for normal approximation.\n",
      "  warnings.warn(\"Warning: sample size too small for normal approximation.\")\n",
      "/usr/lib/python3.6/site-packages/scipy/stats/morestats.py:2410: RuntimeWarning: invalid value encountered in double_scalars\n",
      "  z = (T - mn - correction) / se\n"
     ]
    },
    {
     "name": "stdout",
     "output_type": "stream",
     "text": [
      "  Paired t-test:\n",
      "   ~|diff| > 0: p = 0.102\n",
      "   *diff < 0: p = 0.051\n",
      "    diff > 0: p = 0.949\n",
      "  Wilcoxon signed-rank test:\n",
      "   *P(x > y) != 0.5: p = 0.068\n",
      "  **P(x > y) < 0.5: p = 0.034\n",
      "    P(x > y) > 0.5: p = 0.966\n",
      "inSpO2LooseTargetRangeDuration:\n",
      "  mean diff = -50.400; stdev diff = 44.531\n",
      "  Paired t-test:\n",
      "   *|diff| > 0: p = 0.086\n",
      "  **diff < 0: p = 0.043\n",
      "    diff > 0: p = 0.957\n",
      "  Wilcoxon signed-rank test:\n",
      "   *P(x > y) != 0.5: p = 0.068\n",
      "  **P(x > y) < 0.5: p = 0.034\n",
      "    P(x > y) > 0.5: p = 0.966\n",
      "aboveSpO2TargetRangeDuration:\n",
      "  mean diff = -32.400; stdev diff = 60.085\n",
      "  Paired t-test:\n",
      "    |diff| > 0: p = 0.342\n",
      "   ~diff < 0: p = 0.171\n",
      "    diff > 0: p = 0.829\n",
      "  Wilcoxon signed-rank test:\n",
      "    P(x > y) != 0.5: p = 0.465\n",
      "    P(x > y) < 0.5: p = 0.233\n",
      "    P(x > y) > 0.5: p = 0.767\n",
      "belowSpO2TargetRangeDuration:\n",
      "  mean diff = 53.200; stdev diff = 56.379\n",
      "  Paired t-test:\n",
      "   ~|diff| > 0: p = 0.132\n",
      "    diff < 0: p = 0.934\n",
      "   *diff > 0: p = 0.066\n",
      "  Wilcoxon signed-rank test:\n",
      "   *P(x > y) != 0.5: p = 0.068\n",
      "    P(x > y) < 0.5: p = 0.966\n",
      "  **P(x > y) > 0.5: p = 0.034\n",
      "inFiO2TargetRangeStartTime:\n",
      "  mean diff = 21.200; stdev diff = 68.953\n",
      "  Paired t-test:\n",
      "    |diff| > 0: p = 0.572\n",
      "    diff < 0: p = 0.714\n",
      "    diff > 0: p = 0.286\n",
      "  Wilcoxon signed-rank test:\n",
      "    P(x > y) != 0.5: p = 0.655\n",
      "    P(x > y) < 0.5: p = 0.673\n",
      "    P(x > y) > 0.5: p = 0.327\n",
      "inFiO2TargetRangeDuration:\n",
      "  mean diff = -18.400; stdev diff = 28.661\n",
      "  Paired t-test:\n",
      "    |diff| > 0: p = 0.268\n",
      "   ~diff < 0: p = 0.134\n",
      "    diff > 0: p = 0.866\n",
      "  Wilcoxon signed-rank test:\n",
      "   ~P(x > y) != 0.5: p = 0.180\n",
      "   *P(x > y) < 0.5: p = 0.090\n",
      "    P(x > y) > 0.5: p = 0.910\n",
      "aboveFiO2TargetRangeDuration:\n",
      "  mean diff = -17.600; stdev diff = 67.497\n",
      "  Paired t-test:\n",
      "    |diff| > 0: p = 0.630\n",
      "    diff < 0: p = 0.315\n",
      "    diff > 0: p = 0.685\n",
      "  Wilcoxon signed-rank test:\n",
      "    P(x > y) != 0.5: p = 0.893\n",
      "    P(x > y) < 0.5: p = 0.446\n",
      "    P(x > y) > 0.5: p = 0.554\n",
      "belowFiO2TargetRangeDuration:\n",
      "  mean diff = 35.600; stdev diff = 51.698\n",
      "  Paired t-test:\n",
      "    |diff| > 0: p = 0.240\n",
      "    diff < 0: p = 0.880\n",
      "   ~diff > 0: p = 0.120\n",
      "  Wilcoxon signed-rank test:\n",
      "    P(x > y) != 0.5: p = 0.465\n",
      "    P(x > y) < 0.5: p = 0.767\n",
      "    P(x > y) > 0.5: p = 0.233\n",
      "spO2SignedErrorIntegral:\n",
      "  mean diff = -11.178; stdev diff = 13.177\n",
      "  Paired t-test:\n",
      "   ~|diff| > 0: p = 0.165\n",
      "   *diff < 0: p = 0.083\n",
      "    diff > 0: p = 0.917\n",
      "  Wilcoxon signed-rank test:\n",
      "   *P(x > y) != 0.5: p = 0.068\n",
      "  **P(x > y) < 0.5: p = 0.034\n",
      "    P(x > y) > 0.5: p = 0.966\n",
      "spO2UnsignedErrorIntegral:\n",
      "  mean diff = 8.346; stdev diff = 7.972\n",
      "  Paired t-test:\n",
      "   ~|diff| > 0: p = 0.104\n",
      "    diff < 0: p = 0.948\n",
      "   *diff > 0: p = 0.052\n",
      "  Wilcoxon signed-rank test:\n",
      "   *P(x > y) != 0.5: p = 0.068\n",
      "    P(x > y) < 0.5: p = 0.966\n",
      "  **P(x > y) > 0.5: p = 0.034\n",
      "spO2SquaredErrorIntegral:\n",
      "  mean diff = 1.593; stdev diff = 1.705\n",
      "  Paired t-test:\n",
      "   ~|diff| > 0: p = 0.135\n",
      "    diff < 0: p = 0.932\n",
      "   *diff > 0: p = 0.068\n",
      "  Wilcoxon signed-rank test:\n",
      "   *P(x > y) != 0.5: p = 0.068\n",
      "    P(x > y) < 0.5: p = 0.966\n",
      "  **P(x > y) > 0.5: p = 0.034\n",
      "fiO2LargeAdjustments:\n",
      "  mean diff = 0.000; stdev diff = 2.608\n",
      "  Paired t-test:\n",
      "    |diff| > 0: p = 1.000\n",
      "    diff < 0: p = 0.500\n",
      "    diff > 0: p = 0.500\n",
      "  Wilcoxon signed-rank test:\n",
      "    P(x > y) != 0.5: p = 0.713\n",
      "    P(x > y) < 0.5: p = 0.644\n",
      "    P(x > y) > 0.5: p = 0.644\n"
     ]
    }
   ],
   "source": [
    "statistics.test_tracing_outcomes(error_display_pairings[1])"
   ]
  },
  {
   "cell_type": "markdown",
   "metadata": {},
   "source": [
    "Observations:\n",
    "\n",
    "* As before, we ignore the Wilcoxon signed-rank tests.\n",
    "* With the new display, participants are in the loose SpO2 target range significantly more, and their total absolute SpO2 error is almost significantly lower."
   ]
  },
  {
   "cell_type": "markdown",
   "metadata": {},
   "source": [
    "#### Summary\n",
    "\n",
    "* The top 5 participants who accumulated the lowest SpO2 errors on the hard scenario were significantly helped by the display, but the bottom 5 participants who accumulated the highest SpO2 errors on the hard scenario weren't significantly helped by the display."
   ]
  }
 ],
 "metadata": {
  "kernelspec": {
   "display_name": "Python 3",
   "language": "python",
   "name": "python3"
  },
  "language_info": {
   "codemirror_mode": {
    "name": "ipython",
    "version": 3
   },
   "file_extension": ".py",
   "mimetype": "text/x-python",
   "name": "python",
   "nbconvert_exporter": "python",
   "pygments_lexer": "ipython3",
   "version": "3.6.4"
  }
 },
 "nbformat": 4,
 "nbformat_minor": 2
}
