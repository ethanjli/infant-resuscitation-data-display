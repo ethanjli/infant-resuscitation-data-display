{
 "cells": [
  {
   "cell_type": "markdown",
   "metadata": {},
   "source": [
    "# Imports"
   ]
  },
  {
   "cell_type": "code",
   "execution_count": 1,
   "metadata": {
    "collapsed": true
   },
   "outputs": [],
   "source": [
    "%matplotlib inline\n",
    "\n",
    "import scipy as sp\n",
    "from scipy import stats\n",
    "import numpy as np\n",
    "import pandas as pd\n",
    "\n",
    "import statistics"
   ]
  },
  {
   "cell_type": "markdown",
   "metadata": {},
   "source": [
    "# Load Data"
   ]
  },
  {
   "cell_type": "code",
   "execution_count": 2,
   "metadata": {
    "scrolled": false
   },
   "outputs": [
    {
     "data": {
      "text/plain": [
       "Index(['id', 'subjectNumber', 'scenarioNumber', 'newAfterOld', 'scenarioType',\n",
       "       'displayType', 'sensorPlacementTime', 'ppvStartTime', 'ccStartTime',\n",
       "       'inSpO2TargetRangeDuration', 'inSpO2LooseTargetRangeDuration',\n",
       "       'inSpO2TargetRangeStartTime', 'aboveSpO2TargetRangeDuration',\n",
       "       'belowSpO2TargetRangeDuration', 'inFiO2TargetRangeDuration',\n",
       "       'inFiO2TargetRangeStartTime', 'aboveFiO2TargetRangeDuration',\n",
       "       'belowFiO2TargetRangeDuration', 'spO2SignedErrorIntegral',\n",
       "       'spO2UnsignedErrorIntegral', 'spO2SquaredErrorIntegral',\n",
       "       'fiO2LargeAdjustments', 'visitDuration_fiO2Dial',\n",
       "       'visitDuration_infant', 'visitDuration_monitorApgarTimer',\n",
       "       'visitDuration_monitorBlank', 'visitDuration_monitorFiO2',\n",
       "       'visitDuration_monitorFull', 'visitDuration_monitorGraph',\n",
       "       'visitDuration_monitorHeartRate', 'visitDuration_monitorSpO2',\n",
       "       'visitDuration_spO2ReferenceTable',\n",
       "       'visitDuration_warmerInstrumentPanel', 'visitDuration_combinedFiO2',\n",
       "       'visitDuration_combinedSpO2', 'visitCount_fiO2Dial',\n",
       "       'visitCount_infant', 'visitCount_monitorApgarTimer',\n",
       "       'visitCount_monitorBlank', 'visitCount_monitorFiO2',\n",
       "       'visitCount_monitorFull', 'visitCount_monitorGraph',\n",
       "       'visitCount_monitorHeartRate', 'visitCount_monitorSpO2',\n",
       "       'visitCount_spO2ReferenceTable', 'visitCount_warmerInstrumentPanel',\n",
       "       'visitCount_combinedFiO2', 'visitCount_combinedSpO2'],\n",
       "      dtype='object')"
      ]
     },
     "execution_count": 2,
     "metadata": {},
     "output_type": "execute_result"
    }
   ],
   "source": [
    "tracing_df = statistics.load_tracing_features()\n",
    "recording_df = statistics.load_recording_relations()\n",
    "recording_df = statistics.associate_recordings(recording_df, tracing_df)\n",
    "gaze_dfs = statistics.load_gaze_features()\n",
    "statistics.check_gaze_recording_associations(recording_df, gaze_dfs)\n",
    "statistics.compute_gaze_features(gaze_dfs)\n",
    "gaze_df = statistics.combine_gaze_features(gaze_dfs)\n",
    "full_df = statistics.combine_all_features(recording_df, gaze_df)\n",
    "full_df.columns"
   ]
  },
  {
   "cell_type": "markdown",
   "metadata": {},
   "source": [
    "# Stratification"
   ]
  },
  {
   "cell_type": "markdown",
   "metadata": {},
   "source": [
    "### Accumulated Absolute Error Stratification, Hard\n",
    "We stratify by the total accumulated error across both difficult scenarios."
   ]
  },
  {
   "cell_type": "code",
   "execution_count": 3,
   "metadata": {
    "scrolled": true
   },
   "outputs": [
    {
     "data": {
      "text/html": [
       "<div>\n",
       "<style scoped>\n",
       "    .dataframe tbody tr th:only-of-type {\n",
       "        vertical-align: middle;\n",
       "    }\n",
       "\n",
       "    .dataframe tbody tr th {\n",
       "        vertical-align: top;\n",
       "    }\n",
       "\n",
       "    .dataframe thead th {\n",
       "        text-align: right;\n",
       "    }\n",
       "</style>\n",
       "<table border=\"1\" class=\"dataframe\">\n",
       "  <thead>\n",
       "    <tr style=\"text-align: right;\">\n",
       "      <th></th>\n",
       "      <th>spO2UnsignedErrorIntegral</th>\n",
       "    </tr>\n",
       "    <tr>\n",
       "      <th>subjectNumber</th>\n",
       "      <th></th>\n",
       "    </tr>\n",
       "  </thead>\n",
       "  <tbody>\n",
       "    <tr>\n",
       "      <th>16</th>\n",
       "      <td>41.740000</td>\n",
       "    </tr>\n",
       "    <tr>\n",
       "      <th>6</th>\n",
       "      <td>45.950000</td>\n",
       "    </tr>\n",
       "    <tr>\n",
       "      <th>9</th>\n",
       "      <td>50.816667</td>\n",
       "    </tr>\n",
       "    <tr>\n",
       "      <th>7</th>\n",
       "      <td>54.253333</td>\n",
       "    </tr>\n",
       "    <tr>\n",
       "      <th>18</th>\n",
       "      <td>58.126667</td>\n",
       "    </tr>\n",
       "    <tr>\n",
       "      <th>12</th>\n",
       "      <td>62.636667</td>\n",
       "    </tr>\n",
       "    <tr>\n",
       "      <th>10</th>\n",
       "      <td>62.716667</td>\n",
       "    </tr>\n",
       "    <tr>\n",
       "      <th>19</th>\n",
       "      <td>64.206667</td>\n",
       "    </tr>\n",
       "    <tr>\n",
       "      <th>20</th>\n",
       "      <td>65.553333</td>\n",
       "    </tr>\n",
       "    <tr>\n",
       "      <th>11</th>\n",
       "      <td>71.296667</td>\n",
       "    </tr>\n",
       "    <tr>\n",
       "      <th>17</th>\n",
       "      <td>74.453333</td>\n",
       "    </tr>\n",
       "    <tr>\n",
       "      <th>13</th>\n",
       "      <td>77.346667</td>\n",
       "    </tr>\n",
       "    <tr>\n",
       "      <th>8</th>\n",
       "      <td>80.770000</td>\n",
       "    </tr>\n",
       "    <tr>\n",
       "      <th>15</th>\n",
       "      <td>128.766667</td>\n",
       "    </tr>\n",
       "  </tbody>\n",
       "</table>\n",
       "</div>"
      ],
      "text/plain": [
       "               spO2UnsignedErrorIntegral\n",
       "subjectNumber                           \n",
       "16                             41.740000\n",
       "6                              45.950000\n",
       "9                              50.816667\n",
       "7                              54.253333\n",
       "18                             58.126667\n",
       "12                             62.636667\n",
       "10                             62.716667\n",
       "19                             64.206667\n",
       "20                             65.553333\n",
       "11                             71.296667\n",
       "17                             74.453333\n",
       "13                             77.346667\n",
       "8                              80.770000\n",
       "15                            128.766667"
      ]
     },
     "execution_count": 3,
     "metadata": {},
     "output_type": "execute_result"
    }
   ],
   "source": [
    "hard_df = full_df[full_df.scenarioType == 1]\n",
    "hard_errors = (\n",
    "    hard_df[['subjectNumber', 'spO2UnsignedErrorIntegral']]\n",
    "    .groupby('subjectNumber')\n",
    "    .sum()\n",
    "    .sort_values(by=['spO2UnsignedErrorIntegral'])\n",
    ")\n",
    "hard_errors"
   ]
  },
  {
   "cell_type": "code",
   "execution_count": 4,
   "metadata": {},
   "outputs": [],
   "source": [
    "stratification_size = 5\n",
    "lowest = hard_errors.index[:stratification_size].values\n",
    "highest = hard_errors.index[-stratification_size:].values\n",
    "masks = [\n",
    "    hard_df.subjectNumber.isin(lowest),\n",
    "    hard_df.subjectNumber.isin(highest)\n",
    "]\n",
    "error_stratification = statistics.build_stratification(hard_df, 'absoluteError', ['lowest', 'highest'], masks)"
   ]
  },
  {
   "cell_type": "code",
   "execution_count": 5,
   "metadata": {},
   "outputs": [
    {
     "name": "stdout",
     "output_type": "stream",
     "text": [
      "Pairing against absoluteError:\n",
      "  0: lowest vs. 1: highest\n",
      "  10 0 vs. 1 pairs.\n",
      "  Paired t-test alternative hypotheses:\n",
      "    Ha left-tailed (diff < 0): mean 0 - mean 1 < 0\n",
      "    Ha two-tailed (|diff| > 0): mean 0 - mean 1 != 0\n",
      "    Ha right-tailed (diff > 0): mean 0 - mean 1 > 0\n",
      "  Wilcoxon signed-rank alternative hypotheses:\n",
      "    Ha left-tailed (P(x > y) < 0.5)\n",
      "    Ha two-tailed (P(x > y) != 0.5)\n",
      "    Ha right-tailed (P(x > y) > 0.5)\n"
     ]
    }
   ],
   "source": [
    "error_stratification.describe()"
   ]
  },
  {
   "cell_type": "code",
   "execution_count": 6,
   "metadata": {
    "scrolled": false
   },
   "outputs": [
    {
     "data": {
      "text/html": [
       "<div>\n",
       "<style scoped>\n",
       "    .dataframe tbody tr th:only-of-type {\n",
       "        vertical-align: middle;\n",
       "    }\n",
       "\n",
       "    .dataframe tbody tr th {\n",
       "        vertical-align: top;\n",
       "    }\n",
       "\n",
       "    .dataframe thead th {\n",
       "        text-align: right;\n",
       "    }\n",
       "</style>\n",
       "<table border=\"1\" class=\"dataframe\">\n",
       "  <thead>\n",
       "    <tr style=\"text-align: right;\">\n",
       "      <th></th>\n",
       "      <th>subjectNumber</th>\n",
       "      <th>scenarioNumber</th>\n",
       "      <th>displayType</th>\n",
       "      <th>spO2UnsignedErrorIntegral</th>\n",
       "    </tr>\n",
       "    <tr>\n",
       "      <th>recording</th>\n",
       "      <th></th>\n",
       "      <th></th>\n",
       "      <th></th>\n",
       "      <th></th>\n",
       "    </tr>\n",
       "  </thead>\n",
       "  <tbody>\n",
       "    <tr>\n",
       "      <th>Recording008</th>\n",
       "      <td>6</td>\n",
       "      <td>3</td>\n",
       "      <td>0</td>\n",
       "      <td>26.273333</td>\n",
       "    </tr>\n",
       "    <tr>\n",
       "      <th>Recording007</th>\n",
       "      <td>6</td>\n",
       "      <td>2</td>\n",
       "      <td>1</td>\n",
       "      <td>19.676667</td>\n",
       "    </tr>\n",
       "    <tr>\n",
       "      <th>Recording011</th>\n",
       "      <td>7</td>\n",
       "      <td>2</td>\n",
       "      <td>0</td>\n",
       "      <td>26.693333</td>\n",
       "    </tr>\n",
       "    <tr>\n",
       "      <th>Recording012</th>\n",
       "      <td>7</td>\n",
       "      <td>3</td>\n",
       "      <td>1</td>\n",
       "      <td>27.560000</td>\n",
       "    </tr>\n",
       "    <tr>\n",
       "      <th>Recording020</th>\n",
       "      <td>9</td>\n",
       "      <td>3</td>\n",
       "      <td>0</td>\n",
       "      <td>27.616667</td>\n",
       "    </tr>\n",
       "    <tr>\n",
       "      <th>Recording019</th>\n",
       "      <td>9</td>\n",
       "      <td>2</td>\n",
       "      <td>1</td>\n",
       "      <td>23.200000</td>\n",
       "    </tr>\n",
       "    <tr>\n",
       "      <th>Recording043</th>\n",
       "      <td>16</td>\n",
       "      <td>2</td>\n",
       "      <td>0</td>\n",
       "      <td>24.340000</td>\n",
       "    </tr>\n",
       "    <tr>\n",
       "      <th>Recording044</th>\n",
       "      <td>16</td>\n",
       "      <td>3</td>\n",
       "      <td>1</td>\n",
       "      <td>17.400000</td>\n",
       "    </tr>\n",
       "    <tr>\n",
       "      <th>Recording051</th>\n",
       "      <td>18</td>\n",
       "      <td>2</td>\n",
       "      <td>0</td>\n",
       "      <td>29.303333</td>\n",
       "    </tr>\n",
       "    <tr>\n",
       "      <th>Recording052</th>\n",
       "      <td>18</td>\n",
       "      <td>3</td>\n",
       "      <td>1</td>\n",
       "      <td>28.823333</td>\n",
       "    </tr>\n",
       "  </tbody>\n",
       "</table>\n",
       "</div>"
      ],
      "text/plain": [
       "              subjectNumber  scenarioNumber  displayType  \\\n",
       "recording                                                  \n",
       "Recording008              6               3            0   \n",
       "Recording007              6               2            1   \n",
       "Recording011              7               2            0   \n",
       "Recording012              7               3            1   \n",
       "Recording020              9               3            0   \n",
       "Recording019              9               2            1   \n",
       "Recording043             16               2            0   \n",
       "Recording044             16               3            1   \n",
       "Recording051             18               2            0   \n",
       "Recording052             18               3            1   \n",
       "\n",
       "              spO2UnsignedErrorIntegral  \n",
       "recording                                \n",
       "Recording008                  26.273333  \n",
       "Recording007                  19.676667  \n",
       "Recording011                  26.693333  \n",
       "Recording012                  27.560000  \n",
       "Recording020                  27.616667  \n",
       "Recording019                  23.200000  \n",
       "Recording043                  24.340000  \n",
       "Recording044                  17.400000  \n",
       "Recording051                  29.303333  \n",
       "Recording052                  28.823333  "
      ]
     },
     "execution_count": 6,
     "metadata": {},
     "output_type": "execute_result"
    }
   ],
   "source": [
    "error_stratification.dfs[0][['subjectNumber', 'scenarioNumber', 'displayType', 'spO2UnsignedErrorIntegral']]"
   ]
  },
  {
   "cell_type": "code",
   "execution_count": 7,
   "metadata": {
    "scrolled": false
   },
   "outputs": [
    {
     "data": {
      "text/html": [
       "<div>\n",
       "<style scoped>\n",
       "    .dataframe tbody tr th:only-of-type {\n",
       "        vertical-align: middle;\n",
       "    }\n",
       "\n",
       "    .dataframe tbody tr th {\n",
       "        vertical-align: top;\n",
       "    }\n",
       "\n",
       "    .dataframe thead th {\n",
       "        text-align: right;\n",
       "    }\n",
       "</style>\n",
       "<table border=\"1\" class=\"dataframe\">\n",
       "  <thead>\n",
       "    <tr style=\"text-align: right;\">\n",
       "      <th></th>\n",
       "      <th>subjectNumber</th>\n",
       "      <th>scenarioNumber</th>\n",
       "      <th>displayType</th>\n",
       "      <th>spO2UnsignedErrorIntegral</th>\n",
       "    </tr>\n",
       "    <tr>\n",
       "      <th>recording</th>\n",
       "      <th></th>\n",
       "      <th></th>\n",
       "      <th></th>\n",
       "      <th></th>\n",
       "    </tr>\n",
       "  </thead>\n",
       "  <tbody>\n",
       "    <tr>\n",
       "      <th>Recording016</th>\n",
       "      <td>8</td>\n",
       "      <td>3</td>\n",
       "      <td>0</td>\n",
       "      <td>27.926667</td>\n",
       "    </tr>\n",
       "    <tr>\n",
       "      <th>Recording015</th>\n",
       "      <td>8</td>\n",
       "      <td>2</td>\n",
       "      <td>1</td>\n",
       "      <td>52.843333</td>\n",
       "    </tr>\n",
       "    <tr>\n",
       "      <th>Recording028</th>\n",
       "      <td>11</td>\n",
       "      <td>3</td>\n",
       "      <td>0</td>\n",
       "      <td>41.383333</td>\n",
       "    </tr>\n",
       "    <tr>\n",
       "      <th>Recording027</th>\n",
       "      <td>11</td>\n",
       "      <td>2</td>\n",
       "      <td>1</td>\n",
       "      <td>29.913333</td>\n",
       "    </tr>\n",
       "    <tr>\n",
       "      <th>Recording035</th>\n",
       "      <td>13</td>\n",
       "      <td>2</td>\n",
       "      <td>0</td>\n",
       "      <td>39.123333</td>\n",
       "    </tr>\n",
       "    <tr>\n",
       "      <th>Recording036</th>\n",
       "      <td>13</td>\n",
       "      <td>3</td>\n",
       "      <td>1</td>\n",
       "      <td>38.223333</td>\n",
       "    </tr>\n",
       "    <tr>\n",
       "      <th>Recording039</th>\n",
       "      <td>15</td>\n",
       "      <td>2</td>\n",
       "      <td>0</td>\n",
       "      <td>63.483333</td>\n",
       "    </tr>\n",
       "    <tr>\n",
       "      <th>Recording040</th>\n",
       "      <td>15</td>\n",
       "      <td>3</td>\n",
       "      <td>1</td>\n",
       "      <td>65.283333</td>\n",
       "    </tr>\n",
       "    <tr>\n",
       "      <th>Recording048</th>\n",
       "      <td>17</td>\n",
       "      <td>3</td>\n",
       "      <td>0</td>\n",
       "      <td>32.740000</td>\n",
       "    </tr>\n",
       "    <tr>\n",
       "      <th>Recording047</th>\n",
       "      <td>17</td>\n",
       "      <td>2</td>\n",
       "      <td>1</td>\n",
       "      <td>41.713333</td>\n",
       "    </tr>\n",
       "  </tbody>\n",
       "</table>\n",
       "</div>"
      ],
      "text/plain": [
       "              subjectNumber  scenarioNumber  displayType  \\\n",
       "recording                                                  \n",
       "Recording016              8               3            0   \n",
       "Recording015              8               2            1   \n",
       "Recording028             11               3            0   \n",
       "Recording027             11               2            1   \n",
       "Recording035             13               2            0   \n",
       "Recording036             13               3            1   \n",
       "Recording039             15               2            0   \n",
       "Recording040             15               3            1   \n",
       "Recording048             17               3            0   \n",
       "Recording047             17               2            1   \n",
       "\n",
       "              spO2UnsignedErrorIntegral  \n",
       "recording                                \n",
       "Recording016                  27.926667  \n",
       "Recording015                  52.843333  \n",
       "Recording028                  41.383333  \n",
       "Recording027                  29.913333  \n",
       "Recording035                  39.123333  \n",
       "Recording036                  38.223333  \n",
       "Recording039                  63.483333  \n",
       "Recording040                  65.283333  \n",
       "Recording048                  32.740000  \n",
       "Recording047                  41.713333  "
      ]
     },
     "execution_count": 7,
     "metadata": {},
     "output_type": "execute_result"
    }
   ],
   "source": [
    "error_stratification.dfs[1][['subjectNumber', 'scenarioNumber', 'displayType', 'spO2UnsignedErrorIntegral']]"
   ]
  },
  {
   "cell_type": "code",
   "execution_count": 8,
   "metadata": {
    "collapsed": true
   },
   "outputs": [],
   "source": [
    "error_display_pairings = [\n",
    "    statistics.build_pairing(df, 'displayType')\n",
    "    for df in error_stratification.dfs\n",
    "]"
   ]
  },
  {
   "cell_type": "markdown",
   "metadata": {},
   "source": [
    "#### Lowest Errors"
   ]
  },
  {
   "cell_type": "code",
   "execution_count": 9,
   "metadata": {},
   "outputs": [
    {
     "name": "stdout",
     "output_type": "stream",
     "text": [
      "Pairing against displayType:\n",
      "  0: minimal vs. 1: full\n",
      "  5 0 vs. 1 pairs.\n",
      "  Paired t-test alternative hypotheses:\n",
      "    Ha left-tailed (diff < 0): mean 0 - mean 1 < 0\n",
      "    Ha two-tailed (|diff| > 0): mean 0 - mean 1 != 0\n",
      "    Ha right-tailed (diff > 0): mean 0 - mean 1 > 0\n",
      "  Wilcoxon signed-rank alternative hypotheses:\n",
      "    Ha left-tailed (P(x > y) < 0.5)\n",
      "    Ha two-tailed (P(x > y) != 0.5)\n",
      "    Ha right-tailed (P(x > y) > 0.5)\n"
     ]
    }
   ],
   "source": [
    "error_display_pairings[0].describe()"
   ]
  },
  {
   "cell_type": "code",
   "execution_count": 10,
   "metadata": {
    "scrolled": true
   },
   "outputs": [
    {
     "name": "stdout",
     "output_type": "stream",
     "text": [
      "sensorPlacementTime:\n",
      "  mean diff = -2.200; stdev diff = 13.746\n",
      "  Paired t-test:\n",
      "    |diff| > 0: p = 0.765\n",
      "    diff < 0: p = 0.382\n",
      "    diff > 0: p = 0.618\n",
      "  Wilcoxon signed-rank test:\n",
      "    P(x > y) != 0.5: p = 0.893\n",
      "    P(x > y) < 0.5: p = 0.446\n",
      "    P(x > y) > 0.5: p = 0.554\n",
      "ppvStartTime:\n",
      "  mean diff = 5.600; stdev diff = 5.499\n",
      "  Paired t-test:\n",
      "   ~|diff| > 0: p = 0.111\n",
      "    diff < 0: p = 0.944\n",
      "   *diff > 0: p = 0.056\n",
      "  Wilcoxon signed-rank test:\n",
      "    P(x > y) != 0.5: p = 0.221\n",
      "    P(x > y) < 0.5: p = 0.890\n",
      "   ~P(x > y) > 0.5: p = 0.110\n",
      "ccStartTime:\n",
      "  mean diff = 6.400; stdev diff = 15.895\n",
      "  Paired t-test:\n",
      "    |diff| > 0: p = 0.466\n",
      "    diff < 0: p = 0.767\n",
      "    diff > 0: p = 0.233\n",
      "  Wilcoxon signed-rank test:\n",
      "    P(x > y) != 0.5: p = 0.345\n",
      "    P(x > y) < 0.5: p = 0.827\n",
      "   ~P(x > y) > 0.5: p = 0.173\n",
      "inSpO2TargetRangeStartTime:\n",
      "  mean diff = 35.600; stdev diff = 44.729\n",
      "  Paired t-test:\n",
      "   ~|diff| > 0: p = 0.187\n",
      "    diff < 0: p = 0.907\n",
      "   *diff > 0: p = 0.093\n",
      "  Wilcoxon signed-rank test:\n",
      "   ~P(x > y) != 0.5: p = 0.144\n",
      "    P(x > y) < 0.5: p = 0.928\n",
      "   *P(x > y) > 0.5: p = 0.072\n",
      "inSpO2TargetRangeDuration:\n",
      "  mean diff = -10.000; stdev diff = 25.235\n",
      "  Paired t-test:\n",
      "    |diff| > 0: p = 0.472\n",
      "    diff < 0: p = 0.236\n",
      "    diff > 0: p = 0.764\n",
      "  Wilcoxon signed-rank test:\n",
      "    P(x > y) != 0.5: p = 0.593\n",
      "    P(x > y) < 0.5: p = 0.296\n",
      "    P(x > y) > 0.5: p = 0.704\n",
      "inSpO2LooseTargetRangeDuration:\n",
      "  mean diff = -16.800; stdev diff = 25.127\n",
      "  Paired t-test:\n",
      "    |diff| > 0: p = 0.252\n",
      "   ~diff < 0: p = 0.126\n",
      "    diff > 0: p = 0.874\n",
      "  Wilcoxon signed-rank test:\n",
      "   ~P(x > y) != 0.5: p = 0.144\n",
      "   *P(x > y) < 0.5: p = 0.072\n",
      "    P(x > y) > 0.5: p = 0.928\n",
      "aboveSpO2TargetRangeDuration:\n",
      "  mean diff = 0.000; stdev diff = 0.000\n",
      "    Skipped t-test.\n",
      "    Skipped Wilcoxon test.\n",
      "belowSpO2TargetRangeDuration:\n",
      "  mean diff = 12.000; stdev diff = 25.675\n",
      "  Paired t-test:\n",
      "    |diff| > 0: p = 0.403\n",
      "    diff < 0: p = 0.799\n",
      "    diff > 0: p = 0.201\n",
      "  Wilcoxon signed-rank test:\n",
      "    P(x > y) != 0.5: p = 0.465\n",
      "    P(x > y) < 0.5: p = 0.767\n",
      "    P(x > y) > 0.5: p = 0.233\n",
      "inFiO2TargetRangeStartTime:\n",
      "  mean diff = 6.400; stdev diff = 17.500\n",
      "  Paired t-test:\n",
      "    |diff| > 0: p = 0.505\n",
      "    diff < 0: p = 0.747\n",
      "    diff > 0: p = 0.253\n",
      "  Wilcoxon signed-rank test:\n",
      "    P(x > y) != 0.5: p = 0.593\n",
      "    P(x > y) < 0.5: p = 0.704\n",
      "    P(x > y) > 0.5: p = 0.296\n",
      "inFiO2TargetRangeDuration:\n",
      "  mean diff = -16.000; stdev diff = 13.565\n",
      "  Paired t-test:\n",
      "   *|diff| > 0: p = 0.078\n",
      "  **diff < 0: p = 0.039\n",
      "    diff > 0: p = 0.961\n",
      "  Wilcoxon signed-rank test:\n",
      "   ~P(x > y) != 0.5: p = 0.102\n",
      "   *P(x > y) < 0.5: p = 0.051\n",
      "    P(x > y) > 0.5: p = 0.949\n",
      "aboveFiO2TargetRangeDuration:\n",
      "  mean diff = 0.000; stdev diff = 0.000\n",
      "    Skipped t-test.\n",
      "    Skipped Wilcoxon test.\n",
      "belowFiO2TargetRangeDuration:\n",
      "  mean diff = 16.800; stdev diff = 13.891\n",
      "  Paired t-test:\n",
      "   *|diff| > 0: p = 0.073\n",
      "    diff < 0: p = 0.964\n",
      "  **diff > 0: p = 0.036\n",
      "  Wilcoxon signed-rank test:\n",
      "   ~P(x > y) != 0.5: p = 0.102\n",
      "    P(x > y) < 0.5: p = 0.949\n",
      "   *P(x > y) > 0.5: p = 0.051\n",
      "spO2SignedErrorIntegral:\n",
      "  mean diff = -3.513; stdev diff = 3.176\n",
      "  Paired t-test:\n",
      "   *|diff| > 0: p = 0.091\n",
      "  **diff < 0: p = 0.046\n",
      "    diff > 0: p = 0.954\n",
      "  Wilcoxon signed-rank test:\n",
      "   ~P(x > y) != 0.5: p = 0.138\n",
      "   *P(x > y) < 0.5: p = 0.069\n",
      "    P(x > y) > 0.5: p = 0.931\n",
      "spO2UnsignedErrorIntegral:\n",
      "  mean diff = 3.513; stdev diff = 3.176\n",
      "  Paired t-test:\n",
      "   *|diff| > 0: p = 0.091\n",
      "    diff < 0: p = 0.954\n",
      "  **diff > 0: p = 0.046\n",
      "  Wilcoxon signed-rank test:\n",
      "   ~P(x > y) != 0.5: p = 0.138\n",
      "    P(x > y) < 0.5: p = 0.931\n",
      "   *P(x > y) > 0.5: p = 0.069\n",
      "spO2SquaredErrorIntegral:\n",
      "  mean diff = 1.442; stdev diff = 0.538\n",
      "  Paired t-test:\n",
      "  **|diff| > 0: p = 0.006\n",
      "    diff < 0: p = 0.997\n",
      "  **diff > 0: p = 0.003\n",
      "  Wilcoxon signed-rank test:\n",
      "  **P(x > y) != 0.5: p = 0.043\n",
      "    P(x > y) < 0.5: p = 0.978\n",
      "  **P(x > y) > 0.5: p = 0.022\n",
      "fiO2LargeAdjustments:\n",
      "  mean diff = -0.600; stdev diff = 0.800\n",
      "  Paired t-test:\n",
      "    |diff| > 0: p = 0.208\n",
      "   ~diff < 0: p = 0.104\n",
      "    diff > 0: p = 0.896\n",
      "  Wilcoxon signed-rank test:\n",
      "   ~P(x > y) != 0.5: p = 0.180\n",
      "   *P(x > y) < 0.5: p = 0.090\n",
      "    P(x > y) > 0.5: p = 0.910\n"
     ]
    },
    {
     "name": "stderr",
     "output_type": "stream",
     "text": [
      "/usr/lib/python3.6/site-packages/scipy/stats/morestats.py:2385: UserWarning: Warning: sample size too small for normal approximation.\n",
      "  warnings.warn(\"Warning: sample size too small for normal approximation.\")\n",
      "/usr/lib/python3.6/site-packages/scipy/stats/morestats.py:2410: RuntimeWarning: invalid value encountered in double_scalars\n",
      "  z = (T - mn - correction) / se\n"
     ]
    }
   ],
   "source": [
    "statistics.test_tracing_outcomes(error_display_pairings[0])"
   ]
  },
  {
   "cell_type": "markdown",
   "metadata": {},
   "source": [
    "Observations:\n",
    "\n",
    "* Wilcoxon signed-rank and paired t-tests seem to behave generally the same way, though the t-tests are more significant. We ignore the Wilcoxon tests because the sample sizes are too small.\n",
    "* With the new display, participants are in the FiO2 target range significantly more and achieve a significantly lower signed and squared SpO2 squared error integrals."
   ]
  },
  {
   "cell_type": "markdown",
   "metadata": {},
   "source": [
    "#### Highest Errors"
   ]
  },
  {
   "cell_type": "code",
   "execution_count": 14,
   "metadata": {},
   "outputs": [
    {
     "name": "stdout",
     "output_type": "stream",
     "text": [
      "Pairing against displayType:\n",
      "  0: minimal vs. 1: full\n",
      "  5 0 vs. 1 pairs.\n",
      "  Paired t-test alternative hypotheses:\n",
      "    Ha left-tailed (diff < 0): mean 0 - mean 1 < 0\n",
      "    Ha two-tailed (|diff| > 0): mean 0 - mean 1 != 0\n",
      "    Ha right-tailed (diff > 0): mean 0 - mean 1 > 0\n",
      "  Wilcoxon signed-rank alternative hypotheses:\n",
      "    Ha left-tailed (P(x > y) < 0.5)\n",
      "    Ha two-tailed (P(x > y) != 0.5)\n",
      "    Ha right-tailed (P(x > y) > 0.5)\n"
     ]
    }
   ],
   "source": [
    "error_display_pairings[1].describe()"
   ]
  },
  {
   "cell_type": "code",
   "execution_count": 12,
   "metadata": {
    "scrolled": true
   },
   "outputs": [
    {
     "name": "stdout",
     "output_type": "stream",
     "text": [
      "sensorPlacementTime:\n",
      "  mean diff = -10.200; stdev diff = 34.114\n",
      "  Paired t-test:\n",
      "    |diff| > 0: p = 0.582\n",
      "    diff < 0: p = 0.291\n",
      "    diff > 0: p = 0.709\n",
      "  Wilcoxon signed-rank test:\n",
      "    P(x > y) != 0.5: p = 0.686\n",
      "    P(x > y) < 0.5: p = 0.343\n",
      "    P(x > y) > 0.5: p = 0.657\n",
      "ppvStartTime:\n",
      "  mean diff = 8.400; stdev diff = 7.552\n",
      "  Paired t-test:\n",
      "   *|diff| > 0: p = 0.090\n",
      "    diff < 0: p = 0.955\n",
      "  **diff > 0: p = 0.045\n",
      "  Wilcoxon signed-rank test:\n",
      "   *P(x > y) != 0.5: p = 0.078\n",
      "    P(x > y) < 0.5: p = 0.961\n",
      "  **P(x > y) > 0.5: p = 0.039\n",
      "ccStartTime:\n",
      "  mean diff = -11.200; stdev diff = 38.426\n",
      "  Paired t-test:\n",
      "    |diff| > 0: p = 0.591\n",
      "    diff < 0: p = 0.296\n",
      "    diff > 0: p = 0.704\n",
      "  Wilcoxon signed-rank test:\n",
      "    P(x > y) != 0.5: p = 0.593\n",
      "    P(x > y) < 0.5: p = 0.296\n",
      "    P(x > y) > 0.5: p = 0.704\n",
      "inSpO2TargetRangeStartTime:\n",
      "  mean diff = -15.200; stdev diff = 42.494\n",
      "  Paired t-test:\n",
      "    |diff| > 0: p = 0.514\n",
      "    diff < 0: p = 0.257\n",
      "    diff > 0: p = 0.743\n",
      "  Wilcoxon signed-rank test:\n",
      "    P(x > y) != 0.5: p = 0.593\n",
      "    P(x > y) < 0.5: p = 0.296\n",
      "    P(x > y) > 0.5: p = 0.704\n",
      "inSpO2TargetRangeDuration:\n",
      "  mean diff = 5.200; stdev diff = 28.103\n",
      "  Paired t-test:\n"
     ]
    },
    {
     "name": "stderr",
     "output_type": "stream",
     "text": [
      "/usr/lib/python3.6/site-packages/scipy/stats/morestats.py:2385: UserWarning: Warning: sample size too small for normal approximation.\n",
      "  warnings.warn(\"Warning: sample size too small for normal approximation.\")\n"
     ]
    },
    {
     "name": "stdout",
     "output_type": "stream",
     "text": [
      "    |diff| > 0: p = 0.730\n",
      "    diff < 0: p = 0.635\n",
      "    diff > 0: p = 0.365\n",
      "  Wilcoxon signed-rank test:\n",
      "    P(x > y) != 0.5: p = 1.000\n",
      "    P(x > y) < 0.5: p = 0.500\n",
      "    P(x > y) > 0.5: p = 0.500\n",
      "inSpO2LooseTargetRangeDuration:\n",
      "  mean diff = 10.000; stdev diff = 34.316\n",
      "  Paired t-test:\n",
      "    |diff| > 0: p = 0.591\n",
      "    diff < 0: p = 0.704\n",
      "    diff > 0: p = 0.296\n",
      "  Wilcoxon signed-rank test:\n",
      "    P(x > y) != 0.5: p = 0.593\n",
      "    P(x > y) < 0.5: p = 0.704\n",
      "    P(x > y) > 0.5: p = 0.296\n",
      "aboveSpO2TargetRangeDuration:\n",
      "  mean diff = 0.000; stdev diff = 0.000\n",
      "    Skipped t-test.\n",
      "    Skipped Wilcoxon test.\n",
      "belowSpO2TargetRangeDuration:\n",
      "  mean diff = -6.400; stdev diff = 29.486\n",
      "  Paired t-test:\n",
      "    |diff| > 0: p = 0.687\n",
      "    diff < 0: p = 0.343\n",
      "    diff > 0: p = 0.657\n",
      "  Wilcoxon signed-rank test:\n",
      "    P(x > y) != 0.5: p = 0.785\n",
      "    P(x > y) < 0.5: p = 0.393\n",
      "    P(x > y) > 0.5: p = 0.607\n",
      "inFiO2TargetRangeStartTime:\n",
      "  mean diff = -29.600; stdev diff = 55.647\n",
      "  Paired t-test:\n",
      "    |diff| > 0: p = 0.347\n",
      "   ~diff < 0: p = 0.174\n",
      "    diff > 0: p = 0.826\n",
      "  Wilcoxon signed-rank test:\n",
      "    P(x > y) != 0.5: p = 0.285\n",
      "   ~P(x > y) < 0.5: p = 0.143\n",
      "    P(x > y) > 0.5: p = 0.857\n",
      "inFiO2TargetRangeDuration:\n",
      "  mean diff = 22.800; stdev diff = 43.462\n",
      "  Paired t-test:\n",
      "    |diff| > 0: p = 0.353\n",
      "    diff < 0: p = 0.823\n",
      "   ~diff > 0: p = 0.177\n",
      "  Wilcoxon signed-rank test:\n",
      "    P(x > y) != 0.5: p = 0.285\n",
      "    P(x > y) < 0.5: p = 0.857\n",
      "   ~P(x > y) > 0.5: p = 0.143\n",
      "aboveFiO2TargetRangeDuration:\n",
      "  mean diff = 0.000; stdev diff = 0.000\n",
      "    Skipped t-test.\n",
      "    Skipped Wilcoxon test.\n",
      "belowFiO2TargetRangeDuration:\n",
      "  mean diff = -23.600; stdev diff = 44.854\n",
      "  Paired t-test:\n",
      "    |diff| > 0: p = 0.352\n",
      "   ~diff < 0: p = 0.176\n",
      "    diff > 0: p = 0.824\n",
      "  Wilcoxon signed-rank test:\n",
      "    P(x > y) != 0.5: p = 0.285\n",
      "   ~P(x > y) < 0.5: p = 0.143\n",
      "    P(x > y) > 0.5: p = 0.857\n",
      "spO2SignedErrorIntegral:\n",
      "  mean diff = 4.664; stdev diff = 12.068\n",
      "  Paired t-test:\n",
      "    |diff| > 0: p = 0.483\n",
      "    diff < 0: p = 0.759\n",
      "    diff > 0: p = 0.241\n",
      "  Wilcoxon signed-rank test:\n",
      "    P(x > y) != 0.5: p = 0.500\n",
      "    P(x > y) < 0.5: p = 0.750\n",
      "    P(x > y) > 0.5: p = 0.250\n",
      "spO2UnsignedErrorIntegral:\n",
      "  mean diff = -4.664; stdev diff = 12.068\n",
      "  Paired t-test:\n",
      "    |diff| > 0: p = 0.483\n",
      "    diff < 0: p = 0.241\n",
      "    diff > 0: p = 0.759\n",
      "  Wilcoxon signed-rank test:\n",
      "    P(x > y) != 0.5: p = 0.500\n",
      "    P(x > y) < 0.5: p = 0.250\n",
      "    P(x > y) > 0.5: p = 0.750\n",
      "spO2SquaredErrorIntegral:\n",
      "  mean diff = -1.582; stdev diff = 4.124\n",
      "  Paired t-test:\n",
      "    |diff| > 0: p = 0.486\n",
      "    diff < 0: p = 0.243\n",
      "    diff > 0: p = 0.757\n",
      "  Wilcoxon signed-rank test:\n",
      "    P(x > y) != 0.5: p = 0.500\n",
      "    P(x > y) < 0.5: p = 0.250\n",
      "    P(x > y) > 0.5: p = 0.750\n",
      "fiO2LargeAdjustments:\n",
      "  mean diff = 0.000; stdev diff = 1.095\n",
      "  Paired t-test:\n",
      "    |diff| > 0: p = 1.000\n",
      "    diff < 0: p = 0.500\n",
      "    diff > 0: p = 0.500\n",
      "  Wilcoxon signed-rank test:\n",
      "    P(x > y) != 0.5: p = 1.000\n",
      "    P(x > y) < 0.5: p = 0.500\n",
      "    P(x > y) > 0.5: p = 0.500\n"
     ]
    },
    {
     "name": "stderr",
     "output_type": "stream",
     "text": [
      "/usr/lib/python3.6/site-packages/scipy/stats/morestats.py:2410: RuntimeWarning: invalid value encountered in double_scalars\n",
      "  z = (T - mn - correction) / se\n"
     ]
    }
   ],
   "source": [
    "statistics.test_tracing_outcomes(error_display_pairings[1])"
   ]
  },
  {
   "cell_type": "markdown",
   "metadata": {},
   "source": [
    "Observations:\n",
    "\n",
    "* As before, we ignore the Wilcoxon signed-rank tests.\n",
    "* With the new display, participants start PPV significantly earlier but don't achieve significantly better outcomes."
   ]
  },
  {
   "cell_type": "markdown",
   "metadata": {},
   "source": [
    "#### Summary\n",
    "\n",
    "* The top 5 participants who accumulated the lowest SpO2 errors on the hard scenario were significantly helped by the display, but the bottom 5 participants who accumulated the highest SpO2 errors on the hard scenario weren't significantly helped by the display."
   ]
  },
  {
   "cell_type": "markdown",
   "metadata": {},
   "source": [
    "### Scenario Order Pairing, Split by Scenario"
   ]
  },
  {
   "cell_type": "code",
   "execution_count": 13,
   "metadata": {},
   "outputs": [
    {
     "ename": "NameError",
     "evalue": "name 'scenario_pairing' is not defined",
     "output_type": "error",
     "traceback": [
      "\u001b[0;31m---------------------------------------------------------------------------\u001b[0m",
      "\u001b[0;31mNameError\u001b[0m                                 Traceback (most recent call last)",
      "\u001b[0;32m<ipython-input-13-cc02b9bf7192>\u001b[0m in \u001b[0;36m<module>\u001b[0;34m()\u001b[0m\n\u001b[1;32m      1\u001b[0m scenario_order_pairings = {\n\u001b[0;32m----> 2\u001b[0;31m     \u001b[0;36m0\u001b[0m\u001b[0;34m:\u001b[0m \u001b[0mstatistics\u001b[0m\u001b[0;34m.\u001b[0m\u001b[0mbuild_pairing\u001b[0m\u001b[0;34m(\u001b[0m\u001b[0mscenario_pairing\u001b[0m\u001b[0;34m[\u001b[0m\u001b[0;36m0\u001b[0m\u001b[0;34m]\u001b[0m\u001b[0;34m,\u001b[0m \u001b[0;34m'scenarioNumber'\u001b[0m\u001b[0;34m,\u001b[0m \u001b[0mvalues\u001b[0m\u001b[0;34m=\u001b[0m\u001b[0;34m(\u001b[0m\u001b[0;36m1\u001b[0m\u001b[0;34m,\u001b[0m \u001b[0;36m4\u001b[0m\u001b[0;34m)\u001b[0m\u001b[0;34m,\u001b[0m \u001b[0mcheck_validity\u001b[0m\u001b[0;34m=\u001b[0m\u001b[0;32mFalse\u001b[0m\u001b[0;34m)\u001b[0m\u001b[0;34m,\u001b[0m\u001b[0;34m\u001b[0m\u001b[0m\n\u001b[0m\u001b[1;32m      3\u001b[0m     \u001b[0;36m1\u001b[0m\u001b[0;34m:\u001b[0m \u001b[0mstatistics\u001b[0m\u001b[0;34m.\u001b[0m\u001b[0mbuild_pairing\u001b[0m\u001b[0;34m(\u001b[0m\u001b[0mscenario_pairing\u001b[0m\u001b[0;34m[\u001b[0m\u001b[0;36m1\u001b[0m\u001b[0;34m]\u001b[0m\u001b[0;34m,\u001b[0m \u001b[0;34m'scenarioNumber'\u001b[0m\u001b[0;34m,\u001b[0m \u001b[0mvalues\u001b[0m\u001b[0;34m=\u001b[0m\u001b[0;34m(\u001b[0m\u001b[0;36m2\u001b[0m\u001b[0;34m,\u001b[0m \u001b[0;36m3\u001b[0m\u001b[0;34m)\u001b[0m\u001b[0;34m,\u001b[0m \u001b[0mcheck_validity\u001b[0m\u001b[0;34m=\u001b[0m\u001b[0;32mFalse\u001b[0m\u001b[0;34m)\u001b[0m\u001b[0;34m,\u001b[0m\u001b[0;34m\u001b[0m\u001b[0m\n\u001b[1;32m      4\u001b[0m }\n",
      "\u001b[0;31mNameError\u001b[0m: name 'scenario_pairing' is not defined"
     ]
    }
   ],
   "source": [
    "scenario_order_pairings = {\n",
    "    0: statistics.build_pairing(scenario_pairing[0], 'scenarioNumber', values=(1, 4), check_validity=False),\n",
    "    1: statistics.build_pairing(scenario_pairing[1], 'scenarioNumber', values=(2, 3), check_validity=False),\n",
    "}"
   ]
  },
  {
   "cell_type": "markdown",
   "metadata": {},
   "source": [
    "#### Easy Scenarios"
   ]
  },
  {
   "cell_type": "code",
   "execution_count": null,
   "metadata": {
    "scrolled": true
   },
   "outputs": [],
   "source": [
    "scenario_order_pairings[0].describe()"
   ]
  },
  {
   "cell_type": "code",
   "execution_count": null,
   "metadata": {
    "scrolled": true
   },
   "outputs": [],
   "source": [
    "statistics.test_gaze_duration_outcomes(scenario_order_pairings[0])"
   ]
  },
  {
   "cell_type": "markdown",
   "metadata": {},
   "source": [
    "Observations:\n",
    "\n",
    "* Participants in scenario 1 look more at the infant, less at the monitor, and maybe less at combined SpO2 compared to scenario 4.\n",
    "* These results suggest an adaptation effect between scenarios 1 and 4."
   ]
  },
  {
   "cell_type": "markdown",
   "metadata": {},
   "source": [
    "#### Hard Scenarios"
   ]
  },
  {
   "cell_type": "code",
   "execution_count": null,
   "metadata": {
    "scrolled": true
   },
   "outputs": [],
   "source": [
    "scenario_order_pairings[1].describe()"
   ]
  },
  {
   "cell_type": "code",
   "execution_count": null,
   "metadata": {},
   "outputs": [],
   "source": [
    "statistics.test_gaze_duration_outcomes(scenario_order_pairings[1])"
   ]
  },
  {
   "cell_type": "markdown",
   "metadata": {},
   "source": [
    "Observations:\n",
    "\n",
    "* Participants in scenario 2 look less at the blank part of the monitor, maybe more at the apgar timer, and maybe more at combined SpO2, and maybe less at the instrument panel compared to scenario 3.\n",
    "* These results are pretty weak but might suggest adaptation between scenarios 2 and 3."
   ]
  },
  {
   "cell_type": "markdown",
   "metadata": {},
   "source": [
    "#### Summary\n",
    "\n",
    "* There seems to be a learning effect between scenarios 1 and 4, but maybe not a strong effect between scenarios 2 and 3."
   ]
  }
 ],
 "metadata": {
  "kernelspec": {
   "display_name": "Python 3",
   "language": "python",
   "name": "python3"
  },
  "language_info": {
   "codemirror_mode": {
    "name": "ipython",
    "version": 3
   },
   "file_extension": ".py",
   "mimetype": "text/x-python",
   "name": "python",
   "nbconvert_exporter": "python",
   "pygments_lexer": "ipython3",
   "version": "3.6.4"
  }
 },
 "nbformat": 4,
 "nbformat_minor": 2
}
