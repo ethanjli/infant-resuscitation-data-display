{
 "cells": [
  {
   "cell_type": "markdown",
   "metadata": {},
   "source": [
    "# Imports"
   ]
  },
  {
   "cell_type": "code",
   "execution_count": 1,
   "metadata": {},
   "outputs": [],
   "source": [
    "%matplotlib inline\n",
    "%load_ext autoreload\n",
    "%autoreload 2\n",
    "\n",
    "import scipy as sp\n",
    "from scipy import stats\n",
    "import numpy as np\n",
    "import pandas as pd\n",
    "\n",
    "import statistics"
   ]
  },
  {
   "cell_type": "markdown",
   "metadata": {},
   "source": [
    "# Load Data"
   ]
  },
  {
   "cell_type": "code",
   "execution_count": 2,
   "metadata": {
    "scrolled": true
   },
   "outputs": [
    {
     "data": {
      "text/plain": [
       "Index(['subjectNumber', 'scenarioNumber', 'newAfterOld', 'scenarioType',\n",
       "       'displayType', 'sensorPlacementTime', 'ppvStartTime', 'ccStartTime',\n",
       "       'inSpO2TargetRangeDuration', 'inSpO2LooseTargetRangeDuration',\n",
       "       'inSpO2TargetRangeStartTime', 'aboveSpO2TargetRangeDuration',\n",
       "       'belowSpO2TargetRangeDuration', 'inFiO2TargetRangeDuration',\n",
       "       'inFiO2TargetRangeStartTime', 'aboveFiO2TargetRangeDuration',\n",
       "       'belowFiO2TargetRangeDuration', 'spO2SignedErrorIntegral',\n",
       "       'spO2UnsignedErrorIntegral', 'spO2SquaredErrorIntegral',\n",
       "       'fiO2LargeAdjustments', 'recording', 'code', 'education',\n",
       "       'cumulativeNICU', 'resusLD', 'resusLDnonzero', 'cumulativeNICU5',\n",
       "       'cumulativeNICU10', 'cumulativeNICU13', 'resusLD20'],\n",
       "      dtype='object')"
      ]
     },
     "execution_count": 2,
     "metadata": {},
     "output_type": "execute_result"
    }
   ],
   "source": [
    "demo_df = statistics.load_demographic_features()\n",
    "statistics.compute_demo_features(demo_df)\n",
    "tracing_df = statistics.load_tracing_features(sort='order')\n",
    "recording_df = statistics.load_recording_relations()\n",
    "recording_df = statistics.associate_demographics(recording_df, tracing_df, demo_df)\n",
    "#gaze_dfs = statistics.load_gaze_features()\n",
    "#statistics.check_gaze_recording_associations(recording_df, gaze_dfs)\n",
    "#statistics.compute_gaze_features(gaze_dfs)\n",
    "#gaze_df = statistics.combine_gaze_features(gaze_dfs)\n",
    "#full_df = statistics.combine_all_features(recording_df, gaze_df)\n",
    "full_df = recording_df\n",
    "full_df.columns"
   ]
  },
  {
   "cell_type": "markdown",
   "metadata": {},
   "source": [
    "### Scenario Type Split"
   ]
  },
  {
   "cell_type": "code",
   "execution_count": 3,
   "metadata": {},
   "outputs": [
    {
     "name": "stdout",
     "output_type": "stream",
     "text": [
      "Pairing against scenarioType:\n",
      "  0: easy vs. 1: hard\n",
      "  40 0 examples vs. 44 1 examples.\n",
      "  Paired t-test alternative hypotheses:\n",
      "    Ha left-tailed (diff < 0): mean 0 - mean 1 < 0\n",
      "    Ha two-tailed (|diff| > 0): mean 0 - mean 1 != 0\n",
      "    Ha right-tailed (diff > 0): mean 0 - mean 1 > 0\n"
     ]
    }
   ],
   "source": [
    "scenario_split = statistics.build_pairing(\n",
    "    full_df, 'scenarioType',\n",
    "    intersect_subjects=False, check_validity=False\n",
    ")\n",
    "scenario_split.describe()"
   ]
  },
  {
   "cell_type": "markdown",
   "metadata": {},
   "source": [
    "## Led resuscitations in L&D in past year?"
   ]
  },
  {
   "cell_type": "markdown",
   "metadata": {},
   "source": [
    "### Combined scenarios"
   ]
  },
  {
   "cell_type": "code",
   "execution_count": 4,
   "metadata": {},
   "outputs": [
    {
     "name": "stdout",
     "output_type": "stream",
     "text": [
      "10 0 and 12 1\n",
      "Pairing against resusLDnonzero:\n",
      "  0: noLDResusPastYear vs. 1: LDResusPastYear\n",
      "  38 0 examples vs. 42 1 examples.\n",
      "  Paired t-test alternative hypotheses:\n",
      "    Ha left-tailed (diff < 0): mean 0 - mean 1 < 0\n",
      "    Ha two-tailed (|diff| > 0): mean 0 - mean 1 != 0\n",
      "    Ha right-tailed (diff > 0): mean 0 - mean 1 > 0\n"
     ]
    }
   ],
   "source": [
    "resusLD_pairing = statistics.build_pairing(\n",
    "    full_df, 'resusLDnonzero',\n",
    "    intersect_subjects=False, check_validity=False\n",
    ")\n",
    "print('{} 0 and {} 1'.format(\n",
    "    len(resusLD_pairing[0].subjectNumber.unique()),\n",
    "    len(resusLD_pairing[1].subjectNumber.unique())\n",
    "))\n",
    "resusLD_pairing.describe()"
   ]
  },
  {
   "cell_type": "code",
   "execution_count": 5,
   "metadata": {
    "scrolled": true
   },
   "outputs": [
    {
     "name": "stdout",
     "output_type": "stream",
     "text": [
      "inSpO2TargetRangeDuration:\n",
      "  mean 0 = 23.105; mean 1 = 47.095\n",
      "  Independent t-test:\n",
      "  **|diff| > 0: p = 0.000\n",
      "  **diff < 0: p = 0.000\n",
      "    diff > 0: p = 1.000\n",
      "inSpO2LooseTargetRangeDuration:\n",
      "  mean 0 = 62.789; mean 1 = 80.952\n",
      "  Independent t-test:\n",
      "   *|diff| > 0: p = 0.051\n",
      "  **diff < 0: p = 0.026\n",
      "    diff > 0: p = 0.974\n"
     ]
    }
   ],
   "source": [
    "statistics.test_tracing_outcomes(resusLD_pairing, paired=False)"
   ]
  },
  {
   "cell_type": "markdown",
   "metadata": {},
   "source": [
    "### Easy Scenarios"
   ]
  },
  {
   "cell_type": "code",
   "execution_count": 6,
   "metadata": {
    "scrolled": true
   },
   "outputs": [
    {
     "name": "stdout",
     "output_type": "stream",
     "text": [
      "Pairing against resusLDnonzero:\n",
      "  0: noLDResusPastYear vs. 1: LDResusPastYear\n",
      "  18 0 examples vs. 20 1 examples.\n",
      "  Paired t-test alternative hypotheses:\n",
      "    Ha left-tailed (diff < 0): mean 0 - mean 1 < 0\n",
      "    Ha two-tailed (|diff| > 0): mean 0 - mean 1 != 0\n",
      "    Ha right-tailed (diff > 0): mean 0 - mean 1 > 0\n"
     ]
    }
   ],
   "source": [
    "resusLD_easy_pairing = statistics.build_pairing(\n",
    "    scenario_split[0], 'resusLDnonzero',\n",
    "    intersect_subjects=False, check_validity=False\n",
    ")\n",
    "resusLD_easy_pairing.describe()"
   ]
  },
  {
   "cell_type": "code",
   "execution_count": 7,
   "metadata": {
    "scrolled": true
   },
   "outputs": [
    {
     "name": "stdout",
     "output_type": "stream",
     "text": [
      "inSpO2TargetRangeDuration:\n",
      "  mean 0 = 24.889; mean 1 = 52.700\n",
      "  Independent t-test:\n",
      "  **|diff| > 0: p = 0.010\n",
      "  **diff < 0: p = 0.005\n",
      "    diff > 0: p = 0.995\n",
      "inSpO2LooseTargetRangeDuration:\n",
      "  mean 0 = 93.222; mean 1 = 102.800\n",
      "  Independent t-test:\n",
      "    |diff| > 0: p = 0.412\n",
      "    diff < 0: p = 0.206\n",
      "    diff > 0: p = 0.794\n"
     ]
    }
   ],
   "source": [
    "statistics.test_tracing_outcomes(resusLD_easy_pairing, paired=False)"
   ]
  },
  {
   "cell_type": "markdown",
   "metadata": {},
   "source": [
    "### Hard Scenarios"
   ]
  },
  {
   "cell_type": "code",
   "execution_count": 8,
   "metadata": {
    "scrolled": true
   },
   "outputs": [
    {
     "name": "stdout",
     "output_type": "stream",
     "text": [
      "Pairing against resusLDnonzero:\n",
      "  0: noLDResusPastYear vs. 1: LDResusPastYear\n",
      "  20 0 examples vs. 22 1 examples.\n",
      "  Paired t-test alternative hypotheses:\n",
      "    Ha left-tailed (diff < 0): mean 0 - mean 1 < 0\n",
      "    Ha two-tailed (|diff| > 0): mean 0 - mean 1 != 0\n",
      "    Ha right-tailed (diff > 0): mean 0 - mean 1 > 0\n"
     ]
    }
   ],
   "source": [
    "resusLD_hard_pairing = statistics.build_pairing(\n",
    "    scenario_split[1], 'resusLDnonzero',\n",
    "    intersect_subjects=False, check_validity=False\n",
    ")\n",
    "resusLD_hard_pairing.describe()"
   ]
  },
  {
   "cell_type": "code",
   "execution_count": 9,
   "metadata": {
    "scrolled": true
   },
   "outputs": [
    {
     "name": "stdout",
     "output_type": "stream",
     "text": [
      "inSpO2TargetRangeDuration:\n",
      "  mean 0 = 21.500; mean 1 = 42.000\n",
      "  Independent t-test:\n",
      "  **|diff| > 0: p = 0.017\n",
      "  **diff < 0: p = 0.008\n",
      "    diff > 0: p = 0.992\n",
      "inSpO2LooseTargetRangeDuration:\n",
      "  mean 0 = 35.400; mean 1 = 61.091\n",
      "  Independent t-test:\n",
      "  **|diff| > 0: p = 0.008\n",
      "  **diff < 0: p = 0.004\n",
      "    diff > 0: p = 0.996\n"
     ]
    }
   ],
   "source": [
    "statistics.test_tracing_outcomes(resusLD_hard_pairing, paired=False)"
   ]
  },
  {
   "cell_type": "markdown",
   "metadata": {},
   "source": [
    "## At least 10 years cumulative NICU experience?"
   ]
  },
  {
   "cell_type": "markdown",
   "metadata": {},
   "source": [
    "### Combined scenarios"
   ]
  },
  {
   "cell_type": "code",
   "execution_count": 10,
   "metadata": {},
   "outputs": [
    {
     "name": "stdout",
     "output_type": "stream",
     "text": [
      "9 0 and 13 1\n",
      "Pairing against cumulativeNICU10:\n",
      "  0: <10CumulativeNICUYears vs. 1: >=10CumulativeNICUYears\n",
      "  30 0 examples vs. 50 1 examples.\n",
      "  Paired t-test alternative hypotheses:\n",
      "    Ha left-tailed (diff < 0): mean 0 - mean 1 < 0\n",
      "    Ha two-tailed (|diff| > 0): mean 0 - mean 1 != 0\n",
      "    Ha right-tailed (diff > 0): mean 0 - mean 1 > 0\n"
     ]
    }
   ],
   "source": [
    "cumulativeNICU10_pairing = statistics.build_pairing(\n",
    "    full_df, 'cumulativeNICU10',\n",
    "    intersect_subjects=False, check_validity=False\n",
    ")\n",
    "print('{} 0 and {} 1'.format(\n",
    "    len(cumulativeNICU10_pairing[0].subjectNumber.unique()),\n",
    "    len(cumulativeNICU10_pairing[1].subjectNumber.unique())\n",
    "))\n",
    "cumulativeNICU10_pairing.describe()"
   ]
  },
  {
   "cell_type": "code",
   "execution_count": 11,
   "metadata": {
    "scrolled": true
   },
   "outputs": [
    {
     "name": "stdout",
     "output_type": "stream",
     "text": [
      "inSpO2TargetRangeDuration:\n",
      "  mean 0 = 30.133; mean 1 = 39.040\n",
      "  Independent t-test:\n",
      "    |diff| > 0: p = 0.216\n",
      "   ~diff < 0: p = 0.108\n",
      "    diff > 0: p = 0.892\n",
      "inSpO2LooseTargetRangeDuration:\n",
      "  mean 0 = 59.200; mean 1 = 80.200\n",
      "  Independent t-test:\n",
      "  **|diff| > 0: p = 0.028\n",
      "  **diff < 0: p = 0.014\n",
      "    diff > 0: p = 0.986\n"
     ]
    }
   ],
   "source": [
    "statistics.test_tracing_outcomes(cumulativeNICU10_pairing, paired=False)"
   ]
  },
  {
   "cell_type": "markdown",
   "metadata": {},
   "source": [
    "### Easy Scenarios"
   ]
  },
  {
   "cell_type": "code",
   "execution_count": 12,
   "metadata": {
    "scrolled": true
   },
   "outputs": [
    {
     "name": "stdout",
     "output_type": "stream",
     "text": [
      "Pairing against cumulativeNICU10:\n",
      "  0: <10CumulativeNICUYears vs. 1: >=10CumulativeNICUYears\n",
      "  14 0 examples vs. 24 1 examples.\n",
      "  Paired t-test alternative hypotheses:\n",
      "    Ha left-tailed (diff < 0): mean 0 - mean 1 < 0\n",
      "    Ha two-tailed (|diff| > 0): mean 0 - mean 1 != 0\n",
      "    Ha right-tailed (diff > 0): mean 0 - mean 1 > 0\n"
     ]
    }
   ],
   "source": [
    "cumulativeNICU10_easy_pairing = statistics.build_pairing(\n",
    "    scenario_split[0], 'cumulativeNICU10',\n",
    "    intersect_subjects=False, check_validity=False\n",
    ")\n",
    "cumulativeNICU10_easy_pairing.describe()"
   ]
  },
  {
   "cell_type": "code",
   "execution_count": 13,
   "metadata": {
    "scrolled": true
   },
   "outputs": [
    {
     "name": "stdout",
     "output_type": "stream",
     "text": [
      "inSpO2TargetRangeDuration:\n",
      "  mean 0 = 30.571; mean 1 = 44.750\n",
      "  Independent t-test:\n",
      "    |diff| > 0: p = 0.218\n",
      "   ~diff < 0: p = 0.109\n",
      "    diff > 0: p = 0.891\n",
      "inSpO2LooseTargetRangeDuration:\n",
      "  mean 0 = 81.429; mean 1 = 108.083\n",
      "  Independent t-test:\n",
      "  **|diff| > 0: p = 0.023\n",
      "  **diff < 0: p = 0.011\n",
      "    diff > 0: p = 0.989\n"
     ]
    }
   ],
   "source": [
    "statistics.test_tracing_outcomes(cumulativeNICU10_easy_pairing, paired=False)"
   ]
  },
  {
   "cell_type": "markdown",
   "metadata": {},
   "source": [
    "### Hard Scenarios"
   ]
  },
  {
   "cell_type": "code",
   "execution_count": 14,
   "metadata": {
    "scrolled": true
   },
   "outputs": [
    {
     "name": "stdout",
     "output_type": "stream",
     "text": [
      "Pairing against cumulativeNICU10:\n",
      "  0: <10CumulativeNICUYears vs. 1: >=10CumulativeNICUYears\n",
      "  16 0 examples vs. 26 1 examples.\n",
      "  Paired t-test alternative hypotheses:\n",
      "    Ha left-tailed (diff < 0): mean 0 - mean 1 < 0\n",
      "    Ha two-tailed (|diff| > 0): mean 0 - mean 1 != 0\n",
      "    Ha right-tailed (diff > 0): mean 0 - mean 1 > 0\n"
     ]
    }
   ],
   "source": [
    "cumulativeNICU10_hard_pairing = statistics.build_pairing(\n",
    "    scenario_split[1], 'cumulativeNICU10',\n",
    "    intersect_subjects=False, check_validity=False\n",
    ")\n",
    "cumulativeNICU10_hard_pairing.describe()"
   ]
  },
  {
   "cell_type": "code",
   "execution_count": 15,
   "metadata": {
    "scrolled": true
   },
   "outputs": [
    {
     "name": "stdout",
     "output_type": "stream",
     "text": [
      "inSpO2TargetRangeDuration:\n",
      "  mean 0 = 29.750; mean 1 = 33.769\n",
      "  Independent t-test:\n",
      "    |diff| > 0: p = 0.659\n",
      "    diff < 0: p = 0.330\n",
      "    diff > 0: p = 0.670\n",
      "inSpO2LooseTargetRangeDuration:\n",
      "  mean 0 = 39.750; mean 1 = 54.462\n",
      "  Independent t-test:\n",
      "   ~|diff| > 0: p = 0.153\n",
      "   *diff < 0: p = 0.076\n",
      "    diff > 0: p = 0.924\n"
     ]
    }
   ],
   "source": [
    "statistics.test_tracing_outcomes(cumulativeNICU10_hard_pairing, paired=False)"
   ]
  },
  {
   "cell_type": "markdown",
   "metadata": {},
   "source": [
    "## RN vs. MD\n",
    "Note that only one MD had not performed a resuscitation in L&D in the past year, and only 3 RNs had performed a resuscitation in L&D in the past year."
   ]
  },
  {
   "cell_type": "markdown",
   "metadata": {},
   "source": [
    "### Combined scenarios"
   ]
  },
  {
   "cell_type": "code",
   "execution_count": 16,
   "metadata": {},
   "outputs": [
    {
     "name": "stdout",
     "output_type": "stream",
     "text": [
      "11 0 and 11 1\n",
      "MDs: [ 4  5  6  7  9 14 15 16 17 19 23]\n",
      "RNs: [ 8 10 11 12 13 20 21 22 25 28 29]\n",
      "Pairing against education:\n",
      "  0: RN vs. 1: MD\n",
      "  42 0 examples vs. 38 1 examples.\n",
      "  Paired t-test alternative hypotheses:\n",
      "    Ha left-tailed (diff < 0): mean 0 - mean 1 < 0\n",
      "    Ha two-tailed (|diff| > 0): mean 0 - mean 1 != 0\n",
      "    Ha right-tailed (diff > 0): mean 0 - mean 1 > 0\n"
     ]
    }
   ],
   "source": [
    "education_pairing = statistics.build_pairing(\n",
    "    full_df, 'education',\n",
    "    intersect_subjects=False, check_validity=False\n",
    ")\n",
    "print('{} 0 and {} 1'.format(\n",
    "    len(education_pairing[0].subjectNumber.unique()),\n",
    "    len(education_pairing[1].subjectNumber.unique())\n",
    "))\n",
    "print('MDs: {}'.format(education_pairing[1].subjectNumber.unique()))\n",
    "print('RNs: {}'.format(education_pairing[0].subjectNumber.unique()))\n",
    "education_pairing.describe()"
   ]
  },
  {
   "cell_type": "code",
   "execution_count": 17,
   "metadata": {
    "scrolled": true
   },
   "outputs": [
    {
     "name": "stdout",
     "output_type": "stream",
     "text": [
      "inSpO2TargetRangeDuration:\n",
      "  mean 0 = 25.857; mean 1 = 46.579\n",
      "  Independent t-test:\n",
      "  **|diff| > 0: p = 0.002\n",
      "  **diff < 0: p = 0.001\n",
      "    diff > 0: p = 0.999\n",
      "inSpO2LooseTargetRangeDuration:\n",
      "  mean 0 = 64.714; mean 1 = 80.737\n",
      "  Independent t-test:\n",
      "   *|diff| > 0: p = 0.086\n",
      "  **diff < 0: p = 0.043\n",
      "    diff > 0: p = 0.957\n"
     ]
    }
   ],
   "source": [
    "statistics.test_tracing_outcomes(education_pairing, paired=False)"
   ]
  },
  {
   "cell_type": "markdown",
   "metadata": {},
   "source": [
    "### Easy Scenarios"
   ]
  },
  {
   "cell_type": "code",
   "execution_count": 18,
   "metadata": {
    "scrolled": true
   },
   "outputs": [
    {
     "name": "stdout",
     "output_type": "stream",
     "text": [
      "Pairing against education:\n",
      "  0: RN vs. 1: MD\n",
      "  20 0 examples vs. 18 1 examples.\n",
      "  Paired t-test alternative hypotheses:\n",
      "    Ha left-tailed (diff < 0): mean 0 - mean 1 < 0\n",
      "    Ha two-tailed (|diff| > 0): mean 0 - mean 1 != 0\n",
      "    Ha right-tailed (diff > 0): mean 0 - mean 1 > 0\n"
     ]
    }
   ],
   "source": [
    "education_easy_pairing = statistics.build_pairing(\n",
    "    scenario_split[0], 'education',\n",
    "    intersect_subjects=False, check_validity=False\n",
    ")\n",
    "education_easy_pairing.describe()"
   ]
  },
  {
   "cell_type": "code",
   "execution_count": 19,
   "metadata": {
    "scrolled": true
   },
   "outputs": [
    {
     "name": "stdout",
     "output_type": "stream",
     "text": [
      "inSpO2TargetRangeDuration:\n",
      "  mean 0 = 27.300; mean 1 = 53.111\n",
      "  Independent t-test:\n",
      "  **|diff| > 0: p = 0.017\n",
      "  **diff < 0: p = 0.008\n",
      "    diff > 0: p = 0.992\n",
      "inSpO2LooseTargetRangeDuration:\n",
      "  mean 0 = 93.500; mean 1 = 103.556\n",
      "  Independent t-test:\n",
      "    |diff| > 0: p = 0.389\n",
      "   ~diff < 0: p = 0.194\n",
      "    diff > 0: p = 0.806\n"
     ]
    }
   ],
   "source": [
    "statistics.test_tracing_outcomes(education_easy_pairing, paired=False)"
   ]
  },
  {
   "cell_type": "markdown",
   "metadata": {},
   "source": [
    "### Hard Scenarios"
   ]
  },
  {
   "cell_type": "code",
   "execution_count": 20,
   "metadata": {
    "scrolled": true
   },
   "outputs": [
    {
     "name": "stdout",
     "output_type": "stream",
     "text": [
      "Pairing against education:\n",
      "  0: RN vs. 1: MD\n",
      "  22 0 examples vs. 20 1 examples.\n",
      "  Paired t-test alternative hypotheses:\n",
      "    Ha left-tailed (diff < 0): mean 0 - mean 1 < 0\n",
      "    Ha two-tailed (|diff| > 0): mean 0 - mean 1 != 0\n",
      "    Ha right-tailed (diff > 0): mean 0 - mean 1 > 0\n"
     ]
    }
   ],
   "source": [
    "education_hard_pairing = statistics.build_pairing(\n",
    "    scenario_split[1], 'education',\n",
    "    intersect_subjects=False, check_validity=False\n",
    ")\n",
    "education_hard_pairing.describe()"
   ]
  },
  {
   "cell_type": "code",
   "execution_count": 21,
   "metadata": {
    "scrolled": true
   },
   "outputs": [
    {
     "name": "stdout",
     "output_type": "stream",
     "text": [
      "inSpO2TargetRangeDuration:\n",
      "  mean 0 = 24.545; mean 1 = 40.700\n",
      "  Independent t-test:\n",
      "   *|diff| > 0: p = 0.063\n",
      "  **diff < 0: p = 0.031\n",
      "    diff > 0: p = 0.969\n",
      "inSpO2LooseTargetRangeDuration:\n",
      "  mean 0 = 38.545; mean 1 = 60.200\n",
      "  Independent t-test:\n",
      "  **|diff| > 0: p = 0.028\n",
      "  **diff < 0: p = 0.014\n",
      "    diff > 0: p = 0.986\n"
     ]
    }
   ],
   "source": [
    "statistics.test_tracing_outcomes(education_hard_pairing, paired=False)"
   ]
  },
  {
   "cell_type": "markdown",
   "metadata": {},
   "source": [
    "## MD: Cumulative years NICU experience, split at 5"
   ]
  },
  {
   "cell_type": "markdown",
   "metadata": {},
   "source": [
    "### Combined scenarios"
   ]
  },
  {
   "cell_type": "code",
   "execution_count": 22,
   "metadata": {},
   "outputs": [
    {
     "name": "stdout",
     "output_type": "stream",
     "text": [
      "Pairing against cumulativeNICU5:\n",
      "  0: <5CumulativeNICUYears vs. 1: >=5CumulativeNICUYears\n",
      "  16 0 examples vs. 22 1 examples.\n",
      "  Paired t-test alternative hypotheses:\n",
      "    Ha left-tailed (diff < 0): mean 0 - mean 1 < 0\n",
      "    Ha two-tailed (|diff| > 0): mean 0 - mean 1 != 0\n",
      "    Ha right-tailed (diff > 0): mean 0 - mean 1 > 0\n"
     ]
    }
   ],
   "source": [
    "md_cumulativeNICU5_pairing = statistics.build_pairing(\n",
    "    education_pairing[1], 'cumulativeNICU5',\n",
    "    intersect_subjects=False, check_validity=False\n",
    ")\n",
    "md_cumulativeNICU5_pairing.describe()"
   ]
  },
  {
   "cell_type": "code",
   "execution_count": 23,
   "metadata": {
    "scrolled": true
   },
   "outputs": [
    {
     "name": "stdout",
     "output_type": "stream",
     "text": [
      "inSpO2TargetRangeDuration:\n",
      "  mean 0 = 33.750; mean 1 = 55.909\n",
      "  Independent t-test:\n",
      "  **|diff| > 0: p = 0.027\n",
      "  **diff < 0: p = 0.013\n",
      "    diff > 0: p = 0.987\n",
      "inSpO2LooseTargetRangeDuration:\n",
      "  mean 0 = 63.875; mean 1 = 93.000\n",
      "  Independent t-test:\n",
      "  **|diff| > 0: p = 0.018\n",
      "  **diff < 0: p = 0.009\n",
      "    diff > 0: p = 0.991\n"
     ]
    }
   ],
   "source": [
    "statistics.test_tracing_outcomes(md_cumulativeNICU5_pairing, paired=False)"
   ]
  },
  {
   "cell_type": "markdown",
   "metadata": {},
   "source": [
    "### Easy Scenarios"
   ]
  },
  {
   "cell_type": "code",
   "execution_count": 24,
   "metadata": {
    "scrolled": true
   },
   "outputs": [
    {
     "name": "stdout",
     "output_type": "stream",
     "text": [
      "Pairing against cumulativeNICU5:\n",
      "  0: <5CumulativeNICUYears vs. 1: >=5CumulativeNICUYears\n",
      "  8 0 examples vs. 10 1 examples.\n",
      "  Paired t-test alternative hypotheses:\n",
      "    Ha left-tailed (diff < 0): mean 0 - mean 1 < 0\n",
      "    Ha two-tailed (|diff| > 0): mean 0 - mean 1 != 0\n",
      "    Ha right-tailed (diff > 0): mean 0 - mean 1 > 0\n"
     ]
    }
   ],
   "source": [
    "md_cumulativeNICU5_easy_pairing = statistics.build_pairing(\n",
    "    education_easy_pairing[1], 'cumulativeNICU5',\n",
    "    intersect_subjects=False, check_validity=False\n",
    ")\n",
    "md_cumulativeNICU5_easy_pairing.describe()"
   ]
  },
  {
   "cell_type": "code",
   "execution_count": 25,
   "metadata": {
    "scrolled": true
   },
   "outputs": [
    {
     "name": "stdout",
     "output_type": "stream",
     "text": [
      "inSpO2TargetRangeDuration:\n",
      "  mean 0 = 30.000; mean 1 = 71.600\n",
      "  Independent t-test:\n",
      "  **|diff| > 0: p = 0.004\n",
      "  **diff < 0: p = 0.002\n",
      "    diff > 0: p = 0.998\n",
      "inSpO2LooseTargetRangeDuration:\n",
      "  mean 0 = 77.500; mean 1 = 124.400\n",
      "  Independent t-test:\n",
      "  **|diff| > 0: p = 0.000\n",
      "  **diff < 0: p = 0.000\n",
      "    diff > 0: p = 1.000\n"
     ]
    }
   ],
   "source": [
    "statistics.test_tracing_outcomes(md_cumulativeNICU5_easy_pairing, paired=False)"
   ]
  },
  {
   "cell_type": "markdown",
   "metadata": {},
   "source": [
    "### Hard Scenarios"
   ]
  },
  {
   "cell_type": "code",
   "execution_count": 26,
   "metadata": {
    "scrolled": true
   },
   "outputs": [
    {
     "name": "stdout",
     "output_type": "stream",
     "text": [
      "Pairing against cumulativeNICU5:\n",
      "  0: <5CumulativeNICUYears vs. 1: >=5CumulativeNICUYears\n",
      "  8 0 examples vs. 12 1 examples.\n",
      "  Paired t-test alternative hypotheses:\n",
      "    Ha left-tailed (diff < 0): mean 0 - mean 1 < 0\n",
      "    Ha two-tailed (|diff| > 0): mean 0 - mean 1 != 0\n",
      "    Ha right-tailed (diff > 0): mean 0 - mean 1 > 0\n"
     ]
    }
   ],
   "source": [
    "md_cumulativeNICU5_hard_pairing = statistics.build_pairing(\n",
    "    education_hard_pairing[1], 'cumulativeNICU5',\n",
    "    intersect_subjects=False, check_validity=False\n",
    ")\n",
    "md_cumulativeNICU5_hard_pairing.describe()"
   ]
  },
  {
   "cell_type": "code",
   "execution_count": 27,
   "metadata": {
    "scrolled": true
   },
   "outputs": [
    {
     "name": "stdout",
     "output_type": "stream",
     "text": [
      "inSpO2TargetRangeDuration:\n",
      "  mean 0 = 37.500; mean 1 = 42.833\n",
      "  Independent t-test:\n",
      "    |diff| > 0: p = 0.693\n",
      "    diff < 0: p = 0.346\n",
      "    diff > 0: p = 0.654\n",
      "inSpO2LooseTargetRangeDuration:\n",
      "  mean 0 = 50.250; mean 1 = 66.833\n",
      "  Independent t-test:\n",
      "    |diff| > 0: p = 0.247\n",
      "   ~diff < 0: p = 0.123\n",
      "    diff > 0: p = 0.877\n"
     ]
    }
   ],
   "source": [
    "statistics.test_tracing_outcomes(md_cumulativeNICU5_hard_pairing, paired=False)"
   ]
  },
  {
   "cell_type": "markdown",
   "metadata": {},
   "source": [
    "## MD: Cumulative years NICU experience, split at 10"
   ]
  },
  {
   "cell_type": "markdown",
   "metadata": {},
   "source": [
    "### Combined scenarios"
   ]
  },
  {
   "cell_type": "code",
   "execution_count": 28,
   "metadata": {},
   "outputs": [
    {
     "name": "stdout",
     "output_type": "stream",
     "text": [
      "Pairing against cumulativeNICU10:\n",
      "  0: <10CumulativeNICUYears vs. 1: >=10CumulativeNICUYears\n",
      "  20 0 examples vs. 18 1 examples.\n",
      "  Paired t-test alternative hypotheses:\n",
      "    Ha left-tailed (diff < 0): mean 0 - mean 1 < 0\n",
      "    Ha two-tailed (|diff| > 0): mean 0 - mean 1 != 0\n",
      "    Ha right-tailed (diff > 0): mean 0 - mean 1 > 0\n"
     ]
    }
   ],
   "source": [
    "md_cumulativeNICU10_pairing = statistics.build_pairing(\n",
    "    education_pairing[1], 'cumulativeNICU10',\n",
    "    intersect_subjects=False, check_validity=False\n",
    ")\n",
    "md_cumulativeNICU10_pairing.describe()"
   ]
  },
  {
   "cell_type": "code",
   "execution_count": 29,
   "metadata": {
    "scrolled": true
   },
   "outputs": [
    {
     "name": "stdout",
     "output_type": "stream",
     "text": [
      "inSpO2TargetRangeDuration:\n",
      "  mean 0 = 39.900; mean 1 = 54.000\n",
      "  Independent t-test:\n",
      "   ~|diff| > 0: p = 0.162\n",
      "   *diff < 0: p = 0.081\n",
      "    diff > 0: p = 0.919\n",
      "inSpO2LooseTargetRangeDuration:\n",
      "  mean 0 = 70.800; mean 1 = 91.778\n",
      "  Independent t-test:\n",
      "   *|diff| > 0: p = 0.090\n",
      "  **diff < 0: p = 0.045\n",
      "    diff > 0: p = 0.955\n"
     ]
    }
   ],
   "source": [
    "statistics.test_tracing_outcomes(md_cumulativeNICU10_pairing, paired=False)"
   ]
  },
  {
   "cell_type": "markdown",
   "metadata": {},
   "source": [
    "### Easy Scenarios"
   ]
  },
  {
   "cell_type": "code",
   "execution_count": 30,
   "metadata": {
    "scrolled": true
   },
   "outputs": [
    {
     "name": "stdout",
     "output_type": "stream",
     "text": [
      "Pairing against cumulativeNICU10:\n",
      "  0: <10CumulativeNICUYears vs. 1: >=10CumulativeNICUYears\n",
      "  10 0 examples vs. 8 1 examples.\n",
      "  Paired t-test alternative hypotheses:\n",
      "    Ha left-tailed (diff < 0): mean 0 - mean 1 < 0\n",
      "    Ha two-tailed (|diff| > 0): mean 0 - mean 1 != 0\n",
      "    Ha right-tailed (diff > 0): mean 0 - mean 1 > 0\n"
     ]
    }
   ],
   "source": [
    "md_cumulativeNICU10_easy_pairing = statistics.build_pairing(\n",
    "    education_easy_pairing[1], 'cumulativeNICU10',\n",
    "    intersect_subjects=False, check_validity=False\n",
    ")\n",
    "md_cumulativeNICU10_easy_pairing.describe()"
   ]
  },
  {
   "cell_type": "code",
   "execution_count": 31,
   "metadata": {
    "scrolled": true
   },
   "outputs": [
    {
     "name": "stdout",
     "output_type": "stream",
     "text": [
      "inSpO2TargetRangeDuration:\n",
      "  mean 0 = 41.000; mean 1 = 68.250\n",
      "  Independent t-test:\n",
      "   *|diff| > 0: p = 0.079\n",
      "  **diff < 0: p = 0.040\n",
      "    diff > 0: p = 0.960\n",
      "inSpO2LooseTargetRangeDuration:\n",
      "  mean 0 = 90.200; mean 1 = 120.250\n",
      "  Independent t-test:\n",
      "  **|diff| > 0: p = 0.047\n",
      "  **diff < 0: p = 0.023\n",
      "    diff > 0: p = 0.977\n"
     ]
    }
   ],
   "source": [
    "statistics.test_tracing_outcomes(md_cumulativeNICU10_easy_pairing, paired=False)"
   ]
  },
  {
   "cell_type": "markdown",
   "metadata": {},
   "source": [
    "### Hard Scenarios"
   ]
  },
  {
   "cell_type": "code",
   "execution_count": 32,
   "metadata": {
    "scrolled": true
   },
   "outputs": [
    {
     "name": "stdout",
     "output_type": "stream",
     "text": [
      "Pairing against cumulativeNICU10:\n",
      "  0: <10CumulativeNICUYears vs. 1: >=10CumulativeNICUYears\n",
      "  10 0 vs. 1 pairs.\n",
      "  Paired t-test alternative hypotheses:\n",
      "    Ha left-tailed (diff < 0): mean 0 - mean 1 < 0\n",
      "    Ha two-tailed (|diff| > 0): mean 0 - mean 1 != 0\n",
      "    Ha right-tailed (diff > 0): mean 0 - mean 1 > 0\n"
     ]
    }
   ],
   "source": [
    "md_cumulativeNICU10_hard_pairing = statistics.build_pairing(\n",
    "    education_hard_pairing[1], 'cumulativeNICU10',\n",
    "    intersect_subjects=False, check_validity=False\n",
    ")\n",
    "md_cumulativeNICU10_hard_pairing.describe()"
   ]
  },
  {
   "cell_type": "code",
   "execution_count": 33,
   "metadata": {
    "scrolled": true
   },
   "outputs": [
    {
     "name": "stdout",
     "output_type": "stream",
     "text": [
      "inSpO2TargetRangeDuration:\n",
      "  mean 0 = 38.800; mean 1 = 42.600\n",
      "  Independent t-test:\n",
      "    |diff| > 0: p = 0.774\n",
      "    diff < 0: p = 0.387\n",
      "    diff > 0: p = 0.613\n",
      "inSpO2LooseTargetRangeDuration:\n",
      "  mean 0 = 51.400; mean 1 = 69.000\n",
      "  Independent t-test:\n",
      "    |diff| > 0: p = 0.208\n",
      "   ~diff < 0: p = 0.104\n",
      "    diff > 0: p = 0.896\n"
     ]
    }
   ],
   "source": [
    "statistics.test_tracing_outcomes(md_cumulativeNICU10_hard_pairing, paired=False)"
   ]
  },
  {
   "cell_type": "markdown",
   "metadata": {},
   "source": [
    "## RN: Cumulative years NICU experience, split at 13"
   ]
  },
  {
   "cell_type": "markdown",
   "metadata": {},
   "source": [
    "### Combined scenarios"
   ]
  },
  {
   "cell_type": "code",
   "execution_count": 34,
   "metadata": {},
   "outputs": [
    {
     "name": "stdout",
     "output_type": "stream",
     "text": [
      "Pairing against cumulativeNICU13:\n",
      "  0: <13CumulativeNICUYears vs. 1: >=13CumulativeNICUYears\n",
      "  18 0 examples vs. 24 1 examples.\n",
      "  Paired t-test alternative hypotheses:\n",
      "    Ha left-tailed (diff < 0): mean 0 - mean 1 < 0\n",
      "    Ha two-tailed (|diff| > 0): mean 0 - mean 1 != 0\n",
      "    Ha right-tailed (diff > 0): mean 0 - mean 1 > 0\n"
     ]
    }
   ],
   "source": [
    "rn_cumulativeNICU13_pairing = statistics.build_pairing(\n",
    "    education_pairing[0], 'cumulativeNICU13',\n",
    "    intersect_subjects=False, check_validity=False\n",
    ")\n",
    "rn_cumulativeNICU13_pairing.describe()"
   ]
  },
  {
   "cell_type": "code",
   "execution_count": 35,
   "metadata": {
    "scrolled": true
   },
   "outputs": [
    {
     "name": "stdout",
     "output_type": "stream",
     "text": [
      "inSpO2TargetRangeDuration:\n",
      "  mean 0 = 18.556; mean 1 = 31.333\n",
      "  Independent t-test:\n",
      "   ~|diff| > 0: p = 0.147\n",
      "   *diff < 0: p = 0.074\n",
      "    diff > 0: p = 0.926\n",
      "inSpO2LooseTargetRangeDuration:\n",
      "  mean 0 = 56.667; mean 1 = 70.750\n",
      "  Independent t-test:\n",
      "    |diff| > 0: p = 0.309\n",
      "   ~diff < 0: p = 0.154\n",
      "    diff > 0: p = 0.846\n"
     ]
    }
   ],
   "source": [
    "statistics.test_tracing_outcomes(rn_cumulativeNICU13_pairing, paired=False)"
   ]
  },
  {
   "cell_type": "markdown",
   "metadata": {},
   "source": [
    "### Easy Scenarios"
   ]
  },
  {
   "cell_type": "code",
   "execution_count": 36,
   "metadata": {
    "scrolled": true
   },
   "outputs": [
    {
     "name": "stdout",
     "output_type": "stream",
     "text": [
      "Pairing against cumulativeNICU13:\n",
      "  0: <13CumulativeNICUYears vs. 1: >=13CumulativeNICUYears\n",
      "  8 0 examples vs. 12 1 examples.\n",
      "  Paired t-test alternative hypotheses:\n",
      "    Ha left-tailed (diff < 0): mean 0 - mean 1 < 0\n",
      "    Ha two-tailed (|diff| > 0): mean 0 - mean 1 != 0\n",
      "    Ha right-tailed (diff > 0): mean 0 - mean 1 > 0\n"
     ]
    }
   ],
   "source": [
    "rn_cumulativeNICU13_easy_pairing = statistics.build_pairing(\n",
    "    education_easy_pairing[0], 'cumulativeNICU13',\n",
    "    intersect_subjects=False, check_validity=False\n",
    ")\n",
    "rn_cumulativeNICU13_easy_pairing.describe()"
   ]
  },
  {
   "cell_type": "code",
   "execution_count": 37,
   "metadata": {
    "scrolled": true
   },
   "outputs": [
    {
     "name": "stdout",
     "output_type": "stream",
     "text": [
      "inSpO2TargetRangeDuration:\n",
      "  mean 0 = 22.500; mean 1 = 30.500\n",
      "  Independent t-test:\n",
      "    |diff| > 0: p = 0.582\n",
      "    diff < 0: p = 0.291\n",
      "    diff > 0: p = 0.709\n",
      "inSpO2LooseTargetRangeDuration:\n",
      "  mean 0 = 91.500; mean 1 = 94.833\n",
      "  Independent t-test:\n",
      "    |diff| > 0: p = 0.854\n",
      "    diff < 0: p = 0.427\n",
      "    diff > 0: p = 0.573\n"
     ]
    }
   ],
   "source": [
    "statistics.test_tracing_outcomes(rn_cumulativeNICU13_easy_pairing, paired=False)"
   ]
  },
  {
   "cell_type": "markdown",
   "metadata": {},
   "source": [
    "### Hard Scenarios"
   ]
  },
  {
   "cell_type": "code",
   "execution_count": 38,
   "metadata": {
    "scrolled": true
   },
   "outputs": [
    {
     "name": "stdout",
     "output_type": "stream",
     "text": [
      "Pairing against cumulativeNICU13:\n",
      "  0: <13CumulativeNICUYears vs. 1: >=13CumulativeNICUYears\n",
      "  10 0 examples vs. 12 1 examples.\n",
      "  Paired t-test alternative hypotheses:\n",
      "    Ha left-tailed (diff < 0): mean 0 - mean 1 < 0\n",
      "    Ha two-tailed (|diff| > 0): mean 0 - mean 1 != 0\n",
      "    Ha right-tailed (diff > 0): mean 0 - mean 1 > 0\n"
     ]
    }
   ],
   "source": [
    "rn_cumulativeNICU13_hard_pairing = statistics.build_pairing(\n",
    "    education_hard_pairing[0], 'cumulativeNICU13',\n",
    "    intersect_subjects=False, check_validity=False\n",
    ")\n",
    "rn_cumulativeNICU13_hard_pairing.describe()"
   ]
  },
  {
   "cell_type": "code",
   "execution_count": 39,
   "metadata": {
    "scrolled": true
   },
   "outputs": [
    {
     "name": "stdout",
     "output_type": "stream",
     "text": [
      "inSpO2TargetRangeDuration:\n",
      "  mean 0 = 15.400; mean 1 = 32.167\n",
      "  Independent t-test:\n",
      "   ~|diff| > 0: p = 0.139\n",
      "   *diff < 0: p = 0.070\n",
      "    diff > 0: p = 0.930\n",
      "inSpO2LooseTargetRangeDuration:\n",
      "  mean 0 = 28.800; mean 1 = 46.667\n",
      "  Independent t-test:\n",
      "   ~|diff| > 0: p = 0.179\n",
      "   *diff < 0: p = 0.090\n",
      "    diff > 0: p = 0.910\n"
     ]
    }
   ],
   "source": [
    "statistics.test_tracing_outcomes(rn_cumulativeNICU13_hard_pairing, paired=False)"
   ]
  },
  {
   "cell_type": "markdown",
   "metadata": {},
   "source": [
    "## MD: Resuscitations in L&D in past year, split at 20"
   ]
  },
  {
   "cell_type": "markdown",
   "metadata": {},
   "source": [
    "### Combined scenarios"
   ]
  },
  {
   "cell_type": "code",
   "execution_count": 40,
   "metadata": {},
   "outputs": [
    {
     "name": "stdout",
     "output_type": "stream",
     "text": [
      "Pairing against resusLD20:\n",
      "  0: <20LDResusPastYear vs. 1: >=20LDResusPastYear\n",
      "  24 0 examples vs. 14 1 examples.\n",
      "  Paired t-test alternative hypotheses:\n",
      "    Ha left-tailed (diff < 0): mean 0 - mean 1 < 0\n",
      "    Ha two-tailed (|diff| > 0): mean 0 - mean 1 != 0\n",
      "    Ha right-tailed (diff > 0): mean 0 - mean 1 > 0\n"
     ]
    }
   ],
   "source": [
    "md_resusLD20_pairing = statistics.build_pairing(\n",
    "    education_pairing[1], 'resusLD20',\n",
    "    intersect_subjects=False, check_validity=False\n",
    ")\n",
    "md_resusLD20_pairing.describe()"
   ]
  },
  {
   "cell_type": "code",
   "execution_count": 41,
   "metadata": {
    "scrolled": true
   },
   "outputs": [
    {
     "name": "stdout",
     "output_type": "stream",
     "text": [
      "inSpO2TargetRangeDuration:\n",
      "  mean 0 = 46.583; mean 1 = 46.571\n",
      "  Independent t-test:\n",
      "    |diff| > 0: p = 0.999\n",
      "    diff < 0: p = 0.500\n",
      "    diff > 0: p = 0.500\n",
      "inSpO2LooseTargetRangeDuration:\n",
      "  mean 0 = 76.833; mean 1 = 87.429\n",
      "  Independent t-test:\n",
      "    |diff| > 0: p = 0.415\n",
      "    diff < 0: p = 0.207\n",
      "    diff > 0: p = 0.793\n"
     ]
    }
   ],
   "source": [
    "statistics.test_tracing_outcomes(md_resusLD20_pairing, paired=False)"
   ]
  },
  {
   "cell_type": "markdown",
   "metadata": {},
   "source": [
    "### Easy Scenarios"
   ]
  },
  {
   "cell_type": "code",
   "execution_count": 42,
   "metadata": {
    "scrolled": true
   },
   "outputs": [
    {
     "name": "stdout",
     "output_type": "stream",
     "text": [
      "Pairing against resusLD20:\n",
      "  0: <20LDResusPastYear vs. 1: >=20LDResusPastYear\n",
      "  12 0 examples vs. 6 1 examples.\n",
      "  Paired t-test alternative hypotheses:\n",
      "    Ha left-tailed (diff < 0): mean 0 - mean 1 < 0\n",
      "    Ha two-tailed (|diff| > 0): mean 0 - mean 1 != 0\n",
      "    Ha right-tailed (diff > 0): mean 0 - mean 1 > 0\n"
     ]
    }
   ],
   "source": [
    "md_resusLD20_easy_pairing = statistics.build_pairing(\n",
    "    education_easy_pairing[1], 'resusLD20',\n",
    "    intersect_subjects=False, check_validity=False\n",
    ")\n",
    "md_resusLD20_easy_pairing.describe()"
   ]
  },
  {
   "cell_type": "code",
   "execution_count": 43,
   "metadata": {
    "scrolled": true
   },
   "outputs": [
    {
     "name": "stdout",
     "output_type": "stream",
     "text": [
      "inSpO2TargetRangeDuration:\n",
      "  mean 0 = 49.333; mean 1 = 60.667\n",
      "  Independent t-test:\n",
      "    |diff| > 0: p = 0.506\n",
      "    diff < 0: p = 0.253\n",
      "    diff > 0: p = 0.747\n",
      "inSpO2LooseTargetRangeDuration:\n",
      "  mean 0 = 95.333; mean 1 = 120.000\n",
      "  Independent t-test:\n",
      "   ~|diff| > 0: p = 0.131\n",
      "   *diff < 0: p = 0.066\n",
      "    diff > 0: p = 0.934\n"
     ]
    }
   ],
   "source": [
    "statistics.test_tracing_outcomes(md_resusLD20_easy_pairing, paired=False)"
   ]
  },
  {
   "cell_type": "markdown",
   "metadata": {},
   "source": [
    "### Hard Scenarios"
   ]
  },
  {
   "cell_type": "code",
   "execution_count": 44,
   "metadata": {
    "scrolled": true
   },
   "outputs": [
    {
     "name": "stdout",
     "output_type": "stream",
     "text": [
      "Pairing against resusLD20:\n",
      "  0: <20LDResusPastYear vs. 1: >=20LDResusPastYear\n",
      "  12 0 examples vs. 8 1 examples.\n",
      "  Paired t-test alternative hypotheses:\n",
      "    Ha left-tailed (diff < 0): mean 0 - mean 1 < 0\n",
      "    Ha two-tailed (|diff| > 0): mean 0 - mean 1 != 0\n",
      "    Ha right-tailed (diff > 0): mean 0 - mean 1 > 0\n"
     ]
    }
   ],
   "source": [
    "md_resusLD20_hard_pairing = statistics.build_pairing(\n",
    "    education_hard_pairing[1], 'resusLD20',\n",
    "    intersect_subjects=False, check_validity=False\n",
    ")\n",
    "md_resusLD20_hard_pairing.describe()"
   ]
  },
  {
   "cell_type": "code",
   "execution_count": 45,
   "metadata": {
    "scrolled": true
   },
   "outputs": [
    {
     "name": "stdout",
     "output_type": "stream",
     "text": [
      "inSpO2TargetRangeDuration:\n",
      "  mean 0 = 43.833; mean 1 = 36.000\n",
      "  Independent t-test:\n",
      "    |diff| > 0: p = 0.561\n",
      "    diff < 0: p = 0.720\n",
      "    diff > 0: p = 0.280\n",
      "inSpO2LooseTargetRangeDuration:\n",
      "  mean 0 = 58.333; mean 1 = 63.000\n",
      "  Independent t-test:\n",
      "    |diff| > 0: p = 0.749\n",
      "    diff < 0: p = 0.374\n",
      "    diff > 0: p = 0.626\n"
     ]
    }
   ],
   "source": [
    "statistics.test_tracing_outcomes(md_resusLD20_hard_pairing, paired=False)"
   ]
  },
  {
   "cell_type": "markdown",
   "metadata": {},
   "source": [
    "## RN: Resuscitations in L&D in past year, split at 0"
   ]
  },
  {
   "cell_type": "markdown",
   "metadata": {},
   "source": [
    "### Combined scenarios"
   ]
  },
  {
   "cell_type": "code",
   "execution_count": 46,
   "metadata": {},
   "outputs": [
    {
     "name": "stdout",
     "output_type": "stream",
     "text": [
      "Pairing against resusLDnonzero:\n",
      "  0: noLDResusPastYear vs. 1: LDResusPastYear\n",
      "  34 0 examples vs. 8 1 examples.\n",
      "  Paired t-test alternative hypotheses:\n",
      "    Ha left-tailed (diff < 0): mean 0 - mean 1 < 0\n",
      "    Ha two-tailed (|diff| > 0): mean 0 - mean 1 != 0\n",
      "    Ha right-tailed (diff > 0): mean 0 - mean 1 > 0\n"
     ]
    }
   ],
   "source": [
    "rn_resusLDnonzero_pairing = statistics.build_pairing(\n",
    "    education_pairing[0], 'resusLDnonzero',\n",
    "    intersect_subjects=False, check_validity=False\n",
    ")\n",
    "rn_resusLDnonzero_pairing.describe()"
   ]
  },
  {
   "cell_type": "code",
   "execution_count": 47,
   "metadata": {
    "scrolled": true
   },
   "outputs": [
    {
     "name": "stdout",
     "output_type": "stream",
     "text": [
      "inSpO2TargetRangeDuration:\n",
      "  mean 0 = 22.000; mean 1 = 42.250\n",
      "  Independent t-test:\n",
      "   *|diff| > 0: p = 0.066\n",
      "  **diff < 0: p = 0.033\n",
      "    diff > 0: p = 0.967\n",
      "inSpO2LooseTargetRangeDuration:\n",
      "  mean 0 = 61.000; mean 1 = 80.500\n",
      "  Independent t-test:\n",
      "    |diff| > 0: p = 0.263\n",
      "   ~diff < 0: p = 0.131\n",
      "    diff > 0: p = 0.869\n"
     ]
    }
   ],
   "source": [
    "statistics.test_tracing_outcomes(rn_resusLDnonzero_pairing, paired=False)"
   ]
  },
  {
   "cell_type": "markdown",
   "metadata": {},
   "source": [
    "### Easy Scenarios"
   ]
  },
  {
   "cell_type": "code",
   "execution_count": 48,
   "metadata": {
    "scrolled": true
   },
   "outputs": [
    {
     "name": "stdout",
     "output_type": "stream",
     "text": [
      "Pairing against resusLDnonzero:\n",
      "  0: noLDResusPastYear vs. 1: LDResusPastYear\n",
      "  16 0 examples vs. 4 1 examples.\n",
      "  Paired t-test alternative hypotheses:\n",
      "    Ha left-tailed (diff < 0): mean 0 - mean 1 < 0\n",
      "    Ha two-tailed (|diff| > 0): mean 0 - mean 1 != 0\n",
      "    Ha right-tailed (diff > 0): mean 0 - mean 1 > 0\n"
     ]
    }
   ],
   "source": [
    "rn_resusLDnonzero_easy_pairing = statistics.build_pairing(\n",
    "    education_easy_pairing[0], 'resusLDnonzero',\n",
    "    intersect_subjects=False, check_validity=False\n",
    ")\n",
    "rn_resusLDnonzero_easy_pairing.describe()"
   ]
  },
  {
   "cell_type": "code",
   "execution_count": 49,
   "metadata": {
    "scrolled": true
   },
   "outputs": [
    {
     "name": "stdout",
     "output_type": "stream",
     "text": [
      "inSpO2TargetRangeDuration:\n",
      "  mean 0 = 25.625; mean 1 = 34.000\n",
      "  Independent t-test:\n",
      "    |diff| > 0: p = 0.639\n",
      "    diff < 0: p = 0.319\n",
      "    diff > 0: p = 0.681\n",
      "inSpO2LooseTargetRangeDuration:\n",
      "  mean 0 = 92.625; mean 1 = 97.000\n",
      "  Independent t-test:\n",
      "    |diff| > 0: p = 0.843\n",
      "    diff < 0: p = 0.422\n",
      "    diff > 0: p = 0.578\n"
     ]
    }
   ],
   "source": [
    "statistics.test_tracing_outcomes(rn_resusLDnonzero_easy_pairing, paired=False)"
   ]
  },
  {
   "cell_type": "markdown",
   "metadata": {},
   "source": [
    "### Hard Scenarios"
   ]
  },
  {
   "cell_type": "code",
   "execution_count": 50,
   "metadata": {
    "scrolled": true
   },
   "outputs": [
    {
     "name": "stdout",
     "output_type": "stream",
     "text": [
      "Pairing against resusLDnonzero:\n",
      "  0: noLDResusPastYear vs. 1: LDResusPastYear\n",
      "  18 0 examples vs. 4 1 examples.\n",
      "  Paired t-test alternative hypotheses:\n",
      "    Ha left-tailed (diff < 0): mean 0 - mean 1 < 0\n",
      "    Ha two-tailed (|diff| > 0): mean 0 - mean 1 != 0\n",
      "    Ha right-tailed (diff > 0): mean 0 - mean 1 > 0\n"
     ]
    }
   ],
   "source": [
    "rn_resusLDnonzero_hard_pairing = statistics.build_pairing(\n",
    "    education_hard_pairing[0], 'resusLDnonzero',\n",
    "    intersect_subjects=False, check_validity=False\n",
    ")\n",
    "rn_resusLDnonzero_hard_pairing.describe()"
   ]
  },
  {
   "cell_type": "code",
   "execution_count": 51,
   "metadata": {
    "scrolled": false
   },
   "outputs": [
    {
     "name": "stdout",
     "output_type": "stream",
     "text": [
      "inSpO2TargetRangeDuration:\n",
      "  mean 0 = 18.778; mean 1 = 50.500\n",
      "  Independent t-test:\n",
      "  **|diff| > 0: p = 0.025\n",
      "  **diff < 0: p = 0.012\n",
      "    diff > 0: p = 0.988\n",
      "inSpO2LooseTargetRangeDuration:\n",
      "  mean 0 = 32.889; mean 1 = 64.000\n",
      "  Independent t-test:\n",
      "   *|diff| > 0: p = 0.064\n",
      "  **diff < 0: p = 0.032\n",
      "    diff > 0: p = 0.968\n"
     ]
    }
   ],
   "source": [
    "statistics.test_tracing_outcomes(rn_resusLDnonzero_hard_pairing, paired=False)"
   ]
  }
 ],
 "metadata": {
  "kernelspec": {
   "display_name": "Python 3",
   "language": "python",
   "name": "python3"
  },
  "language_info": {
   "codemirror_mode": {
    "name": "ipython",
    "version": 3
   },
   "file_extension": ".py",
   "mimetype": "text/x-python",
   "name": "python",
   "nbconvert_exporter": "python",
   "pygments_lexer": "ipython3",
   "version": "3.6.5"
  }
 },
 "nbformat": 4,
 "nbformat_minor": 2
}
