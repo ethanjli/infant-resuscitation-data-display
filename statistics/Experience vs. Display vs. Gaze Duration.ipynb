{
 "cells": [
  {
   "cell_type": "markdown",
   "metadata": {},
   "source": [
    "# Imports"
   ]
  },
  {
   "cell_type": "code",
   "execution_count": 1,
   "metadata": {},
   "outputs": [],
   "source": [
    "%matplotlib inline\n",
    "%load_ext autoreload\n",
    "%autoreload 2\n",
    "\n",
    "import scipy as sp\n",
    "from scipy import stats\n",
    "import numpy as np\n",
    "import pandas as pd\n",
    "\n",
    "import statistics"
   ]
  },
  {
   "cell_type": "markdown",
   "metadata": {},
   "source": [
    "# Load Data"
   ]
  },
  {
   "cell_type": "code",
   "execution_count": 2,
   "metadata": {
    "scrolled": true
   },
   "outputs": [
    {
     "data": {
      "text/plain": [
       "Index(['id', 'subjectNumber', 'scenarioNumber', 'newAfterOld', 'scenarioType',\n",
       "       'displayType', 'sensorPlacementTime', 'ppvStartTime', 'ccStartTime',\n",
       "       'inSpO2TargetRangeDuration', 'inSpO2LooseTargetRangeDuration',\n",
       "       'inSpO2TargetRangeStartTime', 'aboveSpO2TargetRangeDuration',\n",
       "       'belowSpO2TargetRangeDuration', 'inFiO2TargetRangeDuration',\n",
       "       'inFiO2TargetRangeStartTime', 'aboveFiO2TargetRangeDuration',\n",
       "       'belowFiO2TargetRangeDuration', 'spO2SignedErrorIntegral',\n",
       "       'spO2UnsignedErrorIntegral', 'spO2SquaredErrorIntegral',\n",
       "       'fiO2LargeAdjustments', 'code', 'education', 'cumulativeNICU',\n",
       "       'resusLD', 'resusLDnonzero', 'cumulativeNICU5', 'cumulativeNICU10',\n",
       "       'cumulativeNICU13', 'resusLD20', 'visitDuration_fiO2Dial',\n",
       "       'visitDuration_infant', 'visitDuration_monitorApgarTimer',\n",
       "       'visitDuration_monitorBlank', 'visitDuration_monitorFiO2',\n",
       "       'visitDuration_monitorFull', 'visitDuration_monitorGraph',\n",
       "       'visitDuration_monitorHeartRate', 'visitDuration_monitorSpO2',\n",
       "       'visitDuration_spO2ReferenceTable',\n",
       "       'visitDuration_warmerInstrumentPanel', 'visitDuration_combinedFiO2',\n",
       "       'visitDuration_combinedSpO2', 'visitCount_fiO2Dial',\n",
       "       'visitCount_infant', 'visitCount_monitorApgarTimer',\n",
       "       'visitCount_monitorBlank', 'visitCount_monitorFiO2',\n",
       "       'visitCount_monitorFull', 'visitCount_monitorGraph',\n",
       "       'visitCount_monitorHeartRate', 'visitCount_monitorSpO2',\n",
       "       'visitCount_spO2ReferenceTable', 'visitCount_warmerInstrumentPanel',\n",
       "       'visitCount_combinedFiO2', 'visitCount_combinedSpO2'],\n",
       "      dtype='object')"
      ]
     },
     "execution_count": 2,
     "metadata": {},
     "output_type": "execute_result"
    }
   ],
   "source": [
    "demo_df = statistics.load_demographic_features()\n",
    "statistics.compute_demo_features(demo_df)\n",
    "tracing_df = statistics.load_tracing_features(sort='order')\n",
    "recording_df = statistics.load_recording_relations()\n",
    "recording_df = statistics.associate_recordings(recording_df, tracing_df, demo_df)\n",
    "gaze_dfs = statistics.load_gaze_features()\n",
    "statistics.check_gaze_recording_associations(recording_df, gaze_dfs)\n",
    "statistics.compute_gaze_features(gaze_dfs)\n",
    "gaze_df = statistics.combine_gaze_features(gaze_dfs)\n",
    "full_df = statistics.combine_all_features(recording_df, gaze_df)\n",
    "full_df.columns"
   ]
  },
  {
   "cell_type": "markdown",
   "metadata": {},
   "source": [
    "### Scenario Type Split"
   ]
  },
  {
   "cell_type": "code",
   "execution_count": 3,
   "metadata": {},
   "outputs": [
    {
     "name": "stdout",
     "output_type": "stream",
     "text": [
      "Pairing against scenarioType:\n",
      "  0: easy vs. 1: hard\n",
      "  30 0 examples vs. 34 1 examples.\n",
      "  Paired t-test alternative hypotheses:\n",
      "    Ha left-tailed (diff < 0): mean 0 - mean 1 < 0\n",
      "    Ha two-tailed (|diff| > 0): mean 0 - mean 1 != 0\n",
      "    Ha right-tailed (diff > 0): mean 0 - mean 1 > 0\n"
     ]
    }
   ],
   "source": [
    "scenario_split = statistics.build_pairing(\n",
    "    full_df, 'scenarioType',\n",
    "    intersect_subjects=False, check_validity=False\n",
    ")\n",
    "scenario_split.describe()"
   ]
  },
  {
   "cell_type": "markdown",
   "metadata": {},
   "source": [
    "## Led resuscitations in L&D in past year?"
   ]
  },
  {
   "cell_type": "code",
   "execution_count": 4,
   "metadata": {},
   "outputs": [
    {
     "name": "stdout",
     "output_type": "stream",
     "text": [
      "Pairing against resusLDnonzero:\n",
      "  0: noLDResusPastYear vs. 1: LDResusPastYear\n",
      "  32 0 examples vs. 28 1 examples.\n",
      "  Paired t-test alternative hypotheses:\n",
      "    Ha left-tailed (diff < 0): mean 0 - mean 1 < 0\n",
      "    Ha two-tailed (|diff| > 0): mean 0 - mean 1 != 0\n",
      "    Ha right-tailed (diff > 0): mean 0 - mean 1 > 0\n"
     ]
    }
   ],
   "source": [
    "resusLD_pairing = statistics.build_pairing(\n",
    "    full_df, 'resusLDnonzero',\n",
    "    intersect_subjects=False, check_validity=False\n",
    ")\n",
    "resusLD_pairing.describe()"
   ]
  },
  {
   "cell_type": "markdown",
   "metadata": {},
   "source": [
    "### Not Led, Easy Scenarios"
   ]
  },
  {
   "cell_type": "code",
   "execution_count": 5,
   "metadata": {
    "scrolled": true
   },
   "outputs": [
    {
     "name": "stdout",
     "output_type": "stream",
     "text": [
      "Pairing against resusLDnonzero:\n",
      "  0: noLDResusPastYear vs. 1: LDResusPastYear\n",
      "  16 0 examples vs. 12 1 examples.\n",
      "  Paired t-test alternative hypotheses:\n",
      "    Ha left-tailed (diff < 0): mean 0 - mean 1 < 0\n",
      "    Ha two-tailed (|diff| > 0): mean 0 - mean 1 != 0\n",
      "    Ha right-tailed (diff > 0): mean 0 - mean 1 > 0\n"
     ]
    }
   ],
   "source": [
    "resusLD_easy_pairing = statistics.build_pairing(\n",
    "    scenario_split[0], 'resusLDnonzero',\n",
    "    intersect_subjects=False, check_validity=False\n",
    ")\n",
    "resusLD_easy_pairing.describe()"
   ]
  },
  {
   "cell_type": "code",
   "execution_count": 6,
   "metadata": {},
   "outputs": [
    {
     "name": "stdout",
     "output_type": "stream",
     "text": [
      "Pairing against displayType:\n",
      "  0: minimal vs. 1: full\n",
      "  8 0 vs. 1 pairs.\n",
      "  Paired t-test alternative hypotheses:\n",
      "    Ha left-tailed (diff < 0): mean 0 - mean 1 < 0\n",
      "    Ha two-tailed (|diff| > 0): mean 0 - mean 1 != 0\n",
      "    Ha right-tailed (diff > 0): mean 0 - mean 1 > 0\n"
     ]
    }
   ],
   "source": [
    "display_pairing = statistics.build_pairing(resusLD_easy_pairing[0], 'displayType')\n",
    "display_pairing.describe()"
   ]
  },
  {
   "cell_type": "code",
   "execution_count": 7,
   "metadata": {
    "scrolled": true
   },
   "outputs": [
    {
     "name": "stdout",
     "output_type": "stream",
     "text": [
      "visitDuration_infant:\n",
      "  mean diff = -0.537; stdev diff = 17.249\n",
      "  Paired t-test:\n",
      "    |diff| > 0: p = 0.937\n",
      "    diff < 0: p = 0.468\n",
      "    diff > 0: p = 0.532\n",
      "visitDuration_warmerInstrumentPanel:\n",
      "  mean diff = -0.372; stdev diff = 9.440\n",
      "  Paired t-test:\n",
      "    |diff| > 0: p = 0.920\n",
      "    diff < 0: p = 0.460\n",
      "    diff > 0: p = 0.540\n",
      "visitDuration_fiO2Dial:\n",
      "  mean diff = -0.292; stdev diff = 5.954\n",
      "  Paired t-test:\n",
      "    |diff| > 0: p = 0.900\n",
      "    diff < 0: p = 0.450\n",
      "    diff > 0: p = 0.550\n",
      "visitDuration_spO2ReferenceTable:\n",
      "  mean diff = -1.617; stdev diff = 3.801\n",
      "  Paired t-test:\n",
      "    |diff| > 0: p = 0.297\n",
      "   ~diff < 0: p = 0.149\n",
      "    diff > 0: p = 0.851\n",
      "visitDuration_monitorFull:\n",
      "  mean diff = -6.360; stdev diff = 37.325\n",
      "  Paired t-test:\n",
      "    |diff| > 0: p = 0.666\n",
      "    diff < 0: p = 0.333\n",
      "    diff > 0: p = 0.667\n",
      "visitDuration_monitorBlank:\n",
      "  mean diff = 2.457; stdev diff = 7.199\n",
      "  Paired t-test:\n",
      "    |diff| > 0: p = 0.397\n",
      "    diff < 0: p = 0.802\n",
      "   ~diff > 0: p = 0.198\n",
      "visitDuration_monitorApgarTimer:\n",
      "  mean diff = 1.015; stdev diff = 3.966\n",
      "  Paired t-test:\n",
      "    |diff| > 0: p = 0.520\n",
      "    diff < 0: p = 0.740\n",
      "    diff > 0: p = 0.260\n",
      "visitDuration_monitorHeartRate:\n",
      "  mean diff = 6.803; stdev diff = 19.851\n",
      "  Paired t-test:\n",
      "    |diff| > 0: p = 0.395\n",
      "    diff < 0: p = 0.803\n",
      "   ~diff > 0: p = 0.197\n",
      "visitDuration_monitorSpO2:\n",
      "  mean diff = 15.321; stdev diff = 29.393\n",
      "  Paired t-test:\n",
      "    |diff| > 0: p = 0.210\n",
      "    diff < 0: p = 0.895\n",
      "   ~diff > 0: p = 0.105\n",
      "visitDuration_combinedFiO2:\n",
      "  mean diff = -8.240; stdev diff = 4.746\n",
      "  Paired t-test:\n",
      "  **|diff| > 0: p = 0.003\n",
      "  **diff < 0: p = 0.001\n",
      "    diff > 0: p = 0.999\n",
      "visitDuration_combinedSpO2:\n",
      "  mean diff = -7.742; stdev diff = 29.378\n",
      "  Paired t-test:\n",
      "    |diff| > 0: p = 0.508\n",
      "    diff < 0: p = 0.254\n",
      "    diff > 0: p = 0.746\n"
     ]
    }
   ],
   "source": [
    "statistics.test_gaze_duration_outcomes(display_pairing)"
   ]
  },
  {
   "cell_type": "markdown",
   "metadata": {},
   "source": [
    "### Not Led, Hard Scenarios"
   ]
  },
  {
   "cell_type": "code",
   "execution_count": 8,
   "metadata": {
    "scrolled": true
   },
   "outputs": [
    {
     "name": "stdout",
     "output_type": "stream",
     "text": [
      "Pairing against resusLDnonzero:\n",
      "  0: noLDResusPastYear vs. 1: LDResusPastYear\n",
      "  16 0 vs. 1 pairs.\n",
      "  Paired t-test alternative hypotheses:\n",
      "    Ha left-tailed (diff < 0): mean 0 - mean 1 < 0\n",
      "    Ha two-tailed (|diff| > 0): mean 0 - mean 1 != 0\n",
      "    Ha right-tailed (diff > 0): mean 0 - mean 1 > 0\n"
     ]
    }
   ],
   "source": [
    "resusLD_hard_pairing = statistics.build_pairing(\n",
    "    scenario_split[1], 'resusLDnonzero',\n",
    "    intersect_subjects=False, check_validity=False\n",
    ")\n",
    "resusLD_hard_pairing.describe()"
   ]
  },
  {
   "cell_type": "code",
   "execution_count": 9,
   "metadata": {},
   "outputs": [
    {
     "name": "stdout",
     "output_type": "stream",
     "text": [
      "Pairing against displayType:\n",
      "  0: minimal vs. 1: full\n",
      "  8 0 vs. 1 pairs.\n",
      "  Paired t-test alternative hypotheses:\n",
      "    Ha left-tailed (diff < 0): mean 0 - mean 1 < 0\n",
      "    Ha two-tailed (|diff| > 0): mean 0 - mean 1 != 0\n",
      "    Ha right-tailed (diff > 0): mean 0 - mean 1 > 0\n"
     ]
    }
   ],
   "source": [
    "display_pairing = statistics.build_pairing(resusLD_hard_pairing[0], 'displayType')\n",
    "display_pairing.describe()"
   ]
  },
  {
   "cell_type": "code",
   "execution_count": 10,
   "metadata": {
    "scrolled": true
   },
   "outputs": [
    {
     "name": "stdout",
     "output_type": "stream",
     "text": [
      "visitDuration_infant:\n",
      "  mean diff = -6.231; stdev diff = 27.362\n",
      "  Paired t-test:\n",
      "    |diff| > 0: p = 0.566\n",
      "    diff < 0: p = 0.283\n",
      "    diff > 0: p = 0.717\n",
      "visitDuration_warmerInstrumentPanel:\n",
      "  mean diff = 1.974; stdev diff = 8.942\n",
      "  Paired t-test:\n",
      "    |diff| > 0: p = 0.577\n",
      "    diff < 0: p = 0.711\n",
      "    diff > 0: p = 0.289\n",
      "visitDuration_fiO2Dial:\n",
      "  mean diff = 0.754; stdev diff = 3.369\n",
      "  Paired t-test:\n",
      "    |diff| > 0: p = 0.573\n",
      "    diff < 0: p = 0.714\n",
      "    diff > 0: p = 0.286\n",
      "visitDuration_spO2ReferenceTable:\n",
      "  mean diff = 0.645; stdev diff = 2.321\n",
      "  Paired t-test:\n",
      "    |diff| > 0: p = 0.486\n",
      "    diff < 0: p = 0.757\n",
      "    diff > 0: p = 0.243\n",
      "visitDuration_monitorFull:\n",
      "  mean diff = -2.823; stdev diff = 18.924\n",
      "  Paired t-test:\n",
      "    |diff| > 0: p = 0.705\n",
      "    diff < 0: p = 0.352\n",
      "    diff > 0: p = 0.648\n",
      "visitDuration_monitorBlank:\n",
      "  mean diff = 9.211; stdev diff = 11.651\n",
      "  Paired t-test:\n",
      "   *|diff| > 0: p = 0.075\n",
      "    diff < 0: p = 0.963\n",
      "  **diff > 0: p = 0.037\n",
      "visitDuration_monitorApgarTimer:\n",
      "  mean diff = -0.172; stdev diff = 7.315\n",
      "  Paired t-test:\n",
      "    |diff| > 0: p = 0.952\n",
      "    diff < 0: p = 0.476\n",
      "    diff > 0: p = 0.524\n",
      "visitDuration_monitorHeartRate:\n",
      "  mean diff = 3.489; stdev diff = 12.860\n",
      "  Paired t-test:\n",
      "    |diff| > 0: p = 0.496\n",
      "    diff < 0: p = 0.752\n",
      "    diff > 0: p = 0.248\n",
      "visitDuration_monitorSpO2:\n",
      "  mean diff = 8.675; stdev diff = 18.811\n",
      "  Paired t-test:\n",
      "    |diff| > 0: p = 0.262\n",
      "    diff < 0: p = 0.869\n",
      "   ~diff > 0: p = 0.131\n",
      "visitDuration_combinedFiO2:\n",
      "  mean diff = -8.614; stdev diff = 6.358\n",
      "  Paired t-test:\n",
      "  **|diff| > 0: p = 0.009\n",
      "  **diff < 0: p = 0.004\n",
      "    diff > 0: p = 0.996\n",
      "visitDuration_combinedSpO2:\n",
      "  mean diff = -5.966; stdev diff = 17.751\n",
      "  Paired t-test:\n",
      "    |diff| > 0: p = 0.403\n",
      "    diff < 0: p = 0.202\n",
      "    diff > 0: p = 0.798\n"
     ]
    }
   ],
   "source": [
    "statistics.test_gaze_duration_outcomes(display_pairing)"
   ]
  },
  {
   "cell_type": "markdown",
   "metadata": {},
   "source": [
    "### Led, Easy Scenarios"
   ]
  },
  {
   "cell_type": "code",
   "execution_count": 11,
   "metadata": {
    "scrolled": true
   },
   "outputs": [
    {
     "name": "stdout",
     "output_type": "stream",
     "text": [
      "Pairing against resusLDnonzero:\n",
      "  0: noLDResusPastYear vs. 1: LDResusPastYear\n",
      "  16 0 examples vs. 12 1 examples.\n",
      "  Paired t-test alternative hypotheses:\n",
      "    Ha left-tailed (diff < 0): mean 0 - mean 1 < 0\n",
      "    Ha two-tailed (|diff| > 0): mean 0 - mean 1 != 0\n",
      "    Ha right-tailed (diff > 0): mean 0 - mean 1 > 0\n"
     ]
    }
   ],
   "source": [
    "resusLD_easy_pairing = statistics.build_pairing(\n",
    "    scenario_split[0], 'resusLDnonzero',\n",
    "    intersect_subjects=False, check_validity=False\n",
    ")\n",
    "resusLD_easy_pairing.describe()"
   ]
  },
  {
   "cell_type": "code",
   "execution_count": 12,
   "metadata": {},
   "outputs": [
    {
     "name": "stdout",
     "output_type": "stream",
     "text": [
      "Pairing against displayType:\n",
      "  0: minimal vs. 1: full\n",
      "  6 0 vs. 1 pairs.\n",
      "  Paired t-test alternative hypotheses:\n",
      "    Ha left-tailed (diff < 0): mean 0 - mean 1 < 0\n",
      "    Ha two-tailed (|diff| > 0): mean 0 - mean 1 != 0\n",
      "    Ha right-tailed (diff > 0): mean 0 - mean 1 > 0\n"
     ]
    }
   ],
   "source": [
    "display_pairing = statistics.build_pairing(resusLD_easy_pairing[1], 'displayType')\n",
    "display_pairing.describe()"
   ]
  },
  {
   "cell_type": "code",
   "execution_count": 13,
   "metadata": {
    "scrolled": true
   },
   "outputs": [
    {
     "name": "stdout",
     "output_type": "stream",
     "text": [
      "visitDuration_infant:\n",
      "  mean diff = -10.121; stdev diff = 18.241\n",
      "  Paired t-test:\n",
      "    |diff| > 0: p = 0.270\n",
      "   ~diff < 0: p = 0.135\n",
      "    diff > 0: p = 0.865\n",
      "visitDuration_warmerInstrumentPanel:\n",
      "  mean diff = -0.950; stdev diff = 4.813\n",
      "  Paired t-test:\n",
      "    |diff| > 0: p = 0.677\n",
      "    diff < 0: p = 0.339\n",
      "    diff > 0: p = 0.661\n",
      "visitDuration_fiO2Dial:\n",
      "  mean diff = 3.439; stdev diff = 6.508\n",
      "  Paired t-test:\n",
      "    |diff| > 0: p = 0.290\n",
      "    diff < 0: p = 0.855\n",
      "   ~diff > 0: p = 0.145\n",
      "visitDuration_spO2ReferenceTable:\n",
      "  mean diff = 3.799; stdev diff = 7.142\n",
      "  Paired t-test:\n",
      "    |diff| > 0: p = 0.288\n",
      "    diff < 0: p = 0.856\n",
      "   ~diff > 0: p = 0.144\n",
      "visitDuration_monitorFull:\n",
      "  mean diff = -0.712; stdev diff = 28.850\n",
      "  Paired t-test:\n",
      "    |diff| > 0: p = 0.958\n",
      "    diff < 0: p = 0.479\n",
      "    diff > 0: p = 0.521\n",
      "visitDuration_monitorBlank:\n",
      "  mean diff = 5.885; stdev diff = 3.921\n",
      "  Paired t-test:\n",
      "  **|diff| > 0: p = 0.020\n",
      "    diff < 0: p = 0.990\n",
      "  **diff > 0: p = 0.010\n",
      "visitDuration_monitorApgarTimer:\n",
      "  mean diff = 6.802; stdev diff = 14.467\n",
      "  Paired t-test:\n",
      "    |diff| > 0: p = 0.341\n",
      "    diff < 0: p = 0.829\n",
      "   ~diff > 0: p = 0.171\n",
      "visitDuration_monitorHeartRate:\n",
      "  mean diff = 8.534; stdev diff = 11.999\n",
      "  Paired t-test:\n",
      "   ~|diff| > 0: p = 0.173\n",
      "    diff < 0: p = 0.914\n",
      "   *diff > 0: p = 0.086\n",
      "visitDuration_monitorSpO2:\n",
      "  mean diff = 12.157; stdev diff = 19.010\n",
      "  Paired t-test:\n",
      "    |diff| > 0: p = 0.212\n",
      "    diff < 0: p = 0.894\n",
      "   ~diff > 0: p = 0.106\n",
      "visitDuration_combinedFiO2:\n",
      "  mean diff = -4.855; stdev diff = 7.766\n",
      "  Paired t-test:\n",
      "    |diff| > 0: p = 0.221\n",
      "   ~diff < 0: p = 0.110\n",
      "    diff > 0: p = 0.890\n",
      "visitDuration_combinedSpO2:\n",
      "  mean diff = -14.915; stdev diff = 16.923\n",
      "  Paired t-test:\n",
      "   ~|diff| > 0: p = 0.106\n",
      "   *diff < 0: p = 0.053\n",
      "    diff > 0: p = 0.947\n"
     ]
    }
   ],
   "source": [
    "statistics.test_gaze_duration_outcomes(display_pairing)"
   ]
  },
  {
   "cell_type": "markdown",
   "metadata": {},
   "source": [
    "### Led, Hard Scenarios"
   ]
  },
  {
   "cell_type": "code",
   "execution_count": 14,
   "metadata": {
    "scrolled": true
   },
   "outputs": [
    {
     "name": "stdout",
     "output_type": "stream",
     "text": [
      "Pairing against resusLDnonzero:\n",
      "  0: noLDResusPastYear vs. 1: LDResusPastYear\n",
      "  16 0 vs. 1 pairs.\n",
      "  Paired t-test alternative hypotheses:\n",
      "    Ha left-tailed (diff < 0): mean 0 - mean 1 < 0\n",
      "    Ha two-tailed (|diff| > 0): mean 0 - mean 1 != 0\n",
      "    Ha right-tailed (diff > 0): mean 0 - mean 1 > 0\n"
     ]
    }
   ],
   "source": [
    "resusLD_hard_pairing = statistics.build_pairing(\n",
    "    scenario_split[1], 'resusLDnonzero',\n",
    "    intersect_subjects=False, check_validity=False\n",
    ")\n",
    "resusLD_hard_pairing.describe()"
   ]
  },
  {
   "cell_type": "code",
   "execution_count": 15,
   "metadata": {},
   "outputs": [
    {
     "name": "stdout",
     "output_type": "stream",
     "text": [
      "Pairing against displayType:\n",
      "  0: minimal vs. 1: full\n",
      "  8 0 vs. 1 pairs.\n",
      "  Paired t-test alternative hypotheses:\n",
      "    Ha left-tailed (diff < 0): mean 0 - mean 1 < 0\n",
      "    Ha two-tailed (|diff| > 0): mean 0 - mean 1 != 0\n",
      "    Ha right-tailed (diff > 0): mean 0 - mean 1 > 0\n"
     ]
    }
   ],
   "source": [
    "display_pairing = statistics.build_pairing(resusLD_hard_pairing[1], 'displayType')\n",
    "display_pairing.describe()"
   ]
  },
  {
   "cell_type": "code",
   "execution_count": 16,
   "metadata": {
    "scrolled": true
   },
   "outputs": [
    {
     "name": "stdout",
     "output_type": "stream",
     "text": [
      "visitDuration_infant:\n",
      "  mean diff = 17.351; stdev diff = 19.191\n",
      "  Paired t-test:\n",
      "  **|diff| > 0: p = 0.048\n",
      "    diff < 0: p = 0.976\n",
      "  **diff > 0: p = 0.024\n",
      "visitDuration_warmerInstrumentPanel:\n",
      "  mean diff = -4.164; stdev diff = 8.813\n",
      "  Paired t-test:\n",
      "    |diff| > 0: p = 0.251\n",
      "   ~diff < 0: p = 0.126\n",
      "    diff > 0: p = 0.874\n",
      "visitDuration_fiO2Dial:\n",
      "  mean diff = 0.510; stdev diff = 2.734\n",
      "  Paired t-test:\n",
      "    |diff| > 0: p = 0.637\n",
      "    diff < 0: p = 0.682\n",
      "    diff > 0: p = 0.318\n",
      "visitDuration_spO2ReferenceTable:\n",
      "  mean diff = 0.240; stdev diff = 2.688\n",
      "  Paired t-test:\n",
      "    |diff| > 0: p = 0.820\n",
      "    diff < 0: p = 0.590\n",
      "    diff > 0: p = 0.410\n",
      "visitDuration_monitorFull:\n",
      "  mean diff = -19.652; stdev diff = 20.319\n",
      "  Paired t-test:\n",
      "  **|diff| > 0: p = 0.038\n",
      "  **diff < 0: p = 0.019\n",
      "    diff > 0: p = 0.981\n",
      "visitDuration_monitorBlank:\n",
      "  mean diff = -2.157; stdev diff = 7.230\n",
      "  Paired t-test:\n",
      "    |diff| > 0: p = 0.456\n",
      "    diff < 0: p = 0.228\n",
      "    diff > 0: p = 0.772\n",
      "visitDuration_monitorApgarTimer:\n",
      "  mean diff = 9.840; stdev diff = 9.995\n",
      "  Paired t-test:\n",
      "  **|diff| > 0: p = 0.035\n",
      "    diff < 0: p = 0.982\n",
      "  **diff > 0: p = 0.018\n",
      "visitDuration_monitorHeartRate:\n",
      "  mean diff = 6.916; stdev diff = 14.124\n",
      "  Paired t-test:\n",
      "    |diff| > 0: p = 0.236\n",
      "    diff < 0: p = 0.882\n",
      "   ~diff > 0: p = 0.118\n",
      "visitDuration_monitorSpO2:\n",
      "  mean diff = 8.665; stdev diff = 9.560\n",
      "  Paired t-test:\n",
      "  **|diff| > 0: p = 0.048\n",
      "    diff < 0: p = 0.976\n",
      "  **diff > 0: p = 0.024\n",
      "visitDuration_combinedFiO2:\n",
      "  mean diff = -15.341; stdev diff = 11.467\n",
      "  Paired t-test:\n",
      "  **|diff| > 0: p = 0.009\n",
      "  **diff < 0: p = 0.005\n",
      "    diff > 0: p = 0.995\n",
      "visitDuration_combinedSpO2:\n",
      "  mean diff = -14.964; stdev diff = 17.767\n",
      "  Paired t-test:\n",
      "   *|diff| > 0: p = 0.061\n",
      "  **diff < 0: p = 0.031\n",
      "    diff > 0: p = 0.969\n"
     ]
    }
   ],
   "source": [
    "statistics.test_gaze_duration_outcomes(display_pairing)"
   ]
  },
  {
   "cell_type": "markdown",
   "metadata": {},
   "source": [
    "## At least 10 years NICU experience?"
   ]
  },
  {
   "cell_type": "code",
   "execution_count": 17,
   "metadata": {},
   "outputs": [
    {
     "name": "stdout",
     "output_type": "stream",
     "text": [
      "Pairing against cumulativeNICU10:\n",
      "  0: <10CumulativeNICUYears vs. 1: >=10CumulativeNICUYears\n",
      "  22 0 examples vs. 38 1 examples.\n",
      "  Paired t-test alternative hypotheses:\n",
      "    Ha left-tailed (diff < 0): mean 0 - mean 1 < 0\n",
      "    Ha two-tailed (|diff| > 0): mean 0 - mean 1 != 0\n",
      "    Ha right-tailed (diff > 0): mean 0 - mean 1 > 0\n"
     ]
    }
   ],
   "source": [
    "cumulativeNICU10_pairing = statistics.build_pairing(\n",
    "    full_df, 'cumulativeNICU10',\n",
    "    intersect_subjects=False, check_validity=False\n",
    ")\n",
    "cumulativeNICU10_pairing.describe()"
   ]
  },
  {
   "cell_type": "markdown",
   "metadata": {},
   "source": [
    "### Less than 10 years, Easy Scenarios"
   ]
  },
  {
   "cell_type": "code",
   "execution_count": 18,
   "metadata": {
    "scrolled": true
   },
   "outputs": [
    {
     "name": "stdout",
     "output_type": "stream",
     "text": [
      "Pairing against cumulativeNICU10:\n",
      "  0: <10CumulativeNICUYears vs. 1: >=10CumulativeNICUYears\n",
      "  10 0 examples vs. 18 1 examples.\n",
      "  Paired t-test alternative hypotheses:\n",
      "    Ha left-tailed (diff < 0): mean 0 - mean 1 < 0\n",
      "    Ha two-tailed (|diff| > 0): mean 0 - mean 1 != 0\n",
      "    Ha right-tailed (diff > 0): mean 0 - mean 1 > 0\n"
     ]
    }
   ],
   "source": [
    "cumulativeNICU10_easy_pairing = statistics.build_pairing(\n",
    "    scenario_split[0], 'cumulativeNICU10',\n",
    "    intersect_subjects=False, check_validity=False\n",
    ")\n",
    "cumulativeNICU10_easy_pairing.describe()"
   ]
  },
  {
   "cell_type": "code",
   "execution_count": 19,
   "metadata": {},
   "outputs": [
    {
     "name": "stdout",
     "output_type": "stream",
     "text": [
      "Pairing against displayType:\n",
      "  0: minimal vs. 1: full\n",
      "  5 0 vs. 1 pairs.\n",
      "  Paired t-test alternative hypotheses:\n",
      "    Ha left-tailed (diff < 0): mean 0 - mean 1 < 0\n",
      "    Ha two-tailed (|diff| > 0): mean 0 - mean 1 != 0\n",
      "    Ha right-tailed (diff > 0): mean 0 - mean 1 > 0\n"
     ]
    }
   ],
   "source": [
    "display_pairing = statistics.build_pairing(cumulativeNICU10_easy_pairing[0], 'displayType')\n",
    "display_pairing.describe()"
   ]
  },
  {
   "cell_type": "code",
   "execution_count": 20,
   "metadata": {
    "scrolled": true
   },
   "outputs": [
    {
     "name": "stdout",
     "output_type": "stream",
     "text": [
      "visitDuration_infant:\n",
      "  mean diff = -5.379; stdev diff = 21.295\n",
      "  Paired t-test:\n",
      "    |diff| > 0: p = 0.640\n",
      "    diff < 0: p = 0.320\n",
      "    diff > 0: p = 0.680\n",
      "visitDuration_warmerInstrumentPanel:\n",
      "  mean diff = -0.724; stdev diff = 5.602\n",
      "  Paired t-test:\n",
      "    |diff| > 0: p = 0.809\n",
      "    diff < 0: p = 0.404\n",
      "    diff > 0: p = 0.596\n",
      "visitDuration_fiO2Dial:\n",
      "  mean diff = 2.823; stdev diff = 7.128\n",
      "  Paired t-test:\n",
      "    |diff| > 0: p = 0.473\n",
      "    diff < 0: p = 0.764\n",
      "    diff > 0: p = 0.236\n",
      "visitDuration_spO2ReferenceTable:\n",
      "  mean diff = 2.667; stdev diff = 5.724\n",
      "  Paired t-test:\n",
      "    |diff| > 0: p = 0.404\n",
      "    diff < 0: p = 0.798\n",
      "    diff > 0: p = 0.202\n",
      "visitDuration_monitorFull:\n",
      "  mean diff = -8.196; stdev diff = 45.814\n",
      "  Paired t-test:\n",
      "    |diff| > 0: p = 0.739\n",
      "    diff < 0: p = 0.369\n",
      "    diff > 0: p = 0.631\n",
      "visitDuration_monitorBlank:\n",
      "  mean diff = 8.382; stdev diff = 1.703\n",
      "  Paired t-test:\n",
      "  **|diff| > 0: p = 0.001\n",
      "    diff < 0: p = 1.000\n",
      "  **diff > 0: p = 0.000\n",
      "visitDuration_monitorApgarTimer:\n",
      "  mean diff = 7.002; stdev diff = 10.960\n",
      "  Paired t-test:\n",
      "    |diff| > 0: p = 0.270\n",
      "    diff < 0: p = 0.865\n",
      "   ~diff > 0: p = 0.135\n",
      "visitDuration_monitorHeartRate:\n",
      "  mean diff = 12.593; stdev diff = 14.261\n",
      "  Paired t-test:\n",
      "   ~|diff| > 0: p = 0.152\n",
      "    diff < 0: p = 0.924\n",
      "   *diff > 0: p = 0.076\n",
      "visitDuration_monitorSpO2:\n",
      "  mean diff = -9.065; stdev diff = 21.291\n",
      "  Paired t-test:\n",
      "    |diff| > 0: p = 0.442\n",
      "    diff < 0: p = 0.221\n",
      "    diff > 0: p = 0.779\n",
      "visitDuration_combinedFiO2:\n",
      "  mean diff = -4.663; stdev diff = 6.516\n",
      "  Paired t-test:\n",
      "    |diff| > 0: p = 0.226\n",
      "   ~diff < 0: p = 0.113\n",
      "    diff > 0: p = 0.887\n",
      "visitDuration_combinedSpO2:\n",
      "  mean diff = -28.262; stdev diff = 21.129\n",
      "  Paired t-test:\n",
      "   *|diff| > 0: p = 0.056\n",
      "  **diff < 0: p = 0.028\n",
      "    diff > 0: p = 0.972\n"
     ]
    }
   ],
   "source": [
    "statistics.test_gaze_duration_outcomes(display_pairing)"
   ]
  },
  {
   "cell_type": "markdown",
   "metadata": {},
   "source": [
    "### Less than 10 years, Hard Scenarios"
   ]
  },
  {
   "cell_type": "code",
   "execution_count": 21,
   "metadata": {
    "scrolled": true
   },
   "outputs": [
    {
     "name": "stdout",
     "output_type": "stream",
     "text": [
      "Pairing against cumulativeNICU10:\n",
      "  0: <10CumulativeNICUYears vs. 1: >=10CumulativeNICUYears\n",
      "  12 0 examples vs. 20 1 examples.\n",
      "  Paired t-test alternative hypotheses:\n",
      "    Ha left-tailed (diff < 0): mean 0 - mean 1 < 0\n",
      "    Ha two-tailed (|diff| > 0): mean 0 - mean 1 != 0\n",
      "    Ha right-tailed (diff > 0): mean 0 - mean 1 > 0\n"
     ]
    }
   ],
   "source": [
    "cumulativeNICU10_hard_pairing = statistics.build_pairing(\n",
    "    scenario_split[1], 'cumulativeNICU10',\n",
    "    intersect_subjects=False, check_validity=False\n",
    ")\n",
    "cumulativeNICU10_hard_pairing.describe()"
   ]
  },
  {
   "cell_type": "code",
   "execution_count": 22,
   "metadata": {},
   "outputs": [
    {
     "name": "stdout",
     "output_type": "stream",
     "text": [
      "Pairing against displayType:\n",
      "  0: minimal vs. 1: full\n",
      "  6 0 vs. 1 pairs.\n",
      "  Paired t-test alternative hypotheses:\n",
      "    Ha left-tailed (diff < 0): mean 0 - mean 1 < 0\n",
      "    Ha two-tailed (|diff| > 0): mean 0 - mean 1 != 0\n",
      "    Ha right-tailed (diff > 0): mean 0 - mean 1 > 0\n"
     ]
    }
   ],
   "source": [
    "display_pairing = statistics.build_pairing(cumulativeNICU10_hard_pairing[0], 'displayType')\n",
    "display_pairing.describe()"
   ]
  },
  {
   "cell_type": "code",
   "execution_count": 23,
   "metadata": {
    "scrolled": true
   },
   "outputs": [
    {
     "name": "stdout",
     "output_type": "stream",
     "text": [
      "visitDuration_infant:\n",
      "  mean diff = 25.127; stdev diff = 19.760\n",
      "  Paired t-test:\n",
      "  **|diff| > 0: p = 0.036\n",
      "    diff < 0: p = 0.982\n",
      "  **diff > 0: p = 0.018\n",
      "visitDuration_warmerInstrumentPanel:\n",
      "  mean diff = -5.678; stdev diff = 7.843\n",
      "  Paired t-test:\n",
      "   ~|diff| > 0: p = 0.166\n",
      "   *diff < 0: p = 0.083\n",
      "    diff > 0: p = 0.917\n",
      "visitDuration_fiO2Dial:\n",
      "  mean diff = -2.029; stdev diff = 1.540\n",
      "  Paired t-test:\n",
      "  **|diff| > 0: p = 0.032\n",
      "  **diff < 0: p = 0.016\n",
      "    diff > 0: p = 0.984\n",
      "visitDuration_spO2ReferenceTable:\n",
      "  mean diff = 0.450; stdev diff = 1.593\n",
      "  Paired t-test:\n",
      "    |diff| > 0: p = 0.556\n",
      "    diff < 0: p = 0.722\n",
      "    diff > 0: p = 0.278\n",
      "visitDuration_monitorFull:\n",
      "  mean diff = -24.170; stdev diff = 23.512\n",
      "  Paired t-test:\n",
      "   *|diff| > 0: p = 0.070\n",
      "  **diff < 0: p = 0.035\n",
      "    diff > 0: p = 0.965\n",
      "visitDuration_monitorBlank:\n",
      "  mean diff = 6.722; stdev diff = 15.887\n",
      "  Paired t-test:\n",
      "    |diff| > 0: p = 0.388\n",
      "    diff < 0: p = 0.806\n",
      "   ~diff > 0: p = 0.194\n",
      "visitDuration_monitorApgarTimer:\n",
      "  mean diff = 3.892; stdev diff = 15.163\n",
      "  Paired t-test:\n",
      "    |diff| > 0: p = 0.591\n",
      "    diff < 0: p = 0.705\n",
      "    diff > 0: p = 0.295\n",
      "visitDuration_monitorHeartRate:\n",
      "  mean diff = -1.150; stdev diff = 10.369\n",
      "  Paired t-test:\n",
      "    |diff| > 0: p = 0.814\n",
      "    diff < 0: p = 0.407\n",
      "    diff > 0: p = 0.593\n",
      "visitDuration_monitorSpO2:\n",
      "  mean diff = 7.565; stdev diff = 18.979\n",
      "  Paired t-test:\n",
      "    |diff| > 0: p = 0.414\n",
      "    diff < 0: p = 0.793\n",
      "    diff > 0: p = 0.207\n",
      "visitDuration_combinedFiO2:\n",
      "  mean diff = -17.139; stdev diff = 5.624\n",
      "  Paired t-test:\n",
      "  **|diff| > 0: p = 0.001\n",
      "  **diff < 0: p = 0.001\n",
      "    diff > 0: p = 0.999\n",
      "visitDuration_combinedSpO2:\n",
      "  mean diff = -13.723; stdev diff = 20.942\n",
      "  Paired t-test:\n",
      "    |diff| > 0: p = 0.203\n",
      "   ~diff < 0: p = 0.101\n",
      "    diff > 0: p = 0.899\n"
     ]
    }
   ],
   "source": [
    "statistics.test_gaze_duration_outcomes(display_pairing)"
   ]
  },
  {
   "cell_type": "markdown",
   "metadata": {},
   "source": [
    "### At least 10 years, Easy Scenarios"
   ]
  },
  {
   "cell_type": "code",
   "execution_count": 24,
   "metadata": {
    "scrolled": true
   },
   "outputs": [
    {
     "name": "stdout",
     "output_type": "stream",
     "text": [
      "Pairing against cumulativeNICU10:\n",
      "  0: <10CumulativeNICUYears vs. 1: >=10CumulativeNICUYears\n",
      "  10 0 examples vs. 18 1 examples.\n",
      "  Paired t-test alternative hypotheses:\n",
      "    Ha left-tailed (diff < 0): mean 0 - mean 1 < 0\n",
      "    Ha two-tailed (|diff| > 0): mean 0 - mean 1 != 0\n",
      "    Ha right-tailed (diff > 0): mean 0 - mean 1 > 0\n"
     ]
    }
   ],
   "source": [
    "cumulativeNICU10_easy_pairing = statistics.build_pairing(\n",
    "    scenario_split[0], 'cumulativeNICU10',\n",
    "    intersect_subjects=False, check_validity=False\n",
    ")\n",
    "cumulativeNICU10_easy_pairing.describe()"
   ]
  },
  {
   "cell_type": "code",
   "execution_count": 25,
   "metadata": {},
   "outputs": [
    {
     "name": "stdout",
     "output_type": "stream",
     "text": [
      "Pairing against displayType:\n",
      "  0: minimal vs. 1: full\n",
      "  9 0 vs. 1 pairs.\n",
      "  Paired t-test alternative hypotheses:\n",
      "    Ha left-tailed (diff < 0): mean 0 - mean 1 < 0\n",
      "    Ha two-tailed (|diff| > 0): mean 0 - mean 1 != 0\n",
      "    Ha right-tailed (diff > 0): mean 0 - mean 1 > 0\n"
     ]
    }
   ],
   "source": [
    "display_pairing = statistics.build_pairing(cumulativeNICU10_easy_pairing[1], 'displayType')\n",
    "display_pairing.describe()"
   ]
  },
  {
   "cell_type": "code",
   "execution_count": 26,
   "metadata": {
    "scrolled": true
   },
   "outputs": [
    {
     "name": "stdout",
     "output_type": "stream",
     "text": [
      "visitDuration_infant:\n",
      "  mean diff = -4.237; stdev diff = 16.397\n",
      "  Paired t-test:\n",
      "    |diff| > 0: p = 0.486\n",
      "    diff < 0: p = 0.243\n",
      "    diff > 0: p = 0.757\n",
      "visitDuration_warmerInstrumentPanel:\n",
      "  mean diff = -0.562; stdev diff = 8.795\n",
      "  Paired t-test:\n",
      "    |diff| > 0: p = 0.861\n",
      "    diff < 0: p = 0.431\n",
      "    diff > 0: p = 0.569\n",
      "visitDuration_fiO2Dial:\n",
      "  mean diff = 0.464; stdev diff = 5.902\n",
      "  Paired t-test:\n",
      "    |diff| > 0: p = 0.830\n",
      "    diff < 0: p = 0.585\n",
      "    diff > 0: p = 0.415\n",
      "visitDuration_spO2ReferenceTable:\n",
      "  mean diff = -0.387; stdev diff = 6.041\n",
      "  Paired t-test:\n",
      "    |diff| > 0: p = 0.861\n",
      "    diff < 0: p = 0.430\n",
      "    diff > 0: p = 0.570\n",
      "visitDuration_monitorFull:\n",
      "  mean diff = -1.574; stdev diff = 24.974\n",
      "  Paired t-test:\n",
      "    |diff| > 0: p = 0.863\n",
      "    diff < 0: p = 0.431\n",
      "    diff > 0: p = 0.569\n",
      "visitDuration_monitorBlank:\n",
      "  mean diff = 1.451; stdev diff = 6.483\n",
      "  Paired t-test:\n",
      "    |diff| > 0: p = 0.544\n",
      "    diff < 0: p = 0.728\n",
      "    diff > 0: p = 0.272\n",
      "visitDuration_monitorApgarTimer:\n",
      "  mean diff = 1.546; stdev diff = 9.428\n",
      "  Paired t-test:\n",
      "    |diff| > 0: p = 0.655\n",
      "    diff < 0: p = 0.672\n",
      "    diff > 0: p = 0.328\n",
      "visitDuration_monitorHeartRate:\n",
      "  mean diff = 4.741; stdev diff = 17.675\n",
      "  Paired t-test:\n",
      "    |diff| > 0: p = 0.470\n",
      "    diff < 0: p = 0.765\n",
      "    diff > 0: p = 0.235\n",
      "visitDuration_monitorSpO2:\n",
      "  mean diff = 26.760; stdev diff = 17.392\n",
      "  Paired t-test:\n",
      "  **|diff| > 0: p = 0.002\n",
      "    diff < 0: p = 0.999\n",
      "  **diff > 0: p = 0.001\n",
      "visitDuration_combinedFiO2:\n",
      "  mean diff = -7.971; stdev diff = 6.091\n",
      "  Paired t-test:\n",
      "  **|diff| > 0: p = 0.006\n",
      "  **diff < 0: p = 0.003\n",
      "    diff > 0: p = 0.997\n",
      "visitDuration_combinedSpO2:\n",
      "  mean diff = -1.123; stdev diff = 21.602\n",
      "  Paired t-test:\n",
      "    |diff| > 0: p = 0.887\n",
      "    diff < 0: p = 0.443\n",
      "    diff > 0: p = 0.557\n"
     ]
    }
   ],
   "source": [
    "statistics.test_gaze_duration_outcomes(display_pairing)"
   ]
  },
  {
   "cell_type": "markdown",
   "metadata": {},
   "source": [
    "### At least 10 years, Hard Scenarios"
   ]
  },
  {
   "cell_type": "code",
   "execution_count": 27,
   "metadata": {
    "scrolled": true
   },
   "outputs": [
    {
     "name": "stdout",
     "output_type": "stream",
     "text": [
      "Pairing against cumulativeNICU10:\n",
      "  0: <10CumulativeNICUYears vs. 1: >=10CumulativeNICUYears\n",
      "  12 0 examples vs. 20 1 examples.\n",
      "  Paired t-test alternative hypotheses:\n",
      "    Ha left-tailed (diff < 0): mean 0 - mean 1 < 0\n",
      "    Ha two-tailed (|diff| > 0): mean 0 - mean 1 != 0\n",
      "    Ha right-tailed (diff > 0): mean 0 - mean 1 > 0\n"
     ]
    }
   ],
   "source": [
    "cumulativeNICU10_hard_pairing = statistics.build_pairing(\n",
    "    scenario_split[1], 'cumulativeNICU10',\n",
    "    intersect_subjects=False, check_validity=False\n",
    ")\n",
    "cumulativeNICU10_hard_pairing.describe()"
   ]
  },
  {
   "cell_type": "code",
   "execution_count": 28,
   "metadata": {},
   "outputs": [
    {
     "name": "stdout",
     "output_type": "stream",
     "text": [
      "Pairing against displayType:\n",
      "  0: minimal vs. 1: full\n",
      "  10 0 vs. 1 pairs.\n",
      "  Paired t-test alternative hypotheses:\n",
      "    Ha left-tailed (diff < 0): mean 0 - mean 1 < 0\n",
      "    Ha two-tailed (|diff| > 0): mean 0 - mean 1 != 0\n",
      "    Ha right-tailed (diff > 0): mean 0 - mean 1 > 0\n"
     ]
    }
   ],
   "source": [
    "display_pairing = statistics.build_pairing(cumulativeNICU10_hard_pairing[1], 'displayType')\n",
    "display_pairing.describe()"
   ]
  },
  {
   "cell_type": "code",
   "execution_count": 29,
   "metadata": {
    "scrolled": true
   },
   "outputs": [
    {
     "name": "stdout",
     "output_type": "stream",
     "text": [
      "visitDuration_infant:\n",
      "  mean diff = -6.181; stdev diff = 22.675\n",
      "  Paired t-test:\n",
      "    |diff| > 0: p = 0.435\n",
      "    diff < 0: p = 0.217\n",
      "    diff > 0: p = 0.783\n",
      "visitDuration_warmerInstrumentPanel:\n",
      "  mean diff = 1.656; stdev diff = 9.171\n",
      "  Paired t-test:\n",
      "    |diff| > 0: p = 0.601\n",
      "    diff < 0: p = 0.699\n",
      "    diff > 0: p = 0.301\n",
      "visitDuration_fiO2Dial:\n",
      "  mean diff = 2.228; stdev diff = 2.620\n",
      "  Paired t-test:\n",
      "  **|diff| > 0: p = 0.031\n",
      "    diff < 0: p = 0.984\n",
      "  **diff > 0: p = 0.016\n",
      "visitDuration_spO2ReferenceTable:\n",
      "  mean diff = 0.438; stdev diff = 2.938\n",
      "  Paired t-test:\n",
      "    |diff| > 0: p = 0.665\n",
      "    diff < 0: p = 0.667\n",
      "    diff > 0: p = 0.333\n",
      "visitDuration_monitorFull:\n",
      "  mean diff = -3.478; stdev diff = 15.421\n",
      "  Paired t-test:\n",
      "    |diff| > 0: p = 0.516\n",
      "    diff < 0: p = 0.258\n",
      "    diff > 0: p = 0.742\n",
      "visitDuration_monitorBlank:\n",
      "  mean diff = 1.611; stdev diff = 6.393\n",
      "  Paired t-test:\n",
      "    |diff| > 0: p = 0.469\n",
      "    diff < 0: p = 0.765\n",
      "    diff > 0: p = 0.235\n",
      "visitDuration_monitorApgarTimer:\n",
      "  mean diff = 5.399; stdev diff = 4.900\n",
      "  Paired t-test:\n",
      "  **|diff| > 0: p = 0.009\n",
      "    diff < 0: p = 0.995\n",
      "  **diff > 0: p = 0.005\n",
      "visitDuration_monitorHeartRate:\n",
      "  mean diff = 9.014; stdev diff = 13.905\n",
      "  Paired t-test:\n",
      "   *|diff| > 0: p = 0.084\n",
      "    diff < 0: p = 0.958\n",
      "  **diff > 0: p = 0.042\n",
      "visitDuration_monitorSpO2:\n",
      "  mean diff = 9.333; stdev diff = 11.786\n",
      "  Paired t-test:\n",
      "  **|diff| > 0: p = 0.042\n",
      "    diff < 0: p = 0.979\n",
      "  **diff > 0: p = 0.021\n",
      "visitDuration_combinedFiO2:\n",
      "  mean diff = -8.881; stdev diff = 10.540\n",
      "  Paired t-test:\n",
      "  **|diff| > 0: p = 0.032\n",
      "  **diff < 0: p = 0.016\n",
      "    diff > 0: p = 0.984\n",
      "visitDuration_combinedSpO2:\n",
      "  mean diff = -8.510; stdev diff = 16.238\n",
      "  Paired t-test:\n",
      "   ~|diff| > 0: p = 0.150\n",
      "   *diff < 0: p = 0.075\n",
      "    diff > 0: p = 0.925\n"
     ]
    }
   ],
   "source": [
    "statistics.test_gaze_duration_outcomes(display_pairing)"
   ]
  },
  {
   "cell_type": "markdown",
   "metadata": {},
   "source": [
    "## RN vs. MD\n",
    "Note that only one MD had not performed a resuscitation in L&D in the past year, and only 3 RNs had performed a resuscitation in L&D in the past year."
   ]
  },
  {
   "cell_type": "code",
   "execution_count": 30,
   "metadata": {},
   "outputs": [
    {
     "name": "stdout",
     "output_type": "stream",
     "text": [
      "Pairing against education:\n",
      "  0: RN vs. 1: MD\n",
      "  32 0 examples vs. 28 1 examples.\n",
      "  Paired t-test alternative hypotheses:\n",
      "    Ha left-tailed (diff < 0): mean 0 - mean 1 < 0\n",
      "    Ha two-tailed (|diff| > 0): mean 0 - mean 1 != 0\n",
      "    Ha right-tailed (diff > 0): mean 0 - mean 1 > 0\n"
     ]
    }
   ],
   "source": [
    "education_pairing = statistics.build_pairing(\n",
    "    full_df, 'education',\n",
    "    intersect_subjects=False, check_validity=False\n",
    ")\n",
    "education_pairing.describe()"
   ]
  },
  {
   "cell_type": "markdown",
   "metadata": {},
   "source": [
    "### RN, Easy Scenarios"
   ]
  },
  {
   "cell_type": "code",
   "execution_count": 31,
   "metadata": {
    "scrolled": true
   },
   "outputs": [
    {
     "name": "stdout",
     "output_type": "stream",
     "text": [
      "Pairing against education:\n",
      "  0: RN vs. 1: MD\n",
      "  16 0 examples vs. 12 1 examples.\n",
      "  Paired t-test alternative hypotheses:\n",
      "    Ha left-tailed (diff < 0): mean 0 - mean 1 < 0\n",
      "    Ha two-tailed (|diff| > 0): mean 0 - mean 1 != 0\n",
      "    Ha right-tailed (diff > 0): mean 0 - mean 1 > 0\n"
     ]
    }
   ],
   "source": [
    "education_easy_pairing = statistics.build_pairing(\n",
    "    scenario_split[0], 'education',\n",
    "    intersect_subjects=False, check_validity=False\n",
    ")\n",
    "education_easy_pairing.describe()"
   ]
  },
  {
   "cell_type": "code",
   "execution_count": 32,
   "metadata": {},
   "outputs": [
    {
     "name": "stdout",
     "output_type": "stream",
     "text": [
      "Pairing against displayType:\n",
      "  0: minimal vs. 1: full\n",
      "  8 0 vs. 1 pairs.\n",
      "  Paired t-test alternative hypotheses:\n",
      "    Ha left-tailed (diff < 0): mean 0 - mean 1 < 0\n",
      "    Ha two-tailed (|diff| > 0): mean 0 - mean 1 != 0\n",
      "    Ha right-tailed (diff > 0): mean 0 - mean 1 > 0\n"
     ]
    }
   ],
   "source": [
    "display_pairing = statistics.build_pairing(education_easy_pairing[0], 'displayType')\n",
    "display_pairing.describe()"
   ]
  },
  {
   "cell_type": "code",
   "execution_count": 33,
   "metadata": {
    "scrolled": true
   },
   "outputs": [
    {
     "name": "stdout",
     "output_type": "stream",
     "text": [
      "visitDuration_infant:\n",
      "  mean diff = -3.692; stdev diff = 15.440\n",
      "  Paired t-test:\n",
      "    |diff| > 0: p = 0.547\n",
      "    diff < 0: p = 0.274\n",
      "    diff > 0: p = 0.726\n",
      "visitDuration_warmerInstrumentPanel:\n",
      "  mean diff = -0.105; stdev diff = 9.481\n",
      "  Paired t-test:\n",
      "    |diff| > 0: p = 0.977\n",
      "    diff < 0: p = 0.489\n",
      "    diff > 0: p = 0.511\n",
      "visitDuration_fiO2Dial:\n",
      "  mean diff = -0.492; stdev diff = 5.941\n",
      "  Paired t-test:\n",
      "    |diff| > 0: p = 0.833\n",
      "    diff < 0: p = 0.416\n",
      "    diff > 0: p = 0.584\n",
      "visitDuration_spO2ReferenceTable:\n",
      "  mean diff = -2.150; stdev diff = 4.520\n",
      "  Paired t-test:\n",
      "    |diff| > 0: p = 0.249\n",
      "   ~diff < 0: p = 0.124\n",
      "    diff > 0: p = 0.876\n",
      "visitDuration_monitorFull:\n",
      "  mean diff = -6.475; stdev diff = 37.337\n",
      "  Paired t-test:\n",
      "    |diff| > 0: p = 0.660\n",
      "    diff < 0: p = 0.330\n",
      "    diff > 0: p = 0.670\n",
      "visitDuration_monitorBlank:\n",
      "  mean diff = 2.442; stdev diff = 7.187\n",
      "  Paired t-test:\n",
      "    |diff| > 0: p = 0.399\n",
      "    diff < 0: p = 0.801\n",
      "   ~diff > 0: p = 0.199\n",
      "visitDuration_monitorApgarTimer:\n",
      "  mean diff = -1.127; stdev diff = 8.845\n",
      "  Paired t-test:\n",
      "    |diff| > 0: p = 0.746\n",
      "    diff < 0: p = 0.373\n",
      "    diff > 0: p = 0.627\n",
      "visitDuration_monitorHeartRate:\n",
      "  mean diff = 3.069; stdev diff = 19.130\n",
      "  Paired t-test:\n",
      "    |diff| > 0: p = 0.684\n",
      "    diff < 0: p = 0.658\n",
      "    diff > 0: p = 0.342\n",
      "visitDuration_monitorSpO2:\n",
      "  mean diff = 20.385; stdev diff = 28.152\n",
      "  Paired t-test:\n",
      "   *|diff| > 0: p = 0.097\n",
      "    diff < 0: p = 0.952\n",
      "  **diff > 0: p = 0.048\n",
      "visitDuration_combinedFiO2:\n",
      "  mean diff = -8.840; stdev diff = 4.646\n",
      "  Paired t-test:\n",
      "  **|diff| > 0: p = 0.002\n",
      "  **diff < 0: p = 0.001\n",
      "    diff > 0: p = 0.999\n",
      "visitDuration_combinedSpO2:\n",
      "  mean diff = -2.478; stdev diff = 28.745\n",
      "  Paired t-test:\n",
      "    |diff| > 0: p = 0.826\n",
      "    diff < 0: p = 0.413\n",
      "    diff > 0: p = 0.587\n"
     ]
    }
   ],
   "source": [
    "statistics.test_gaze_duration_outcomes(display_pairing)"
   ]
  },
  {
   "cell_type": "markdown",
   "metadata": {},
   "source": [
    "### RN, Hard Scenarios"
   ]
  },
  {
   "cell_type": "code",
   "execution_count": 34,
   "metadata": {
    "scrolled": true
   },
   "outputs": [
    {
     "name": "stdout",
     "output_type": "stream",
     "text": [
      "Pairing against education:\n",
      "  0: RN vs. 1: MD\n",
      "  16 0 vs. 1 pairs.\n",
      "  Paired t-test alternative hypotheses:\n",
      "    Ha left-tailed (diff < 0): mean 0 - mean 1 < 0\n",
      "    Ha two-tailed (|diff| > 0): mean 0 - mean 1 != 0\n",
      "    Ha right-tailed (diff > 0): mean 0 - mean 1 > 0\n"
     ]
    }
   ],
   "source": [
    "education_hard_pairing = statistics.build_pairing(\n",
    "    scenario_split[1], 'education',\n",
    "    intersect_subjects=False, check_validity=False\n",
    ")\n",
    "education_hard_pairing.describe()"
   ]
  },
  {
   "cell_type": "code",
   "execution_count": 35,
   "metadata": {},
   "outputs": [
    {
     "name": "stdout",
     "output_type": "stream",
     "text": [
      "Pairing against displayType:\n",
      "  0: minimal vs. 1: full\n",
      "  8 0 vs. 1 pairs.\n",
      "  Paired t-test alternative hypotheses:\n",
      "    Ha left-tailed (diff < 0): mean 0 - mean 1 < 0\n",
      "    Ha two-tailed (|diff| > 0): mean 0 - mean 1 != 0\n",
      "    Ha right-tailed (diff > 0): mean 0 - mean 1 > 0\n"
     ]
    }
   ],
   "source": [
    "display_pairing = statistics.build_pairing(education_hard_pairing[0], 'displayType')\n",
    "display_pairing.describe()"
   ]
  },
  {
   "cell_type": "code",
   "execution_count": 36,
   "metadata": {
    "scrolled": true
   },
   "outputs": [
    {
     "name": "stdout",
     "output_type": "stream",
     "text": [
      "visitDuration_infant:\n",
      "  mean diff = -9.835; stdev diff = 23.868\n",
      "  Paired t-test:\n",
      "    |diff| > 0: p = 0.312\n",
      "   ~diff < 0: p = 0.156\n",
      "    diff > 0: p = 0.844\n",
      "visitDuration_warmerInstrumentPanel:\n",
      "  mean diff = 0.912; stdev diff = 9.729\n",
      "  Paired t-test:\n",
      "    |diff| > 0: p = 0.811\n",
      "    diff < 0: p = 0.594\n",
      "    diff > 0: p = 0.406\n",
      "visitDuration_fiO2Dial:\n",
      "  mean diff = 1.486; stdev diff = 3.432\n",
      "  Paired t-test:\n",
      "    |diff| > 0: p = 0.290\n",
      "    diff < 0: p = 0.855\n",
      "   ~diff > 0: p = 0.145\n",
      "visitDuration_spO2ReferenceTable:\n",
      "  mean diff = 0.157; stdev diff = 3.036\n",
      "  Paired t-test:\n",
      "    |diff| > 0: p = 0.895\n",
      "    diff < 0: p = 0.553\n",
      "    diff > 0: p = 0.447\n",
      "visitDuration_monitorFull:\n",
      "  mean diff = 1.446; stdev diff = 12.936\n",
      "  Paired t-test:\n",
      "    |diff| > 0: p = 0.776\n",
      "    diff < 0: p = 0.612\n",
      "    diff > 0: p = 0.388\n",
      "visitDuration_monitorBlank:\n",
      "  mean diff = 5.810; stdev diff = 9.374\n",
      "  Paired t-test:\n",
      "   ~|diff| > 0: p = 0.145\n",
      "    diff < 0: p = 0.927\n",
      "   *diff > 0: p = 0.073\n",
      "visitDuration_monitorApgarTimer:\n",
      "  mean diff = 4.031; stdev diff = 5.678\n",
      "  Paired t-test:\n",
      "   ~|diff| > 0: p = 0.102\n",
      "    diff < 0: p = 0.949\n",
      "   *diff > 0: p = 0.051\n",
      "visitDuration_monitorHeartRate:\n",
      "  mean diff = 3.744; stdev diff = 13.075\n",
      "  Paired t-test:\n",
      "    |diff| > 0: p = 0.473\n",
      "    diff < 0: p = 0.763\n",
      "    diff > 0: p = 0.237\n",
      "visitDuration_monitorSpO2:\n",
      "  mean diff = 14.061; stdev diff = 11.785\n",
      "  Paired t-test:\n",
      "  **|diff| > 0: p = 0.016\n",
      "    diff < 0: p = 0.992\n",
      "  **diff > 0: p = 0.008\n",
      "visitDuration_combinedFiO2:\n",
      "  mean diff = -8.044; stdev diff = 5.523\n",
      "  Paired t-test:\n",
      "  **|diff| > 0: p = 0.006\n",
      "  **diff < 0: p = 0.003\n",
      "    diff > 0: p = 0.997\n",
      "visitDuration_combinedSpO2:\n",
      "  mean diff = -3.139; stdev diff = 12.911\n",
      "  Paired t-test:\n",
      "    |diff| > 0: p = 0.541\n",
      "    diff < 0: p = 0.270\n",
      "    diff > 0: p = 0.730\n"
     ]
    }
   ],
   "source": [
    "statistics.test_gaze_duration_outcomes(display_pairing)"
   ]
  },
  {
   "cell_type": "markdown",
   "metadata": {},
   "source": [
    "### MD, Easy Scenarios"
   ]
  },
  {
   "cell_type": "code",
   "execution_count": 37,
   "metadata": {
    "scrolled": true
   },
   "outputs": [
    {
     "name": "stdout",
     "output_type": "stream",
     "text": [
      "Pairing against education:\n",
      "  0: RN vs. 1: MD\n",
      "  16 0 examples vs. 12 1 examples.\n",
      "  Paired t-test alternative hypotheses:\n",
      "    Ha left-tailed (diff < 0): mean 0 - mean 1 < 0\n",
      "    Ha two-tailed (|diff| > 0): mean 0 - mean 1 != 0\n",
      "    Ha right-tailed (diff > 0): mean 0 - mean 1 > 0\n"
     ]
    }
   ],
   "source": [
    "education_easy_pairing = statistics.build_pairing(\n",
    "    scenario_split[0], 'education',\n",
    "    intersect_subjects=False, check_validity=False\n",
    ")\n",
    "education_easy_pairing.describe()"
   ]
  },
  {
   "cell_type": "code",
   "execution_count": 38,
   "metadata": {},
   "outputs": [
    {
     "name": "stdout",
     "output_type": "stream",
     "text": [
      "Pairing against displayType:\n",
      "  0: minimal vs. 1: full\n",
      "  6 0 vs. 1 pairs.\n",
      "  Paired t-test alternative hypotheses:\n",
      "    Ha left-tailed (diff < 0): mean 0 - mean 1 < 0\n",
      "    Ha two-tailed (|diff| > 0): mean 0 - mean 1 != 0\n",
      "    Ha right-tailed (diff > 0): mean 0 - mean 1 > 0\n"
     ]
    }
   ],
   "source": [
    "display_pairing = statistics.build_pairing(education_easy_pairing[1], 'displayType')\n",
    "display_pairing.describe()"
   ]
  },
  {
   "cell_type": "code",
   "execution_count": 39,
   "metadata": {
    "scrolled": true
   },
   "outputs": [
    {
     "name": "stdout",
     "output_type": "stream",
     "text": [
      "visitDuration_infant:\n",
      "  mean diff = -5.915; stdev diff = 21.476\n",
      "  Paired t-test:\n",
      "    |diff| > 0: p = 0.565\n",
      "    diff < 0: p = 0.282\n",
      "    diff > 0: p = 0.718\n",
      "visitDuration_warmerInstrumentPanel:\n",
      "  mean diff = -1.306; stdev diff = 4.637\n",
      "  Paired t-test:\n",
      "    |diff| > 0: p = 0.556\n",
      "    diff < 0: p = 0.278\n",
      "    diff > 0: p = 0.722\n",
      "visitDuration_fiO2Dial:\n",
      "  mean diff = 3.706; stdev diff = 6.360\n",
      "  Paired t-test:\n",
      "    |diff| > 0: p = 0.249\n",
      "    diff < 0: p = 0.875\n",
      "   ~diff > 0: p = 0.125\n",
      "visitDuration_spO2ReferenceTable:\n",
      "  mean diff = 4.509; stdev diff = 5.870\n",
      "  Paired t-test:\n",
      "   ~|diff| > 0: p = 0.147\n",
      "    diff < 0: p = 0.927\n",
      "   *diff > 0: p = 0.073\n",
      "visitDuration_monitorFull:\n",
      "  mean diff = -0.558; stdev diff = 28.798\n",
      "  Paired t-test:\n",
      "    |diff| > 0: p = 0.967\n",
      "    diff < 0: p = 0.484\n",
      "    diff > 0: p = 0.516\n",
      "visitDuration_monitorBlank:\n",
      "  mean diff = 5.905; stdev diff = 3.934\n",
      "  Paired t-test:\n",
      "  **|diff| > 0: p = 0.020\n",
      "    diff < 0: p = 0.990\n",
      "  **diff > 0: p = 0.010\n",
      "visitDuration_monitorApgarTimer:\n",
      "  mean diff = 9.657; stdev diff = 8.867\n",
      "  Paired t-test:\n",
      "   *|diff| > 0: p = 0.059\n",
      "    diff < 0: p = 0.971\n",
      "  **diff > 0: p = 0.029\n",
      "visitDuration_monitorHeartRate:\n",
      "  mean diff = 13.513; stdev diff = 10.992\n",
      "  Paired t-test:\n",
      "  **|diff| > 0: p = 0.040\n",
      "    diff < 0: p = 0.980\n",
      "  **diff > 0: p = 0.020\n",
      "visitDuration_monitorSpO2:\n",
      "  mean diff = 5.405; stdev diff = 18.280\n",
      "  Paired t-test:\n",
      "    |diff| > 0: p = 0.538\n",
      "    diff < 0: p = 0.731\n",
      "    diff > 0: p = 0.269\n",
      "visitDuration_combinedFiO2:\n",
      "  mean diff = -4.056; stdev diff = 7.418\n",
      "  Paired t-test:\n",
      "    |diff| > 0: p = 0.276\n",
      "   ~diff < 0: p = 0.138\n",
      "    diff > 0: p = 0.862\n",
      "visitDuration_combinedSpO2:\n",
      "  mean diff = -21.933; stdev diff = 12.191\n",
      "  Paired t-test:\n",
      "  **|diff| > 0: p = 0.010\n",
      "  **diff < 0: p = 0.005\n",
      "    diff > 0: p = 0.995\n"
     ]
    }
   ],
   "source": [
    "statistics.test_gaze_duration_outcomes(display_pairing)"
   ]
  },
  {
   "cell_type": "markdown",
   "metadata": {},
   "source": [
    "### MD, Hard Scenarios"
   ]
  },
  {
   "cell_type": "code",
   "execution_count": 40,
   "metadata": {
    "scrolled": true
   },
   "outputs": [
    {
     "name": "stdout",
     "output_type": "stream",
     "text": [
      "Pairing against education:\n",
      "  0: RN vs. 1: MD\n",
      "  16 0 vs. 1 pairs.\n",
      "  Paired t-test alternative hypotheses:\n",
      "    Ha left-tailed (diff < 0): mean 0 - mean 1 < 0\n",
      "    Ha two-tailed (|diff| > 0): mean 0 - mean 1 != 0\n",
      "    Ha right-tailed (diff > 0): mean 0 - mean 1 > 0\n"
     ]
    }
   ],
   "source": [
    "education_hard_pairing = statistics.build_pairing(\n",
    "    scenario_split[1], 'education',\n",
    "    intersect_subjects=False, check_validity=False\n",
    ")\n",
    "education_hard_pairing.describe()"
   ]
  },
  {
   "cell_type": "code",
   "execution_count": 41,
   "metadata": {},
   "outputs": [
    {
     "name": "stdout",
     "output_type": "stream",
     "text": [
      "Pairing against displayType:\n",
      "  0: minimal vs. 1: full\n",
      "  8 0 vs. 1 pairs.\n",
      "  Paired t-test alternative hypotheses:\n",
      "    Ha left-tailed (diff < 0): mean 0 - mean 1 < 0\n",
      "    Ha two-tailed (|diff| > 0): mean 0 - mean 1 != 0\n",
      "    Ha right-tailed (diff > 0): mean 0 - mean 1 > 0\n"
     ]
    }
   ],
   "source": [
    "display_pairing = statistics.build_pairing(education_hard_pairing[1], 'displayType')\n",
    "display_pairing.describe()"
   ]
  },
  {
   "cell_type": "code",
   "execution_count": 42,
   "metadata": {
    "scrolled": true
   },
   "outputs": [
    {
     "name": "stdout",
     "output_type": "stream",
     "text": [
      "visitDuration_infant:\n",
      "  mean diff = 20.955; stdev diff = 18.743\n",
      "  Paired t-test:\n",
      "  **|diff| > 0: p = 0.021\n",
      "    diff < 0: p = 0.989\n",
      "  **diff > 0: p = 0.011\n",
      "visitDuration_warmerInstrumentPanel:\n",
      "  mean diff = -3.102; stdev diff = 8.589\n",
      "  Paired t-test:\n",
      "    |diff| > 0: p = 0.371\n",
      "   ~diff < 0: p = 0.186\n",
      "    diff > 0: p = 0.814\n",
      "visitDuration_fiO2Dial:\n",
      "  mean diff = -0.222; stdev diff = 2.370\n",
      "  Paired t-test:\n",
      "    |diff| > 0: p = 0.811\n",
      "    diff < 0: p = 0.406\n",
      "    diff > 0: p = 0.594\n",
      "visitDuration_spO2ReferenceTable:\n",
      "  mean diff = 0.727; stdev diff = 1.821\n",
      "  Paired t-test:\n",
      "    |diff| > 0: p = 0.326\n",
      "    diff < 0: p = 0.837\n",
      "   ~diff > 0: p = 0.163\n",
      "visitDuration_monitorFull:\n",
      "  mean diff = -23.921; stdev diff = 20.579\n",
      "  Paired t-test:\n",
      "  **|diff| > 0: p = 0.018\n",
      "  **diff < 0: p = 0.009\n",
      "    diff > 0: p = 0.991\n",
      "visitDuration_monitorBlank:\n",
      "  mean diff = 1.245; stdev diff = 12.423\n",
      "  Paired t-test:\n",
      "    |diff| > 0: p = 0.799\n",
      "    diff < 0: p = 0.601\n",
      "    diff > 0: p = 0.399\n",
      "visitDuration_monitorApgarTimer:\n",
      "  mean diff = 5.636; stdev diff = 13.038\n",
      "  Paired t-test:\n",
      "    |diff| > 0: p = 0.290\n",
      "    diff < 0: p = 0.855\n",
      "   ~diff > 0: p = 0.145\n",
      "visitDuration_monitorHeartRate:\n",
      "  mean diff = 6.661; stdev diff = 13.983\n",
      "  Paired t-test:\n",
      "    |diff| > 0: p = 0.248\n",
      "    diff < 0: p = 0.876\n",
      "   ~diff > 0: p = 0.124\n",
      "visitDuration_monitorSpO2:\n",
      "  mean diff = 3.279; stdev diff = 15.755\n",
      "  Paired t-test:\n",
      "    |diff| > 0: p = 0.599\n",
      "    diff < 0: p = 0.701\n",
      "    diff > 0: p = 0.299\n",
      "visitDuration_combinedFiO2:\n",
      "  mean diff = -15.911; stdev diff = 11.537\n",
      "  Paired t-test:\n",
      "  **|diff| > 0: p = 0.008\n",
      "  **diff < 0: p = 0.004\n",
      "    diff > 0: p = 0.996\n",
      "visitDuration_combinedSpO2:\n",
      "  mean diff = -17.790; stdev diff = 19.930\n",
      "  Paired t-test:\n",
      "   *|diff| > 0: p = 0.050\n",
      "  **diff < 0: p = 0.025\n",
      "    diff > 0: p = 0.975\n"
     ]
    }
   ],
   "source": [
    "statistics.test_gaze_duration_outcomes(display_pairing)"
   ]
  }
 ],
 "metadata": {
  "kernelspec": {
   "display_name": "Python 3",
   "language": "python",
   "name": "python3"
  },
  "language_info": {
   "codemirror_mode": {
    "name": "ipython",
    "version": 3
   },
   "file_extension": ".py",
   "mimetype": "text/x-python",
   "name": "python",
   "nbconvert_exporter": "python",
   "pygments_lexer": "ipython3",
   "version": "3.6.5"
  }
 },
 "nbformat": 4,
 "nbformat_minor": 2
}
